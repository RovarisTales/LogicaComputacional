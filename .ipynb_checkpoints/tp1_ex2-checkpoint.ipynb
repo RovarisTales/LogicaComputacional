{
 "cells": [
  {
   "cell_type": "code",
   "execution_count": 58,
   "id": "6ad9d198",
   "metadata": {},
   "outputs": [
    {
     "name": "stdout",
     "output_type": "stream",
     "text": [
      "4\n",
      "{0: e[0](-1..1), 1: e[1](-1..1), 2: e[2](-1..1), 3: e[3](-1..1), 4: e[4](-1..1), 5: e[5](-1..1), 6: e[6](-1..1), 7: e[7](-1..1)}\n"
     ]
    }
   ],
   "source": [
    "from ortools.sat.python import cp_model\n",
    "from random import randrange\n",
    "crip = cp_model.CpModel()\n",
    "def X(m,n):\n",
    "    return x[m][n]\n",
    "#M,N,Q nos são dados como inputs, nos q ditamos os valores n mais ou menos 4 pra comecar a testar (recomendacao do professor#d = CALCULAR\n",
    "#N = horario.IntVar(30,,\"N\")\n",
    "#M = horario.IntVar(1+len(bin(N).replace(\"0b\", \"\")),,\"M\") \n",
    "x = {}\n",
    "d = 8\n",
    "M = 8\n",
    "N = 4\n",
    "q = 17\n",
    "for m in range(M):\n",
    "    x [m] = {}\n",
    "    for n in range(N):\n",
    "        x[m][n] = randrange(-d,d)\n",
    "\n",
    "e = {}\n",
    "\n",
    "for m in range(M):\n",
    "    e[m] = crip.NewIntVar(-1,1,f'e[{m}]')\n",
    "\n",
    "    \n",
    "#checar se todos os elementos de e são nulos\n",
    "\n",
    "crip.Add(e != [0 for m in range(M)])\n",
    "pass\n",
    "\n",
    "#for n in range(N):\n",
    "    #crip.AddModuloEquality(0,sum(X(m,n)*e[m] for m in range(M)),q)\n",
    "\n",
    "\n",
    "pass\n",
    "\n",
    "solver = cp_model.CpSolver()\n",
    "status = solver.Solve(crip)\n",
    "\n",
    "print(status)\n",
    "if status == cp_model.OPTIMAL or status == cp_model.FEASIBLE:\n",
    "    print(e)\n",
    "\n",
    "\n",
    "\n",
    "\n",
    "\n"
   ]
  },
  {
   "cell_type": "code",
   "execution_count": null,
   "id": "c9d269c6",
   "metadata": {},
   "outputs": [],
   "source": []
  },
  {
   "cell_type": "code",
   "execution_count": null,
   "id": "0129efa8",
   "metadata": {},
   "outputs": [],
   "source": []
  },
  {
   "cell_type": "code",
   "execution_count": null,
   "id": "edda14ce",
   "metadata": {},
   "outputs": [],
   "source": []
  },
  {
   "cell_type": "code",
   "execution_count": null,
   "id": "843a223d",
   "metadata": {},
   "outputs": [],
   "source": []
  },
  {
   "cell_type": "code",
   "execution_count": null,
   "id": "c73dc00b",
   "metadata": {},
   "outputs": [],
   "source": []
  }
 ],
 "metadata": {
  "kernelspec": {
   "display_name": "Python 3 (ipykernel)",
   "language": "python",
   "name": "python3"
  },
  "language_info": {
   "codemirror_mode": {
    "name": "ipython",
    "version": 3
   },
   "file_extension": ".py",
   "mimetype": "text/x-python",
   "name": "python",
   "nbconvert_exporter": "python",
   "pygments_lexer": "ipython3",
   "version": "3.10.6"
  }
 },
 "nbformat": 4,
 "nbformat_minor": 5
}
