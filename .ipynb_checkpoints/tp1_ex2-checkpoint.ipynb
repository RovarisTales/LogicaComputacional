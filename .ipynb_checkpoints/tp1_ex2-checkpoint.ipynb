{
 "cells": [
  {
   "cell_type": "code",
   "execution_count": 37,
   "id": "6ad9d198",
   "metadata": {},
   "outputs": [
    {
     "ename": "TypeError",
     "evalue": "NotSupported: model.GetOrMakeBooleanIndex(e[0] == 0)",
     "output_type": "error",
     "traceback": [
      "\u001b[0;31m---------------------------------------------------------------------------\u001b[0m",
      "\u001b[0;31mTypeError\u001b[0m                                 Traceback (most recent call last)",
      "Input \u001b[0;32mIn [37]\u001b[0m, in \u001b[0;36m<cell line: 28>\u001b[0;34m()\u001b[0m\n\u001b[1;32m     22\u001b[0m     e\u001b[38;5;241m.\u001b[39mappend(crip\u001b[38;5;241m.\u001b[39mNewIntVar(\u001b[38;5;241m-\u001b[39m\u001b[38;5;241m1\u001b[39m,\u001b[38;5;241m1\u001b[39m,\u001b[38;5;124mf\u001b[39m\u001b[38;5;124m'\u001b[39m\u001b[38;5;124me[\u001b[39m\u001b[38;5;132;01m{\u001b[39;00mm\u001b[38;5;132;01m}\u001b[39;00m\u001b[38;5;124m]\u001b[39m\u001b[38;5;124m'\u001b[39m))\n\u001b[1;32m     26\u001b[0m \u001b[38;5;66;03m#checar se todos os elementos de e são nulos\u001b[39;00m\n\u001b[0;32m---> 28\u001b[0m \u001b[43mcrip\u001b[49m\u001b[38;5;241;43m.\u001b[39;49m\u001b[43mAddBoolOr\u001b[49m\u001b[43m(\u001b[49m\u001b[43maux\u001b[49m\u001b[38;5;241;43m==\u001b[39;49m\u001b[43m \u001b[49m\u001b[38;5;241;43m0\u001b[39;49m\u001b[43m \u001b[49m\u001b[38;5;28;43;01mfor\u001b[39;49;00m\u001b[43m \u001b[49m\u001b[43maux\u001b[49m\u001b[43m \u001b[49m\u001b[38;5;129;43;01min\u001b[39;49;00m\u001b[43m \u001b[49m\u001b[43me\u001b[49m\u001b[43m)\u001b[49m\n\u001b[1;32m     29\u001b[0m \u001b[38;5;28;01mpass\u001b[39;00m\n\u001b[1;32m     31\u001b[0m \u001b[38;5;66;03m#for n in range(N):\u001b[39;00m\n\u001b[1;32m     32\u001b[0m \u001b[38;5;66;03m#    crip.AddModuloEquality(0,sum(X(m,n)*e[m] for m in range(M)),q)\u001b[39;00m\n",
      "File \u001b[0;32m~/anaconda3/envs/logica/lib/python3.10/site-packages/ortools/sat/python/cp_model.py:1519\u001b[0m, in \u001b[0;36mCpModel.AddBoolOr\u001b[0;34m(self, *literals)\u001b[0m\n\u001b[1;32m   1517\u001b[0m ct \u001b[38;5;241m=\u001b[39m Constraint(\u001b[38;5;28mself\u001b[39m\u001b[38;5;241m.\u001b[39m__model\u001b[38;5;241m.\u001b[39mconstraints)\n\u001b[1;32m   1518\u001b[0m model_ct \u001b[38;5;241m=\u001b[39m \u001b[38;5;28mself\u001b[39m\u001b[38;5;241m.\u001b[39m__model\u001b[38;5;241m.\u001b[39mconstraints[ct\u001b[38;5;241m.\u001b[39mIndex()]\n\u001b[0;32m-> 1519\u001b[0m model_ct\u001b[38;5;241m.\u001b[39mbool_or\u001b[38;5;241m.\u001b[39mliterals\u001b[38;5;241m.\u001b[39mextend([\n\u001b[1;32m   1520\u001b[0m     \u001b[38;5;28mself\u001b[39m\u001b[38;5;241m.\u001b[39mGetOrMakeBooleanIndex(x)\n\u001b[1;32m   1521\u001b[0m     \u001b[38;5;28;01mfor\u001b[39;00m x \u001b[38;5;129;01min\u001b[39;00m ExpandGeneratorOrTuple(literals)\n\u001b[1;32m   1522\u001b[0m ])\n\u001b[1;32m   1523\u001b[0m \u001b[38;5;28;01mreturn\u001b[39;00m ct\n",
      "File \u001b[0;32m~/anaconda3/envs/logica/lib/python3.10/site-packages/ortools/sat/python/cp_model.py:1520\u001b[0m, in \u001b[0;36m<listcomp>\u001b[0;34m(.0)\u001b[0m\n\u001b[1;32m   1517\u001b[0m ct \u001b[38;5;241m=\u001b[39m Constraint(\u001b[38;5;28mself\u001b[39m\u001b[38;5;241m.\u001b[39m__model\u001b[38;5;241m.\u001b[39mconstraints)\n\u001b[1;32m   1518\u001b[0m model_ct \u001b[38;5;241m=\u001b[39m \u001b[38;5;28mself\u001b[39m\u001b[38;5;241m.\u001b[39m__model\u001b[38;5;241m.\u001b[39mconstraints[ct\u001b[38;5;241m.\u001b[39mIndex()]\n\u001b[1;32m   1519\u001b[0m model_ct\u001b[38;5;241m.\u001b[39mbool_or\u001b[38;5;241m.\u001b[39mliterals\u001b[38;5;241m.\u001b[39mextend([\n\u001b[0;32m-> 1520\u001b[0m     \u001b[38;5;28;43mself\u001b[39;49m\u001b[38;5;241;43m.\u001b[39;49m\u001b[43mGetOrMakeBooleanIndex\u001b[49m\u001b[43m(\u001b[49m\u001b[43mx\u001b[49m\u001b[43m)\u001b[49m\n\u001b[1;32m   1521\u001b[0m     \u001b[38;5;28;01mfor\u001b[39;00m x \u001b[38;5;129;01min\u001b[39;00m ExpandGeneratorOrTuple(literals)\n\u001b[1;32m   1522\u001b[0m ])\n\u001b[1;32m   1523\u001b[0m \u001b[38;5;28;01mreturn\u001b[39;00m ct\n",
      "File \u001b[0;32m~/anaconda3/envs/logica/lib/python3.10/site-packages/ortools/sat/python/cp_model.py:1927\u001b[0m, in \u001b[0;36mCpModel.GetOrMakeBooleanIndex\u001b[0;34m(self, arg)\u001b[0m\n\u001b[1;32m   1925\u001b[0m     \u001b[38;5;28;01mreturn\u001b[39;00m \u001b[38;5;28mself\u001b[39m\u001b[38;5;241m.\u001b[39mGetOrMakeIndexFromConstant(\u001b[38;5;28mint\u001b[39m(arg))\n\u001b[1;32m   1926\u001b[0m \u001b[38;5;28;01melse\u001b[39;00m:\n\u001b[0;32m-> 1927\u001b[0m     \u001b[38;5;28;01mraise\u001b[39;00m \u001b[38;5;167;01mTypeError\u001b[39;00m(\u001b[38;5;124m'\u001b[39m\u001b[38;5;124mNotSupported: model.GetOrMakeBooleanIndex(\u001b[39m\u001b[38;5;124m'\u001b[39m \u001b[38;5;241m+\u001b[39m\n\u001b[1;32m   1928\u001b[0m                     \u001b[38;5;28mstr\u001b[39m(arg) \u001b[38;5;241m+\u001b[39m \u001b[38;5;124m'\u001b[39m\u001b[38;5;124m)\u001b[39m\u001b[38;5;124m'\u001b[39m)\n",
      "\u001b[0;31mTypeError\u001b[0m: NotSupported: model.GetOrMakeBooleanIndex(e[0] == 0)"
     ]
    }
   ],
   "source": [
    "from ortools.sat.python import cp_model\n",
    "from random import randrange\n",
    "crip = cp_model.CpModel()\n",
    "def X(m,n):\n",
    "    return x[m][n]\n",
    "#M,N,Q nos são dados como inputs, nos q ditamos os valores n mais ou menos 4 pra comecar a testar (recomendacao do professor#d = CALCULAR\n",
    "#N = horario.IntVar(30,,\"N\")\n",
    "#M = horario.IntVar(1+len(bin(N).replace(\"0b\", \"\")),,\"M\") \n",
    "\n",
    "#TODO\n",
    "# fazer o coisa do array de numeros q compara com a soma de todas as multiplicaçoes\n",
    "#IMPORTANTE\n",
    "\n",
    "x = {}\n",
    "d = 8\n",
    "M = 8\n",
    "N = 4\n",
    "q = 17\n",
    "for m in range(M):\n",
    "    x [m] = {}\n",
    "    for n in range(N):\n",
    "        x[m][n] = randrange(-d,d)\n",
    "\n",
    "e = []\n",
    "\n",
    "for m in range(M):\n",
    "    e.append(crip.NewIntVar(-1,1,f'e[{m}]'))\n",
    "\n",
    "\n",
    "    \n",
    "#checar se todos os elementos de e são nulos\n",
    "\n",
    "crip.AddBoolOr(aux== 0 for aux in e)\n",
    "pass\n",
    "\n",
    "for n in range(N):\n",
    "    crip.AddModuloEquality(0,sum(X(m,n)*e[m] for m in range(M)),q)\n",
    "\n",
    "\n",
    "pass\n",
    "\n",
    "solver = cp_model.CpSolver()\n",
    "status = solver.Solve(crip)\n",
    "\n",
    "\n",
    "if status == cp_model.OPTIMAL or status == cp_model.FEASIBLE:\n",
    "    for n in range(M):\n",
    "        print(solver.Value(e[n]))\n",
    "\n",
    "\n",
    "\n",
    "\n",
    "\n"
   ]
  },
  {
   "cell_type": "code",
   "execution_count": 2,
   "id": "c9d269c6",
   "metadata": {},
   "outputs": [
    {
     "ename": "TypeError",
     "evalue": "__init__(): incompatible constructor arguments. The following argument types are supported:\n    1. ortools.util.python.sorted_interval_list.Domain(arg0: int, arg1: int)\n\nInvoked with: x(100..200), Sum(z(0..7), x(100..200))",
     "output_type": "error",
     "traceback": [
      "\u001b[0;31m---------------------------------------------------------------------------\u001b[0m",
      "\u001b[0;31mTypeError\u001b[0m                                 Traceback (most recent call last)",
      "Input \u001b[0;32mIn [2]\u001b[0m, in \u001b[0;36m<cell line: 9>\u001b[0;34m()\u001b[0m\n\u001b[1;32m      7\u001b[0m z \u001b[38;5;241m=\u001b[39m teste\u001b[38;5;241m.\u001b[39mNewIntVar(\u001b[38;5;241m0\u001b[39m,\u001b[38;5;241m7\u001b[39m,\u001b[38;5;124m'\u001b[39m\u001b[38;5;124mz\u001b[39m\u001b[38;5;124m'\u001b[39m)\n\u001b[1;32m      8\u001b[0m y \u001b[38;5;241m=\u001b[39m \u001b[38;5;241m13\u001b[39m\n\u001b[0;32m----> 9\u001b[0m h \u001b[38;5;241m=\u001b[39m \u001b[43mteste\u001b[49m\u001b[38;5;241;43m.\u001b[39;49m\u001b[43mNewIntVar\u001b[49m\u001b[43m(\u001b[49m\u001b[43mx\u001b[49m\u001b[43m,\u001b[49m\u001b[43mz\u001b[49m\u001b[38;5;241;43m+\u001b[39;49m\u001b[43mx\u001b[49m\u001b[43m,\u001b[49m\u001b[38;5;124;43m'\u001b[39;49m\u001b[38;5;124;43mxz\u001b[39;49m\u001b[38;5;124;43m'\u001b[39;49m\u001b[43m)\u001b[49m\n\u001b[1;32m     12\u001b[0m teste\u001b[38;5;241m.\u001b[39mAddModuloEquality(\u001b[38;5;241m0\u001b[39m,h,\u001b[38;5;241m3\u001b[39m)\n\u001b[1;32m     14\u001b[0m solver \u001b[38;5;241m=\u001b[39m cp_model\u001b[38;5;241m.\u001b[39mCpSolver()\n",
      "File \u001b[0;32m~/anaconda3/envs/logica/lib/python3.10/site-packages/ortools/sat/python/cp_model.py:998\u001b[0m, in \u001b[0;36mCpModel.NewIntVar\u001b[0;34m(self, lb, ub, name)\u001b[0m\n\u001b[1;32m    982\u001b[0m \u001b[38;5;28;01mdef\u001b[39;00m \u001b[38;5;21mNewIntVar\u001b[39m(\u001b[38;5;28mself\u001b[39m, lb, ub, name):\n\u001b[1;32m    983\u001b[0m     \u001b[38;5;124;03m\"\"\"Create an integer variable with domain [lb, ub].\u001b[39;00m\n\u001b[1;32m    984\u001b[0m \n\u001b[1;32m    985\u001b[0m \u001b[38;5;124;03mThe CP-SAT solver is limited to integer variables. If you have fractional\u001b[39;00m\n\u001b[0;32m   (...)\u001b[0m\n\u001b[1;32m    995\u001b[0m \u001b[38;5;124;03m  a variable whose domain is [lb, ub].\u001b[39;00m\n\u001b[1;32m    996\u001b[0m \u001b[38;5;124;03m\"\"\"\u001b[39;00m\n\u001b[0;32m--> 998\u001b[0m     \u001b[38;5;28;01mreturn\u001b[39;00m IntVar(\u001b[38;5;28mself\u001b[39m\u001b[38;5;241m.\u001b[39m__model, \u001b[43mDomain\u001b[49m\u001b[43m(\u001b[49m\u001b[43mlb\u001b[49m\u001b[43m,\u001b[49m\u001b[43m \u001b[49m\u001b[43mub\u001b[49m\u001b[43m)\u001b[49m, name)\n",
      "\u001b[0;31mTypeError\u001b[0m: __init__(): incompatible constructor arguments. The following argument types are supported:\n    1. ortools.util.python.sorted_interval_list.Domain(arg0: int, arg1: int)\n\nInvoked with: x(100..200), Sum(z(0..7), x(100..200))"
     ]
    }
   ],
   "source": [
    "from ortools.sat.python import cp_model\n",
    "from random import randrange\n",
    "\n",
    "teste = cp_model.CpModel()\n",
    "\n",
    "x = teste.NewIntVar(100,200,'x')\n",
    "z = teste.NewIntVar(0,7,'z')\n",
    "y = 13\n",
    "h = teste.NewIntVar(x,z+x,'xz')\n",
    "\n",
    "\n",
    "teste.AddModuloEquality(0,h,3)\n",
    "\n",
    "solver = cp_model.CpSolver()\n",
    "status = solver.Solve(teste)\n",
    "\n",
    "if status == cp_model.OPTIMAL or status == cp_model.FEASIBLE:\n",
    "    print(solver.Value(x))\n",
    "    print(solver.Value(z))\n"
   ]
  },
  {
   "cell_type": "code",
   "execution_count": null,
   "id": "0129efa8",
   "metadata": {},
   "outputs": [],
   "source": []
  },
  {
   "cell_type": "code",
   "execution_count": null,
   "id": "edda14ce",
   "metadata": {},
   "outputs": [],
   "source": []
  },
  {
   "cell_type": "code",
   "execution_count": null,
   "id": "843a223d",
   "metadata": {},
   "outputs": [],
   "source": []
  },
  {
   "cell_type": "code",
   "execution_count": null,
   "id": "c73dc00b",
   "metadata": {},
   "outputs": [],
   "source": []
  }
 ],
 "metadata": {
  "kernelspec": {
   "display_name": "Python 3 (ipykernel)",
   "language": "python",
   "name": "python3"
  },
  "language_info": {
   "codemirror_mode": {
    "name": "ipython",
    "version": 3
   },
   "file_extension": ".py",
   "mimetype": "text/x-python",
   "name": "python",
   "nbconvert_exporter": "python",
   "pygments_lexer": "ipython3",
   "version": "3.10.4"
  }
 },
 "nbformat": 4,
 "nbformat_minor": 5
}
