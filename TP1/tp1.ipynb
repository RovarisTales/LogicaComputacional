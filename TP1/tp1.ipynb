{
 "cells": [
  {
   "cell_type": "markdown",
   "id": "67ea5047",
   "metadata": {},
   "source": [
    "### TP 1 EX 1\n",
    "Grupo 5:\n",
    "     \n",
    "     Breno Fernando Guerra Marrão A97768\n",
    "     \n",
    "     Tales André Rovaris Machado\n"
   ]
  },
  {
   "cell_type": "markdown",
   "id": "88427f95",
   "metadata": {},
   "source": [
    "## Inicialização\n",
    "Usamos as bibliotecas Or-tools (com interface SCIP) e random para resovler o problema de alocação proposto "
   ]
  },
  {
   "cell_type": "code",
   "execution_count": 1,
   "id": "49df7cfe",
   "metadata": {},
   "outputs": [],
   "source": [
    "from ortools.linear_solver import pywraplp\n",
    "from random import randrange,choice\n",
    "horario = pywraplp.Solver.CreateSolver('SCIP')"
   ]
  },
  {
   "cell_type": "markdown",
   "id": "64e91d21",
   "metadata": {},
   "source": [
    "## Gerador de dados aleatorios"
   ]
  },
  {
   "cell_type": "markdown",
   "id": "adffd426",
   "metadata": {},
   "source": [
    "Para gerar os dados teste para o problema criamos um gerador que pode ser alterado para de acordo com os objetivos desejados de simulação\n",
    "Disp é a matriz 2x2 que para cada elemento i,j tem o valor 0 ou 1 com a disponibilidade do colaborador i no turno j\n",
    "Proj é o array de tuplos onde o primeiro elemento é a constituição do grupo, o segundo é o lider do grupo e o terceiro as horas minimas por projeto"
   ]
  },
  {
   "cell_type": "code",
   "execution_count": 2,
   "id": "cb277eb3",
   "metadata": {},
   "outputs": [],
   "source": [
    "\n",
    "S,T,P,C = 5,20,10,100\n",
    "\n",
    "#A disponibilidade de cada participante, incluindo o lider. Essa disponibilidade   é um conjunto de “slots” \n",
    "#representada numa matriz booleana de acessibilidade com uma linha por cada participante 1..C e \n",
    "#uma coluna por “slot” 1..T\n",
    "\n",
    "disp = []\n",
    "\n",
    "\n",
    "h= [0,1,1,1]\n",
    "for c in range(C):\n",
    "    disp.append([])\n",
    "    for t in range(T):\n",
    "        disp[c].append(choice(h))\n",
    "\n",
    "#O conjunto de colaboradores de cada projeto, o seu líder e o número mínimo  de reuniões semanais.\n",
    "#Nesse caso para um projeto de 0 - P , está associado os colaboradores \n",
    "proj = [] \n",
    "lideres = []\n",
    "for p in range(P):\n",
    "    colab = set()\n",
    "    for col in range(14):\n",
    "        colab.add(randrange(C))\n",
    "    cola = list(colab)\n",
    "    l = choice(cola)\n",
    "    lideres.append(l)\n",
    "    hora = randrange(1,5)\n",
    "    proj.append((cola,l,hora))\n",
    "    \n",
    "\n"
   ]
  },
  {
   "cell_type": "markdown",
   "id": "9f892865",
   "metadata": {},
   "source": [
    "## Inicialização da matriz"
   ]
  },
  {
   "cell_type": "code",
   "execution_count": 3,
   "id": "9b2b7c44",
   "metadata": {},
   "outputs": [],
   "source": [
    "x = {}\n",
    "for s in range(S):\n",
    "    x[s]= {}\n",
    "    for t in range(T):\n",
    "        x[s][t] = {}\n",
    "        for p in range(P):\n",
    "            x[s][t][p] = {}\n",
    "            for c in range(C):\n",
    "                x[s][t][p][c] = horario.BoolVar(f'x[{s},{t},{p},{c}]')\n",
    "\n",
    "def X(s,t,p,c):              # abreviatura\n",
    "    return x[s][t][p][c] \n"
   ]
  },
  {
   "cell_type": "markdown",
   "id": "21a060ce",
   "metadata": {},
   "source": [
    "$$\n",
    "\\forall_{c<C} \\forall_{t<T} \\quad \\mbox{se}\\quad disp_{c,t} = 0 \\quad \\mbox{então}\\quad \\forall_{p<P} \\forall_{s<S}  \\quad X_{s,t,p,c} = 0\n",
    "$$"
   ]
  },
  {
   "cell_type": "code",
   "execution_count": 4,
   "id": "06f542e7",
   "metadata": {},
   "outputs": [],
   "source": [
    "#Adiciona condições para que se um colaborador não esteja disponivel para certo slot\n",
    "#ele não posso ser alocada a esse spot\n",
    "for c in range(C):\n",
    "    for t in range(T):\n",
    "        if disp[c][t] == 0:\n",
    "            for p in range(P):\n",
    "                for s in range(S):\n",
    "                    horario.Add((X(s,t,p,c))== 0 )"
   ]
  },
  {
   "cell_type": "markdown",
   "id": "74dc7b32",
   "metadata": {},
   "source": [
    "$$\\forall{c< C} \\quad  \\forall{p< P} \\quad {se \\quad c \\notin proj_{p}\\quad então}  \\quad \\forall{s< S} \\quad \\forall{t< T} \\quad X_{s,t,p,c}= 0\n",
    "$$"
   ]
  },
  {
   "cell_type": "code",
   "execution_count": 5,
   "id": "b1d3d03a",
   "metadata": {},
   "outputs": [],
   "source": [
    "#cada colaborador a cada dia e nao pode participar de um projeto que nao é seu\n",
    "for c in range(C):\n",
    "    for p in range(P):\n",
    "        if c not in proj[p][0]:\n",
    "            for s in range(S):\n",
    "                for t in range(T):\n",
    "                    horario.Add((X(s,t,p,c))== 0)  "
   ]
  },
  {
   "cell_type": "markdown",
   "id": "ebd4556a",
   "metadata": {},
   "source": [
    "$$\n",
    "\\forall_{c<C} \\quad \\forall_{t<T} \\quad \\sum_{p<P,\\,s<S}X_{s,t,p,c} \\le 1\n",
    "$$"
   ]
  },
  {
   "cell_type": "code",
   "execution_count": 6,
   "id": "5600c9e2",
   "metadata": {},
   "outputs": [],
   "source": [
    "#checa se o mesmo colaborador esta fazendo o trabalho em 2 projetos diferentes ao mesmo tempo\n",
    "for c in range(C):\n",
    "    for t in range(T):\n",
    "        horario.Add(sum(X(s,t,p,c) for p in range(P) for s in range(S))<= 1 )"
   ]
  },
  {
   "cell_type": "markdown",
   "id": "112074b9",
   "metadata": {},
   "source": [
    "$$\n",
    "\\forall_{p<p} \\forall_{l\\in lideres} \\forall_{t<T} \\quad \\mbox{se}\\quad disp_{l,t} \\quad \\mbox{então}\\quad \\forall_{s<S} \\forall_{c \\in proj_{p}} \\quad X_{s,t,p,c} = 0\n",
    "$$"
   ]
  },
  {
   "cell_type": "code",
   "execution_count": 7,
   "id": "c5780634",
   "metadata": {},
   "outputs": [],
   "source": [
    "#Adiciona condições para que se o lider não esteja disponivel não aconteça o projeto   \n",
    "for p in range(P):\n",
    "    l = proj[p][1]\n",
    "    for t in range(T):\n",
    "        if disp[l][t] == 0:\n",
    "            for s in range(S):\n",
    "                for c in proj[p][0]:\n",
    "                    horario.Add((X(s,t,p,c))== 0 )"
   ]
  },
  {
   "cell_type": "markdown",
   "id": "513a5800",
   "metadata": {},
   "source": [
    "$$\\forall{s< S} \\quad  \\forall{t< T} \\quad  \\sum_{p<P,c<C} X_{s,t,p,c} \\leq 1$$"
   ]
  },
  {
   "cell_type": "code",
   "execution_count": 8,
   "id": "070c2cc9",
   "metadata": {},
   "outputs": [],
   "source": [
    "# Cada sala não pode ter mais que uma reunião ao mesmo tempo\n",
    "for s in range(S):\n",
    "    for t in range(T):\n",
    "        horario.Add(sum(X(s,t,p,c) for p in range(P) for c in lideres) <= 1)"
   ]
  },
  {
   "cell_type": "markdown",
   "id": "4559858f",
   "metadata": {},
   "source": [
    "$$\\forall{p< P} \\quad  \\forall{t< T} \\quad \\forall{s< s}\\quad \\sum_{c<C} x_{s,t,p,c} \\ge |proj_{p,0}|\\div{2}\n",
    "$$"
   ]
  },
  {
   "cell_type": "code",
   "execution_count": 9,
   "id": "bc131e5c",
   "metadata": {},
   "outputs": [],
   "source": [
    "#Adiciona condições para que pelo menos 50% dos colaboradores de um dado projeto esteja presente em um slot \n",
    "#alocado a este projeto\n",
    "for p in range(P):\n",
    "    for t in range(T):\n",
    "        for s in range(S):\n",
    "            horario.Add(sum(X(s,t,p,c) for c in proj[p][0])  >= (X(s,t,p,proj[p][1])*round(len(proj[p][0])/2)))"
   ]
  },
  {
   "cell_type": "markdown",
   "id": "87c7be44",
   "metadata": {},
   "source": [
    "$$\n",
    "\\forall_{p<P} . \\quad proj_{p,2} \\le \\sum_{s<S,t<T} X_{s,t,p,lideres_{p}} \n",
    "$$"
   ]
  },
  {
   "cell_type": "code",
   "execution_count": 10,
   "id": "864ba957",
   "metadata": {},
   "outputs": [],
   "source": [
    "#Adiciona condições para que o número de reunioes por projeto seja maior que o minimo definido\n",
    "for p in range(P):\n",
    "    horario.Add ( proj[p][2] <= sum(X(s,t,p,lideres[p]) for s in range (S) for t in range(T)))"
   ]
  },
  {
   "cell_type": "markdown",
   "id": "b8bda3a5",
   "metadata": {},
   "source": [
    "Para optimizar a solução tivemos de maximizar o número total de reuniones através do Maximize(h) e minimizar o numero de pessoas por reunião, assim diminuindo a media de pessoas por projeto"
   ]
  },
  {
   "cell_type": "code",
   "execution_count": 11,
   "id": "ac18cecd",
   "metadata": {},
   "outputs": [],
   "source": [
    "for p in range(P):\n",
    "    for s in range(S):\n",
    "        for t in range(T):\n",
    "            horario.Minimize(sum(X(s,t,p,c) for c in range(C)))\n",
    "    \n",
    "h = sum(X(s,t,p,proj[p][1])for s in range(S) for t in range(T) for p in range(P))\n",
    "\n",
    "\n",
    "horario.Maximize(h)\n"
   ]
  },
  {
   "cell_type": "code",
   "execution_count": 12,
   "id": "6c73ede6",
   "metadata": {},
   "outputs": [
    {
     "name": "stdout",
     "output_type": "stream",
     "text": [
      "0\n",
      "Sala  0 :\n",
      "Slot  0  Projeto: 9  Colaboradores: [38, 39, 73, 75, 52, 87]\n",
      "Slot  1  Projeto: 1  Colaboradores: [1, 33, 12, 50, 93, 51]\n",
      "Slot  2  Projeto: 2  Colaboradores: [65, 71, 74, 80, 18, 89, 30]\n",
      "Slot  3  Projeto: 4  Colaboradores: [0, 6, 11, 76, 78, 48, 49, 19, 85, 58]\n",
      "Slot  4  Projeto: 2  Colaboradores: [32, 65, 14, 80, 18, 93, 31]\n",
      "Slot  5  Projeto: 6  Colaboradores: [37, 70, 75, 95, 86, 92, 61]\n",
      "Slot  6  Projeto: 0  Colaboradores: [72, 81, 55, 24, 58, 94]\n",
      "Slot  7  Projeto: 5  Colaboradores: [64, 99, 70, 45, 84, 31]\n",
      "Slot  8  Projeto: 8  Colaboradores: [32, 33, 8, 10, 21, 85]\n",
      "Slot  9  Projeto: 9  Colaboradores: [35, 9, 73, 75, 52, 87]\n",
      "Slot  10  Projeto: 2  Colaboradores: [32, 65, 71, 18, 89, 93, 30]\n",
      "Slot  11  Projeto: 2  Colaboradores: [65, 71, 74, 14, 80, 18, 89]\n",
      "Slot  12  Projeto: 0  Colaboradores: [70, 47, 55, 24, 58, 94]\n",
      "Slot  13  Projeto: 0  Colaboradores: [67, 72, 55, 24, 58, 94]\n",
      "Slot  14  Projeto: 7  Colaboradores: [96, 2, 68, 66, 72, 41, 46]\n",
      "Slot  15  Projeto: 4  Colaboradores: [0, 78, 48, 49, 85, 89]\n",
      "Slot  16  Projeto: 9  Colaboradores: [35, 38, 6, 11, 52, 87]\n",
      "Slot  17  Projeto: 2  Colaboradores: [32, 65, 38, 74, 14, 18, 93]\n",
      "Slot  18  Projeto: 7  Colaboradores: [68, 66, 72, 41, 75, 46, 89]\n",
      "Slot  19  Projeto: 3  Colaboradores: [98, 39, 41, 10, 84, 91]\n",
      "Sala  1 :\n",
      "Slot  0  Projeto: 1  Colaboradores: [1, 33, 67, 42, 50, 29]\n",
      "Slot  1  Projeto: 4  Colaboradores: [78, 48, 49, 85, 89, 58]\n",
      "Slot  2  Projeto: 9  Colaboradores: [35, 38, 39, 9, 87, 31]\n",
      "Slot  3  Projeto: 7  Colaboradores: [96, 68, 35, 72, 41, 52, 27]\n",
      "Slot  4  Projeto: 4  Colaboradores: [6, 11, 76, 48, 49, 89]\n",
      "Slot  5  Projeto: 8  Colaboradores: [33, 98, 8, 10, 21, 30]\n",
      "Slot  6  Projeto: 8  Colaboradores: [32, 33, 10, 47, 21, 85]\n",
      "Slot  7  Projeto: 1  Colaboradores: [1, 37, 12, 48, 93, 51]\n",
      "Slot  8  Projeto: 9  Colaboradores: [35, 38, 9, 73, 87, 31]\n",
      "Slot  9  Projeto: 4  Colaboradores: [6, 76, 49, 19, 89, 27]\n",
      "Slot  10  Projeto: 0  Colaboradores: [67, 69, 47, 55, 24, 94]\n",
      "Slot  11  Projeto: 9  Colaboradores: [39, 9, 73, 11, 52, 87]\n",
      "Slot  12  Projeto: 9  Colaboradores: [35, 38, 9, 75, 52, 87]\n",
      "Slot  13  Projeto: 9  Colaboradores: [35, 38, 6, 9, 73, 75, 87]\n",
      "Slot  14  Projeto: 5  Colaboradores: [64, 98, 99, 15, 84, 25]\n",
      "Slot  15  Projeto: 2  Colaboradores: [71, 74, 14, 80, 18, 93, 31]\n",
      "Slot  16  Projeto: 5  Colaboradores: [64, 99, 39, 7, 84, 25]\n",
      "Slot  17  Projeto: 0  Colaboradores: [69, 72, 55, 24, 58, 94]\n",
      "Slot  18  Projeto: 6  Colaboradores: [97, 9, 95, 92, 61, 30, 31]\n",
      "Slot  19  Projeto: 4  Colaboradores: [0, 6, 78, 49, 19, 58]\n",
      "Sala  2 :\n",
      "Slot  0  Projeto: 4  Colaboradores: [6, 11, 76, 78, 48, 49, 89, 58]\n",
      "Slot  1  Projeto: 6  Colaboradores: [97, 70, 10, 75, 95, 92, 61]\n",
      "Slot  2  Projeto: 0  Colaboradores: [67, 69, 70, 55, 24, 94]\n",
      "Slot  3  Projeto: 3  Colaboradores: [34, 98, 12, 84, 91, 28]\n",
      "Slot  4  Projeto: 0  Colaboradores: [69, 70, 72, 81, 58, 94]\n",
      "Slot  5  Projeto: 9  Colaboradores: [35, 9, 73, 11, 52, 87]\n",
      "Slot  6  Projeto: 5  Colaboradores: [64, 98, 99, 7, 15, 25]\n",
      "Slot  7  Projeto: 4  Colaboradores: [0, 11, 49, 19, 85, 58]\n",
      "Slot  8  Projeto: 4  Colaboradores: [11, 48, 49, 19, 89, 27]\n",
      "Slot  9  Projeto: 3  Colaboradores: [34, 98, 41, 10, 84, 91]\n",
      "Slot  10  Projeto: 4  Colaboradores: [0, 6, 76, 49, 19, 85]\n",
      "Slot  11  Projeto: 1  Colaboradores: [1, 33, 67, 42, 12, 51]\n",
      "Slot  12  Projeto: 5  Colaboradores: [64, 99, 7, 45, 25, 31]\n",
      "Slot  13  Projeto: 2  Colaboradores: [32, 71, 74, 14, 18, 93, 31]\n",
      "Slot  14  Projeto: 9  Colaboradores: [35, 38, 9, 52, 87, 31]\n",
      "Slot  15  Projeto: 8  Colaboradores: [32, 8, 10, 21, 92, 30]\n",
      "Slot  16  Projeto: 8  Colaboradores: [32, 8, 10, 47, 21, 30]\n",
      "Slot  17  Projeto: 7  Colaboradores: [96, 68, 35, 41, 75, 52, 27]\n",
      "Slot  18  Projeto: 1  Colaboradores: [1, 33, 37, 42, 50, 51]\n",
      "Slot  19  Projeto: 1  Colaboradores: [1, 37, 42, 50, 29, 93]\n",
      "Sala  3 :\n",
      "Slot  0  Projeto: 6  Colaboradores: [97, 37, 70, 45, 86, 61, 31]\n",
      "Slot  1  Projeto: 3  Colaboradores: [34, 39, 41, 84, 91, 28]\n",
      "Slot  2  Projeto: 8  Colaboradores: [8, 10, 47, 21, 85, 92]\n",
      "Slot  3  Projeto: 5  Colaboradores: [99, 39, 7, 45, 15, 31]\n",
      "Slot  4  Projeto: 6  Colaboradores: [37, 9, 75, 45, 95, 86, 61]\n",
      "Slot  5  Projeto: 4  Colaboradores: [0, 6, 49, 19, 89, 27]\n",
      "Slot  6  Projeto: 1  Colaboradores: [1, 67, 42, 12, 29, 93]\n",
      "Slot  7  Projeto: 9  Colaboradores: [35, 38, 9, 73, 52, 87]\n",
      "Slot  8  Projeto: 5  Colaboradores: [64, 98, 99, 7, 15, 25]\n",
      "Slot  9  Projeto: 8  Colaboradores: [32, 33, 8, 47, 21, 92]\n",
      "Slot  10  Projeto: 3  Colaboradores: [41, 12, 51, 84, 91, 28]\n",
      "Slot  11  Projeto: 0  Colaboradores: [69, 70, 72, 81, 55, 24, 58, 94]\n",
      "Slot  12  Projeto: 1  Colaboradores: [1, 33, 42, 48, 29, 93]\n",
      "Slot  13  Projeto: 8  Colaboradores: [33, 8, 47, 21, 85, 92]\n",
      "Slot  14  Projeto: 4  Colaboradores: [0, 6, 49, 19, 89, 58]\n",
      "Slot  15  Projeto: 5  Colaboradores: [64, 99, 70, 7, 15, 84]\n",
      "Slot  16  Projeto: 6  Colaboradores: [37, 70, 95, 86, 92, 61, 31]\n",
      "Slot  17  Projeto: 5  Colaboradores: [98, 99, 39, 7, 84, 25]\n",
      "Slot  18  Projeto: 5  Colaboradores: [64, 99, 7, 45, 15, 25]\n",
      "Slot  19  Projeto: 0  Colaboradores: [67, 69, 81, 55, 24, 94]\n",
      "Sala  4 :\n",
      "Slot  0  Projeto: 8  Colaboradores: [8, 10, 47, 21, 92, 30]\n",
      "Slot  1  Projeto: 2  Colaboradores: [38, 71, 74, 80, 18, 30, 31]\n",
      "Slot  2  Projeto: 7  Colaboradores: [96, 2, 3, 68, 66, 46, 27]\n",
      "Slot  3  Projeto: 1  Colaboradores: [1, 33, 67, 37, 69, 93]\n",
      "Slot  4  Projeto: 3  Colaboradores: [34, 39, 10, 12, 91, 28]\n",
      "Slot  5  Projeto: 2  Colaboradores: [65, 38, 71, 14, 80, 18, 31]\n",
      "Slot  6  Projeto: 9  Colaboradores: [35, 38, 39, 6, 52, 87]\n",
      "Slot  7  Projeto: 8  Colaboradores: [32, 98, 8, 47, 21, 30]\n",
      "Slot  8  Projeto: 0  Colaboradores: [69, 81, 55, 24, 58, 94]\n",
      "Slot  9  Projeto: 0  Colaboradores: [67, 69, 72, 81, 24, 94]\n",
      "Slot  10  Projeto: 7  Colaboradores: [96, 2, 3, 68, 35, 66, 46, 27]\n",
      "Slot  11  Projeto: 4  Colaboradores: [0, 76, 78, 48, 49, 27]\n",
      "Slot  12  Projeto: 3  Colaboradores: [34, 39, 12, 51, 84, 91]\n",
      "Slot  13  Projeto: 3  Colaboradores: [34, 39, 51, 84, 91, 28]\n",
      "Slot  14  Projeto: 1  Colaboradores: [1, 33, 37, 48, 29, 51]\n",
      "Slot  15  Projeto: 9  Colaboradores: [35, 38, 75, 11, 52, 87]\n",
      "Slot  16  Projeto: 7  Colaboradores: [2, 3, 68, 66, 41, 46, 27]\n",
      "Slot  17  Projeto: 6  Colaboradores: [97, 37, 9, 10, 95, 92, 61]\n",
      "Slot  18  Projeto: 2  Colaboradores: [32, 65, 71, 74, 47, 80, 18]\n",
      "Slot  19  Projeto: 8  Colaboradores: [33, 8, 47, 21, 85, 92]\n"
     ]
    }
   ],
   "source": [
    "status = horario.Solve()\n",
    "print(status)\n",
    "if status == pywraplp.Solver.OPTIMAL or status == pywraplp.Solver.FEASIBLE:\n",
    "    for s in range(S):\n",
    "        print(\"Sala \", s, \":\")\n",
    "        for t in range(T):\n",
    "            for p in range(P):\n",
    "                if X(s,t,p,proj[p][1]).solution_value() == 1:\n",
    "                   \n",
    "                    a = []\n",
    "                    for c in proj[p][0] :\n",
    "                        if X(s,t,p,c).solution_value() == True:\n",
    "                            a.append(c)\n",
    "                    print(\"Slot \", t ,\" Projeto:\", p,\" Colaboradores:\", a )"
   ]
  }
 ],
 "metadata": {
  "kernelspec": {
   "display_name": "Python 3 (ipykernel)",
   "language": "python",
   "name": "python3"
  },
  "language_info": {
   "codemirror_mode": {
    "name": "ipython",
    "version": 3
   },
   "file_extension": ".py",
   "mimetype": "text/x-python",
   "name": "python",
   "nbconvert_exporter": "python",
   "pygments_lexer": "ipython3",
   "version": "3.10.6"
  }
 },
 "nbformat": 4,
 "nbformat_minor": 5
}
