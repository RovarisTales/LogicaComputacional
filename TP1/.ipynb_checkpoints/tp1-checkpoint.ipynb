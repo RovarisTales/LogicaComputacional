{
 "cells": [
  {
   "cell_type": "markdown",
   "id": "67ea5047",
   "metadata": {},
   "source": [
    "### TP 1 EX 1\n",
    "Grupo 5:\n",
    "     \n",
    "     Breno Fernando Guerra Marrão A97768\n",
    "     \n",
    "     Tales André Rovaris Machado A96314\n"
   ]
  },
  {
   "cell_type": "markdown",
   "id": "88427f95",
   "metadata": {},
   "source": [
    "## Inicialização\n",
    "Usamos as bibliotecas Or-tools (com interface SCIP) e random para resovler o problema de alocação proposto "
   ]
  },
  {
   "cell_type": "code",
   "execution_count": 1,
   "id": "49df7cfe",
   "metadata": {},
   "outputs": [],
   "source": [
    "from ortools.linear_solver import pywraplp\n",
    "from random import randrange,choice\n",
    "horario = pywraplp.Solver.CreateSolver('SCIP')"
   ]
  },
  {
   "cell_type": "markdown",
   "id": "64e91d21",
   "metadata": {},
   "source": [
    "## Gerador de dados aleatorios"
   ]
  },
  {
   "cell_type": "markdown",
   "id": "adffd426",
   "metadata": {},
   "source": [
    "Para gerar os dados teste para o problema criamos um gerador que pode ser alterado para de acordo com os objetivos desejados de simulação\n",
    "Disp é a matriz 2x2 que para cada elemento i,j tem o valor 0 ou 1 com a disponibilidade do colaborador i no turno j\n",
    "Proj é o array de tuplos onde o primeiro elemento é a constituição do grupo, o segundo é o lider do grupo e o terceiro as horas minimas por projeto"
   ]
  },
  {
   "cell_type": "code",
   "execution_count": 2,
   "id": "cb277eb3",
   "metadata": {},
   "outputs": [],
   "source": [
    "\n",
    "S,T,P,C = 5,20,10,100\n",
    "\n",
    "#A disponibilidade de cada participante, incluindo o lider. Essa disponibilidade   é um conjunto de “slots” \n",
    "#representada numa matriz booleana de acessibilidade com uma linha por cada participante 1..C e \n",
    "#uma coluna por “slot” 1..T\n",
    "\n",
    "disp = []\n",
    "\n",
    "\n",
    "h= [0,1,1,1]\n",
    "for c in range(C):\n",
    "    disp.append([])\n",
    "    for t in range(T):\n",
    "        disp[c].append(choice(h))\n",
    "\n",
    "#O conjunto de colaboradores de cada projeto, o seu líder e o número mínimo  de reuniões semanais.\n",
    "#Nesse caso para um projeto de 0 - P , está associado os colaboradores \n",
    "proj = [] \n",
    "lideres = []\n",
    "for p in range(P):\n",
    "    colab = set()\n",
    "    for col in range(14):\n",
    "        colab.add(randrange(C))\n",
    "    cola = list(colab)\n",
    "    l = choice(cola)\n",
    "    lideres.append(l)\n",
    "    hora = randrange(1,5)\n",
    "    proj.append((cola,l,hora))\n",
    "    \n",
    "\n"
   ]
  },
  {
   "cell_type": "markdown",
   "id": "9f892865",
   "metadata": {},
   "source": [
    "## Inicialização da matriz"
   ]
  },
  {
   "cell_type": "code",
   "execution_count": 3,
   "id": "9b2b7c44",
   "metadata": {},
   "outputs": [],
   "source": [
    "x = {}\n",
    "for s in range(S):\n",
    "    x[s]= {}\n",
    "    for t in range(T):\n",
    "        x[s][t] = {}\n",
    "        for p in range(P):\n",
    "            x[s][t][p] = {}\n",
    "            for c in range(C):\n",
    "                x[s][t][p][c] = horario.BoolVar(f'x[{s},{t},{p},{c}]')\n",
    "\n",
    "def X(s,t,p,c):              # abreviatura\n",
    "    return x[s][t][p][c] \n"
   ]
  },
  {
   "cell_type": "markdown",
   "id": "21a060ce",
   "metadata": {},
   "source": [
    "$$\n",
    "\\forall_{c<C} \\forall_{t<T} \\quad \\mbox{se}\\quad disp_{c,t} = 0 \\quad \\mbox{então}\\quad \\forall_{p<P} \\forall_{s<S}  \\quad X_{s,t,p,c} = 0\n",
    "$$"
   ]
  },
  {
   "cell_type": "code",
   "execution_count": 4,
   "id": "06f542e7",
   "metadata": {},
   "outputs": [],
   "source": [
    "#Adiciona condições para que se um colaborador não esteja disponivel para certo slot\n",
    "#ele não posso ser alocada a esse spot\n",
    "for c in range(C):\n",
    "    for t in range(T):\n",
    "        if disp[c][t] == 0:\n",
    "            for p in range(P):\n",
    "                for s in range(S):\n",
    "                    horario.Add((X(s,t,p,c))== 0 )"
   ]
  },
  {
   "cell_type": "markdown",
   "id": "74dc7b32",
   "metadata": {},
   "source": [
    "$$\\forall{c< C} \\quad  \\forall{p< P} \\quad {se \\quad c \\notin proj_{p}\\quad então}  \\quad \\forall{s< S} \\quad \\forall{t< T} \\quad X_{s,t,p,c}= 0\n",
    "$$"
   ]
  },
  {
   "cell_type": "code",
   "execution_count": 5,
   "id": "b1d3d03a",
   "metadata": {},
   "outputs": [],
   "source": [
    "#cada colaborador a cada dia e nao pode participar de um projeto que nao é seu\n",
    "for c in range(C):\n",
    "    for p in range(P):\n",
    "        if c not in proj[p][0]:\n",
    "            for s in range(S):\n",
    "                for t in range(T):\n",
    "                    horario.Add((X(s,t,p,c))== 0)  "
   ]
  },
  {
   "cell_type": "markdown",
   "id": "ebd4556a",
   "metadata": {},
   "source": [
    "$$\n",
    "\\forall_{c<C} \\quad \\forall_{t<T} \\quad \\sum_{p<P,\\,s<S}X_{s,t,p,c} \\le 1\n",
    "$$"
   ]
  },
  {
   "cell_type": "code",
   "execution_count": 6,
   "id": "5600c9e2",
   "metadata": {},
   "outputs": [],
   "source": [
    "#checa se o mesmo colaborador esta fazendo o trabalho em 2 projetos diferentes ao mesmo tempo\n",
    "for c in range(C):\n",
    "    for t in range(T):\n",
    "        horario.Add(sum(X(s,t,p,c) for p in range(P) for s in range(S))<= 1 )"
   ]
  },
  {
   "cell_type": "markdown",
   "id": "112074b9",
   "metadata": {},
   "source": [
    "$$\n",
    "\\forall_{p<p} \\forall_{l\\in lideres} \\forall_{t<T} \\quad \\mbox{se}\\quad disp_{l,t} \\quad \\mbox{então}\\quad \\forall_{s<S} \\forall_{c \\in proj_{p}} \\quad X_{s,t,p,c} = 0\n",
    "$$"
   ]
  },
  {
   "cell_type": "code",
   "execution_count": 7,
   "id": "c5780634",
   "metadata": {},
   "outputs": [],
   "source": [
    "#Adiciona condições para que se o lider não esteja disponivel não aconteça o projeto   \n",
    "for p in range(P):\n",
    "    l = proj[p][1]\n",
    "    for t in range(T):\n",
    "        if disp[l][t] == 0:\n",
    "            for s in range(S):\n",
    "                for c in proj[p][0]:\n",
    "                    horario.Add((X(s,t,p,c))== 0 )"
   ]
  },
  {
   "cell_type": "markdown",
   "id": "513a5800",
   "metadata": {},
   "source": [
    "$$\\forall{s< S} \\quad  \\forall{t< T} \\quad  \\sum_{p<P,c<C} X_{s,t,p,c} \\leq 1$$"
   ]
  },
  {
   "cell_type": "code",
   "execution_count": 8,
   "id": "070c2cc9",
   "metadata": {},
   "outputs": [],
   "source": [
    "# Cada sala não pode ter mais que uma reunião ao mesmo tempo\n",
    "for s in range(S):\n",
    "    for t in range(T):\n",
    "        horario.Add(sum(X(s,t,p,c) for p in range(P) for c in lideres) <= 1)"
   ]
  },
  {
   "cell_type": "markdown",
   "id": "4559858f",
   "metadata": {},
   "source": [
    "$$\\forall{p< P} \\quad  \\forall{t< T} \\quad \\forall{s< s}\\quad \\sum_{c<C} x_{s,t,p,c} \\ge |proj_{p,0}|\\div{2}\n",
    "$$"
   ]
  },
  {
   "cell_type": "code",
   "execution_count": 9,
   "id": "bc131e5c",
   "metadata": {},
   "outputs": [],
   "source": [
    "#Adiciona condições para que pelo menos 50% dos colaboradores de um dado projeto esteja presente em um slot \n",
    "#alocado a este projeto\n",
    "for p in range(P):\n",
    "    for t in range(T):\n",
    "        for s in range(S):\n",
    "            horario.Add(sum(X(s,t,p,c) for c in proj[p][0])  >= (X(s,t,p,proj[p][1])*round(len(proj[p][0])/2)))"
   ]
  },
  {
   "cell_type": "markdown",
   "id": "87c7be44",
   "metadata": {},
   "source": [
    "$$\n",
    "\\forall_{p<P} . \\quad proj_{p,2} \\le \\sum_{s<S,t<T} X_{s,t,p,lideres_{p}} \n",
    "$$"
   ]
  },
  {
   "cell_type": "code",
   "execution_count": 10,
   "id": "864ba957",
   "metadata": {},
   "outputs": [],
   "source": [
    "#Adiciona condições para que o número de reunioes por projeto seja maior que o minimo definido\n",
    "for p in range(P):\n",
    "    horario.Add ( proj[p][2] <= sum(X(s,t,p,lideres[p]) for s in range (S) for t in range(T)))"
   ]
  },
  {
   "cell_type": "markdown",
   "id": "b8bda3a5",
   "metadata": {},
   "source": [
    "Para optimizar a solução tivemos de maximizar o número total de reuniones através do Maximize(h) e minimizar o numero de pessoas por reunião, assim diminuindo a media de pessoas por projeto"
   ]
  },
  {
   "cell_type": "code",
   "execution_count": 11,
   "id": "ac18cecd",
   "metadata": {},
   "outputs": [],
   "source": [
    "for p in range(P):\n",
    "    for s in range(S):\n",
    "        for t in range(T):\n",
    "            horario.Minimize(sum(X(s,t,p,c) for c in range(C)))\n",
    "    \n",
    "h = sum(X(s,t,p,proj[p][1])for s in range(S) for t in range(T) for p in range(P))\n",
    "\n",
    "\n",
    "horario.Maximize(h)\n"
   ]
  },
  {
   "cell_type": "code",
   "execution_count": 12,
   "id": "6c73ede6",
   "metadata": {},
   "outputs": [
    {
     "name": "stdout",
     "output_type": "stream",
     "text": [
      "0\n",
      "Sala  0 :\n",
      "Slot  0  Projeto: 1  Colaboradores: [97, 37, 70, 72, 14, 49]\n",
      "Slot  1  Projeto: 0  Colaboradores: [26, 45, 48, 51, 90, 31]\n",
      "Slot  2  Projeto: 2  Colaboradores: [0, 70, 77, 78, 45, 16, 26]\n",
      "Slot  3  Projeto: 3  Colaboradores: [0, 99, 97, 9, 10, 12, 30]\n",
      "Slot  4  Projeto: 2  Colaboradores: [69, 74, 77, 78, 16, 26, 93]\n",
      "Slot  5  Projeto: 6  Colaboradores: [64, 65, 84, 86, 26, 29, 62]\n",
      "Slot  6  Projeto: 2  Colaboradores: [0, 70, 74, 77, 78, 45, 16]\n",
      "Slot  7  Projeto: 6  Colaboradores: [84, 52, 23, 26, 28, 29, 62]\n",
      "Slot  8  Projeto: 1  Colaboradores: [37, 72, 14, 79, 49, 53]\n",
      "Slot  9  Projeto: 9  Colaboradores: [98, 39, 41, 30, 88, 94]\n",
      "Slot  10  Projeto: 2  Colaboradores: [69, 70, 74, 77, 78, 16, 94]\n",
      "Slot  11  Projeto: 0  Colaboradores: [45, 48, 51, 55, 24, 31]\n",
      "Slot  12  Projeto: 4  Colaboradores: [96, 1, 71, 7, 44, 15, 17]\n",
      "Slot  13  Projeto: 0  Colaboradores: [1, 79, 48, 55, 90, 31]\n",
      "Slot  14  Projeto: 9  Colaboradores: [98, 39, 7, 41, 86, 94]\n",
      "Slot  15  Projeto: 1  Colaboradores: [97, 70, 72, 9, 18, 87]\n",
      "Slot  16  Projeto: 7  Colaboradores: [12, 13, 50, 20, 56, 27]\n",
      "Slot  17  Projeto: 9  Colaboradores: [39, 41, 18, 30, 87, 94]\n",
      "Slot  18  Projeto: 4  Colaboradores: [96, 71, 8, 75, 44, 17, 54]\n",
      "Slot  19  Projeto: 0  Colaboradores: [45, 79, 51, 88, 24, 31]\n",
      "Sala  1 :\n",
      "Slot  0  Projeto: 5  Colaboradores: [64, 65, 8, 76, 46, 82]\n",
      "Slot  1  Projeto: 4  Colaboradores: [96, 1, 2, 67, 71, 7, 44]\n",
      "Slot  2  Projeto: 7  Colaboradores: [12, 47, 50, 53, 56, 27]\n",
      "Slot  3  Projeto: 1  Colaboradores: [37, 70, 72, 79, 53, 54]\n",
      "Slot  4  Projeto: 4  Colaboradores: [96, 1, 2, 67, 71, 8, 75, 15, 17, 89]\n",
      "Slot  5  Projeto: 1  Colaboradores: [70, 72, 14, 18, 53, 54]\n",
      "Slot  6  Projeto: 6  Colaboradores: [65, 38, 84, 52, 28, 29, 62]\n",
      "Slot  7  Projeto: 5  Colaboradores: [64, 32, 8, 76, 81, 82]\n",
      "Slot  8  Projeto: 4  Colaboradores: [96, 1, 67, 71, 8, 75, 44, 17, 54, 89]\n",
      "Slot  9  Projeto: 7  Colaboradores: [12, 47, 50, 20, 53, 27]\n",
      "Slot  10  Projeto: 5  Colaboradores: [66, 76, 75, 46, 81, 82]\n",
      "Slot  12  Projeto: 1  Colaboradores: [37, 70, 72, 18, 53, 54]\n",
      "Slot  13  Projeto: 3  Colaboradores: [65, 99, 97, 38, 9, 10, 88]\n",
      "Slot  14  Projeto: 0  Colaboradores: [1, 45, 79, 88, 90, 31]\n",
      "Slot  15  Projeto: 2  Colaboradores: [0, 69, 41, 77, 45, 16, 93, 94]\n",
      "Slot  16  Projeto: 1  Colaboradores: [97, 70, 72, 9, 14, 87]\n",
      "Slot  17  Projeto: 0  Colaboradores: [26, 45, 51, 88, 90, 31]\n",
      "Slot  18  Projeto: 1  Colaboradores: [97, 70, 72, 9, 14, 49]\n",
      "Slot  19  Projeto: 6  Colaboradores: [64, 12, 84, 52, 86, 29, 62]\n",
      "Sala  2 :\n",
      "Slot  0  Projeto: 7  Colaboradores: [50, 20, 53, 24, 27, 95]\n",
      "Slot  1  Projeto: 3  Colaboradores: [99, 97, 38, 9, 10, 12, 30]\n",
      "Slot  2  Projeto: 5  Colaboradores: [66, 32, 75, 46, 81, 82]\n",
      "Slot  3  Projeto: 6  Colaboradores: [64, 65, 13, 84, 24, 26, 29]\n",
      "Slot  4  Projeto: 1  Colaboradores: [37, 72, 14, 49, 18, 54]\n",
      "Slot  5  Projeto: 3  Colaboradores: [0, 99, 97, 38, 10, 11, 88]\n",
      "Slot  6  Projeto: 9  Colaboradores: [97, 39, 7, 41, 18, 87]\n",
      "Slot  7  Projeto: 9  Colaboradores: [39, 41, 45, 30, 88, 94]\n",
      "Slot  8  Projeto: 3  Colaboradores: [65, 99, 38, 9, 10, 11, 12]\n",
      "Slot  9  Projeto: 6  Colaboradores: [65, 38, 84, 52, 86, 28, 29]\n",
      "Slot  10  Projeto: 3  Colaboradores: [0, 65, 99, 97, 38, 10, 88]\n",
      "Slot  11  Projeto: 3  Colaboradores: [0, 38, 10, 11, 12, 88, 30]\n",
      "Slot  12  Projeto: 0  Colaboradores: [26, 45, 48, 55, 24, 31]\n",
      "Slot  13  Projeto: 9  Colaboradores: [39, 7, 41, 45, 86, 94]\n",
      "Slot  14  Projeto: 7  Colaboradores: [47, 50, 20, 24, 56, 27]\n",
      "Slot  15  Projeto: 5  Colaboradores: [64, 8, 11, 46, 82, 30]\n",
      "Slot  16  Projeto: 2  Colaboradores: [36, 69, 41, 74, 77, 16, 93, 94]\n",
      "Slot  17  Projeto: 4  Colaboradores: [96, 1, 2, 71, 15, 17, 54]\n",
      "Slot  18  Projeto: 7  Colaboradores: [12, 47, 50, 53, 24, 56]\n",
      "Slot  19  Projeto: 7  Colaboradores: [13, 50, 20, 53, 56, 27]\n",
      "Sala  3 :\n",
      "Slot  0  Projeto: 4  Colaboradores: [96, 1, 67, 71, 44, 15, 17]\n",
      "Slot  1  Projeto: 8  Colaboradores: [68, 70, 74, 86, 23, 25, 58]\n",
      "Slot  2  Projeto: 6  Colaboradores: [64, 65, 38, 84, 52, 23, 29]\n",
      "Slot  3  Projeto: 7  Colaboradores: [47, 50, 20, 56, 27, 95]\n",
      "Slot  4  Projeto: 7  Colaboradores: [12, 47, 50, 20, 56, 27]\n",
      "Slot  5  Projeto: 7  Colaboradores: [13, 47, 50, 83, 56, 27]\n",
      "Slot  6  Projeto: 1  Colaboradores: [72, 9, 14, 79, 49, 53]\n",
      "Slot  7  Projeto: 2  Colaboradores: [36, 69, 74, 77, 78, 16, 93]\n",
      "Slot  8  Projeto: 9  Colaboradores: [39, 7, 41, 45, 18, 30]\n",
      "Slot  9  Projeto: 0  Colaboradores: [1, 45, 79, 51, 90, 31]\n",
      "Slot  10  Projeto: 8  Colaboradores: [1, 34, 68, 86, 23, 25, 57]\n",
      "Slot  11  Projeto: 4  Colaboradores: [96, 2, 67, 71, 15, 17, 89]\n",
      "Slot  12  Projeto: 5  Colaboradores: [66, 32, 76, 75, 46, 82]\n",
      "Slot  13  Projeto: 6  Colaboradores: [64, 13, 84, 52, 26, 29, 62]\n",
      "Slot  14  Projeto: 6  Colaboradores: [64, 65, 38, 12, 84, 28, 29]\n",
      "Slot  15  Projeto: 7  Colaboradores: [13, 50, 83, 24, 56, 95]\n",
      "Slot  16  Projeto: 0  Colaboradores: [26, 79, 48, 51, 55, 31]\n",
      "Slot  17  Projeto: 8  Colaboradores: [68, 8, 12, 86, 23, 58, 57]\n",
      "Slot  18  Projeto: 9  Colaboradores: [98, 39, 7, 30, 86, 88]\n",
      "Slot  19  Projeto: 4  Colaboradores: [96, 2, 67, 71, 44, 17, 89]\n",
      "Sala  4 :\n",
      "Slot  0  Projeto: 0  Colaboradores: [26, 79, 48, 55, 90, 31]\n",
      "Slot  1  Projeto: 5  Colaboradores: [64, 66, 76, 75, 81, 82]\n",
      "Slot  2  Projeto: 4  Colaboradores: [96, 1, 2, 71, 8, 7, 44, 89]\n",
      "Slot  3  Projeto: 5  Colaboradores: [66, 8, 76, 81, 82, 90]\n",
      "Slot  4  Projeto: 0  Colaboradores: [45, 79, 48, 55, 88, 31]\n",
      "Slot  5  Projeto: 2  Colaboradores: [69, 74, 77, 78, 45, 16, 93]\n",
      "Slot  6  Projeto: 7  Colaboradores: [13, 47, 50, 83, 24, 95]\n",
      "Slot  7  Projeto: 4  Colaboradores: [96, 71, 75, 44, 15, 17, 89]\n",
      "Slot  8  Projeto: 6  Colaboradores: [64, 13, 84, 86, 24, 28, 62]\n",
      "Slot  9  Projeto: 4  Colaboradores: [96, 2, 71, 8, 7, 75, 17]\n",
      "Slot  10  Projeto: 7  Colaboradores: [13, 47, 50, 53, 24, 95]\n",
      "Slot  11  Projeto: 5  Colaboradores: [64, 65, 32, 81, 82, 90]\n",
      "Slot  12  Projeto: 3  Colaboradores: [0, 65, 99, 9, 10, 12, 88]\n",
      "Slot  13  Projeto: 1  Colaboradores: [37, 70, 72, 49, 18, 53]\n",
      "Slot  14  Projeto: 1  Colaboradores: [97, 70, 72, 49, 53, 54]\n",
      "Slot  15  Projeto: 6  Colaboradores: [65, 38, 84, 86, 23, 28, 62]\n",
      "Slot  16  Projeto: 5  Colaboradores: [64, 8, 11, 82, 90, 30]\n",
      "Slot  17  Projeto: 6  Colaboradores: [64, 38, 13, 84, 24, 28, 62]\n",
      "Slot  18  Projeto: 2  Colaboradores: [0, 36, 41, 77, 16, 93, 94]\n",
      "Slot  19  Projeto: 2  Colaboradores: [0, 36, 69, 77, 16, 93, 94]\n"
     ]
    }
   ],
   "source": [
    "status = horario.Solve()\n",
    "print(status)\n",
    "if status == pywraplp.Solver.OPTIMAL or status == pywraplp.Solver.FEASIBLE:\n",
    "    for s in range(S):\n",
    "        print(\"Sala \", s, \":\")\n",
    "        for t in range(T):\n",
    "            for p in range(P):\n",
    "                if X(s,t,p,proj[p][1]).solution_value() == 1:\n",
    "                   \n",
    "                    a = []\n",
    "                    for c in proj[p][0] :\n",
    "                        if X(s,t,p,c).solution_value() == True:\n",
    "                            a.append(c)\n",
    "                    print(\"Slot \", t ,\" Projeto:\", p,\" Colaboradores:\", a )"
   ]
  }
 ],
 "metadata": {
  "kernelspec": {
   "display_name": "Python 3 (ipykernel)",
   "language": "python",
   "name": "python3"
  },
  "language_info": {
   "codemirror_mode": {
    "name": "ipython",
    "version": 3
   },
   "file_extension": ".py",
   "mimetype": "text/x-python",
   "name": "python",
   "nbconvert_exporter": "python",
   "pygments_lexer": "ipython3",
   "version": "3.10.6"
  }
 },
 "nbformat": 4,
 "nbformat_minor": 5
}
