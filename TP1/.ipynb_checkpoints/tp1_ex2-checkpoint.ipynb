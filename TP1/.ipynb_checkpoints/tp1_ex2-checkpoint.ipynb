{
 "cells": [
  {
   "cell_type": "markdown",
   "id": "7ffa0c11",
   "metadata": {},
   "source": [
    "### TP 1 EX 1\n",
    "Grupo 5:\n",
    "     \n",
    "     Breno Fernando Guerra Marrão A97768\n",
    "     \n",
    "     Tales André Rovaris Machado A96314"
   ]
  },
  {
   "cell_type": "markdown",
   "id": "d0a4650d",
   "metadata": {},
   "source": [
    "## Inicialização\n",
    "Usamos as bibliotecas Or-tools (com interface CP_model) e random para resovler o problema de alocação proposto"
   ]
  },
  {
   "cell_type": "code",
   "execution_count": 1,
   "id": "6ad9d198",
   "metadata": {},
   "outputs": [],
   "source": [
    "from ortools.sat.python import cp_model\n",
    "from random import randrange\n",
    "crip = cp_model.CpModel()\n",
    "\n",
    "def L(m,n):\n",
    "    return l[m][n]\n"
   ]
  },
  {
   "cell_type": "markdown",
   "id": "e763a8b1",
   "metadata": {},
   "source": [
    "Inicialização da Matriz L e declaração das variaveis"
   ]
  },
  {
   "cell_type": "code",
   "execution_count": 2,
   "id": "84ce9182",
   "metadata": {},
   "outputs": [],
   "source": [
    "l = {}\n",
    "d = 16\n",
    "M = 16\n",
    "N = 7\n",
    "q = 37\n",
    "\n",
    "for m in range(M):\n",
    "    l[m] = {}\n",
    "    for n in range(N):\n",
    "        l[m][n] = randrange(-d,d+1)"
   ]
  },
  {
   "cell_type": "markdown",
   "id": "38359b55",
   "metadata": {},
   "source": [
    "Inicialização do vetor e, e do vetor auxiliar k de tamanho m que são as soluções se possiveis da operação mod"
   ]
  },
  {
   "cell_type": "code",
   "execution_count": 3,
   "id": "2789ae95",
   "metadata": {},
   "outputs": [],
   "source": [
    "e = []\n",
    "\n",
    "for m in range(M):\n",
    "    e.append(crip.NewIntVar(-1,1,f'e[{m}]'))\n",
    "\n",
    "k = []\n",
    "for n in range(N):\n",
    "    k.append(crip.NewIntVar(-round(d*M/q),round(d*M/q),f'k[{n}]'))"
   ]
  },
  {
   "cell_type": "markdown",
   "id": "a154f8f4",
   "metadata": {},
   "source": [
    "Para certificar que o vetor e não é nulo devemos conferir os valores absolutos do minimo e maximo do vetor e aplicar a operação logica ou para certificar que todos são diferentes de 0\n",
    "$$\n",
    "|max_{e}|\\vee |min_{e}|\n",
    "$$"
   ]
  },
  {
   "cell_type": "code",
   "execution_count": 4,
   "id": "d506e62f",
   "metadata": {},
   "outputs": [],
   "source": [
    "#checar se todos os elementos de e são nulos\n",
    "\n",
    "max_vec = crip.NewIntVar(-1, 1, \"maxvec\")\n",
    "crip.AddMaxEquality(max_vec, e)\n",
    "\n",
    "min_vec = crip.NewIntVar(-1, 1, \" minvec\")\n",
    "crip.AddMinEquality(min_vec, e)\n",
    "\n",
    "absmin = crip.NewBoolVar('absmin')\n",
    "absmax = crip.NewBoolVar('absmax')\n",
    "crip.AddAbsEquality(target = absmin, expr = min_vec)\n",
    "crip.AddAbsEquality(target = absmax, expr = max_vec)\n",
    "\n",
    "\n",
    "crip.AddBoolOr(absmax,absmin)\n",
    "pass"
   ]
  },
  {
   "cell_type": "markdown",
   "id": "aac62619",
   "metadata": {},
   "source": [
    "$$∀i<n⋅\n",
    "\\sum_{j< m}\\,e_j\\,\\times\\,\\mathsf{L}_{j,i}\\;\\equiv\\;0\\mod q\n",
    "$$"
   ]
  },
  {
   "cell_type": "code",
   "execution_count": 5,
   "id": "5e2e1f7c",
   "metadata": {},
   "outputs": [],
   "source": [
    "for i in range(N):\n",
    "    crip.Add(sum(L(j,i)*e[j] for j in range(M))== q*k[i])"
   ]
  },
  {
   "cell_type": "markdown",
   "id": "868aabdb",
   "metadata": {},
   "source": [
    "# Execução do solver"
   ]
  },
  {
   "cell_type": "code",
   "execution_count": 6,
   "id": "795a5b12",
   "metadata": {},
   "outputs": [
    {
     "name": "stdout",
     "output_type": "stream",
     "text": [
      "IMPOSSIVEL\n"
     ]
    }
   ],
   "source": [
    "solver = cp_model.CpSolver()\n",
    "status = solver.Solve(crip)\n",
    "\n",
    "\n",
    "if status == cp_model.OPTIMAL or status == cp_model.FEASIBLE:\n",
    "    print(\"Matriz :\")\n",
    "    for a in range(N):\n",
    "        arr = []\n",
    "        for b in range(M):\n",
    "            arr.append(L(b,a))\n",
    "        print(arr)\n",
    "    print()\n",
    "    vec = []\n",
    "    for n in range(M):\n",
    "        vec.append(solver.Value(e[n]))\n",
    "    print(\"vetor e: \")\n",
    "    print(vec)\n",
    "else:\n",
    "    print(\"IMPOSSIVEL\")"
   ]
  }
 ],
 "metadata": {
  "kernelspec": {
   "display_name": "Python 3 (ipykernel)",
   "language": "python",
   "name": "python3"
  },
  "language_info": {
   "codemirror_mode": {
    "name": "ipython",
    "version": 3
   },
   "file_extension": ".py",
   "mimetype": "text/x-python",
   "name": "python",
   "nbconvert_exporter": "python",
   "pygments_lexer": "ipython3",
   "version": "3.10.6"
  }
 },
 "nbformat": 4,
 "nbformat_minor": 5
}
