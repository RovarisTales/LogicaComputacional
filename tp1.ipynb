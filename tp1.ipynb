{
 "cells": [
  {
   "cell_type": "code",
   "execution_count": 31,
   "id": "9b2b7c44",
   "metadata": {},
   "outputs": [
    {
     "name": "stdout",
     "output_type": "stream",
     "text": [
      "[[1, 1, 1, 1, 1, 1, 1, 1, 1, 1], [1, 1, 1, 1, 1, 1, 1, 1, 1, 1], [1, 1, 1, 1, 1, 1, 1, 1, 1, 1], [1, 1, 1, 1, 1, 1, 1, 1, 1, 1], [1, 1, 1, 1, 1, 1, 1, 1, 1, 1]]\n"
     ]
    }
   ],
   "source": [
    "from ortools.linear_solver import pywraplp\n",
    "from random import randrange\n",
    "horario = pywraplp.Solver.CreateSolver('SCIP')\n",
    "\n",
    "S,T,P,C = 2,10,2,5\n",
    "disp = []\n",
    "for c in range(C):\n",
    "    disp.append([])\n",
    "    for t in range(T):\n",
    "        disp[c].append(1)\n",
    "print(disp)\n",
    "#A disponibilidade de cada participante, incluindo o lider. Essa disponibilidade   é um conjunto de “slots” \n",
    "#representada numa matriz booleana de acessibilidade com uma linha por cada participante 1..C e \n",
    "#uma coluna por “slot” 1..T\n",
    "#disp [C][T] = []\n",
    "\n",
    "#O conjunto de colaboradores de cada projeto, o seu líder e o número mínimo  de reuniões semanais.\n",
    "#Nesse caso para um projeto de 0 - P , está associado os colaboradores \n",
    "proj = [((1,2,0),1,3),((4,3),4,3)] \n",
    "\n",
    "x = {}\n",
    "for s in range(S):\n",
    "    x[s]= {}\n",
    "    for t in range(T):\n",
    "        x[s][t] = {}\n",
    "        for p in range(P):\n",
    "            x[s][t][p] = {}\n",
    "            for c in range(C):\n",
    "                x[s][t][p][c] = horario.BoolVar(f'x[{s},{t},{p},{c}]')\n",
    "\n",
    "def X(s,t,p,c):              # abreviatura\n",
    "    return x[s][t][p][c] \n",
    "\n",
    "#Adiciona condições para que se um colaborador não esteja disponivel para certo slot\n",
    "#ele não posso ser alocada a esse spot\n",
    "for c in range(C):\n",
    "    for t in range(T):\n",
    "        if disp[c][t] == 0:\n",
    "            horario.Add((X(s,t,p,c) for p in range(P) for s in range(S))== 0 )\n",
    "\n",
    "            \n",
    "#Adiciona condições para que se o lider não esteja disponivel não aconteça o projeto   \n",
    "for p in range(P):\n",
    "    l = proj[p][1]\n",
    "    for t in disp[l]:\n",
    "        horario.Add((X(s,t,p,c) for s in range(S) for c in proj[p][0])== 0 )\n",
    "\n",
    "#Adiciona condições para que pelo menos 50% dos colaboradores de um dado projeto esteja presente em um slot \n",
    "#alocado a este projeto\n",
    "for p in range(P):\n",
    "    for t in range(T):\n",
    "        horario.Add(sum(X(s,t,p,c) for s in range (S) for c in proj[p][0])  >= len(proj[p][0])/2)\n",
    "#Adiciona condições para que o número de reunioes por projeto seja maior que o minimo definido\n",
    "#TALVEZ TENHA Q MUDAR DEPENDENDO DO Q O PROFESSOR RESPONDER SE CERTO COLABORADOR\n",
    "#PODE PARTICIPAR DE MAIS DO Q UM PROJETO\n",
    "for p in range(P):\n",
    "    horario.Add (sum(X(s,t,p,proj[p][1]) for s in range (S) for t in range(T)) >= proj[p][2])\n",
    "\n",
    "# Cada sala não pode ter mais que uma reunião\n",
    "for s in range(S):\n",
    "    for t in range(T):\n",
    "        horario.Add(sum(X(s,t,p,c) for p in range(P) for c in range(C)) <= 1)\n",
    "                 \n",
    "status = horario.Solve()\n",
    "\n",
    "if status == pywraplp.Solver.OPTIMAL:\n",
    "    print(\":)\")"
   ]
  },
  {
   "cell_type": "code",
   "execution_count": null,
   "id": "b1d3d03a",
   "metadata": {},
   "outputs": [],
   "source": []
  }
 ],
 "metadata": {
  "kernelspec": {
   "display_name": "Python 3 (ipykernel)",
   "language": "python",
   "name": "python3"
  },
  "language_info": {
   "codemirror_mode": {
    "name": "ipython",
    "version": 3
   },
   "file_extension": ".py",
   "mimetype": "text/x-python",
   "name": "python",
   "nbconvert_exporter": "python",
   "pygments_lexer": "ipython3",
   "version": "3.10.6"
  }
 },
 "nbformat": 4,
 "nbformat_minor": 5
}
