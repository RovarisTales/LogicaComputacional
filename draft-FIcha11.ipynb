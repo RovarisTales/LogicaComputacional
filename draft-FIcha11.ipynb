{
 "cells": [
  {
   "cell_type": "markdown",
   "id": "f75c9670",
   "metadata": {},
   "source": [
    "# DRAFT da Ficha 11"
   ]
  },
  {
   "cell_type": "markdown",
   "id": "707a4412",
   "metadata": {},
   "source": [
    "# Transformadores de predicados\n",
    "\n",
    "Um transformador de predicados, como o nome sugere, não é mais do que um operador que recebe um predicado e produz um predicado.\n",
    "Uma técnica de verificação de segurança de sistemas dinâmicos que pode ser aplicada a SFOTS baseia-se neste conceito. Associado a uma transição $\\;\\mathsf{T}\\;$, o transformador de predicados $\\;\\mathsf{wp_T}\\;$, designado por **weakest pre-condition** mapeia um predicado genérico $\\,\\mathsf{Q}\\,$ no  predicado $\\;\\mathsf{wp_T}(\\mathsf{Q})\\;$ que verifica, para todo o predicado $\\;\\mathsf{P}$, a seguinte propriedade\n",
    "$$\\mathsf{P}\\,\\to\\,\\mathsf{wp_T}(\\mathsf{Q})\\quad \\mbox{ sse } \\quad\\mathsf{P}\\,\\land\\,\\mathsf{T}\\,\\to\\,\\mathsf{Q}'\\quad$$ \n",
    "\n",
    "O transformador de predicados $\\;\\mathsf{sp_T}$ associado a uma transição $\\;\\mathsf{T}\\;$, designado por **strongest post-condition** mapeia um predicado genérico $\\,\\mathsf{P}\\,$ no  predicado $\\;\\mathsf{sp_T}(\\mathsf{P})\\;$ que verifica, para todo o predicado $\\;\\mathsf{Q}$,\n",
    "$$\\mathsf{sp_T}(\\mathsf{P})\\,\\to\\,\\mathsf{Q}\\quad \\mbox{ sse } \\quad\\mathsf{P}\\,\\land\\,\\mathsf{T}\\,\\to\\,\\mathsf{Q}'\\quad$$ "
   ]
  },
  {
   "cell_type": "code",
   "execution_count": null,
   "id": "afc865e6",
   "metadata": {},
   "outputs": [],
   "source": []
  },
  {
   "cell_type": "markdown",
   "id": "e0696d6f",
   "metadata": {},
   "source": [
    "Relembramos estes tranformadores para os diversos tipos de transições, conforme apresentados nas aulas teóricas.\n",
    "\n",
    "- Atribuição:  $ \\quad\\mathsf{T(X,X')}\\;\\equiv\\; (\\mathsf{X}' = \\mathit{exp}(\\mathsf{X}))$\n",
    "   - $\\mathsf{wp_T(Q)\\;\\equiv\\;Q\\{\\mathsf{X}/\\mathit{exp}(\\mathsf{X})\\} }$\n",
    "   - $\\mathsf{sp_T(P)\\;\\equiv\\; P\\{\\mathsf{X}/\\mathsf{Z}\\}\\,\\land\\,(\\mathsf{X}=\\mathit{exp}(\\mathsf{Z})) }\\quad$ sendo $\\;\\mathsf{Z}\\;$ uma variável fresca\n",
    "   \n",
    "   \n",
    "- Guarda: $\\quad\\mathsf{T(X,X')\\;\\equiv \\;G(X)\\,\\land\\, S(X,X')}\\,$\n",
    "   - $\\mathsf{wp_T(Q)\\;\\equiv\\; G \\to \\,wp_S(Q)}$\n",
    "   - $\\mathsf{sp_T(P)\\;\\equiv\\;sp_S(G\\land P)}$\n",
    "   \n",
    "   \n",
    "- Escolha: $\\quad \\mathsf{T(X,X') \\;\\equiv\\; \\mathsf{T}_0(X,X') \\;\\lor\\;\\mathsf{T}_1(X,X')}$\n",
    "   - $\\mathsf{wp_{\\mathsf{T}}(Q)\\;\\equiv\\; \\mathsf{wp}_{\\mathsf{T}_0}(Q)\\,\\land\\,\\mathsf{wp}_{\\mathsf{T}_1}(Q)}$\n",
    "   - $\\mathsf{sp_{\\mathsf{T}}(P)\\;\\equiv\\; \\mathsf{sp}_{\\mathsf{T}_0}(P)\\,\\lor\\,\\mathsf{sp}_{\\mathsf{T}_1}(P)}$\n",
    "   \n",
    "   \n",
    "- Composição: $\\quad\\mathsf{T(X,X')\\;\\equiv\\;\\exists\\,Y\\,\\centerdot\\,\\mathsf{T}_0(X,Y)\\land\\mathsf{T}_1(Y,X')}$\n",
    "   - $\\mathsf{wp_\\mathsf{T}(Q)\\;\\equiv\\; \\mathsf{wp}_{\\mathsf{T}_1}(\\mathsf{sp}_{\\mathsf{T}_0}(Q))}$\n",
    "   - $\\mathsf{sp_\\mathsf{T}(P)\\;\\equiv\\; \\mathsf{sp}_{\\mathsf{T}_0}(\\mathsf{sp}_{\\mathsf{T}_1}(P))}$\n",
    "\n",
    "\n",
    "- Atribuição não-determinística: $ \\quad\\mathsf{T(X,X')\\;\\equiv\\; (X' = havoc(X))\\;\\equiv\\; \\bigvee\\,a\\,\\centerdot\\,(X'=a) }$ \n",
    "   - $\\,\\mathsf{wp_T(Q)\\,\\equiv\\,\\bigwedge\\,a\\,\\centerdot\\,Q\\{X/a\\} \\,\\equiv\\,\\forall\\,a\\,\\centerdot\\,Q\\{X/a\\}}$\n",
    "   - $\\mathsf{sp_T(P)\\,\\equiv\\,\\bigvee\\,a\\,\\centerdot\\,(X=a) \\,\\equiv\\,\\exists\\,a\\,\\centerdot\\,(X=a)}$\n"
   ]
  },
  {
   "cell_type": "markdown",
   "id": "b09495bd",
   "metadata": {},
   "source": [
    "Os dois operadores $\\;\\mathsf{wp}\\,,\\,\\mathsf{sp}\\,$  podem ser aplicados múltiplas vezes.  $\\;\\mathsf{sp}^n(\\mathsf{I})\\;$ é a pós-condição mais forte  após a aplicação $\\,n\\,$ vezes da transição $\\,\\mathsf{T}\\,$ a partir de um estado inicial $\\,s\\in\\mathsf{I}\\,$. Formalmente tem-se\n",
    "$\\:\\mathsf{sp}^0(\\mathsf{I}) \\;\\equiv\\;\\mathsf{I}\\:$ e $\\:\\mathsf{sp}^{n}(\\mathsf{I})\\;\\equiv\\;\\mathsf{sp}(\\mathsf{sp}^{n-1}(\\mathsf{I}))\\;$ para $n>0$.\n",
    "De igual modo,  $\\mathsf{wp}^m(E)\\;$ é a pré-condição mais fraca que assegura um estado de erro $\\,e\\in\\mathsf{E}\\;$ após $\\,m\\,$ aplicações  da transição $\\;\\mathsf{T}$. Formalmente tem-se\n",
    "$\\mathsf{wp}^0(\\mathsf{E}) \\;\\equiv\\;\\mathsf{E}\\:$ e $\\:\\mathsf{wp}^{m}(\\mathsf{E})\\;\\equiv\\;\\mathsf{wp}(\\mathsf{wp}^{m-1}(\\mathsf{E}))\\:$ para $m>0$."
   ]
  },
  {
   "cell_type": "code",
   "execution_count": null,
   "id": "232775c9",
   "metadata": {},
   "outputs": [],
   "source": []
  },
  {
   "cell_type": "code",
   "execution_count": null,
   "id": "8d49e680",
   "metadata": {},
   "outputs": [],
   "source": []
  },
  {
   "cell_type": "markdown",
   "id": "4b91d22c",
   "metadata": {},
   "source": [
    "### Exercício 1\n",
    "\n",
    "Considere o seguinte programa anotado com uma pré-condição e desenhe um  CFA (“control flow automaton”) que o modele seguindo as directivas apresentadas nas aulas teóricas.\n",
    "```Python\n",
    "{ x >= 3 && x < 7} \n",
    "while (x>0):\n",
    "    if x == 2: \n",
    "        raise Error\n",
    "    x = x-2\n",
    "stop\n",
    "```"
   ]
  },
  {
   "cell_type": "markdown",
   "id": "7be7a5fb",
   "metadata": {},
   "source": [
    "Podemos associar um predicado a cada um dos locais do sistema de acordo com os seguintes princípios.\n",
    "\n",
    "- Ao local $\\;\\mathsf{system}\\,$ associamos a condição de segurança ....\n",
    "- Aos restantes locais com excepção de $\\;\\mathsf{stop}\\;$ e $\\;\\mathsf{error}\\;$ associamos a pré-condição mais fraca.\n",
    "- Aos locais $\\;\\mathsf{stop}\\;$ e $\\;\\mathsf{error}\\;$ associamos predicados constantes que vão depender do tipo de problema que vamos tentar modelar. "
   ]
  },
  {
   "cell_type": "code",
   "execution_count": null,
   "id": "69a08442",
   "metadata": {},
   "outputs": [],
   "source": []
  },
  {
   "cell_type": "markdown",
   "id": "114626ff",
   "metadata": {},
   "source": [
    "Se for possível encontrar uma solução para este sistema de equações então pode-se resolver dois tipos problemas:\n",
    "\n",
    "- Para determinar se existe algum estado acessível que seja um estado inseguro faz-se $\\;\\mathsf{error}\\,\\equiv\\,\\mathsf{True}\\,$ e  $\\;\\mathsf{stop}\\,\\equiv\\,\\mathsf{False}\\,$ e verifica-se se $\\;\\mathsf{system}\\;$ é satisfazível.\n",
    "- Para determinar se existe algum estado acessível que conduza a uma paragem no estado $\\;\\mathsf{stop}\\;$,  faz-se   $\\;\\mathsf{stop}\\,\\equiv\\,\\mathsf{True}\\,$ e $\\;\\mathsf{error}\\,\\equiv\\,\\mathsf{False}\\,$ e verifica-se se $\\,\\mathsf{system}\\,$ é satisfazível."
   ]
  },
  {
   "cell_type": "code",
   "execution_count": 34,
   "id": "7de6efcb",
   "metadata": {},
   "outputs": [],
   "source": [
    "from pysmt.shortcuts import *\n",
    "from pysmt.typing import INT\n",
    "\n",
    "\n",
    "\n",
    "def test_safe(n,val):\n",
    "    with Solver(name=\"z3\") as s:\n",
    "        \n",
    "        x = Symbol(\"x\",INT)\n",
    " #       a = Symbol(\"a\",INT)\n",
    "        \n",
    "\n",
    "        \n",
    "        # para verificar se existe um estado acessível que é inseguro\n",
    "        stop = FALSE()\n",
    "        error = TRUE()\n",
    "        \n",
    "        do = FALSE()\n",
    "        sys   = And(Equals(x,Int(val)), x>=Int(3) , x<Int(7))\n",
    "        \n",
    "        for i in range(1,n+1):\n",
    "            print(\"do \",do)                  ## debug\n",
    "            \n",
    "            if s.is_sat(And(sys,do)):  # testa a condição de \"unsafe\"\n",
    "                print(\"unsafe\",i)\n",
    "                break\n",
    "            atrib = substitute(do,{x : (x-Int(2))})\n",
    " #           print(\"atrib \",atrib)        ## debug\n",
    "            \n",
    "            new_do  = And(Implies(x<=Int(0),stop), Implies(Equals(x,Int(2)),error), \n",
    "                     Implies(And(x>Int(0),NotEquals(x,Int(2))),atrib))\n",
    "            \n",
    "            if s.is_unsat(And(new_do,Not(do))):  ## testar se \"do\" é invariante\n",
    "                print(\"safe\",i)\n",
    "                break\n",
    "            do = Or(new_do,do).simplify()\n",
    " \n",
    "        print(\"unknown\",i) \n",
    " "
   ]
  },
  {
   "cell_type": "code",
   "execution_count": 35,
   "id": "1b5efb82",
   "metadata": {},
   "outputs": [
    {
     "name": "stdout",
     "output_type": "stream",
     "text": [
      "do  False\n",
      "do  ((! ((0 < x) & (! (... = ...)))) & (! (x <= 0)))\n",
      "do  (((! ((... < ...) & (! ...))) & (! (x <= 0))) | ((! (x <= 0)) & (((... < ...) & (! ...)) -> ((! ...) & (! ...)))))\n",
      "do  (((! ((... < ...) & (! ...))) & (! (x <= 0))) | ((! (x <= 0)) & (((... < ...) & (! ...)) -> ((! ...) & (! ...)))) | ((! (x <= 0)) & (((... < ...) & (! ...)) -> ((... & ...) | (... & ...)))))\n",
      "do  (((! ((... < ...) & (! ...))) & (! (x <= 0))) | ((! (x <= 0)) & (((... < ...) & (! ...)) -> ((! ...) & (! ...)))) | ((! (x <= 0)) & (((... < ...) & (! ...)) -> ((... & ...) | (... & ...)))) | ((! (x <= 0)) & (((... < ...) & (! ...)) -> ((... & ...) | (... & ...) | (... & ...)))))\n",
      "unknown 5\n"
     ]
    }
   ],
   "source": [
    "   \n",
    "    \n",
    "test_safe(5,5)\n"
   ]
  },
  {
   "cell_type": "code",
   "execution_count": 36,
   "id": "bb41ce37",
   "metadata": {},
   "outputs": [
    {
     "name": "stdout",
     "output_type": "stream",
     "text": [
      "do  False\n",
      "do  ((! ((0 < x) & (! (... = ...)))) & (! (x <= 0)))\n",
      "do  (((! ((... < ...) & (! ...))) & (! (x <= 0))) | ((! (x <= 0)) & (((... < ...) & (! ...)) -> ((! ...) & (! ...)))))\n",
      "unsafe 3\n",
      "unknown 3\n"
     ]
    }
   ],
   "source": [
    "test_safe(5,4)"
   ]
  },
  {
   "cell_type": "code",
   "execution_count": null,
   "id": "ed7645c9",
   "metadata": {},
   "outputs": [],
   "source": []
  },
  {
   "cell_type": "code",
   "execution_count": null,
   "id": "0eeb04f9",
   "metadata": {},
   "outputs": [],
   "source": []
  }
 ],
 "metadata": {
  "kernelspec": {
   "display_name": "Python 3 (ipykernel)",
   "language": "python",
   "name": "python3"
  },
  "language_info": {
   "codemirror_mode": {
    "name": "ipython",
    "version": 3
   },
   "file_extension": ".py",
   "mimetype": "text/x-python",
   "name": "python",
   "nbconvert_exporter": "python",
   "pygments_lexer": "ipython3",
   "version": "3.10.6"
  }
 },
 "nbformat": 4,
 "nbformat_minor": 5
}
