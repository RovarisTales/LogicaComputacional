{
 "cells": [
  {
   "cell_type": "markdown",
   "metadata": {
    "id": "54JdmrDISUMj"
   },
   "source": [
    "# Sistemas híbridos\n",
    "\n",
    "\n",
    "*Autómatos híbridos* são modelos de sistemas ciber-físicos. Essencialmente um autómato híbrido é uma *máquina de estados finita*, onde cada estado (designado por *modo de funcionamento*) descreve o comportamento contínuo de um sistema dinâmico modelado por *relações diferenciais ordinárias* (nas variáveis contínuas e nas suas derivadas em relação ao tempo) codificadas num predicado designado por *flow*. Estas variáveis contínuas evoluem num modo de funcionamento enquanto o seu *flow* for válido.\n",
    "Cada transição discreta entre estados (um *switch* entre modos de funcionamento) é representada por um arco anotado com um evento e um predicado (*jump*). O *switch* realiza-se quando o seu *jump* é válido. Ao ocorrer uma transição as variáveis internas dos modos conservam o seu valor, a não ser que lhes seja explicitamente atribuído um novo valor.\n",
    "\n",
    "*Sistemas híbridos* são modelos constituídos por vários autómatos híbridos que, em princípio, evoluem de forma “quase-independente”; a única dependência manifesta-se no sincronismo de duas ou mais transições relativas ao mesmo evento em autómatos distintos.\n",
    "\n",
    "Um sistema híbrido pode ser descrito por um FOTS (sobre o qual podemos verificar propriedades lógicas com as metodologias que já estudamos). Nesse processo o FOTS vai *discretizar* as relações diferenciais ordinárias e vai mapea-las num espaço de estados também discreto.\n",
    "\n",
    "\n"
   ]
  },
  {
   "cell_type": "markdown",
   "metadata": {
    "id": "yDTBP_2ASUMo"
   },
   "source": [
    "## Verificação de autómatos híbridos com FOTS\n",
    "\n",
    "Podemos verificar propriedades de segurança de autómatos híbridos codificando a semântica dos mesmos num FOTS e usando depois os procedimentos de verificação implementados nas aulas anteriores.\n",
    "\n",
    "A ideia básica é incluir nos estados do FOTS para além das variáveis contínuas do autómato híbrido duas variáveis especiais:\n",
    "- uma variável contínua que denota o tempo ($t$ no caso do termostato)\n",
    "- uma variável discreta que denota o *modo de funcionamento* ($m$ no caso do termostato)\n",
    "\n",
    "O estado inicial do FOTS é derivado facilmente a partir da definição do autómato híbrido. Por exemplo, no caso do termostato temos\n",
    "\n",
    "$$\n",
    "t = 0 \\wedge m = \\mathsf{INIT} \\wedge x = 20\n",
    "$$\n",
    "\n",
    "As transições do FOTS incluem os dois tipos de transição que podem ocorrer num autómato híbrido:\n",
    "- Transições *timed* descrevem os *flows* associados a cada modo (a evolução das variáveis contínuas)\n",
    "- Transições *untimed* descrevem os *switches* entre modos\n",
    "\n",
    "As transições *untimed* podem ser obtidas através de uma codificação muito directa das guardas e efeitos especificadas nos *switches*, com a restrição que o tempo não evolui nestas transições, nem as variáveis contínuas se modificam a não ser que lhes seja explicitamente atribuído um novo valor no efeito do *switch*. Por exemplo, no caso do termostato temos 3 transições deste tipo:\n",
    "\n",
    "$$\n",
    "\\begin{array}{c}\n",
    "m = \\mathsf{INIT} \\wedge m' = \\mathsf{OFF} \\wedge x' = x \\wedge t' = t \\\\\n",
    "\\vee\\\\\n",
    "m = \\mathsf{OFF} \\wedge m' = \\mathsf{ON} \\wedge x < 19 \\wedge x' = x \\wedge t' = t \\\\\n",
    "\\vee\\\\\n",
    "m = \\mathsf{ON} \\wedge m' = \\mathsf{OFF} \\wedge x \\ge 21 \\wedge x' = x \\wedge t' = t \n",
    "\\end{array}\n",
    "$$\n",
    "\n",
    "Nas transições *timed* o modo permanece constante, mas o resto das variáveis evoluem de acordo com as restrições indicadas. Os *flows* são especificados indicando qual a derivada em relação ao tempo de cada variável contínua. Para codificar os *flows* no FOTS é necessário fazer a sua *discretização*, ou seja, indicar qual a variação ocorrida num intervalo de tempo $t'-t$. Se a derivada for uma constante a discretização é trivial. Por exemplo, se $\\dot{x} = k$ temos que $x' - x = k(t'-t)$. \n",
    "Se a relação de *flow* é amortecida, como por exemplo no modo $\\mathsf{OFF}$ do termostato, uma pseudo-solução seria aproximar a derivada $\\dot{x}$ por $\\frac{x'-x}{t'-t}$ obtendo-se\n",
    "$5(x' - x) + x*(t'-t) = 0$, mas nesta equação ocorre um produto não-escalar $\\,x*(t'-t)\\,$ e, por isso,  ela não vai ser decidível.\n",
    "Uma sugestão para discretizar consiste em usar um valor constante para substituir a variável $x$, inferido a partir do invariante de modo. Neste caso a equação de flow transforma-se numa inequação.\n",
    "\n",
    "\n",
    "Por exemplo, no caso do *flow* associado ao modo $\\mathsf{OFF}$, $5\\dot{x}+x=0$,  como sabemos que $x \\ge 18$ podemos substituir $x$ por 18 na equação, dando origem à relação $x' - x \\le -\\frac{18}{5}(t'-t)$. \n",
    "No caso do *flow* associado ao modo $\\mathsf{ON}$, $5\\dot{x}+x=25$,  como $x \\le 22$ podemos aproximar $x$ por 22, dando origem à relação $x' - x \\ge \\frac{3}{5}(t'-t)$. \n",
    "\n",
    "Finalmente, é necessário também impor os invariantes dos modos no FOTS. Isso pode ser feito acrescentando a cada transição uma restrição que obriga o invariante a ser cumprido. Temos também que assugurar que o tempo avança.\n",
    "\n",
    "\n",
    "Com esta técnica, no caso do termostato teríamos as seguintes duas transições *timed*:\n",
    "\n",
    "$$\n",
    "\\begin{array}{c}\n",
    "m = \\mathsf{OFF} \\wedge m' = m \\wedge x' - x \\le -\\frac{18}{5}(t'-t) \\wedge x \\ge 18 \\wedge x' \\ge 18 \\wedge t'>t \\\\\n",
    "\\vee\\\\\n",
    "m = \\mathsf{ON} \\wedge m' = m \\wedge x' - x \\ge \\frac{3}{5}(t'-t) \\wedge x \\le 22 \\wedge x' \\le 22 \\wedge t' > t\n",
    "\\end{array}\n",
    "$$\n",
    "\n",
    "Para reduzir os erros na verificação pode-se reduzir a granularidade da discretização subdividindo cada modo em vários sub-modos que cubram toda a gama dos valores permitidos. Por exemplo neste caso poderíamos dividir cada um dos modos em 4 sub-modos, cada um com uma variação de temperatura máxima de 1 grau, cobrindo assim toda a gama de temperaturas possíveis (entre 18 e 22 graus)."
   ]
  },
  {
   "cell_type": "markdown",
   "metadata": {
    "id": "RjXfc2BA3RQU"
   },
   "source": [
    "Começamos por importar as bibliotecas do pySMT e, como o pySMT não permite ainda definir um tipo enumerado para implementar os modos do termostato, vamos usar três valores inteiros par os representar."
   ]
  },
  {
   "cell_type": "code",
   "execution_count": 3,
   "metadata": {
    "colab": {
     "base_uri": "https://localhost:8080/"
    },
    "executionInfo": {
     "elapsed": 3366,
     "status": "ok",
     "timestamp": 1637606453071,
     "user": {
      "displayName": "Maria João Frade",
      "photoUrl": "https://lh3.googleusercontent.com/a-/AOh14Ggsl7DgkrbKKq_x5wt54lWf1B_Ow_4tBk8o4LfVfw=s64",
      "userId": "03944960066051965480"
     },
     "user_tz": 0
    },
    "id": "RLqZGQq03U72",
    "outputId": "298f70f0-64cf-4f97-e216-d0fb2c4fffc4"
   },
   "outputs": [],
   "source": [
    "from pysmt.shortcuts import *\n",
    "from pysmt.typing import *\n",
    "\n",
    "INIT = Int(-1)\n",
    "OFF = Int(0)\n",
    "ON = Int(1)"
   ]
  },
  {
   "cell_type": "markdown",
   "metadata": {
    "id": "wVqSU6sNSUMs"
   },
   "source": [
    "Podemos agora declarar as variáveis do FOTS correspondente ao termostato da seguinte forma."
   ]
  },
  {
   "cell_type": "code",
   "execution_count": 4,
   "metadata": {
    "executionInfo": {
     "elapsed": 511,
     "status": "ok",
     "timestamp": 1637606457065,
     "user": {
      "displayName": "Maria João Frade",
      "photoUrl": "https://lh3.googleusercontent.com/a-/AOh14Ggsl7DgkrbKKq_x5wt54lWf1B_Ow_4tBk8o4LfVfw=s64",
      "userId": "03944960066051965480"
     },
     "user_tz": 0
    },
    "id": "v650hJAOSUMt"
   },
   "outputs": [],
   "source": [
    "def declare(i):\n",
    "    s = {}\n",
    "    s['t'] = Symbol('t'+str(i),REAL)\n",
    "    s['m'] = Symbol('m'+str(i),INT)\n",
    "    s['x'] = Symbol('x'+str(i),REAL)\n",
    "    return s"
   ]
  },
  {
   "cell_type": "markdown",
   "metadata": {
    "id": "PEsEy58rSUMt"
   },
   "source": [
    "### Exercício 1\n",
    "\n",
    "Codifique os predicados `init` e `trans` que caracterizam, respectivamente, os estados iniciais e as transições do FOTS correspondente ao termostato."
   ]
  },
  {
   "cell_type": "code",
   "execution_count": 5,
   "metadata": {
    "executionInfo": {
     "elapsed": 313,
     "status": "ok",
     "timestamp": 1637606459304,
     "user": {
      "displayName": "Maria João Frade",
      "photoUrl": "https://lh3.googleusercontent.com/a-/AOh14Ggsl7DgkrbKKq_x5wt54lWf1B_Ow_4tBk8o4LfVfw=s64",
      "userId": "03944960066051965480"
     },
     "user_tz": 0
    },
    "id": "jn7-SHt-SUMu"
   },
   "outputs": [
    {
     "name": "stdout",
     "output_type": "stream",
     "text": [
      "((m0 = -1) & (x0 = 20.0) & (t0 = 0.0))\n"
     ]
    }
   ],
   "source": [
    "def init(s):\n",
    "        # completar\n",
    "        return And(Equals(s['m'],INIT),Equals(s['x'],Real(20)),Equals(s['t'],Real(0)))\n",
    "s = declare(0)\n",
    "print(init(s))\n",
    "def trans(s,p):\n",
    "    # completar\n",
    "    # untimed\n",
    "    initoff = And(Equals(s['m'],INIT), Equals(p['m'], OFF), Equals(p['x'],s['x']), Equals(p['t'],s['t']))\n",
    "    offon = And(Equals(s['m'],OFF), Equals(p['m'], ON), s['x'] < 19, Equals(p['x'],s['x']), Equals(p['t'],s['t']))\n",
    "    onoff = And(Equals(s['m'],ON), Equals(p['m'], OFF), s['x'] >= 21, Equals(p['x'],s['x']), Equals(p['t'],s['t']))\n",
    "    \n",
    "    #timed\n",
    "    offoff = And(Equals(s['m'],OFF), Equals(p['m'], OFF),\n",
    "                p['t'] > s['t'], s['x'] >= Real(18), p['x'] >= Real(18),\n",
    "                p['x'] - s['x'] <= -Div(Real(18),Real(5)) * (p['t'] - s['t']))\n",
    "    onon = And(Equals(s['m'],ON), Equals(p['m'], ON),\n",
    "                p['t'] > s['t'], s['x'] <= Real(22), p['x'] <= Real(22),\n",
    "                p['x'] - s['x'] >= Div(Real(3),Real(5)) * (p['t'] - s['t']))\n",
    "    \n",
    "    return Or([initoff,offon,onoff,offoff,onon])"
   ]
  },
  {
   "cell_type": "markdown",
   "metadata": {
    "id": "aJHgeLDaSUMu"
   },
   "source": [
    "### Exercício 2\n",
    "\n",
    "Adapte a função `gera_traco` implementada nas aulas anteriores por forma a imprimir todas as variáveis contínuas como números de virgula flutuante. \n",
    "Para obter o valor de uma variável num tipo Python use o método `get_py_value`. Verá que os valores voão aprecer como frações. Converta estes valores para um float do Python usando a função `float`."
   ]
  },
  {
   "cell_type": "code",
   "execution_count": 6,
   "metadata": {},
   "outputs": [
    {
     "name": "stdout",
     "output_type": "stream",
     "text": [
      "Passo  0\n",
      "t = 0.0\n",
      "m = -1\n",
      "x = 20.0\n",
      "------------------------\n",
      "Passo  1\n",
      "t = 0.0\n",
      "m = 0\n",
      "x = 20.0\n",
      "------------------------\n",
      "Passo  2\n",
      "t = 5/9\n",
      "m = 0\n",
      "x = 18.0\n",
      "------------------------\n",
      "Passo  3\n",
      "t = 5/9\n",
      "m = 1\n",
      "x = 18.0\n",
      "------------------------\n",
      "Passo  4\n",
      "t = 10/9\n",
      "m = 1\n",
      "x = 55/3\n",
      "------------------------\n"
     ]
    }
   ],
   "source": [
    "def gera_traco(declare,init,trans,k):\n",
    "    with Solver(name=\"z3\") as s:\n",
    "        \n",
    "        # completar\n",
    "        trace = [declare(i) for i in range(k)]\n",
    "        \n",
    "        #semantics\n",
    "        s.add_assertion(init(trace[0]))\n",
    "        for i in range(k-1):\n",
    "            s.add_assertion(trans(trace[i], trace[i+1]))\n",
    "            \n",
    "        if s.solve():\n",
    "            '''\n",
    "            m = s.get_model()\n",
    "            for n, v in m:\n",
    "                print(f'{n} = {v}')\n",
    "            '''\n",
    "            for i in range(k):\n",
    "                print(\"Passo \",i)\n",
    "                for v in trace[i]:\n",
    "                    print(v, \"=\", s.get_value(trace[i][v]))\n",
    "                print(\"------------------------\")\n",
    "    \n",
    "                        \n",
    "####\n",
    "gera_traco(declare,init,trans,5)"
   ]
  },
  {
   "cell_type": "markdown",
   "metadata": {
    "id": "gndOh_ijSUMw"
   },
   "source": [
    "### Exercício 3\n",
    "\n",
    "Adapte a função `bmc_always` implementada nas aulas anterior para, tal como no exercício anterior, quando ocorrer um contra-exemplo imprima também todas as variáveis continuas como números de virgula flutuante. "
   ]
  },
  {
   "cell_type": "code",
   "execution_count": 5,
   "metadata": {},
   "outputs": [
    {
     "name": "stdout",
     "output_type": "stream",
     "text": [
      "O invariante mantém-se nos primeiros 20 passos\n"
     ]
    }
   ],
   "source": [
    "def bmc_always(declare,init,trans,prop,K):\n",
    "    for k in range(1,K+1):\n",
    "        with Solver(name=\"z3\") as s:\n",
    "            \n",
    "            # completar\n",
    "            trace = [declare(i) for i in range(k)]\n",
    "        \n",
    "            # adicionar o estado inicial \n",
    "            s.add_assertion(init(trace[0]))\n",
    "\n",
    "            for i in range(k-1):\n",
    "                s.add_assertion(trans(trace[i], trace[i+1]))\n",
    "                \n",
    "            # adicionar a negaçao do invariante\n",
    "            s.add_assertion(Not(prop(trace[k-1])))\n",
    "\n",
    "            if s.solve():\n",
    "                '''\n",
    "                m = s.get_model()\n",
    "                for n, v in m:\n",
    "                    print(f'{n} = {v}')\n",
    "                '''\n",
    "                for i in range(k):\n",
    "                    print(\"Passo \",i)\n",
    "                    for v in trace[i]:\n",
    "                        print(v, \"=\", s.get_value(trace[i][v]))\n",
    "                    print(\"------------------------\")\n",
    "                print(\"A propriedade nao e invariante\")\n",
    "                return\n",
    "\n",
    "    print(f'O invariante mantém-se nos primeiros {k} passos')\n",
    "\n",
    "\n",
    "            \n",
    "    \n",
    "######\n",
    "\n",
    "def nonnegative(s):\n",
    "    return (s['x'] >= Real(0))\n",
    "\n",
    "bmc_always(declare,init,trans,nonnegative,20)"
   ]
  },
  {
   "cell_type": "markdown",
   "metadata": {
    "id": "VJ_lZva0SUMx"
   },
   "source": [
    "### Exercício 4\n",
    "\n",
    "A propriedade \"o termostato irá inevitavelmente estar ligado\" é uma propriedade de *liveness* exprimível como $F\\ (m = \\mathsf{ON})$. No entanto a propriedade \"passado 1 segundo o termostato irá inevitavelmente estar ligado\" já é uma propriedade de *safety*. Explique porquê e verifique também se esta propriedade se verifica no termostato."
   ]
  },
  {
   "cell_type": "code",
   "execution_count": 6,
   "metadata": {
    "colab": {
     "base_uri": "https://localhost:8080/"
    },
    "executionInfo": {
     "elapsed": 334,
     "status": "ok",
     "timestamp": 1637606526811,
     "user": {
      "displayName": "Maria João Frade",
      "photoUrl": "https://lh3.googleusercontent.com/a-/AOh14Ggsl7DgkrbKKq_x5wt54lWf1B_Ow_4tBk8o4LfVfw=s64",
      "userId": "03944960066051965480"
     },
     "user_tz": 0
    },
    "id": "igZq9v0hSUMx",
    "outputId": "2cfe3af2-6183-496b-dd08-88ef582215e2"
   },
   "outputs": [
    {
     "name": "stdout",
     "output_type": "stream",
     "text": [
      "Passo  0\n",
      "t = 0.0\n",
      "m = -1\n",
      "x = 20.0\n",
      "------------------------\n",
      "Passo  1\n",
      "t = 0.0\n",
      "m = 0\n",
      "x = 20.0\n",
      "------------------------\n",
      "Passo  2\n",
      "t = 1/2\n",
      "m = 0\n",
      "x = 18.0\n",
      "------------------------\n",
      "Passo  3\n",
      "t = 1/2\n",
      "m = 1\n",
      "x = 18.0\n",
      "------------------------\n",
      "Passo  4\n",
      "t = 1.0\n",
      "m = 1\n",
      "x = 21.0\n",
      "------------------------\n",
      "Passo  5\n",
      "t = 1.0\n",
      "m = 0\n",
      "x = 21.0\n",
      "------------------------\n",
      "A propriedade nao e invariante\n"
     ]
    }
   ],
   "source": [
    "# completar\n",
    "\n",
    "# Safety , pq pode ser refutada por uma sequecnai finita de esados\n",
    "\n",
    "def oneON(s):\n",
    "    return Implies(Equals(s['t'],Real(1)), Equals(s['m'],ON))\n",
    "\n",
    "bmc_always(declare,init,trans,oneON,20)"
   ]
  },
  {
   "cell_type": "markdown",
   "metadata": {
    "id": "bw3lvq2qSUMy"
   },
   "source": [
    "### Exercício 5\n",
    "\n",
    "Como pode verificar o contra-exemplo obtido não é realista e deve-se à aproximação feita na discretização, que permite mais comportamentos que os realmente possíveis no sistema real. Isto faz com que seja possível termos falsos contra-exemplos para algumas propriedades. Para reduzir estes falsos contra-exemplos podemos tentar melhorar essa discretização, por exemplo, tentando inferir invariantes mais fortes para as variáveis contínuas em cada um dos modos. No caso do termostato sabemos que em qualquer dos modos de facto temos que $18 \\le x \\le 22$. Usando esta informação refine a definição do predicado `trans` e volte a verificar a propriedade. Se o contra-exemplo continuar a ser claramente inválido podemos refinar mais cada um dos modos, desdobrando-os para gamas da variável $x$ mais apertadas, por exemplo, dividindo cada um deles em 2 sub-modos onde $18 \\le x \\le 20$ e $20 \\le x \\le 22$."
   ]
  },
  {
   "cell_type": "code",
   "execution_count": 7,
   "metadata": {},
   "outputs": [],
   "source": [
    "# completar\n",
    "\n",
    "def trans(s,p): # falta coisas\n",
    "    # completar\n",
    "    # untimed\n",
    "    initoff = And(Equals(s['m'],INIT), Equals(p['m'], OFF), Equals(p['x'],s['x']), Equals(p['t'],s['t']))\n",
    "    offon = And(Equals(s['m'],OFF), Equals(p['m'], ON), s['x'] < 19, Equals(p['x'],s['x']), Equals(p['t'],s['t']))\n",
    "    onoff = And(Equals(s['m'],ON), Equals(p['m'], OFF), s['x'] >= 21, Equals(p['x'],s['x']), Equals(p['t'],s['t']))\n",
    "    \n",
    "    #timed\n",
    "    offoff = And(Equals(s['m'],OFF), Equals(p['m'], OFF),\n",
    "                p['t'] > s['t'], s['x'] >= Real(18), p['x'] >= Real(18),\n",
    "                p['x'] - s['x'] <= -Div(Real(18),Real(5)) * (p['t'] - s['t']),\n",
    "                p['x'] - s['x'] >= -Div(Real(22),Real(5)) * (p['t'] - s['t']))\n",
    "    onon = And(Equals(s['m'],ON), Equals(p['m'], ON),\n",
    "                p['t'] > s['t'], s['x'] <= Real(22), p['x'] <= Real(22),\n",
    "                p['x'] - s['x'] >= Div(Real(3),Real(5)) * (p['t'] - s['t']),\n",
    "                p['x'] - s['x'] <= Div(Real(7),Real(5)) * (p['t'] - s['t']))\n",
    "    \n",
    "    return Or([initoff,offon,onoff,offoff,onon])"
   ]
  },
  {
   "cell_type": "markdown",
   "metadata": {
    "id": "da603jpuSUMz"
   },
   "source": [
    "### Exercício 6\n",
    "\n",
    "Considere o seguinte autómato híbrido que modela um contador que no modo $\\mathsf{ON}$ evolui síncronamente com o tempo. Neste caso vamos assumir que a variável de tempo é designada $\\tau$ e variável de modo por $n$.\n",
    "\n",
    "\n",
    "![contador.png](data:image/png;base64,iVBORw0KGgoAAAANSUhEUgAAAlYAAACmCAIAAACXylZ4AAABNWlDQ1BJQ0MgUHJvZmlsZQAAeJxjYGAyYYCC3LySoiB3J4WIyCgF9nsMbAwsDIIM2gwWicnFBQyYgBHB/HYNwrusi0UdIcCVklqcDKT/AHFlUnZBCdDoCiBbpLwEzO4BsZMLikDsBUC2aBHQgUD2DpB4OoR9BsROgrAfgNhFIUHOQPYXINshHYmdhMSG2gsC8sUgj3u6OpsZWpqZ6RrpGiok5SQmZysUJyfmpKaQ4SsCABTGEBazGBAbMzAwLUGIIcKzJLWiBMRyKcovSMqv0FHwzEvWQ9Gfv4iBweIr0IwJCLGkmQwM21sZGCRuIcRUgGHH38LAsO18cmlRGdQZUkB8lPEMcxLrZI5s7m8CDqKB0iaKHzUnGElYT3JjDSyLfZtdUMXauWlWzZrM/XWXD740//8fAIFJXKnGwiSOAAAAkGVYSWZNTQAqAAAACAAGAQYAAwAAAAEAAgAAARIAAwAAAAEAAQAAARoABQAAAAEAAABWARsABQAAAAEAAABeASgAAwAAAAEAAgAAh2kABAAAAAEAAABmAAAAAAAAAEgAAAABAAAASAAAAAEAA6ABAAMAAAABAAEAAKACAAQAAAABAAACVqADAAQAAAABAAAApgAAAADvLuUeAAAnl0lEQVR4nO3dd1wT9/8H8E9CwgobwooDCEoUEEUoWgRRARVBEa2iuOqos63229Jq+6vfDkf7tVq/Fa1a9/pqK2WJShguBKWKVq1MQTGsALKSQMbd749rKUUMqMDdJe/nHz7gch6v5N7cm7v73B0Dx3EEAAAAaB8m2QEAAAAAckALBAAAoKWgBQIAANBS0AIBAABoKWiBAAAAtBS0QAAAAFoKWiAAHSmVqpLHIolERnYQAEigVfXPIjvAq/gt94/573w63N3l1MGt/pMWi2uf/Xv9itkRExFCx8+c2/Sfnz5YM3/ZwgjipZ1bo9//5NsOS7C0ML128TAJ0QG1SWUtm7f9lHjhilyuQAi5DuFv/vzdwc4DEUJEObWf+ciPX3346fbnJ74x0q0vMwPQU7qs/063tCSHfj20bIEEDMMQQhiOIYS27zoWNG6UhbkppsL+ngHHEEKmJkZhk8cihG7eul9VXTt8mEt/nq0Rx4Ck1IC6cBxfsfbrnNsPBIMd3vQZ/lRUlZKeFfn2x/Gnvu/fz5Yopwlj3zA0/LN4LC1MO51IVn4AXkd36r/TLS2t0bgFttfYJPnPf49s2fje8y8N6G/37ZdrEULvRX8jrK6dN2vKlIl+fZ0P0EH6lZs5tx84OfQ7ffhbXTYbIbR917H9R2J3/nhy29cfEPN8+uEyO1urDv+x04kA0Et36l/NlpamNKQFjvJ2j0vKmDktkOwggMbyCkoRQoHjfIjff4RQSPCY/Udi8wtL2+Y5eDzOiGOIEOI79Qud6K9mIgD00p3617wtrYYMh1n/wRImk/nF1r1KpYrsLICu6p41IITMTIzbppiZGiOEamrr26YcP33ux4M//3jw53MXrqqfCAC9dKf+NW9LqyF7gYOdB0bOmHjy5/MnziSTnQXQlb0tFyFUJqpsm/LkaSVCiGdv3TZl59ZoCwtThJCpiZH6iQDQS3fqX/O2tBqyF4gQenf5HFMTo/JKMdlBAF2N8BAghJJTrlVW1SCEMAw7fDIBITRimKBtHnfXQV4jhnqNGDqIP0D9RADopTv1jzRuS6s5LdDM1HjN8kiyUwAa8/QY4vemZ0Nj88wFH0Z//v3MBR9mXMkx0Nd7Z9EMsqMB0Ou6Wf8atqWlZQtkMDqfHhkxydmp/wtnZiCEEJP5gv8MAEI7tnw4c1pgs0SWeP7yw/wSt6HO/zv0DdfKvG2GTmvvRQUJAL10Wf+ETre0NMWAR+YC0IFKpXrytNLayoID148C7aNV9Q8tEAAAgJai5YFQAAAA4PVBCwQAAKCloAUCAADQUtACAQAAaCkNuTsMAECDqVSq5uZmiUQilUolEgnxBYZh+vr6BgYGBgYGhoaGBn/R09MjOy+gDWiBAADyyWSyx48fl5aWPv5LaWlpWVlZU1OTRCJRqVRGRkYcDsfQ0JDD4RBfsNlsiUQik8lkMplUKpX9hcFg2Nvb857j6OjI4/HIfqOAWuCiCABAX5NIJLm5ubdu3bp161ZeXl5paWljY+PAgQMdHBwG/sXBwcHR0ZHoebq6ut1fuFwuLysrEz2ntLRUIpG4u7u7ubkR/7q5uVlYWPTe2wTUBy0QANDrmpqabt++ffv2baLtlZaWDhs2bOTIkSNHjvTw8Ojfv7+NjU0fxKitrb137979+/eJf+/fv8/hcHx8fPz8/Pz8/Dw9PXV0dPogBqAOaIEAgF4hlUovX74sFAqFQuGjR488PDw8PT2Jtufq6kqRZvP06dNr165dvXr16tWrjx49Gj16NNEOR40aZWCg+fdGAdACAQA9BsOw27dvC4XClJSUmzdvent7BwUFTZo0afjw4RTpeWrU19e3tcMHDx6MGTNm6tSpYWFh9vb2ZEcDvQVaIADgdTU2NsbFxSUlJaWmptrZ2QUFBQUHBwcEBBgaGpId7RVJJJJz584lJCQkJyc7OjoSvdDT05PsXKCHQQsEALyi5ubm+Pj406dPZ2RkBAcHT506NTg42M7OjuxcPUmlUmVmZiYkJCQmJkokkrlz586fP9/d3Z3sXKBnQAsEALwcqVSamJh45swZoVA4duzY2bNnT5s2zdjYmOxcva6wsPDQoUPHjx+3sLCYP39+VFSUra0t2aHAa4EWCADoFgzDLl68ePjw4fPnz/v6+s6aNWv69OlmZmZk5+prOI5fvnz52LFjZ8+e9fHxmT9//ltvvQXX49MUtEAAQBeqqqoOHDiwb98+Lpe7YsWK6dOnw+V0CKGWlpb4+Pjjx49nZ2cvXbp01apV/ftryINktQfcIxQA0Dkcx9PS0t566y0XF5fS0tLY2NicnJwlS5ZA/yPo6+vPnj07MTExKyurpaXFw8MjIiIiIyOD7FzgJcBeIACgo5qamkOHDu3du5fD4axYsWLevHnacKrvNUkkkmPHjv3www8Ioffee2/RokVwdJT6YC8QAPC3kpKSNWvWuLi4/PHHHydOnLh79+7KlSuh/3UH8efCgwcPdu3adeHCBUdHx+3bt0ul0rYZbty4ERQU1NzcTGJI0AG0QAAAQgjdvXt37ty53t7eJiYm+fn5hw4d8vHxITsULY0bN+7XX389f/58dnb2gAEDvv7664aGBoTQRx99dOXKlbFjx8rlcrIzgj9BCwRA2126dGny5MkhISGenp4lJSWbN2+2srIiOxTteXh4nDlz5vr160VFRU5OTsuWLbt165ZcLn/48OGcOXPITgf+BOcCAdBecXFxW7Zsqa+vj46Onj9//ks9kAF0X0lJiaenZ319PfGtoaHh2rVrN23aRGoogBA8LxAA7SQUCtevX89gMDZs2BAeHs5gMMhOpMkyMzMVCkXbt1KpdMeOHQKBYP78+SSmAgj2AgHQNtnZ2evXry8vL//666/feustsuNoPrlcrqenx2B03Njq6+unpKT4+fmRFQwgaIEAaI979+5t2LDhzp07X3zxxcKFC6n/6AaNcfv27Z9//vnOnTsFBQVPnz5lMpl6enpyuVwmkxUUFAwaNIjsgNoLDoQCoPlwHI+KikpLS/v000/Pnj0L5/z6mKenZ/unTFRWVhYWFhYWFhYVFVlaWpIYDMBeICCTSCSKi4s7f/58RUVFeXm5WCxWqVRkh9IoOjo6XC7X1tZWKpUuX7589uzZPB6P7FDaCwq+txEFb29vb2trGxISEh4err7gu26BsM5628uuMw2A43hGRsYnn3xSVFQUFhYWERHB4/Hs7e3t7OxgXEbPwnGc+M0ViUSxsbGJiYnOzs5bt24dN24cfNR9Bgq+z7x0weMvgGFYWlqat7e3ubn5ggUL4uLicnJyRCIRhmEv+i/g1WAYJhKJcnJy4uLiFixYYG5u7u3tnZaWpqkfdUFBQVBQEJ/PT0hIUCqVZMfRLkqlMiEhgc/nBwYGFhQUkB3npd25lx+5+GNP/8hJEauOnEzAMCzpwpWw2e/t/un0lLfWDPed9V70Ny0trWTH/AcoeBJ1WfCdt0BYZySi+0ZKvZSUFC6XGxMTI5fLyc6iveRy+e7du7lcbkpKCtlZXkK1uM7TP9J99MwPP9s+PmyZwCs8NjHt+OlzAq9wgVd45Nsfe/jOEniFx5/LIDvp36DgqUBNwXfSAmGdUQFNN1LqJSYmWlhYXL16lewgAMdxPC0tDSGUmJhIdpDuOng8TuAVvvfQLziOlz4pF3iFz14UTbTAf336HY7jB47+KvAK37nnBNlJ/wQFTylEwSckJLSf2PEGaUlJSZGRkbGxsatWrWKz2b1/5BZ0js1mr1y58n//+19wcHBSUhLZcXpAampqWFjY9evXx4wZQ3YWgBBC48ePz8vLW7hwoVAoJDtLt4hE1QghtyHOCKGB/e1MjDlPnlYSLw11cUIIDehvhxCSyxUvXkbfgYKnGqLgFy1a1L7g/9ECYZ1RDe02Ui9SWFgYFRWVmprq4uJCdhbwNxcXl/j4+KioqMLCQrKzdM3c3AQhJK55hhCSSGQSqczK0ox4SU9PFyHEpMzQEih4anq+4P9ugbDOqIleG6lO4Ti+evXqjRs3TpgwgewsoKMxY8Z88cUXq1atwil/fVTAGC8GgxGz/3TShSsbvvxBpcLG+XmTHaoTUPBU1qHg/2yBsM6ojEYbqU5dunSpuLh42bJlZAcBnVu6dGlJSQn1H3fuOoT/709W1NU3fPR/O4QZ2aGT/JcvnknBiwqg4CnuHwVPnBJMT093cnKC8S+UJZfL+Xx+Wloa2UFehZeXV4dT0IBqEhISvL29yU7RLSqVqqJSTLUrH9qDgqe+toL/89J4b2/vzz//PCwsjOTuDF4sMTHxq6++unnzJtlBXo5IJHJ3dxeLxXBHSipTqVRcLvfevXsaf1uG3gYFTwttBc9ECIlEouLi4pCQELJTAXVCQkKKiopEIhHZQV5OfHx8aGgobA4oTkdHJywsLC4ujuwgtAcFTwttBc9EsM5ogqYbqeTk5BkzZpCdAnQtIiIiOTmZ7BS0BwVPF0TBMxGsM/qg40aqsrLS3t6e7BSgazwer7KykuwUtAcFTxdEwTMRrDP6oONGqry8HKqLFuzt7cvLy8lOQXtQ8HRBFDwDx3F7e/ucnBw4DU595eXlI0eOrKioIDvIS2CxWAqFgoIj10EHOI6z2WylUkl2EHqDgqcLouAZOI7DOqMLOm6kGAx4JiVtwMp6ffAZ0giDwWAihFQqFfQ/WmAwGPCwRgAA6Ckdb5MNAAAAaAlogQAAALQUtEAAAABaClogAAAALQUtEAAAgJaCFggAAEBLQQsEAACgpaAFAgAA0FLQAgEAAGgpaIEAAAC0FLRAAAAAWgpaoBZJSL40xHv6/iOxXb669+AvR08l9m06AADoa9ACtchg54Fr3on0Gj60y1d3Hzhz5CS0QACAhtOiFojjuEKhaGxsFIvFra2tGIaRnaivVVTWXEy7/qj06bmLV6dGvr/nwJnQWe+OGDP7/Y+/bW2Vt706PWqdXK6oFtdNjXy/WlxHdmoAAOgtLLID9B2RSLRv3z5TU9OWlpby8vIlS5Z4eHjo6OiQnavv1Dc2FRY/qX3WwDE0KCx+Ulj8ZLi7C45QSnrWhLFvqDCMeHXk8KEFRU9YLJ03PN0MDPTITg0AAL1FW/YClUrlhg0bJBJJcHDwzJkznZycPvnkk+rqarJzkWnKRL9TB7e+t3wOQqj0SXnb9M8+WsZi6ViYm34WvczYiENeQAAA6F3UbYE9++TlmzdvpqamBgcHu7q6uri4zJ8/Pzc3Nz09XaFQ9OBPoZehLk4IoQH97RBCcrn2fg4AAK1FxRbY2NhYXV1dVlbW0NCgVCp7ZJmXLl2SSqX9+vVjMpkIIWtraxMTE6FQqM0tUE9PFyHEZDA6fRXDte5cKQBA21DrXCCO40+ePDly5Eh9fX2/fv3KysqioqK8vLzaz9Pa2lpbW0t0shctxMLCQk/vHyexCgoKWCwWi/X3+7WwsHj48GHP7mtqDBZLp6q6Lmb/6QVzQuFYKABAU1GrBYpEonfffdfKymrdunVKpTIqKsrc3LxDC3z06NH27dt1dXXVLGfVqlWurq7tpzx79ozNZrcf/MJms2tra7VwXCiTyWS8YM+PeBUhNHVywOnYi7v2/S98yjhogQAATcXAcZzBYFBhZ0ilUkVHR58+fTo1NVUgENTW1kZHR0dFRY0fP779bI2NjQ8ePHjRQnAcZzKZAoHAzMys/fSwsLDc3NxLly45OzsTU7y8vOrr63Nzc42NjXvh3fSWPltZcoVCoVByDA1eczkUqS7QHbCyXh98hjTCYDAotBfY0NBw9OjR4OBggUCAEDI1Nf3ss89sbGw6zMbhcNzc3NQsh8FgGBh03HAbGRl1qMvm5ubnZwNtdNlsXTab7BQagvhDk+wUAICOKNQCy8rK6uvrJ02aRHzLYrEcHR1lMlmH2erq6jIyMl50LhDHcR0dHV9f3w69c8CAATKZrP3gmqamJg8PDzXnFIH2UCqVOI6ze6Hl4ziO47hSqWSxWAwGAxoh6HtEBTKZzF66DFqlUjEYDJpuSynUAokDCP3792+bUlRUVFNTM2rUqPazNTc3FxYWvmhrhWEYg8EYPnx4h+ljx47du3dvbW1t20Kam5sDAgLUn1ME2gDH8atXrzKZzLFjx/bskjEME4lEMpmsoaHB0NDQzMzM3t4euiDoSziO19bW3r9/38rKSv3xs5eFYZhcLq+tra2qquLxeM8fsaMFCrVABweHIUOGZGVlOTg44DguFovT09OHDu14Q0s7O7t58+ap2Y7gOG5tbd1hoq+vr4+Pz8WLF21tbTkczrlz5/r16zd58uT2Y0SBdlIoFAsWLDAwMMjPz+/Z/lRWVrZx40ZTU1MXF5dbt24xmcx///vfPB6vB38EAOqpVKrbt28vW7YsNDQ0JiampxarVCorKiry8vIuX7588eLF6Ojo6dOn03FzSqHExsbGmzdv/uWXX1JTU1ksVlVVlZeX1/P7c/r6+gMHDnzZhZuamn755ZcHDx4UCoUmJiZXrlz54IMPnJ2d4U/y15efn8/j8YyMjMgO8op0dXVXrlxJHKjswcXiOL5p06b8/PysrCyEkEqlGjly5I4dO7Zt29aDPwUA9XR0dBwdHVeuXEmMsegpMpns/v37ubm59fX1TU1N9N2QUmhEKEJIJpOVlpbK5XIzMzMMw6ytrTmcHhuRr1QqHz169PTpU4SQlZXVwIEDTU1Ne2rhfYY6K6sNUf0RERErV64cP358h1MCFAzcAY7jra2tCCHifEZPnRFsaGjo37//Z599Fh0dTUz54osv9uzZU1xc3INV3bOov7Koj4KfoUqlUigUxO8pi8XqwTOCSqUyJSVlw4YNn376KR33Aqk1IhQhZGBgMGTIEIVC0RsDE1gs1uDBg3k8HoZh9LoQguKMjY2bmpp+/fVXoVDIYrHefvvtpUuXDhkyhOxc3YJhmFgsvnnzJo7jHA6HwWAEBAR06OIymUz9Rq3TQcj37t1rampqf0zezs6uqqrq0aNH7u7uPfgWAFBDJpM9efIkLy+PzWYbGBhwuVxXV9f2O21KpVIul6tZApPJ1NXV7XS0C4ZhCoWCai3/pVCrBRJ6o/+1oewf4N3X3NyMYRiO48S/z3/Rx9OJ2wvgON7U1IQQ+uGHH/bs2dO/f/8lS5a07QBRE47jf/zxx5EjR6RSqUAgEIvF8fHx6enplpaWbfMolcoLFy6ov4UCm80OCwvrcCyorKwMIWRoaNg2hai9x48fQwsEfQDH8ebm5uvXr1+4cIHNZltbW+fn53M4nC1btrT9xaZQKB49enT37t0X7RriOG5mZubp6WlhYdGH2fsOFVsgUM/W1pa4wwvx7/Nf9PH0Du1BoVAwmcyCgoLDhw9TvAVWVVUtW7bMwsLi6NGjlpaWP//8c2Zm5vPdrrW1Vf29ZDu9wJS4nqf9S8RCiIOuAPQ2lUqVlZW1efNmPz+/9evXNzY2HjlypMN5OxzHVSqVTCZTc0mDZl8/DS2Qfpqbm8mO8A/m5ubE5p7BYHA4HENDw5UrVy5durRfv35kR+vCyZMnb968KRQKid0+f39/Nzc3Lpfbfh4WixUREaF+OZ1e8Efs/6lUqrYpEokEafoGBVBHU1NTfHy8VCqdPXs2h8PR0dGZO3eujo6Ovr5+2zy6uroCgaDtnlmdYjAYtDvJ130a+8ZAn6mvrzc0NFQqldOmTVu9erW/vz9dhoedP3/e2tra19eX+NbGxsba2hrDsA5/Ed+8eVP9XqC+vv7o0aM7TOTxeAwGo76+vm1KQ0MDg8GwtbXtmfQAqCWRSO7cuePk5OTi4oIQ0tfXHzBgAIZh7StcpVJVVFQUFBSo+Z01NjYWCAT0HfKtHrRA8Lq++uorW1vbyMhI2v2SyGQyJyentoeKKJXKx48fm5qaWllZtc3T2tqakpKifryAgYGBj49Ph8Y5fPhwS0vLx48ft02prq62tramy0AhQHfErbLs7OyIG4AQZ+vr6+stLCzaflXlcnlxcfH58+fVnAu0s7Ozs7NT89sNw2GAVvvss8/IjvCKAgMDT548WV1dbWBgoFAoiouLv//+++3bt7efR1dX99133+1yROjzp1KMjY3nzp2bnp6+Zs0aAwMDqVR65cqVqKgoOBAK+oahoaGbm1tNTU1tbS2bza6rq8vKyhKJRKtXr26bR19f38vLSyAQqNkL1NHReX4IPY7jMpmsrq5OLBbL5XKxWEwcDWo//osWqHVdYF+SSqW0W1uIklcdqUflwM+ePVu/fn1ra6u/v39hYaGent6cOXOcnZ176m6HDQ0N7733no2NjZ+fn1AorKys3L17d/tdTKqh8sqiC+p8hsR9YX766ScjIyNHR8eqqio+nz9lyhQrK6vXP1XR3NycmZkZFxdXWFhYU1PD5XLd3d0nTZoUFBREl/MgiDiLr4UtMCsrKycnx9TUtLy83MvLKygoiOxEL4F2K4vigZVKJTFEk81mM5nMHj/tr1QqJRJJa2urvr6+gYFBr17w8/oovrJogVKfIY7jCoWCGKTNZrMZDEYPXhevUqmIy6KIb4ljIb10J+5eQrlL4/vAvXv3vvvuu9DQ0MGDB3M4nJ07d3I4nFGjRtH0NufgNbFYrF4d7cZiseh4EyKgGRgMhq6ubi89DEBHR4deDa9TWrfdP3DggFQqDQgIGD58eHBwsKGh4b59+6jzVxsAAIA+o10tUCKRpKSkDBo0yNLS0sDAwMTEZOTIkRcuXKirqyM7GgAAgL5GrQOhdXV1e/bsKSkpYbFYbQeabWxsNmzY0CN39SwrKxOLxRYWFm3Hvvr161dXV1dcXEwMUqDRiVwAAACviUItUCaTffLJJywWy8zM7LfffuPxeA4ODiqVytbW9vlj2X/88cf+/ftfdIybuIPlO++8M2jQoPbTq6ur5XK5kZFRW6sjBoVWVlb2whsCAABAaRRqgTk5OYMGDQoKCmKxWLm5uYsXL3ZyckII6enptV283Mbc3NzLy0vNThuDwTAxMekwsaWlBcOw9o2TuH9VS0tLj70NAAAANEGhFujs7Mzn821tbSsqKp4+fTpq1CjiIuJO+xyXyw0LC1O/wOcfCkHcHI+4DoSYIpVKcRzvpRFTAAAAqIxCLdDGxobJZGIYduPGjS4fliuVSvPy8l60F0jcGWjw4MEdziBaWlrq6uo2NTW13by4sbERx3EqX60MAACgl1CoBRKXmCiVyuTk5BEjRqifuby8/OzZs+qvSlmyZEmHFujg4GBlZVVTU9PWAp89e2ZkZKT+/kAAAAA0EoVaIEEikaSlpX355ZfqZ+PxePPmzXvR9ezEdX42NjYdpnM4nJCQkFu3bkmlUqI7ZmZmBgcHm5ub90R2AAAAdEKtG6RhGHbz5s3AwMDffvtNIBCon7nLzJ3u2JWWlkZHRzs6Ok6YMCE7O1soFG7fvl39yBpKoc7K6ibaBdZmsLJeH3yGNEK5e4TiON7a2ioWi+3s7HrptlU4jtfV1WEYZmhoKJPJVCqVlZUVjW7zQ52V1U20C6zNYGW9PvgMaYRyLRB0iXYri3aBtRmsrNcHnyGNMBgM7bpBGgAAANAGWiAAAAAtBS0QAACAloIWCAAAQEtBCwQAAKCloAUCAADQUtACAQAAaClogQAAALQUtEAAAABaClogAAAALQUtEAAAgJaCFgh6l46ODtwykRaIB02TnYL2oODpgih4JoJ1Rh903EhZW1uXl5eTnQJ0raKigsvlkp2C9qDg6YIoeCaCdUYfdNxI2dnZVVRUkJ0CdK28vNze3p7sFLQHBU8XRMEzEawz+qDjRsrOzk4kEpGdAnRNJBLZ2dmRnYL2oODpgij4P1sgrDNaoONGKiQk5OzZs2SnAF2LjY2dPHky2SloDwqeLoiCZ+A4vnv37uzs7KNHj5IdCXRh4cKFb7zxxurVq8kO8hJEIpG7u7tYLKbdWUytolKpuFzuvXv3eDwe2VnoDQqeFtoKnokQmjZtWlJSkkqlIjsVUEelUiUmJoaHh5Md5OXweDw+n5+cnEx2EKBOcnKys7Mz9L/XBwVPC20Fz0SwzmiCvhupb7/9du3atQqFguwgoHMKhWLdunVbt24lO4iGgIKnuPYF/+d1gbDOKI7WG6mAgAA+n79//36yg4DO7d+/38nJady4cWQH6dq5i1enzVnrNmpGfUPTxs17RgcuePcjyv1SQMFT3D8KHsdxHMcxDAsKCoqJicEBJcXExAQFBWEYRnaQV1RQUMDlcq9evUp2ENBRWloal8stKCggO0jXlErlm0ELvQPmHjmZIMzIFniFL1zxfxlXc8jO1QkoeMrqUPAM/K+L4gsLC319fWNjY8eMGUNmgwbPSU9Pj4yMzMzMHDRoENlZXl1qauqsWbOysrJcXFzIzgL+lJ+fLxAIUlJSgoKCyM7S0d37BVt3HCwoemxtZTFn5qSIsAmz3/74UelTPT3dAf1s6xuaxDXPuJbmsyKC17wTSXbYTkDBU9DzBf/3DdIGDRp08uTJqVOn5ufnkxQPdCI/P3/ChAknTpygdf9DCAUGBh45ckQgEKSnp5OdBSCE0NWrV0ePHp2QkEDB/ieuebZ49cYHD4vH+78hVyi2bD94TnjVa8RQhBDH0OANTzeHAfYIoX48G4eBFL1SFgqeaq5du9ZJwXfYSUxISEAIpaWl9fXeKejMlStXzM3NExISyA7SY4RCIZfLjYmJkcvlZGfRXnK5PCYmxtraWigUkp2lcwePxwm8wvce+gXH8dIn5QKv8NmLopslUoFX+Iz5/8Jx/OTPyQKv8KOnEslO2gUoeCogCp7L5T5f8B1vkx0WFiYUCiMjI3fv3g2jY0ikUCh27949c+bMM2fOhIWFkR2nxwQGBmZmZsbFxQkEgsTERLgUp48Rl9YIBIK4uLhr164FBgaSnahzIlE1QshtiDNCaGB/OxNjzpOnlWSHehVQ8ORqX/CZmZnPFzzr+f9DrLPVq1d/991333//fUhICFzj2ZdUKlVycvLatWv5fP61a9fofvzzeYMGDbp48eKlS5eio6MXLlwYGho6Y8YMHo9nZ2dnb2/PYDDIDqhRcBwv/8vZs2eTkpL4fP5PP/0UEBBA5Y/a3NwEISSueYYQkkhkEqnMyaEf2aFeERR8X3rZgu+kBSJYZ32Lphup18FgMMaNG5eTkyMSieLj4/fv319RUVFRUVFdXQ1/JvcsHR0da2tre3t7W1vbkJCQLVu20OLS0oAxXjH7T8fsP62jwxRmZKtU2Dg/b7JDvToo+D7zsgX/94jQFyHWWXJyMqyzXtJhnU2bNo0WGylATSUlJU5OTqNGjQoODvbz8/Px8TE2NiY71Ks4E5vy7X8PSyQyBoMxZaLfFxtW4jjuNXau6xD+L0e3nfrl/Jff7Pv0o6XzZk0hO2nPi4+PX7Zs2erVqzdu3Eh2Fg3XdQsEANDLwoULT58+rVKpOByOVCrl8Xj+/v4TJkwICgqi123WMQyrFteZm5no6emSnaWPSCSStWvXpqWlnTp1ysfHh+w4mg9aIACaRi6XDxs2rLCwEMOwtolGRkbNzc2FhYXOzs4kZgNq5OTkzJkzx9/f/7///a+RkRHZcbRCxxGhAAC609XVPXfunJ6eXvuJSqXy7bffhv5HTRiGbdq0acqUKd9+++3Bgweh//UZ2AsEQDMdP358+fLlUqmU+JbD4VRUVND0vKBmKy4uXrx4MYvFOnbsGO2eiU13sBcIgGaaN29eaGiovr4+QsjAwGDw4MEBAQHZ2dlk5wJ/UygUmzZt8vHxCQ8PT01Nhf7X96AFAqCxDh48aG5urqurO3Xq1Nu3b3/wwQczZsxYtGhRVVUV2dEAunbt2rBhw27cuHH79u1169Zp6hVQFActEACNxeFwLly4MGTIkF27diGEoqKi8vPzbWxshg4dun37drj9E1nq6uqWLl0aGRm5efPmhISEAQMGkJ1Ie0ELBECTDRs27M6dO1ZWVsS3RkZG33zzTXZ2tlAoHDZsGNzBue8dP37c1dWVw+E8fPhw+vTpZMfRdjAcBgAtlZiYuG7dOoFAsGnTJg8PD7LjaL7i4uLly5fX1dXt27fPy8uL7DgAIdgLBEBrhYWFPXz4cNKkSZMmTZo9e3ZBQQHZiTRWVVXVqlWrRo8ePWXKlJycHOh/1AEtEADtxWaz16xZU1xc7Onp6evru2TJkidPnpAdSqM0NTV9/vnnQ4cONTQ0zMvLW7duHTx1gFKgBQKg7QwNDT/++OOioiJ7e/sRI0a8//771dXVZIeiPblcvnPnTj6f/+TJk9zc3G3btllYWJAdCnQELRAAgBBCpqamX331VV5eHpPJFAgE0dHRIpGI7FB0deLECRcXl9TU1IyMjMOHD8OYT8qCFggA+BuXy92xY8fvv/+uUqnc3NwWLFjw+++/kx2KNjAMi4+PHzly5K5du44ePZqYmOjq6kp2KKAOjAgFAHSuoaHhxx9/3Llzp5ub20cffRQUFER2IuqSSqVHjhzZsWOHubn5+vXrw8PDyU4EugVaIABAHYVCcfLkyf/85z9MJvPDDz+MioqCAR3tVVVV7dq1a+/evb6+vv/617/GjBlDdiLwEqAFAgC65eLFi9u2bcvLy1uwYMHixYv5fD7ZiUj24MGD7du3x8bGzp07d926dfAUDjqCc4EAgG6ZOHGiUCg8f/58S0vLqFGj/P39Dx06JJFIyM7V11QqVWpq6uTJkwMDA52cnIqLi2NiYqD/0RTsBQIAXppSqUxKSjp06NDly5cjIiKWLFni6+tLdqhel5OTc+LEiVOnTjk4OKxYsSIqKkpXV1seZ6+poAUCAF5dVVXVsWPHDhw4oFQqFy9eHBoa6u7uTnaoHlZcXHz8+PETJ04ghKKioubNmwcHgTUGtEAAQA+4cePGqVOnEhIScByfOnVqWFjY2LFj2Ww22bleXU1NzalTp06cOFFSUjJnzpyoqChvb2+yQ4EeBi0QANCT7t+/n5CQkJiYmJeXN3HixKlTp4aEhJiZmZGdq1sUCkV2dnZ6enp6evq9e/dCQ0OjoqICAwNhEKymghYIAOgVVVVVSUlJCQkJ6enpI0eO9PHxefPNN0ePHm1tbU12tH/AMCw3NzctLS09PT0zM1MgEIwfP378+PFjx47V19cnOx3oXdACAQC9q6Wl5dq1a1lZWdevX8/OzrawsBj9Fw8PD1J2sORyeV5e3pUrV9LT0zMyMuzt7SdMmDB+/PiAgAC67LCCHgEtEADQd3Acz8vLy/pLSUmJj4+Pk5MTn893dnbm8/l8Pt/U1LRnf6hSqXz8+HFpaemdO3fu3r179+7dgoICZ2dnHx+f8ePHT5gwwcbGpmd/IqALaIEAANI0Njbm5OQUFxcXFxcXFRURX+jp6RG9cPDgwZaWlkYvJpfLW/8il8sbGxvFYrFYLK6pqRGLxdXV1UVFRY8ePRKJRDwej8/nu7q6enh4eHh4uLm56enpkf3uAfmgBQIAqKW6urr4LzU1Nc0vIJVKWSyW3l8MDAw4HA6Xy+VyuVZWVlwu18bGxtHR0cnJaeDAgSwWi+y3Bajo/wHRW2NhKV+tuwAAAABJRU5ErkJggg==)\n",
    "\n",
    "\n",
    "Modele este autómato com um FOTS e verifique que o valor do contador nunca é superior ao tempo decorrido."
   ]
  },
  {
   "cell_type": "code",
   "execution_count": 8,
   "metadata": {
    "colab": {
     "base_uri": "https://localhost:8080/"
    },
    "executionInfo": {
     "elapsed": 717,
     "status": "ok",
     "timestamp": 1637606768001,
     "user": {
      "displayName": "Maria João Frade",
      "photoUrl": "https://lh3.googleusercontent.com/a-/AOh14Ggsl7DgkrbKKq_x5wt54lWf1B_Ow_4tBk8o4LfVfw=s64",
      "userId": "03944960066051965480"
     },
     "user_tz": 0
    },
    "id": "xW8g1SkaSUM0",
    "outputId": "c379fdb4-23ff-478b-aa70-513ed16c4954"
   },
   "outputs": [],
   "source": [
    "# completar\n",
    "\n",
    "def declare(i):\n",
    "    s = {}\n",
    "    s['u'] = Symbol('t'+str(i),REAL)\n",
    "    s['n'] = Symbol('m'+str(i),INT)\n",
    "    s['c'] = Symbol('x'+str(i),REAL)\n",
    "    return s"
   ]
  },
  {
   "cell_type": "markdown",
   "metadata": {
    "id": "84K42HfRSUM0"
   },
   "source": [
    "## Verificação de sistemas híbridos com FOTS"
   ]
  },
  {
   "cell_type": "markdown",
   "metadata": {
    "id": "WDR6v8r-SUM1"
   },
   "source": [
    "Se quisermos verificar propriedades sobre um sistema híbrido, por exemplo, sobre o sistema que incluiu os dois autómatos acima, temos que modelar a evolução de todos os seus autómatos num único FOTS. Os estados deste FOTS correspondem ao produto cartesiano dos estados dos vários autómatos, sendo o estado inicial caracterizado pela conjunção dos predicados iniciais de todos eles. Por exemplo, num sistema híbrido com um termostato e um contador,  o estado inicial seria caracterizado pelo seguinte predicado.\n",
    "\n",
    "$$\n",
    "m = \\mathsf{INIT} \\wedge x = 20 \\wedge t = 0 \\wedge n = \\mathsf{INIT} \\wedge c = 0 \\wedge \\tau = 0\n",
    "$$\n",
    "\n",
    "Para tal temos que considerar como é que as transições dos diferentes autómatos estão sincronizadas:\n",
    "\n",
    "- as transições *timed* de diferentes autómatos ocorrem simultaneamente sse o intervalo de tempo decorrido for igual em todos os *flows*\n",
    "- as transições *untimed* de diferentes autómatos ocorrem simultaneamente sse o evento que ocorre for igual em todos os *switches*\n",
    "\n",
    "No sistema híbrido exemplo, a transição *untimed* relativa ao evento $\\mathsf{init}$ seria caracterizada pela seguinte restrição.\n",
    "\n",
    "$$\n",
    "m = \\mathsf{INIT} \\wedge m' = \\mathsf{OFF} \\wedge x' = x \\wedge t' = t \\wedge n = \\mathsf{INIT} \\wedge n' = \\mathsf{OFF} \\wedge c' = c \\wedge \\tau' = \\tau\n",
    "$$\n",
    "\n",
    "No caso das transições *timed* temos que considerar todas as combinações de transições *timed* nos diferentes modos. Por exemplo, quando os dois autómatos estão no estado $\\mathsf{OFF}$ o *flow* pode ser caracterizado pela seguinte restrição (sem considerar o refinamento introduzido no exercício 5).\n",
    "\n",
    "$$\n",
    "\\begin{array}{c}\n",
    "m = \\mathsf{OFF} \\wedge m' = m \\wedge x' - x \\le -\\frac{18}{5}(t'-t) \\wedge x \\ge 18 \\wedge x' \\ge 18 \\wedge t'>t\\\\\n",
    "\\wedge\\\\\n",
    "n = \\mathsf{OFF} \\wedge n' = n \\wedge c' - c = 0 \\wedge \\tau' > \\tau\\\\\n",
    "\\wedge\\\\\n",
    "t' - t = \\tau' - \\tau\n",
    "\\end{array}\n",
    "$$"
   ]
  },
  {
   "cell_type": "markdown",
   "metadata": {
    "id": "-B9FE-UhSUM1"
   },
   "source": [
    "### Exercício 7\n",
    "\n",
    "Modele este sistema híbrido em Z3 e gere um traço com 5 estados."
   ]
  },
  {
   "cell_type": "code",
   "execution_count": 9,
   "metadata": {
    "colab": {
     "base_uri": "https://localhost:8080/"
    },
    "executionInfo": {
     "elapsed": 262,
     "status": "ok",
     "timestamp": 1637606814533,
     "user": {
      "displayName": "Maria João Frade",
      "photoUrl": "https://lh3.googleusercontent.com/a-/AOh14Ggsl7DgkrbKKq_x5wt54lWf1B_Ow_4tBk8o4LfVfw=s64",
      "userId": "03944960066051965480"
     },
     "user_tz": 0
    },
    "id": "p-Zl2DurSUM2",
    "outputId": "9bc6f2d6-7e08-4736-8d8b-a7e2fa66d863"
   },
   "outputs": [],
   "source": [
    "# completar"
   ]
  },
  {
   "cell_type": "markdown",
   "metadata": {
    "id": "i_ojESrCSUM2"
   },
   "source": [
    "### Exercício 8\n",
    "\n",
    "Verifique que o contador é positivo passados pelo menos 0.2 segundos."
   ]
  },
  {
   "cell_type": "code",
   "execution_count": 10,
   "metadata": {
    "colab": {
     "base_uri": "https://localhost:8080/"
    },
    "executionInfo": {
     "elapsed": 699,
     "status": "ok",
     "timestamp": 1637606823355,
     "user": {
      "displayName": "Maria João Frade",
      "photoUrl": "https://lh3.googleusercontent.com/a-/AOh14Ggsl7DgkrbKKq_x5wt54lWf1B_Ow_4tBk8o4LfVfw=s64",
      "userId": "03944960066051965480"
     },
     "user_tz": 0
    },
    "id": "gFO2plCpSUM3",
    "outputId": "8c063cf0-0986-495a-fa3f-1920a670bda9"
   },
   "outputs": [],
   "source": [
    "# completar"
   ]
  },
  {
   "cell_type": "code",
   "execution_count": null,
   "metadata": {
    "executionInfo": {
     "elapsed": 9,
     "status": "ok",
     "timestamp": 1637605761858,
     "user": {
      "displayName": "Maria João Frade",
      "photoUrl": "https://lh3.googleusercontent.com/a-/AOh14Ggsl7DgkrbKKq_x5wt54lWf1B_Ow_4tBk8o4LfVfw=s64",
      "userId": "03944960066051965480"
     },
     "user_tz": 0
    },
    "id": "y7K_i75USUM3"
   },
   "outputs": [],
   "source": []
  }
 ],
 "metadata": {
  "colab": {
   "collapsed_sections": [],
   "name": "Aula8-Resolucao.ipynb",
   "provenance": []
  },
  "kernelspec": {
   "display_name": "Python 3 (ipykernel)",
   "language": "python",
   "name": "python3"
  },
  "language_info": {
   "codemirror_mode": {
    "name": "ipython",
    "version": 3
   },
   "file_extension": ".py",
   "mimetype": "text/x-python",
   "name": "python",
   "nbconvert_exporter": "python",
   "pygments_lexer": "ipython3",
   "version": "3.10.6"
  }
 },
 "nbformat": 4,
 "nbformat_minor": 1
}
