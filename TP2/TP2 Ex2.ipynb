{
 "cells": [
  {
   "cell_type": "markdown",
   "id": "bfa7535a",
   "metadata": {},
   "source": [
    "# TP 1 EX 1\n",
    "Grupo 5:\n",
    "     \n",
    "     Breno Fernando Guerra Marrão A97768\n",
    "     \n",
    "     Tales André Rovaris Machado A96314"
   ]
  },
  {
   "cell_type": "markdown",
   "id": "17557ba7",
   "metadata": {},
   "source": [
    "## Inicialização\n",
    "Usamos as bibliotecas pysmt e numpy para resovler o problema de alocação proposto "
   ]
  },
  {
   "cell_type": "code",
   "execution_count": 1,
   "id": "345f99bd",
   "metadata": {},
   "outputs": [],
   "source": [
    "from pysmt.shortcuts import *\n",
    "from pysmt.typing import BOOL\n",
    "import numpy\n"
   ]
  },
  {
   "cell_type": "markdown",
   "id": "76a7c40c",
   "metadata": {},
   "source": [
    "## Implementação\n",
    "\n",
    "A seguinte função cria a variável x de acordo com a probabilidade p da borda e o tamanho n"
   ]
  },
  {
   "cell_type": "code",
   "execution_count": null,
   "id": "b4fbe03c",
   "metadata": {},
   "outputs": [],
   "source": [
    "def init(n,p):\n",
    "    x = {}\n",
    "    for i in range(n):\n",
    "        x[i,0] = numpy.random.choice([TRUE(),FALSE()], p=[p,1-p])\n",
    "    for j in range(n):\n",
    "        x[0,j] = numpy.random.choice([TRUE(),FALSE()], p=[p,1-p])\n",
    "    for i in range(1,n):\n",
    "        for j in range(1,n):\n",
    "            x[i,j] = FALSE()\n",
    "    centro = (numpy.random.choice(numpy.arange(2, n-1)),numpy.random.choice(numpy.arange(2, n-1)))\n",
    "    for i in range(-1,2):\n",
    "        for j in range(-1,2):\n",
    "            a = centro[0]+i\n",
    "            b = centro[0]+j\n",
    "            x[a,b] = TRUE()\n",
    "    \n",
    "    return x"
   ]
  },
  {
   "cell_type": "code",
   "execution_count": null,
   "id": "8af55d5c",
   "metadata": {},
   "outputs": [],
   "source": [
    "Função que retorna o número de vizinhos vivos em uma certa posição (a,b) na matriz curr de tamanho n."
   ]
  },
  {
   "cell_type": "code",
   "execution_count": null,
   "id": "24183a32",
   "metadata": {},
   "outputs": [],
   "source": [
    "def checavizinhos(curr,a,b,n):\n",
    "    if a == n-1:\n",
    "        arr1 = [-1,0]\n",
    "    else:\n",
    "        arr1 = [-1,0,1]\n",
    "    if b == n-1:\n",
    "        arr2 = [-1,0]\n",
    "    else:\n",
    "        arr2 = [-1,0,1]\n",
    "    c = 0\n",
    "    for i in arr1:\n",
    "        for j in arr2:\n",
    "            if curr[a+i,b+j]==TRUE():\n",
    "                c += 1\n",
    "    if curr[a,b]==TRUE():\n",
    "        c -= 1\n",
    "    return c"
   ]
  },
  {
   "cell_type": "markdown",
   "id": "59754f6d",
   "metadata": {},
   "source": [
    "Função de transição da matriz curr para uma nova matriz fazendo a transição de cada celula ."
   ]
  },
  {
   "cell_type": "code",
   "execution_count": null,
   "id": "72a6b711",
   "metadata": {},
   "outputs": [],
   "source": [
    "def trans(curr,n):\n",
    "    currnew = {}\n",
    "    for i in range(n):\n",
    "        currnew[i,0] = curr[i,0]\n",
    "    for j in range(n):\n",
    "        currnew[0,j] = curr[0,j]\n",
    "    for i in range(1,n):\n",
    "        for j in range(1,n):\n",
    "            c = checavizinhos(curr,i,j,n)\n",
    "            if curr[i,j]==TRUE():\n",
    "                if c not in [2,3]:\n",
    "                    currnew[i,j] = FALSE()\n",
    "                else:\n",
    "                    currnew[i,j] = TRUE()\n",
    "            else:\n",
    "                if c == 3:\n",
    "                    currnew[i,j] = TRUE()\n",
    "                else:\n",
    "                    currnew[i,j] = FALSE()\n",
    "    return currnew"
   ]
  },
  {
   "cell_type": "markdown",
   "id": "95bfa5bb",
   "metadata": {},
   "source": [
    "Função que imprime a matriz."
   ]
  },
  {
   "cell_type": "code",
   "execution_count": null,
   "id": "35a9b8d0",
   "metadata": {},
   "outputs": [],
   "source": [
    "def printM(x,n):\n",
    "    for i in range(n):\n",
    "        for j in range(n):\n",
    "            if (x[i,j]==TRUE()):\n",
    "                print(\"X\" , end = \"|\")\n",
    "            else:\n",
    "                print(\".\", end = \"|\")\n",
    "        print()"
   ]
  },
  {
   "cell_type": "markdown",
   "id": "f4371657",
   "metadata": {},
   "source": [
    "Função que roda a transição k vezes"
   ]
  },
  {
   "cell_type": "code",
   "execution_count": null,
   "id": "68f54209",
   "metadata": {},
   "outputs": [],
   "source": [
    "def roda(n,p,k,trans):\n",
    "    x = init(n,p)\n",
    "    printM(x,n)\n",
    "    for i in range(k):\n",
    "        x = trans(x,n)\n",
    "        printM(x,n)\n",
    "        print(\"---------\")"
   ]
  },
  {
   "cell_type": "markdown",
   "id": "cb665c55",
   "metadata": {},
   "source": [
    "## Invariantes\n",
    "\n",
    "Toda a célula normal está viva pelo menos uma vez em algum estado acessível\n",
    "$$\\forall_{1 < a< n}  \\cdot \\forall_{1 < b< n}\\quad \\sum_{x \\in lista} x_{a,b} \\ge 1$$"
   ]
  },
  {
   "cell_type": "code",
   "execution_count": 7,
   "id": "72c9fddd",
   "metadata": {},
   "outputs": [],
   "source": [
    "def vivaumavez(lista,n,a,b):\n",
    "    for x in lista:\n",
    "        if x[a,b]==TRUE():\n",
    "            return TRUE()\n",
    "    return FALSE()"
   ]
  },
  {
   "cell_type": "markdown",
   "id": "4e404b86",
   "metadata": {},
   "source": [
    "Todos os estados acessíveis contém pelo menos uma célula viva\n",
    "$$\\sum_{1 < a< n,1 < b< n} x_{a,b} \\ge 1$$"
   ]
  },
  {
   "cell_type": "code",
   "execution_count": null,
   "id": "6506cfe1",
   "metadata": {},
   "outputs": [],
   "source": [
    "def vivaumavez(x,n):\n",
    "    for a in range(1,n):\n",
    "        for b in range(1,n):\n",
    "            if x[a,b]==TRUE():\n",
    "                return TRUE()\n",
    "    return FALSE()"
   ]
  },
  {
   "cell_type": "markdown",
   "id": "7cc9c928",
   "metadata": {},
   "source": [
    "Funções que testam os invariantes\n"
   ]
  },
  {
   "cell_type": "code",
   "execution_count": null,
   "id": "63b8907f",
   "metadata": {},
   "outputs": [],
   "source": [
    "\n",
    "def testinva(n,p,k,trans,inv):\n",
    "    \n",
    "    with Solver(name=\"z3\") as s:\n",
    "        \n",
    "        lista  = []\n",
    "        x = init(n,p)\n",
    "            \n",
    "        for i in range(k):\n",
    "            x = trans(x,n)\n",
    "            s.add_assertion(Not(inv(x,n)))\n",
    "            \n",
    "        if s.solve():\n",
    "            print(\"invariante não é valido\")\n",
    "            return\n",
    "        print(\"invariante valido\")\n",
    "\n",
    "def testinvb(n,p,k,trans,inv):\n",
    "    \n",
    "    with Solver(name=\"z3\") as s:\n",
    "        \n",
    "        lista  = []\n",
    "        x = init(n,p)\n",
    "        lista.append(x)        \n",
    "            \n",
    "        for i in range(k):\n",
    "            x = trans(x,n)\n",
    "            lista.append(x)\n",
    "            \n",
    "       \n",
    "        \n",
    "        s.add_assertion(Not(And([inv(lista,n,a,b) for a in range(n) for b in range(n)])))\n",
    "            \n",
    "        if s.solve():\n",
    "            print(\"invariante não é valido\")\n",
    "            return\n",
    "        print(\"invariante valido\")\n",
    "        \n",
    "\n",
    "testinvb(10,0.5,10,trans,vivaumavez) "
   ]
  }
 ],
 "metadata": {
  "kernelspec": {
   "display_name": "Python 3 (ipykernel)",
   "language": "python",
   "name": "python3"
  },
  "language_info": {
   "codemirror_mode": {
    "name": "ipython",
    "version": 3
   },
   "file_extension": ".py",
   "mimetype": "text/x-python",
   "name": "python",
   "nbconvert_exporter": "python",
   "pygments_lexer": "ipython3",
   "version": "3.10.6"
  }
 },
 "nbformat": 4,
 "nbformat_minor": 5
}
