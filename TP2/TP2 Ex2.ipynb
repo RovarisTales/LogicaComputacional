{
 "cells": [
  {
   "cell_type": "markdown",
   "id": "c8282364",
   "metadata": {},
   "source": [
    "# TP 1 EX 1\n",
    "Grupo 5:\n",
    "     \n",
    "     Breno Fernando Guerra Marrão A97768\n",
    "     \n",
    "     Tales André Rovaris Machado A96314"
   ]
  },
  {
   "cell_type": "markdown",
   "id": "12fedabe",
   "metadata": {},
   "source": [
    "## Inicialização\n",
    "Usamos as bibliotecas pysmt e numpy para resovler o problema de alocação proposto "
   ]
  },
  {
   "cell_type": "code",
   "execution_count": 1,
   "id": "34b7afd6",
   "metadata": {},
   "outputs": [],
   "source": [
    "from pysmt.shortcuts import *\n",
    "from pysmt.typing import BOOL\n",
    "import numpy\n"
   ]
  },
  {
   "cell_type": "markdown",
   "id": "77272948",
   "metadata": {},
   "source": [
    "## Implementação\n",
    "\n",
    "A seguinte função cria a variável x de acordo com a probabilidade p da borda e o tamanho n"
   ]
  },
  {
   "cell_type": "code",
   "execution_count": 2,
   "id": "d1ded30e",
   "metadata": {},
   "outputs": [],
   "source": [
    "def init(n,p):\n",
    "    x = {}\n",
    "    for i in range(n):\n",
    "        x[i,0] = numpy.random.choice([TRUE(),FALSE()], p=[p,1-p])\n",
    "    for j in range(n):\n",
    "        x[0,j] = numpy.random.choice([TRUE(),FALSE()], p=[p,1-p])\n",
    "    for i in range(1,n):\n",
    "        for j in range(1,n):\n",
    "            x[i,j] = FALSE()\n",
    "    centro = (numpy.random.choice(numpy.arange(2, n-1)),numpy.random.choice(numpy.arange(2, n-1)))\n",
    "    for i in range(-1,2):\n",
    "        for j in range(-1,2):\n",
    "            a = centro[0]+i\n",
    "            b = centro[0]+j\n",
    "            x[a,b] = TRUE()\n",
    "    \n",
    "    return x"
   ]
  },
  {
   "cell_type": "markdown",
   "id": "2c47eab2",
   "metadata": {},
   "source": [
    "Função que retorna o número de vizinhos vivos em uma certa posição (a,b) na matriz curr de tamanho n."
   ]
  },
  {
   "cell_type": "code",
   "execution_count": 3,
   "id": "e1607717",
   "metadata": {},
   "outputs": [],
   "source": [
    "def checavizinhos(curr,a,b,n):\n",
    "    if a == n-1:\n",
    "        arr1 = [-1,0]\n",
    "    else:\n",
    "        arr1 = [-1,0,1]\n",
    "    if b == n-1:\n",
    "        arr2 = [-1,0]\n",
    "    else:\n",
    "        arr2 = [-1,0,1]\n",
    "    c = 0\n",
    "    for i in arr1:\n",
    "        for j in arr2:\n",
    "            if curr[a+i,b+j]==TRUE():\n",
    "                c += 1\n",
    "    if curr[a,b]==TRUE():\n",
    "        c -= 1\n",
    "    return c"
   ]
  },
  {
   "cell_type": "markdown",
   "id": "d56e5711",
   "metadata": {},
   "source": [
    "Função de transição da matriz curr para uma nova matriz fazendo a transição de cada celula ."
   ]
  },
  {
   "cell_type": "code",
   "execution_count": 4,
   "id": "f70a8329",
   "metadata": {},
   "outputs": [],
   "source": [
    "def trans(curr,n):\n",
    "    currnew = {}\n",
    "    for i in range(n):\n",
    "        currnew[i,0] = curr[i,0]\n",
    "    for j in range(n):\n",
    "        currnew[0,j] = curr[0,j]\n",
    "    for i in range(1,n):\n",
    "        for j in range(1,n):\n",
    "            c = checavizinhos(curr,i,j,n)\n",
    "            if curr[i,j]==TRUE():\n",
    "                if c not in [2,3]:\n",
    "                    currnew[i,j] = FALSE()\n",
    "                else:\n",
    "                    currnew[i,j] = TRUE()\n",
    "            else:\n",
    "                if c == 3:\n",
    "                    currnew[i,j] = TRUE()\n",
    "                else:\n",
    "                    currnew[i,j] = FALSE()\n",
    "    return currnew"
   ]
  },
  {
   "cell_type": "markdown",
   "id": "c3aededa",
   "metadata": {},
   "source": [
    "Função que imprime a matriz."
   ]
  },
  {
   "cell_type": "code",
   "execution_count": 5,
   "id": "2893b360",
   "metadata": {},
   "outputs": [],
   "source": [
    "def printM(x,n):\n",
    "    for i in range(n):\n",
    "        for j in range(n):\n",
    "            if (x[i,j]==TRUE()):\n",
    "                print(\"X\" , end = \"|\")\n",
    "            else:\n",
    "                print(\".\", end = \"|\")\n",
    "        print()"
   ]
  },
  {
   "cell_type": "markdown",
   "id": "e0d955fa",
   "metadata": {},
   "source": [
    "Função que roda a transição k vezes"
   ]
  },
  {
   "cell_type": "code",
   "execution_count": 6,
   "id": "ed7c0a0d",
   "metadata": {},
   "outputs": [],
   "source": [
    "def roda(n,p,k,trans):\n",
    "    x = init(n,p)\n",
    "    printM(x,n)\n",
    "    for i in range(k):\n",
    "        x = trans(x,n)\n",
    "        printM(x,n)\n",
    "        print(\"---------\")"
   ]
  },
  {
   "cell_type": "markdown",
   "id": "6afff729",
   "metadata": {},
   "source": [
    "## Invariantes\n",
    "Todos os estados acessíveis contém pelo menos uma célula viva\n",
    "$$\\sum_{1 < a< n,1 < b< n} x_{a,b} \\ge 1$$\n",
    "Toda a célula normal está viva pelo menos uma vez em algum estado acessível\n",
    "$$\\forall_{1 < a< n}  \\cdot \\forall_{1 < b< n}\\quad \\sum_{x \\in lista} x_{a,b} \\ge 1$$"
   ]
  },
  {
   "cell_type": "code",
   "execution_count": 7,
   "id": "a574f2b6",
   "metadata": {},
   "outputs": [],
   "source": [
    "def pelomenosumaviva(x,n):\n",
    "    for a in range(1,n):\n",
    "        for b in range(1,n):\n",
    "            if x[a,b]==TRUE():\n",
    "                return TRUE()\n",
    "    return FALSE()"
   ]
  },
  {
   "cell_type": "markdown",
   "id": "0021406a",
   "metadata": {},
   "source": [
    "Toda a célula normal está viva pelo menos uma vez em algum estado acessível\n",
    "$$\\forall_{1 < a< n}  \\cdot \\forall_{1 < b< n}\\quad \\sum_{x \\in lista} x_{a,b} \\ge 1$$"
   ]
  },
  {
   "cell_type": "code",
   "execution_count": 8,
   "id": "6506cfe1",
   "metadata": {},
   "outputs": [],
   "source": [
    "def vivaumavez(lista,n,a,b):\n",
    "    for x in lista:\n",
    "        if x[a,b]==TRUE():\n",
    "            return TRUE()\n",
    "    return FALSE()"
   ]
  },
  {
   "cell_type": "markdown",
   "id": "1c7dddd4",
   "metadata": {},
   "source": [
    "Funções que testam os invariantes\n"
   ]
  },
  {
   "cell_type": "code",
   "execution_count": 10,
   "id": "ade976d8",
   "metadata": {},
   "outputs": [
    {
     "name": "stdout",
     "output_type": "stream",
     "text": [
      "invariante a valido\n",
      "invariante b não é valido\n"
     ]
    }
   ],
   "source": [
    "\n",
    "def testinva(n,p,k,trans,inv):\n",
    "    \n",
    "    with Solver(name=\"z3\") as s:\n",
    "        \n",
    "        lista  = []\n",
    "        x = init(n,p)\n",
    "            \n",
    "        for i in range(k):\n",
    "            x = trans(x,n)\n",
    "            s.add_assertion(Not(inv(x,n)))\n",
    "            \n",
    "        if s.solve():\n",
    "            print(\"invariante a não é valido\")\n",
    "            return\n",
    "        print(\"invariante a valido\")\n",
    "\n",
    "def testinvb(n,p,k,trans,inv):\n",
    "    \n",
    "    with Solver(name=\"z3\") as s:\n",
    "        \n",
    "        lista  = []\n",
    "        x = init(n,p)\n",
    "        lista.append(x)        \n",
    "            \n",
    "        for i in range(k):\n",
    "            x = trans(x,n)\n",
    "            lista.append(x)\n",
    "            \n",
    "       \n",
    "        \n",
    "        s.add_assertion(Not(And([inv(lista,n,a,b) for a in range(n) for b in range(n)])))\n",
    "            \n",
    "        if s.solve():\n",
    "            print(\"invariante b não é valido\")\n",
    "            return\n",
    "        print(\"invariante b valido\")\n",
    "        \n",
    "testinva(10,0.5,10,trans,pelomenosumaviva) \n",
    "testinvb(10,0.5,10,trans,vivaumavez) "
   ]
  },
  {
   "cell_type": "code",
   "execution_count": null,
   "id": "ce9b7f55",
   "metadata": {},
   "outputs": [],
   "source": []
  }
 ],
 "metadata": {
  "kernelspec": {
   "display_name": "Python 3 (ipykernel)",
   "language": "python",
   "name": "python3"
  },
  "language_info": {
   "codemirror_mode": {
    "name": "ipython",
    "version": 3
   },
   "file_extension": ".py",
   "mimetype": "text/x-python",
   "name": "python",
   "nbconvert_exporter": "python",
   "pygments_lexer": "ipython3",
   "version": "3.10.6"
  }
 },
 "nbformat": 4,
 "nbformat_minor": 5
}
