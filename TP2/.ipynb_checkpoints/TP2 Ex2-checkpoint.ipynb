{
 "cells": [
  {
   "cell_type": "markdown",
   "id": "fe719dcc",
   "metadata": {},
   "source": [
    "# TP 1 EX 2\n",
    "Grupo 5:\n",
    "     \n",
    "     Breno Fernando Guerra Marrão A97768\n",
    "     \n",
    "     Tales André Rovaris Machado A96314"
   ]
  },
  {
   "cell_type": "markdown",
   "id": "fb371e83",
   "metadata": {},
   "source": [
    "## Inicialização\n",
    "Usamos as bibliotecas pysmt e numpy para resovler o problema de alocação proposto "
   ]
  },
  {
   "cell_type": "code",
   "execution_count": 1,
   "id": "0456c1bd",
   "metadata": {},
   "outputs": [],
   "source": [
    "from pysmt.shortcuts import *\n",
    "from pysmt.typing import BOOL\n",
    "import numpy\n"
   ]
  },
  {
   "cell_type": "markdown",
   "id": "968cad23",
   "metadata": {},
   "source": [
    "## Implementação\n",
    "\n",
    "A seguinte função cria a variável x de acordo com a probabilidade p da borda e o tamanho n"
   ]
  },
  {
   "cell_type": "code",
   "execution_count": 19,
   "id": "1d4c114e",
   "metadata": {},
   "outputs": [],
   "source": [
    "def declare(n):\n",
    "    x = {}\n",
    "    for i in range(n):\n",
    "        for j in range(n):\n",
    "            x[i,j] = Symbol('x'+str(i)+','+str(j),INT)\n",
    "    return x"
   ]
  },
  {
   "cell_type": "code",
   "execution_count": 3,
   "id": "7017fe7a",
   "metadata": {},
   "outputs": [],
   "source": [
    "def init(x,n,p,s):\n",
    "    \n",
    "    for i in range(0,n):\n",
    "         s.add_assertion(Equals(x[i,0] , numpy.random.choice([Int(0),Int(1)], p=[p,1-p])))\n",
    "        \n",
    "    for j in range(1,n):\n",
    "        s.add_assertion(Equals(x[0,j] , numpy.random.choice([Int(0),Int(1)], p=[p,1-p])))\n",
    "    c = []\n",
    "    centro = (numpy.random.choice(numpy.arange(2, n-1)),numpy.random.choice(numpy.arange(2, n-1)))\n",
    "    c.append(centro)\n",
    "    print(centro)\n",
    "    for i in range(-1,2):\n",
    "        for j in range(-1,2):\n",
    "            \n",
    "            a = centro[0]+i\n",
    "            b = centro[1]+j\n",
    "            c.append((a,b))\n",
    "            \n",
    "            s.add_assertion(Equals(x[a,b], Int(1)))\n",
    "   \n",
    "    for i in range(1,n):\n",
    "        for j in range(1,n):\n",
    "            if (i,j) not in c:\n",
    "                s.add_assertion(Equals(x[i,j] , Int(0)))\n",
    "    return x"
   ]
  },
  {
   "cell_type": "markdown",
   "id": "a08db23e",
   "metadata": {},
   "source": [
    "Função que retorna o número de vizinhos vivos em uma certa posição (a,b) na matriz curr de tamanho n."
   ]
  },
  {
   "cell_type": "code",
   "execution_count": 4,
   "id": "75f36b38",
   "metadata": {},
   "outputs": [],
   "source": [
    "def checavizinhos(curr,a,b,n):\n",
    "    if a == n-1:\n",
    "        arr1 = [-1,0]\n",
    "    else:\n",
    "        arr1 = [-1,0,1]\n",
    "    if b == n-1:\n",
    "        arr2 = [-1,0]\n",
    "    else:\n",
    "        arr2 = [-1,0,1]\n",
    "    \n",
    "    aux = []\n",
    "    for i in arr1:\n",
    "        for j in arr2:\n",
    "            if not(j==0 and i==0):\n",
    "                #print(i,j)\n",
    "                aux.append(curr[i+a,j+b])\n",
    "    return sum(aux)"
   ]
  },
  {
   "cell_type": "code",
   "execution_count": 5,
   "id": "c27f2e46",
   "metadata": {},
   "outputs": [],
   "source": [
    "def vive(c):\n",
    "    x = Ite(Or(Equals(c,Int(2)),Equals(c,Int(3))),Int(1),Int(0))\n",
    "    \n",
    "    return x\n",
    "def morre(c):\n",
    "    x = Ite(Equals(c,Int(3)),Int(1),Int(0))\n",
    "    \n",
    "    return x"
   ]
  },
  {
   "cell_type": "markdown",
   "id": "0bccf453",
   "metadata": {},
   "source": [
    "Função de transição da matriz curr para uma nova matriz fazendo a transição de cada celula .\n",
    "$$\n",
    "\\forall {i,j} < n \\quad if \\sum checavizinhos(i,j) \\in [2,3] \\quad then\\quad x_{i,j} = True \\quad else \\quad x_{i,j}= False\n",
    "$$"
   ]
  },
  {
   "cell_type": "code",
   "execution_count": 6,
   "id": "f485d3d4",
   "metadata": {},
   "outputs": [],
   "source": [
    "def trans(curr,currnew,n,s):\n",
    "    \n",
    "    for i in range(n):\n",
    "        s.add_assertion(Equals(currnew[i,0] , curr[i,0]))\n",
    "    for j in range(n):\n",
    "        s.add_assertion(Equals(currnew[0,j] , curr[0,j]))\n",
    "    for i in range(1,n):\n",
    "        for j in range(1,n):\n",
    "            c = checavizinhos(curr,i,j,n)\n",
    "            \n",
    "\n",
    "            currnew[i,j] = Ite(Equals(curr[i,j],Int(1)),vive(c),morre(c))"
   ]
  },
  {
   "cell_type": "markdown",
   "id": "4672383b",
   "metadata": {},
   "source": [
    "Função que roda a transição k vezes"
   ]
  },
  {
   "cell_type": "code",
   "execution_count": 7,
   "id": "57901388",
   "metadata": {},
   "outputs": [
    {
     "name": "stdout",
     "output_type": "stream",
     "text": [
      "(13, 8)\n"
     ]
    }
   ],
   "source": [
    "def roda(n,p,k,trans):\n",
    "    with Solver(name=\"z3\") as s:\n",
    "    \n",
    "        st = []\n",
    "    \n",
    "        for x in range (k):\n",
    "            st.append(declare(n))\n",
    "\n",
    "        init(st[0],n,p,s)\n",
    "    \n",
    "        for i in range(k-1):\n",
    "            trans(st[i],st[i+1],n,s)\n",
    "    \n",
    "        if s.solve():\n",
    "        \n",
    "            for h in range(k):\n",
    "                for i in range(n):\n",
    "                    for j in range(n):\n",
    "                        if s.get_value(st[h][i,j]) == Int(1):\n",
    "                            print(\"X\",end=\"|\")\n",
    "                        else:\n",
    "                            print(\".\",end=\"|\")\n",
    "                    print()\n",
    "                print(\"-------------\")\n"
   ]
  },
  {
   "cell_type": "code",
   "execution_count": 20,
   "id": "0d9dd2a2",
   "metadata": {},
   "outputs": [
    {
     "name": "stdout",
     "output_type": "stream",
     "text": [
      "(4, 4)\n",
      ".|X|X|X|.|X|X|.|X|X|.|X|\n",
      "X|.|.|.|.|.|.|.|.|.|.|.|\n",
      "X|.|.|.|.|.|.|.|.|.|.|.|\n",
      ".|.|.|X|X|X|.|.|.|.|.|.|\n",
      ".|.|.|X|X|X|.|.|.|.|.|.|\n",
      ".|.|.|X|X|X|.|.|.|.|.|.|\n",
      ".|.|.|.|.|.|.|.|.|.|.|.|\n",
      "X|.|.|.|.|.|.|.|.|.|.|.|\n",
      ".|.|.|.|.|.|.|.|.|.|.|.|\n",
      "X|.|.|.|.|.|.|.|.|.|.|.|\n",
      ".|.|.|.|.|.|.|.|.|.|.|.|\n",
      "X|.|.|.|.|.|.|.|.|.|.|.|\n",
      "-------------\n",
      ".|X|X|X|.|X|X|.|X|X|.|X|\n",
      "X|.|X|.|.|.|.|.|.|.|.|.|\n",
      "X|.|.|.|X|.|.|.|.|.|.|.|\n",
      ".|.|.|X|.|X|.|.|.|.|.|.|\n",
      ".|.|X|.|.|.|X|.|.|.|.|.|\n",
      ".|.|.|X|.|X|.|.|.|.|.|.|\n",
      ".|.|.|.|X|.|.|.|.|.|.|.|\n",
      "X|.|.|.|.|.|.|.|.|.|.|.|\n",
      ".|.|.|.|.|.|.|.|.|.|.|.|\n",
      "X|.|.|.|.|.|.|.|.|.|.|.|\n",
      ".|.|.|.|.|.|.|.|.|.|.|.|\n",
      "X|.|.|.|.|.|.|.|.|.|.|.|\n",
      "-------------\n",
      ".|X|X|X|.|X|X|.|X|X|.|X|\n",
      "X|.|X|.|X|X|.|.|.|.|.|.|\n",
      "X|X|.|X|X|.|.|.|.|.|.|.|\n",
      ".|.|.|X|X|X|.|.|.|.|.|.|\n",
      ".|.|X|X|.|X|X|.|.|.|.|.|\n",
      ".|.|.|X|X|X|.|.|.|.|.|.|\n",
      ".|.|.|.|X|.|.|.|.|.|.|.|\n",
      "X|.|.|.|.|.|.|.|.|.|.|.|\n",
      ".|.|.|.|.|.|.|.|.|.|.|.|\n",
      "X|.|.|.|.|.|.|.|.|.|.|.|\n",
      ".|.|.|.|.|.|.|.|.|.|.|.|\n",
      "X|.|.|.|.|.|.|.|.|.|.|.|\n",
      "-------------\n",
      ".|X|X|X|.|X|X|.|X|X|.|X|\n",
      "X|.|.|.|.|.|X|.|.|.|.|.|\n",
      "X|X|.|.|.|.|.|.|.|.|.|.|\n",
      ".|X|.|.|.|.|X|.|.|.|.|.|\n",
      ".|.|X|.|.|.|X|.|.|.|.|.|\n",
      ".|.|X|.|.|.|X|.|.|.|.|.|\n",
      ".|.|.|X|X|X|.|.|.|.|.|.|\n",
      "X|.|.|.|.|.|.|.|.|.|.|.|\n",
      ".|.|.|.|.|.|.|.|.|.|.|.|\n",
      "X|.|.|.|.|.|.|.|.|.|.|.|\n",
      ".|.|.|.|.|.|.|.|.|.|.|.|\n",
      "X|.|.|.|.|.|.|.|.|.|.|.|\n",
      "-------------\n",
      ".|X|X|X|.|X|X|.|X|X|.|X|\n",
      "X|.|.|.|.|X|X|X|.|.|.|.|\n",
      "X|X|.|.|.|.|.|.|.|.|.|.|\n",
      ".|X|X|.|.|.|.|.|.|.|.|.|\n",
      ".|X|X|.|.|X|X|X|.|.|.|.|\n",
      ".|.|X|.|X|.|X|.|.|.|.|.|\n",
      ".|.|.|X|X|X|.|.|.|.|.|.|\n",
      "X|.|.|.|X|.|.|.|.|.|.|.|\n",
      ".|.|.|.|.|.|.|.|.|.|.|.|\n",
      "X|.|.|.|.|.|.|.|.|.|.|.|\n",
      ".|.|.|.|.|.|.|.|.|.|.|.|\n",
      "X|.|.|.|.|.|.|.|.|.|.|.|\n",
      "-------------\n",
      ".|X|X|X|.|X|X|.|X|X|.|X|\n",
      "X|.|.|.|X|X|.|X|X|.|.|.|\n",
      "X|.|X|.|.|.|X|.|.|.|.|.|\n",
      ".|.|.|.|.|.|X|.|.|.|.|.|\n",
      ".|.|.|.|.|X|X|X|.|.|.|.|\n",
      ".|X|X|.|.|.|.|X|.|.|.|.|\n",
      ".|.|.|.|.|.|.|.|.|.|.|.|\n",
      "X|.|.|X|X|X|.|.|.|.|.|.|\n",
      ".|.|.|.|.|.|.|.|.|.|.|.|\n",
      "X|.|.|.|.|.|.|.|.|.|.|.|\n",
      ".|.|.|.|.|.|.|.|.|.|.|.|\n",
      "X|.|.|.|.|.|.|.|.|.|.|.|\n",
      "-------------\n",
      ".|X|X|X|.|X|X|.|X|X|.|X|\n",
      "X|.|.|.|X|.|.|.|X|X|.|.|\n",
      "X|X|.|.|.|.|X|.|.|.|.|.|\n",
      ".|.|.|.|.|.|.|.|.|.|.|.|\n",
      ".|.|.|.|.|X|.|X|.|.|.|.|\n",
      ".|.|.|.|.|.|.|X|.|.|.|.|\n",
      ".|X|X|X|X|.|.|.|.|.|.|.|\n",
      "X|.|.|.|X|.|.|.|.|.|.|.|\n",
      ".|.|.|.|X|.|.|.|.|.|.|.|\n",
      "X|.|.|.|.|.|.|.|.|.|.|.|\n",
      ".|.|.|.|.|.|.|.|.|.|.|.|\n",
      "X|.|.|.|.|.|.|.|.|.|.|.|\n",
      "-------------\n",
      ".|X|X|X|.|X|X|.|X|X|.|X|\n",
      "X|.|.|X|X|.|X|.|X|X|X|.|\n",
      "X|X|.|.|.|.|.|.|.|.|.|.|\n",
      ".|.|.|.|.|.|X|.|.|.|.|.|\n",
      ".|.|.|.|.|.|X|.|.|.|.|.|\n",
      ".|.|X|X|X|.|X|.|.|.|.|.|\n",
      ".|X|X|X|X|.|.|.|.|.|.|.|\n",
      "X|X|X|.|X|X|.|.|.|.|.|.|\n",
      ".|.|.|.|.|.|.|.|.|.|.|.|\n",
      "X|.|.|.|.|.|.|.|.|.|.|.|\n",
      ".|.|.|.|.|.|.|.|.|.|.|.|\n",
      "X|.|.|.|.|.|.|.|.|.|.|.|\n",
      "-------------\n"
     ]
    }
   ],
   "source": [
    "roda(12,0.5,8,trans)"
   ]
  },
  {
   "cell_type": "markdown",
   "id": "19a0ebe2",
   "metadata": {},
   "source": [
    "## Invariantes\n",
    "Todos os estados acessíveis contém pelo menos uma célula viva\n",
    "$$\\sum_{1 < a< n,1 < b< n} x_{a,b} \\ge 1$$\n",
    "Toda a célula normal está viva pelo menos uma vez em algum estado acessível\n",
    "$$\\forall_{1 < a< n}  \\cdot \\forall_{1 < b< n}\\quad \\sum_{x \\in lista} x_{a,b} \\ge 1$$"
   ]
  },
  {
   "cell_type": "code",
   "execution_count": 8,
   "id": "7e5f7034",
   "metadata": {},
   "outputs": [],
   "source": [
    "def pelomenosumaviva(x,n):\n",
    "    for a in range(1,n):\n",
    "        for b in range(1,n):\n",
    "            if x[a,b]==Int(1):\n",
    "                return TRUE()\n",
    "    return FALSE()"
   ]
  },
  {
   "cell_type": "markdown",
   "id": "a9e7dac8",
   "metadata": {},
   "source": [
    "Toda a célula normal está viva pelo menos uma vez em algum estado acessível\n",
    "$$\\forall_{1 < a< n}  \\cdot \\forall_{1 < b< n}\\quad \\sum_{x \\in lista} x_{a,b} \\ge 1$$"
   ]
  },
  {
   "cell_type": "code",
   "execution_count": 9,
   "id": "6506cfe1",
   "metadata": {},
   "outputs": [],
   "source": [
    "def vivaumavez(lista,n,a,b):\n",
    "    for x in lista:\n",
    "        if x[a,b]==Int(1):\n",
    "            return TRUE()\n",
    "    return FALSE()"
   ]
  },
  {
   "cell_type": "markdown",
   "id": "78ba6c03",
   "metadata": {},
   "source": [
    "Funções que testam os invariantes\n"
   ]
  },
  {
   "cell_type": "code",
   "execution_count": 10,
   "id": "801215f7",
   "metadata": {},
   "outputs": [
    {
     "ename": "TypeError",
     "evalue": "init() missing 2 required positional arguments: 'p' and 's'",
     "output_type": "error",
     "traceback": [
      "\u001b[0;31m---------------------------------------------------------------------------\u001b[0m",
      "\u001b[0;31mTypeError\u001b[0m                                 Traceback (most recent call last)",
      "Input \u001b[0;32mIn [10]\u001b[0m, in \u001b[0;36m<cell line: 38>\u001b[0;34m()\u001b[0m\n\u001b[1;32m     35\u001b[0m             \u001b[38;5;28;01mreturn\u001b[39;00m\n\u001b[1;32m     36\u001b[0m         \u001b[38;5;28mprint\u001b[39m(\u001b[38;5;124m\"\u001b[39m\u001b[38;5;124minvariante b valido\u001b[39m\u001b[38;5;124m\"\u001b[39m)\n\u001b[0;32m---> 38\u001b[0m \u001b[43mtestinva\u001b[49m\u001b[43m(\u001b[49m\u001b[38;5;241;43m10\u001b[39;49m\u001b[43m,\u001b[49m\u001b[38;5;241;43m0.5\u001b[39;49m\u001b[43m,\u001b[49m\u001b[38;5;241;43m10\u001b[39;49m\u001b[43m,\u001b[49m\u001b[43mtrans\u001b[49m\u001b[43m,\u001b[49m\u001b[43mpelomenosumaviva\u001b[49m\u001b[43m)\u001b[49m \n\u001b[1;32m     39\u001b[0m testinvb(\u001b[38;5;241m10\u001b[39m,\u001b[38;5;241m0.5\u001b[39m,\u001b[38;5;241m10\u001b[39m,trans,vivaumavez)\n",
      "Input \u001b[0;32mIn [10]\u001b[0m, in \u001b[0;36mtestinva\u001b[0;34m(n, p, k, trans, inv)\u001b[0m\n\u001b[1;32m      3\u001b[0m \u001b[38;5;28;01mwith\u001b[39;00m Solver(name\u001b[38;5;241m=\u001b[39m\u001b[38;5;124m\"\u001b[39m\u001b[38;5;124mz3\u001b[39m\u001b[38;5;124m\"\u001b[39m) \u001b[38;5;28;01mas\u001b[39;00m s:\n\u001b[1;32m      5\u001b[0m     lista  \u001b[38;5;241m=\u001b[39m []\n\u001b[0;32m----> 6\u001b[0m     x \u001b[38;5;241m=\u001b[39m \u001b[43minit\u001b[49m\u001b[43m(\u001b[49m\u001b[43mn\u001b[49m\u001b[43m,\u001b[49m\u001b[43mp\u001b[49m\u001b[43m)\u001b[49m\n\u001b[1;32m      8\u001b[0m     \u001b[38;5;28;01mfor\u001b[39;00m i \u001b[38;5;129;01min\u001b[39;00m \u001b[38;5;28mrange\u001b[39m(k):\n\u001b[1;32m      9\u001b[0m         x \u001b[38;5;241m=\u001b[39m trans(x,n)\n",
      "\u001b[0;31mTypeError\u001b[0m: init() missing 2 required positional arguments: 'p' and 's'"
     ]
    }
   ],
   "source": [
    "\n",
    "def testinva(n,p,k,trans,inv):\n",
    "    \n",
    "    with Solver(name=\"z3\") as s:\n",
    "        \n",
    "        lista  = []\n",
    "        x = init(n,p)\n",
    "            \n",
    "        for i in range(k):\n",
    "            x = trans(x,n)\n",
    "            s.add_assertion(Not(inv(x,n)))\n",
    "            \n",
    "        if s.solve():\n",
    "            print(\"invariante a não é valido\")\n",
    "            return\n",
    "        print(\"invariante a valido\")\n",
    "\n",
    "def testinvb(n,p,k,trans,inv):\n",
    "    \n",
    "    with Solver(name=\"z3\") as s:\n",
    "        \n",
    "        lista  = []\n",
    "        x = init(n,p)\n",
    "        lista.append(x)        \n",
    "            \n",
    "        for i in range(k):\n",
    "            x = trans(x,n)\n",
    "            lista.append(x)\n",
    "            \n",
    "       \n",
    "        \n",
    "        s.add_assertion(Not(And([inv(lista,n,a,b) for a in range(n) for b in range(n)])))\n",
    "            \n",
    "        if s.solve():\n",
    "            print(\"invariante b não é valido\")\n",
    "            return\n",
    "        print(\"invariante b valido\")\n",
    "        \n",
    "testinva(10,0.5,10,trans,pelomenosumaviva) \n",
    "testinvb(10,0.5,10,trans,vivaumavez) "
   ]
  },
  {
   "cell_type": "markdown",
   "id": "c7453e50",
   "metadata": {},
   "source": [
    "## Testes "
   ]
  },
  {
   "cell_type": "markdown",
   "id": "dc64efce",
   "metadata": {},
   "source": [
    "podemos observar neste caso que em 20 passos diferentes multiplas celulas tem celulas mortas sempre, mostrando que o invariante b não é valido"
   ]
  },
  {
   "cell_type": "code",
   "execution_count": null,
   "id": "42a33bb2",
   "metadata": {},
   "outputs": [],
   "source": [
    "roda(20,0.5,50,trans)\n"
   ]
  },
  {
   "cell_type": "code",
   "execution_count": null,
   "id": "a468d310",
   "metadata": {},
   "outputs": [],
   "source": []
  }
 ],
 "metadata": {
  "kernelspec": {
   "display_name": "Python 3 (ipykernel)",
   "language": "python",
   "name": "python3"
  },
  "language_info": {
   "codemirror_mode": {
    "name": "ipython",
    "version": 3
   },
   "file_extension": ".py",
   "mimetype": "text/x-python",
   "name": "python",
   "nbconvert_exporter": "python",
   "pygments_lexer": "ipython3",
   "version": "3.10.6"
  }
 },
 "nbformat": 4,
 "nbformat_minor": 5
}
