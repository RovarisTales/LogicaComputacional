{
 "cells": [
  {
   "cell_type": "markdown",
   "id": "f00a5e58",
   "metadata": {},
   "source": [
    "# TP 1 EX 1\n",
    "Grupo 5:\n",
    "     \n",
    "     Breno Fernando Guerra Marrão A97768\n",
    "     \n",
    "     Tales André Rovaris Machado A96314"
   ]
  },
  {
   "cell_type": "markdown",
   "id": "d4cd829f",
   "metadata": {},
   "source": [
    "## Inicialização\n",
    "Usamos as bibliotecas pysmt e numpy para resovler o problema de alocação proposto "
   ]
  },
  {
   "cell_type": "code",
   "execution_count": 1,
   "id": "67cd3aea",
   "metadata": {},
   "outputs": [],
   "source": [
    "from pysmt.shortcuts import *\n",
    "from pysmt.typing import BOOL\n",
    "import numpy\n"
   ]
  },
  {
   "cell_type": "markdown",
   "id": "6197926f",
   "metadata": {},
   "source": [
    "## Implementação\n",
    "\n",
    "A seguinte função cria a variável x de acordo com a probabilidade p da borda e o tamanho n"
   ]
  },
  {
   "cell_type": "code",
   "execution_count": null,
   "id": "d19b520a",
   "metadata": {},
   "outputs": [],
   "source": [
    "def init(n,p):\n",
    "    x = {}\n",
    "    for i in range(n):\n",
    "        x[i,0] = numpy.random.choice([TRUE(),FALSE()], p=[p,1-p])\n",
    "    for j in range(n):\n",
    "        x[0,j] = numpy.random.choice([TRUE(),FALSE()], p=[p,1-p])\n",
    "    for i in range(1,n):\n",
    "        for j in range(1,n):\n",
    "            x[i,j] = FALSE()\n",
    "    centro = (numpy.random.choice(numpy.arange(2, n-1)),numpy.random.choice(numpy.arange(2, n-1)))\n",
    "    for i in range(-1,2):\n",
    "        for j in range(-1,2):\n",
    "            a = centro[0]+i\n",
    "            b = centro[0]+j\n",
    "            x[a,b] = TRUE()\n",
    "    \n",
    "    return x"
   ]
  },
  {
   "cell_type": "code",
   "execution_count": null,
   "id": "a02250c1",
   "metadata": {},
   "outputs": [],
   "source": [
    "Função que retorna o número de vizinhos vivos em uma certa posição (a,b) na matriz curr de tamanho n."
   ]
  },
  {
   "cell_type": "code",
   "execution_count": null,
   "id": "60250d24",
   "metadata": {},
   "outputs": [],
   "source": [
    "def checavizinhos(curr,a,b,n):\n",
    "    if a == n-1:\n",
    "        arr1 = [-1,0]\n",
    "    else:\n",
    "        arr1 = [-1,0,1]\n",
    "    if b == n-1:\n",
    "        arr2 = [-1,0]\n",
    "    else:\n",
    "        arr2 = [-1,0,1]\n",
    "    c = 0\n",
    "    for i in arr1:\n",
    "        for j in arr2:\n",
    "            if curr[a+i,b+j]==TRUE():\n",
    "                c += 1\n",
    "    if curr[a,b]==TRUE():\n",
    "        c -= 1\n",
    "    return c"
   ]
  },
  {
   "cell_type": "code",
   "execution_count": null,
   "id": "036d9ae9",
   "metadata": {},
   "outputs": [],
   "source": [
    "Função de transição da matriz curr para uma nova matriz"
   ]
  },
  {
   "cell_type": "code",
   "execution_count": 2,
   "id": "da000484",
   "metadata": {},
   "outputs": [
    {
     "ename": "NameError",
     "evalue": "name 'currnew' is not defined",
     "output_type": "error",
     "traceback": [
      "\u001b[0;31m---------------------------------------------------------------------------\u001b[0m",
      "\u001b[0;31mNameError\u001b[0m                                 Traceback (most recent call last)",
      "Input \u001b[0;32mIn [2]\u001b[0m, in \u001b[0;36m<cell line: 116>\u001b[0;34m()\u001b[0m\n\u001b[1;32m    114\u001b[0m             \u001b[38;5;28;01mreturn\u001b[39;00m\n\u001b[1;32m    115\u001b[0m         \u001b[38;5;28mprint\u001b[39m(\u001b[38;5;124m\"\u001b[39m\u001b[38;5;124minvariante valido\u001b[39m\u001b[38;5;124m\"\u001b[39m)\n\u001b[0;32m--> 116\u001b[0m \u001b[43mtestinvb\u001b[49m\u001b[43m(\u001b[49m\u001b[38;5;241;43m10\u001b[39;49m\u001b[43m,\u001b[49m\u001b[38;5;241;43m0.5\u001b[39;49m\u001b[43m,\u001b[49m\u001b[38;5;241;43m10\u001b[39;49m\u001b[43m,\u001b[49m\u001b[43mtrans\u001b[49m\u001b[43m,\u001b[49m\u001b[43mvivaumavez\u001b[49m\u001b[43m)\u001b[49m\n",
      "Input \u001b[0;32mIn [2]\u001b[0m, in \u001b[0;36mtestinvb\u001b[0;34m(n, p, k, trans, inv)\u001b[0m\n\u001b[1;32m    101\u001b[0m \u001b[38;5;66;03m#s.add_assertion(Not(inv(x,n)))\u001b[39;00m\n\u001b[1;32m    104\u001b[0m \u001b[38;5;28;01mfor\u001b[39;00m i \u001b[38;5;129;01min\u001b[39;00m \u001b[38;5;28mrange\u001b[39m(k):\n\u001b[0;32m--> 105\u001b[0m     x \u001b[38;5;241m=\u001b[39m \u001b[43mtrans\u001b[49m\u001b[43m(\u001b[49m\u001b[43mx\u001b[49m\u001b[43m,\u001b[49m\u001b[43mn\u001b[49m\u001b[43m)\u001b[49m\n\u001b[1;32m    106\u001b[0m     lista\u001b[38;5;241m.\u001b[39mappend(x)\n\u001b[1;32m    110\u001b[0m s\u001b[38;5;241m.\u001b[39madd_assertion(Not(And([inv(lista,n,a,b) \u001b[38;5;28;01mfor\u001b[39;00m a \u001b[38;5;129;01min\u001b[39;00m \u001b[38;5;28mrange\u001b[39m(n) \u001b[38;5;28;01mfor\u001b[39;00m b \u001b[38;5;129;01min\u001b[39;00m \u001b[38;5;28mrange\u001b[39m(n)])))\n",
      "Input \u001b[0;32mIn [2]\u001b[0m, in \u001b[0;36mtrans\u001b[0;34m(curr, n)\u001b[0m\n\u001b[1;32m     55\u001b[0m             \u001b[38;5;28;01melse\u001b[39;00m:\n\u001b[1;32m     56\u001b[0m                 prox[i,j] \u001b[38;5;241m=\u001b[39m FALSE()\n\u001b[0;32m---> 57\u001b[0m \u001b[38;5;28;01mreturn\u001b[39;00m \u001b[43mcurrnew\u001b[49m\n",
      "\u001b[0;31mNameError\u001b[0m: name 'currnew' is not defined"
     ]
    }
   ],
   "source": [
    "\n",
    "\n",
    "def trans(curr,n):\n",
    "    currnew = {}\n",
    "    for i in range(n):\n",
    "        currnew[i,0] = curr[i,0]\n",
    "    for j in range(n):\n",
    "        currnew[0,j] = curr[0,j]\n",
    "    for i in range(1,n):\n",
    "        for j in range(1,n):\n",
    "            c = checavizinhos(curr,i,j,n)\n",
    "            if curr[i,j]==TRUE():\n",
    "                if c not in [2,3]:\n",
    "                    currnew[i,j] = FALSE()\n",
    "                else:\n",
    "                    currnew[i,j] = TRUE()\n",
    "            else:\n",
    "                if c == 3:\n",
    "                    currnew[i,j] = TRUE()\n",
    "                else:\n",
    "                    currnew[i,j] = FALSE()\n",
    "    return currnew\n",
    "#print(a)\n",
    "\n",
    "#printM(a,8)\n",
    "#b = trans(a,8)\n",
    "#print(\"-------------------\")\n",
    "#printM(b,8)                    \n",
    "                    \n",
    "def printM(x,n):\n",
    "    for i in range(n):\n",
    "        for j in range(n):\n",
    "            if (x[i,j]==TRUE()):\n",
    "                print(\"X\" , end = \"|\")\n",
    "            else:\n",
    "                print(\".\", end = \"|\")\n",
    "        print()\n",
    "                \n",
    "    \n",
    "    \n",
    "    \n",
    "    \n",
    "def roda(n,p,k,trans):\n",
    "    x = init(n,p)\n",
    "    printM(x,n)\n",
    "    for i in range(k):\n",
    "        x = trans(x,n)\n",
    "        printM(x,n)\n",
    "        print(\"---------\")\n",
    "\n",
    "#roda(50,0.5,10)\n",
    "def vivaumavez(lista,n,a,b):\n",
    "    for x in lista:\n",
    "        if x[a,b]==TRUE():\n",
    "            return True\n",
    "    return False\n",
    "    \n",
    "    \n",
    "def testinvb(n,p,k,trans,inv):\n",
    "    \n",
    "    with Solver(name=\"z3\") as s:\n",
    "        \n",
    "        lista  = []\n",
    "        x = init(n,p)\n",
    "        lista.append(x)\n",
    "        #s.add_assertion(Not(inv(x,n)))\n",
    "        \n",
    "            \n",
    "        for i in range(k):\n",
    "            x = trans(x,n)\n",
    "            lista.append(x)\n",
    "            \n",
    "       \n",
    "        \n",
    "        s.add_assertion(Not(And([inv(lista,n,a,b) for a in range(n) for b in range(n)])))\n",
    "            \n",
    "        if s.solve():\n",
    "            print(\"invariante não é valido\")\n",
    "            return\n",
    "        print(\"invariante valido\")\n",
    "testinvb(10,0.5,10,trans,vivaumavez)    "
   ]
  },
  {
   "cell_type": "code",
   "execution_count": null,
   "id": "6506cfe1",
   "metadata": {},
   "outputs": [],
   "source": []
  }
 ],
 "metadata": {
  "kernelspec": {
   "display_name": "Python 3 (ipykernel)",
   "language": "python",
   "name": "python3"
  },
  "language_info": {
   "codemirror_mode": {
    "name": "ipython",
    "version": 3
   },
   "file_extension": ".py",
   "mimetype": "text/x-python",
   "name": "python",
   "nbconvert_exporter": "python",
   "pygments_lexer": "ipython3",
   "version": "3.10.6"
  }
 },
 "nbformat": 4,
 "nbformat_minor": 5
}
