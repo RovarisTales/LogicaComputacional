{
 "cells": [
  {
   "cell_type": "markdown",
   "id": "67ea5047",
   "metadata": {},
   "source": [
    "### TP 1 EX 1\n",
    "Grupo 5:\n",
    "     \n",
    "     Breno Fernando Guerra Marrão A97768\n",
    "     \n",
    "     Tales André Rovaris Machado A96314\n"
   ]
  },
  {
   "cell_type": "markdown",
   "id": "88427f95",
   "metadata": {},
   "source": [
    "## Inicialização\n",
    "Usamos as bibliotecas pysmt para resovler o problema de alocação proposto "
   ]
  },
  {
   "cell_type": "code",
   "execution_count": 1,
   "id": "120efaab",
   "metadata": {},
   "outputs": [],
   "source": [
    "from pysmt.shortcuts import *\n",
    "from pysmt.typing import INT\n"
   ]
  },
  {
   "cell_type": "markdown",
   "id": "23f54b4c",
   "metadata": {},
   "source": [
    "## Transformando CFA em um ciclo while\n",
    "\n",
    "```Python\n",
    "0:{ z == 0 and y >= 0 }\n",
    "1: while (while y != 0:):\n",
    "2:    if y % 2: \n",
    "        x = 2*x\n",
    "        y = y/2\n",
    "        if overflow:\n",
    "5:           OVERFLOW   \n",
    "3:     else:\n",
    "        y = y-1\n",
    "        z = z+x\n",
    "                     \n",
    "4: stop\n",
    "```"
   ]
  },
  {
   "cell_type": "markdown",
   "id": "851ccaeb",
   "metadata": {},
   "source": [
    "## Transições\n",
    "\n",
    "O estado inicial é caracterizado pelo seguinte predicado:\n",
    "\n",
    "$$\n",
    "\\mathit{z} = 0 \\wedge {pc} = 0  \\wedge {y}\\ge 0\n",
    "$$\n",
    "\n",
    "As transições possíveis no FOTS são caracterizadas pelo seguinte predicado:\n",
    "$$\n",
    "\\begin{array}{c}\n",
    "(\\mathit{pc} = 0 \\wedge \\mathit{pc}' = 1 \\wedge x' = x \\wedge y' = y \\wedge z' = z)\\\\\n",
    "\\vee\\\\\n",
    "(\\mathit{pc} = 1 \\wedge \\mathit{pc}' = 2 \\wedge y \\mod 2 = 0 \\wedge x' = x \\wedge y' = y \\wedge z' = z) \\\\\n",
    "\\vee\\\\\n",
    "(\\mathit{pc} = 2 \\wedge \\mathit{pc}' = 1 \\wedge x' \\ge x \\wedge x' = x * 2 \\wedge y' = y \\div 2 \\wedge z' = z) \\\\\n",
    "\\vee\\\\\n",
    "(\\mathit{pc} = 2 \\wedge \\mathit{pc}' = 5 \\wedge x > x * 2 \\wedge x' = x * 2 \\wedge y' = y \\div 2 \\wedge z' = z) \\\\\n",
    "\\vee\\\\\n",
    "(\\mathit{pc} = 5 \\wedge \\mathit{pc}' = 5 \\wedge x' = x \\wedge y' = y \\div 2 \\wedge z' = z) \\\\\n",
    "\\vee\\\\\n",
    "(\\mathit{pc} = 1 \\wedge \\mathit{pc}' = 3 \\wedge  y \\mod 2 = 1 \\wedge  x' = x \\wedge y' = y \\div 2 \\wedge z' = z) \\\\\n",
    "\\vee\\\\\n",
    "(\\mathit{pc} = 3 \\wedge \\mathit{pc}' = 1 \\wedge  x' = x \\wedge y' = y - 1 \\wedge z' = z + x) \\\\\n",
    "\\vee\\\\\n",
    "(\\mathit{pc} = 1 \\wedge \\mathit{pc}' = 4 \\wedge y = 0 \\wedge  x' = x \\wedge y' = y - 1 \\wedge z' = z + x) \\\\\n",
    "\\vee\\\\\n",
    "(\\mathit{pc} = 4 \\wedge \\mathit{pc}' = 4  \\wedge  x' = x \\wedge y' = y \\wedge z' = z) \\\\\n",
    "\\vee\\\\\n",
    "\\end{array}\n",
    "$$\n",
    "\n",
    "PRECISA ALTERAR T1 e T3 Y != 0 CONDIÇÂO TALES  "
   ]
  },
  {
   "cell_type": "markdown",
   "id": "0c92e75a",
   "metadata": {},
   "source": [
    "## Implementação\n",
    "\n",
    "A seguinte função cria a $i$-ésima cópia das variáveis de estado, agrupadas num dicionário que nos permite aceder às mesmas pelo nome."
   ]
  },
  {
   "cell_type": "code",
   "execution_count": null,
   "id": "a38eea66",
   "metadata": {},
   "outputs": [],
   "source": [
    "def declare(i,n):\n",
    "    state = {}\n",
    "    state['pc'] = Symbol('pc'+str(i),INT)\n",
    "    state['x'] = Symbol('x'+str(i),BVType(n))\n",
    "    state['y'] = Symbol('y'+str(i),BVType(n))\n",
    "    state['z'] = Symbol('z'+str(i),INT)\n",
    "    return state"
   ]
  },
  {
   "cell_type": "markdown",
   "id": "6f46513a",
   "metadata": {},
   "source": [
    "Função que dado um possível estado do programa , devolve um predicado do pySMT que testa se esse estado é um possível estado inicial do programa"
   ]
  },
  {
   "cell_type": "code",
   "execution_count": 11,
   "id": "c192ce48",
   "metadata": {},
   "outputs": [],
   "source": [
    "def init(state,a,b,n):\n",
    "    \n",
    "    return And(Equals(state['x'],BV(a,n)),\n",
    "               Equals(state['y'],BV(b,n)),\n",
    "               Equals(state['z'],Int(0)),\n",
    "               Equals(state['pc'],Int(0)))"
   ]
  },
  {
   "cell_type": "markdown",
   "id": "ace82ce7",
   "metadata": {},
   "source": [
    "Função `trans` que, dados dois possíveis estados do programa, devolve um predicado do pySMT que testa se é possível transitar do primeiro para o segundo"
   ]
  },
  {
   "cell_type": "code",
   "execution_count": null,
   "id": "17d9421f",
   "metadata": {},
   "outputs": [],
   "source": [
    "def trans(curr,prox,bv2,n):\n",
    "    bv1 = BVOne(n)\n",
    "    t0 = And(Equals(curr['pc'],Int(0)),\n",
    "             Equals(prox['pc'],Int(1)),\n",
    "             Equals(curr['x'],prox['x']),\n",
    "             Equals(curr['y'],prox['y']),\n",
    "             Equals(curr['z'],prox['z'])) \n",
    "    \n",
    "    t1 = And(Equals(curr['pc'],Int(1)),\n",
    "             Equals(BVAdd(curr['y'],bv1),BVXor(curr['y'],bv1)),\n",
    "             Not(Equals(prox['y'],BVZero(n))),\n",
    "             Equals(prox['pc'],Int(2)),\n",
    "             Equals(curr['x'],prox['x']),\n",
    "             Equals(curr['y'],prox['y']),\n",
    "             Equals(curr['z'],prox['z']))\n",
    "    \n",
    "    t2 = And(Equals(curr['pc'],Int(2)),\n",
    "             Equals(prox['pc'],Int(1)),\n",
    "             BVUGE(prox['x'],curr['x']),\n",
    "             Equals(BVMul(curr['x'],bv2),prox['x']),\n",
    "             Equals(BVUDiv(curr['y'],bv2),prox['y']),\n",
    "             Equals(curr['z'],prox['z']))\n",
    "    \n",
    "    te = And(Equals(curr['pc'],Int(2)),\n",
    "             Equals(prox['pc'],Int(5)),\n",
    "             BVUGT(curr['x'],BVMul(curr['x'],bv2)),\n",
    "             Equals(curr['y'],prox['y']),\n",
    "             Equals(curr['z'],prox['z']))\n",
    "    \n",
    "    te2 = And(Equals(curr['pc'],Int(5)),\n",
    "             Equals(prox['pc'],Int(5)),\n",
    "             Equals(curr['x'],prox['x']),\n",
    "             Equals(curr['y'],prox['y']),\n",
    "             Equals(curr['z'],prox['z']))\n",
    "    \n",
    "    t3 = And(Equals(curr['pc'],Int(1)),\n",
    "             Equals(BVSub(curr['y'],bv1),BVXor(curr['y'],bv1)),\n",
    "             Not(Equals(prox['y'],BVZero(n))),\n",
    "             Equals(prox['pc'],Int(3)),\n",
    "             Equals(curr['x'],prox['x']),\n",
    "             Equals(curr['y'],prox['y']),\n",
    "             Equals(curr['z'],prox['z']))\n",
    "    \n",
    "    t4 = And(Equals(curr['pc'],Int(3)),\n",
    "             Equals(prox['pc'],Int(1)),\n",
    "             Equals(curr['x'],prox['x']),\n",
    "             Equals(BVSub(curr['y'],BVOne(n)),prox['y']),\n",
    "             Equals(curr['z']+BVToNatural(curr['x']),prox['z']))\n",
    "    \n",
    "    t5 = And(Equals(curr['pc'],Int(1)),\n",
    "             Equals(prox['pc'],Int(4)),\n",
    "             Equals(curr['x'],prox['x']),\n",
    "             Equals(curr['y'],prox['y']),\n",
    "             Equals(curr['z'],prox['z']),\n",
    "             Equals(curr['y'],BVZero(n)))\n",
    "    \n",
    "    t6 = And(Equals(curr['pc'],Int(4)),\n",
    "             Equals(prox['pc'],Int(4)),\n",
    "             Equals(curr['x'],prox['x']),\n",
    "             Equals(curr['y'],prox['y']),\n",
    "             Equals(curr['z'],prox['z']))\n",
    "    \n",
    "    return Or(t1,t2,t3,t0,t4,t5,t6,te,te2)"
   ]
  },
  {
   "cell_type": "markdown",
   "id": "c1fd999e",
   "metadata": {},
   "source": [
    "Função de ordem superior `gera_traco` que, dada uma função que gera uma cópia das variáveis do estado, um predicado que testa se um estado é inicial, um predicado que testa se um par de estados é uma transição válida, e um número positivo `k`, usa o SMT solver para gerar um possível traço de execução do programa de tamanho `k`."
   ]
  },
  {
   "cell_type": "code",
   "execution_count": 9,
   "id": "12ec3783",
   "metadata": {},
   "outputs": [
    {
     "name": "stdout",
     "output_type": "stream",
     "text": [
      "Passo 0\n",
      "pc = 0\n",
      "x = 5_5\n",
      "y = 5_5\n",
      "z = 0\n",
      "Passo 1\n",
      "pc = 1\n",
      "x = 5_5\n",
      "y = 5_5\n",
      "z = 0\n",
      "Passo 2\n",
      "pc = 3\n",
      "x = 5_5\n",
      "y = 5_5\n",
      "z = 0\n",
      "Passo 3\n",
      "pc = 1\n",
      "x = 5_5\n",
      "y = 4_5\n",
      "z = 5\n",
      "Passo 4\n",
      "pc = 2\n",
      "x = 5_5\n",
      "y = 4_5\n",
      "z = 5\n",
      "Passo 5\n",
      "pc = 1\n",
      "x = 10_5\n",
      "y = 2_5\n",
      "z = 5\n",
      "Passo 6\n",
      "pc = 2\n",
      "x = 10_5\n",
      "y = 2_5\n",
      "z = 5\n",
      "Passo 7\n",
      "pc = 1\n",
      "x = 20_5\n",
      "y = 1_5\n",
      "z = 5\n",
      "Passo 8\n",
      "pc = 3\n",
      "x = 20_5\n",
      "y = 1_5\n",
      "z = 5\n",
      "Passo 9\n",
      "pc = 1\n",
      "x = 20_5\n",
      "y = 0_5\n",
      "z = 25\n",
      "Passo 10\n",
      "pc = 4\n",
      "x = 20_5\n",
      "y = 0_5\n",
      "z = 25\n",
      "Passo 11\n",
      "pc = 4\n",
      "x = 20_5\n",
      "y = 0_5\n",
      "z = 25\n",
      "Multiplicação efetuada com sucesso e valor : 25\n"
     ]
    }
   ],
   "source": [
    "def gera_traco(declare,init,trans,a,b,n,k):\n",
    "\n",
    "    with Solver(name=\"z3\") as s:\n",
    "        \n",
    "        bv2 = BV(2,n)\n",
    "        \n",
    "        trace = [declare(i,n) for i in range(k)]\n",
    "        \n",
    "        s.add_assertion(init(trace[0],a,b,n))\n",
    "        \n",
    "        for i in range(k-1):\n",
    "            s.add_assertion(trans(trace[i],trace[i+1],bv2,n))\n",
    "        \n",
    "        if s.solve():\n",
    "            for i in range(k):\n",
    "                print(\"Passo\", i)\n",
    "                for v in trace[i]:\n",
    "                    print(v,\"=\",s.get_value(trace[i][v]))\n",
    "                if i>1:\n",
    "                    if s.get_value(trace[i][\"pc\"]) == s.get_value(trace[i-1][\"pc\"]):\n",
    "                        if s.get_value(trace[i][\"pc\"]) == Int(4):\n",
    "                            print(\"Multiplicação efetuada com sucesso e valor :\", s.get_value(trace[i][\"z\"]))\n",
    "                            return\n",
    "                        else:\n",
    "                            print(\"OVERFLOW\")\n",
    "                            return\n"
   ]
  },
  {
   "cell_type": "markdown",
   "id": "2b42cc2f",
   "metadata": {},
   "source": [
    "# Testes e análise dos resultados"
   ]
  },
  {
   "cell_type": "markdown",
   "id": "25e03eea",
   "metadata": {},
   "source": [
    "## Caso normal que o programa consegue calcular facilmente:"
   ]
  },
  {
   "cell_type": "code",
   "execution_count": 12,
   "id": "e8986196",
   "metadata": {},
   "outputs": [
    {
     "name": "stdout",
     "output_type": "stream",
     "text": [
      "Passo 0\n",
      "pc = 0\n",
      "x = 5_5\n",
      "y = 5_5\n",
      "z = 0\n",
      "Passo 1\n",
      "pc = 1\n",
      "x = 5_5\n",
      "y = 5_5\n",
      "z = 0\n",
      "Passo 2\n",
      "pc = 3\n",
      "x = 5_5\n",
      "y = 5_5\n",
      "z = 0\n",
      "Passo 3\n",
      "pc = 1\n",
      "x = 5_5\n",
      "y = 4_5\n",
      "z = 5\n",
      "Passo 4\n",
      "pc = 2\n",
      "x = 5_5\n",
      "y = 4_5\n",
      "z = 5\n",
      "Passo 5\n",
      "pc = 1\n",
      "x = 10_5\n",
      "y = 2_5\n",
      "z = 5\n",
      "Passo 6\n",
      "pc = 2\n",
      "x = 10_5\n",
      "y = 2_5\n",
      "z = 5\n",
      "Passo 7\n",
      "pc = 1\n",
      "x = 20_5\n",
      "y = 1_5\n",
      "z = 5\n",
      "Passo 8\n",
      "pc = 3\n",
      "x = 20_5\n",
      "y = 1_5\n",
      "z = 5\n",
      "Passo 9\n",
      "pc = 1\n",
      "x = 20_5\n",
      "y = 0_5\n",
      "z = 25\n",
      "Passo 10\n",
      "pc = 4\n",
      "x = 20_5\n",
      "y = 0_5\n",
      "z = 25\n",
      "Passo 11\n",
      "pc = 4\n",
      "x = 20_5\n",
      "y = 0_5\n",
      "z = 25\n",
      "Multiplicação efetuada com sucesso e valor : 25\n"
     ]
    }
   ],
   "source": [
    "gera_traco(declare,init,trans,5,5,5,30)"
   ]
  },
  {
   "cell_type": "markdown",
   "id": "7c987c3c",
   "metadata": {},
   "source": [
    "## Caso em que da overflow"
   ]
  },
  {
   "cell_type": "code",
   "execution_count": 13,
   "id": "5363d2fa",
   "metadata": {},
   "outputs": [
    {
     "name": "stdout",
     "output_type": "stream",
     "text": [
      "Passo 0\n",
      "pc = 0\n",
      "x = 5_5\n",
      "y = 10_5\n",
      "z = 0\n",
      "Passo 1\n",
      "pc = 1\n",
      "x = 5_5\n",
      "y = 10_5\n",
      "z = 0\n",
      "Passo 2\n",
      "pc = 2\n",
      "x = 5_5\n",
      "y = 10_5\n",
      "z = 0\n",
      "Passo 3\n",
      "pc = 1\n",
      "x = 10_5\n",
      "y = 5_5\n",
      "z = 0\n",
      "Passo 4\n",
      "pc = 3\n",
      "x = 10_5\n",
      "y = 5_5\n",
      "z = 0\n",
      "Passo 5\n",
      "pc = 1\n",
      "x = 10_5\n",
      "y = 4_5\n",
      "z = 10\n",
      "Passo 6\n",
      "pc = 2\n",
      "x = 10_5\n",
      "y = 4_5\n",
      "z = 10\n",
      "Passo 7\n",
      "pc = 1\n",
      "x = 20_5\n",
      "y = 2_5\n",
      "z = 10\n",
      "Passo 8\n",
      "pc = 2\n",
      "x = 20_5\n",
      "y = 2_5\n",
      "z = 10\n",
      "Passo 9\n",
      "pc = 5\n",
      "x = 4_5\n",
      "y = 2_5\n",
      "z = 10\n",
      "Passo 10\n",
      "pc = 5\n",
      "x = 4_5\n",
      "y = 2_5\n",
      "z = 10\n",
      "OVERFLOW\n"
     ]
    }
   ],
   "source": [
    "gera_traco(declare,init,trans,5,10,5,30)"
   ]
  },
  {
   "cell_type": "markdown",
   "id": "791de65a",
   "metadata": {},
   "source": [
    "## Limite de resolução do programa"
   ]
  },
  {
   "cell_type": "code",
   "execution_count": null,
   "id": "d2968de7",
   "metadata": {},
   "outputs": [],
   "source": [
    "gera_traco(declare,init,trans,5,10,52,30)"
   ]
  }
 ],
 "metadata": {
  "kernelspec": {
   "display_name": "Python 3 (ipykernel)",
   "language": "python",
   "name": "python3"
  },
  "language_info": {
   "codemirror_mode": {
    "name": "ipython",
    "version": 3
   },
   "file_extension": ".py",
   "mimetype": "text/x-python",
   "name": "python",
   "nbconvert_exporter": "python",
   "pygments_lexer": "ipython3",
   "version": "3.10.6"
  }
 },
 "nbformat": 4,
 "nbformat_minor": 5
}
