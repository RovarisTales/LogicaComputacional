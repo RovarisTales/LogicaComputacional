{
 "cells": [
  {
   "cell_type": "markdown",
   "id": "8efed7ee",
   "metadata": {},
   "source": [
    "### TP 4 EX 2\n",
    "Grupo 5:\n",
    "     \n",
    "     Breno Fernando Guerra Marrão A97768\n",
    "     \n",
    "     Tales André Rovaris Machado A96314"
   ]
  },
  {
   "cell_type": "code",
   "execution_count": 1,
   "id": "dc9d7e09",
   "metadata": {},
   "outputs": [],
   "source": [
    "from pysmt.shortcuts import *\n",
    "from pysmt.typing import *"
   ]
  },
  {
   "cell_type": "markdown",
   "id": "3ca97296",
   "metadata": {},
   "source": [
    "Primeiramente para a análise do problema tivemos que criar uma pré e pós condição para a futura correção do programa, e para isso fizemos uma alteração na inicialização do array que será ordenado, onde o seu ultimo elemento será o estado changed, para facilitar a criação da transição.\n",
    "\n",
    "```python\n",
    "seq = [-2,1,2,-1,4,-4,-3,3]\n",
    "changed = True\n",
    "while changed:\n",
    "    changed = False\n",
    "    for i in range(len(seq) - 1):\n",
    "        if seq[i] > seq[i+1]:\n",
    "            seq[i], seq[i+1] = seq[i+1], seq[i]\n",
    "            changed = True\n",
    "    \n",
    "pass\n",
    "```\n",
    "\n",
    "sabendo disso as condições sao as seguintes:\n",
    "\n",
    "\n",
    "\n",
    "$$\n",
    "seq = init(seq,n)\n",
    "\\newline\n",
    "\\forall k . 0 \\le k < n \\implies seq[k+1] \\ge seq[k]\n",
    "$$\n",
    "onde init é a seguinte função:"
   ]
  },
  {
   "cell_type": "code",
   "execution_count": 2,
   "id": "5479995e",
   "metadata": {},
   "outputs": [],
   "source": [
    "def init(seq,n,x):\n",
    "    for i in range(n):\n",
    "        seq = Store(seq,Int(i),Int(x[i]))\n",
    "        aux = i\n",
    "    else:\n",
    "        seq = Store(seq,Int(aux+1),Int(1))\n",
    "    return seq"
   ]
  },
  {
   "cell_type": "markdown",
   "id": "46f469fa",
   "metadata": {},
   "source": [
    "Já a transição trans(seq,seq') foi feita de modo semelhante, mas ao invés de mudar a variavel changed quando um valor é trocado, trocamos somente se o resultado final for diferente do inicial, não mudando o comportamento do programa mas facilitando a criação da transição.\n"
   ]
  },
  {
   "cell_type": "code",
   "execution_count": 9,
   "id": "34bb06c7",
   "metadata": {},
   "outputs": [],
   "source": [
    "def trans(seq,n):\n",
    "    \n",
    "    seq2 = (Symbol('seq'+str(n),ArrayType(INT, INT)))\n",
    "    \n",
    "    for i in range(n+1):\n",
    "        seq2 = Store(seq2,Int(i),Select(seq,Int(i)))\n",
    "    else:\n",
    "        seq2 = Store(seq2,Int(n+1),Int(1))\n",
    "    for i in range(n):\n",
    "        a = Ite(GT(Select(seq2,Int(i)),Select(seq2,Int(i)+Int(1))),\n",
    "            Select(seq2,Int(i)+Int(1)),\n",
    "            Select(seq2,Int(i)))\n",
    "        b = Ite(GT(Select(seq2,Int(i)),Select(seq2,Int(i)+Int(1))),\n",
    "            Select(seq2,Int(i)),\n",
    "            Select(seq2,Int(i)+1))\n",
    "        seq2 = Store(seq2,Int(i),a)\n",
    "        seq2 = Store(seq2,Int(i+1),b)\n",
    "        \n",
    "    seq2 = Store(seq2,Int(n+1),Ite(Equals(seq,seq2),Int(0),Int(1)))\n",
    "    \n",
    "    return seq2"
   ]
  },
  {
   "cell_type": "markdown",
   "id": "4bdaae00",
   "metadata": {},
   "source": [
    "E finalmente para a correção do programa foi usada a abordagem \"Single Assignment Unfold\" para evitar a utilização do invariante.\n",
    "Para isso tivemos que criar a classe SAU para a verificação por passos do pragrama e tambem as suas condiçoes logicas do ciclo, pre e pos condição que sao as mesmas anteriores exceto a condição de clico que é a seguinte:\n",
    "\n",
    "$$ seq[n+1] == 1 $$\n",
    "\n",
    "E então é feita a correção do programa que calcula as diversas transições ate um número de passos N e verifica se a pos condição para aqueles dados inputs é verdadeira nesses N passos ou até menos.\n"
   ]
  },
  {
   "cell_type": "code",
   "execution_count": 4,
   "id": "42c52fd8",
   "metadata": {},
   "outputs": [],
   "source": [
    "\n",
    "\n",
    "# Auxiliares\n",
    "def prime(v):\n",
    "    return Symbol(\"next(%s)\" % v.symbol_name(), v.symbol_type())\n",
    "def fresh(v):\n",
    "    return FreshSymbol(typename=v.symbol_type(),template=v.symbol_name()+\"_%d\")\n",
    "\n",
    "\n",
    "class SAU(object):\n",
    "    \"\"\"Trivial representation of a while cycle and its unfolding.\"\"\"\n",
    "    def __init__(self, variables, pre , pos, control, trans, sname=\"z3\"):\n",
    "              \n",
    "        self.variables = variables       # variables   \n",
    "        self.pre = pre                   # pre-condition as a predicate in \"variables\"\n",
    "        self.pos = pos                   # pos-condition as a predicate in \"variables\"\n",
    "        self.control = control           # cycle control as a predicate in \"variables\"\n",
    "        self.trans = trans               # cycle body as a binary transition relation \n",
    "                                         # in \"variables\" and \"prime variables\"\n",
    "        \n",
    "        self.prime_variables = [prime(v) for v in self.variables]\n",
    "        self.frames = [And([Not(control),pos])]  \n",
    "                 # inializa com uma só frame: a da terminação do ciclo\n",
    "        \n",
    "        self.solver = Solver(name=sname)\n",
    "\n",
    "    def new_frame(self):        \n",
    "        freshs = [fresh(v) for v in self.variables]    \n",
    "        b = self.control\n",
    "        S = self.trans.substitute(dict(zip(self.prime_variables,freshs)))\n",
    "        W = self.frames[-1].substitute(dict(zip(self.variables,freshs)))\n",
    "        \n",
    "        self.frames.append(And([b , ForAll(freshs, Implies(S, W))]))\n",
    "        \n",
    "    def unfold(self,bound=0):\n",
    "        n = 0\n",
    "        while True:\n",
    "            if n > bound:\n",
    "                print(\"falha: número de tentativas ultrapassa o limite %d \"%bound)\n",
    "                break\n",
    "            \n",
    "            f = Or(self.frames)\n",
    "            if self.solver.solve([self.pre,Not(f)]):  \n",
    "                self.new_frame()\n",
    "                n += 1\n",
    "            else:\n",
    "                print(\"sucesso na tentativa %d \"%n)\n",
    "                break\n"
   ]
  },
  {
   "cell_type": "markdown",
   "id": "9d9a3754",
   "metadata": {},
   "source": [
    "Segue exemplos de execução com diferentes arrays"
   ]
  },
  {
   "cell_type": "code",
   "execution_count": 5,
   "id": "a7724826",
   "metadata": {},
   "outputs": [
    {
     "name": "stdout",
     "output_type": "stream",
     "text": [
      "sucesso na tentativa 6 \n"
     ]
    }
   ],
   "source": [
    "seq = (Symbol('seq'+'0',ArrayType(INT, INT)))\n",
    "\n",
    "k  = Symbol(\"k\",INT)\n",
    "\n",
    "variables = [seq]\n",
    "\n",
    "pre  =  Equals(seq,init(seq,8,[-2,1,2,-1,4,-4,-3,3]))     # pré-condição    \n",
    "pos  =  ForAll([k],Implies(And(k>=Int(0),k<Int(7)),GE(Select(seq,k+Int(1)) , Select(seq,k))))  # pós-condição\n",
    "cond =  Equals(Select(seq,Int(8)),Int(1))                # condição de controlo do ciclo\n",
    "trans = Equals(prime(seq),trans(seq,7))     # corpo do ciclo como uma relaçao de transição\n",
    "\n",
    "W = SAU(variables, pre, pos, cond, trans)\n",
    "\n",
    "W.unfold(10)"
   ]
  },
  {
   "cell_type": "code",
   "execution_count": 8,
   "id": "bc2cfea9",
   "metadata": {},
   "outputs": [
    {
     "name": "stdout",
     "output_type": "stream",
     "text": [
      "sucesso na tentativa 9 \n"
     ]
    }
   ],
   "source": [
    "array = (Symbol('array'+'0',ArrayType(INT, INT)))\n",
    "\n",
    "k1  = Symbol(\"k1\",INT)\n",
    "\n",
    "variables1 = [array]\n",
    "\n",
    "pre1  =  Equals(array,init(array,13,[4,2,7,9,12,3,7,-1,66,0,23,7,9]))     # pré-condição    \n",
    "pos1  =  ForAll([k1],Implies(And(k1>=Int(0),k1<Int(12)),GE(Select(array,k1+Int(1)) , Select(array,k1))))  # pós-condição\n",
    "cond1 =  Equals(Select(array,Int(13)),Int(1))                # condição de controlo do ciclo\n",
    "trans1 = Equals(prime(array),trans(array,12))     # corpo do ciclo como uma relaçao de transição\n",
    "\n",
    "Z = SAU(variables1,pre1,pos1,cond1,trans1)\n",
    "\n",
    "Z.unfold(18)"
   ]
  },
  {
   "cell_type": "code",
   "execution_count": 12,
   "id": "8d391d7d",
   "metadata": {},
   "outputs": [
    {
     "name": "stdout",
     "output_type": "stream",
     "text": [
      "sucesso na tentativa 15 \n"
     ]
    }
   ],
   "source": [
    "array2 = (Symbol('array'+'2',ArrayType(INT, INT)))\n",
    "\n",
    "k2  = Symbol(\"k2\",INT)\n",
    "\n",
    "variables2 = [array2]\n",
    "\n",
    "pre2  =  Equals(array2,init(array2,16,[22,33,44,55,66,77,999,888,777,666,0,1000,9999,10,11,1]))     # pré-condição    \n",
    "pos2  =  ForAll([k2],Implies(And(k2>=Int(0),k2<Int(15)),GE(Select(array2,k2+Int(1)) , Select(array2,k2))))  # pós-condição\n",
    "cond2 =  Equals(Select(array2,Int(16)),Int(1))                # condição de controlo do ciclo\n",
    "trans2 = Equals(prime(array2),trans(array2,15))     # corpo do ciclo como uma relaçao de transição\n",
    "\n",
    "X = SAU(variables2,pre2,pos2,cond2,trans2)\n",
    "\n",
    "X.unfold(20)"
   ]
  }
 ],
 "metadata": {
  "kernelspec": {
   "display_name": "Python 3 (ipykernel)",
   "language": "python",
   "name": "python3"
  },
  "language_info": {
   "codemirror_mode": {
    "name": "ipython",
    "version": 3
   },
   "file_extension": ".py",
   "mimetype": "text/x-python",
   "name": "python",
   "nbconvert_exporter": "python",
   "pygments_lexer": "ipython3",
   "version": "3.10.6"
  }
 },
 "nbformat": 4,
 "nbformat_minor": 5
}
