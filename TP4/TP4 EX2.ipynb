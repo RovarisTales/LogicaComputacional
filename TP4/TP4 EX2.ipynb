{
 "cells": [
  {
   "cell_type": "markdown",
   "id": "8efed7ee",
   "metadata": {},
   "source": [
    "### TP 4 EX 2\n",
    "Grupo 5:\n",
    "     \n",
    "     Breno Fernando Guerra Marrão A97768\n",
    "     \n",
    "     Tales André Rovaris Machado A96314"
   ]
  },
  {
   "cell_type": "code",
   "execution_count": 1,
   "id": "dc9d7e09",
   "metadata": {},
   "outputs": [],
   "source": [
    "from pysmt.shortcuts import *\n",
    "from pysmt.typing import *\n",
    "\n",
    "aux2 = 0"
   ]
  },
  {
   "cell_type": "markdown",
   "id": "3ca97296",
   "metadata": {},
   "source": [
    "Primeiramente para a análise do problema tivemos que criar uma pré e pós condição para a futura correção do programa, e para isso fizemos uma alteração na inicialização do array que será ordenado, onde o seu ultimo elemento será o estado changed, para facilitar a criação da transição.\n",
    "\n",
    "```python\n",
    "seq = [-2,1,2,-1,4,-4,-3,3]\n",
    "changed = True\n",
    "while changed:\n",
    "    changed = False\n",
    "    for i in range(len(seq) - 1):\n",
    "        if seq[i] > seq[i+1]:\n",
    "            seq[i], seq[i+1] = seq[i+1], seq[i]\n",
    "            changed = True\n",
    "    \n",
    "pass\n",
    "```\n",
    "\n",
    "sabendo disso as condições sao as seguintes:\n",
    "\n",
    "\n",
    "\n",
    "$$\n",
    "seq = init(seq,n)\n",
    "\\newline\n",
    "\\forall k . 0 \\le k < n \\implies seq[k+1] \\ge seq[k]\n",
    "$$\n",
    "onde init é a seguinte função:"
   ]
  },
  {
   "cell_type": "code",
   "execution_count": 2,
   "id": "5479995e",
   "metadata": {},
   "outputs": [],
   "source": [
    "def init(seq,n,x):\n",
    "    for i in range(n):\n",
    "        seq = Store(seq,Int(i),Int(x[i]))\n",
    "        aux = i\n",
    "    else:\n",
    "        seq = Store(seq,Int(aux+1),Int(1))\n",
    "    return seq"
   ]
  },
  {
   "cell_type": "markdown",
   "id": "46f469fa",
   "metadata": {},
   "source": [
    "Já a transição trans(seq,seq') foi feita de modo semelhante, mas ao invés de mudar a variavel changed quando um valor é trocado, trocamos somente se o resultado final for diferente do inicial, não mudando o comportamento do programa mas facilitando a criação da transição.\n"
   ]
  },
  {
   "cell_type": "code",
   "execution_count": 3,
   "id": "34bb06c7",
   "metadata": {},
   "outputs": [],
   "source": [
    "def trans(seq,n):\n",
    "    seq2 = (Symbol('seq'+str(aux2),ArrayType(INT, INT)))\n",
    "    aux2 += 1\n",
    "    for i in range(n+1):\n",
    "        seq2 = Store(seq2,Int(i),Select(seq,Int(i)))\n",
    "    else:\n",
    "        seq2 = Store(seq2,Int(n+1),Int(1))\n",
    "    for i in range(n):\n",
    "        a = Ite(GT(Select(seq2,Int(i)),Select(seq2,Int(i)+Int(1))),\n",
    "            Select(seq2,Int(i)+Int(1)),\n",
    "            Select(seq2,Int(i)))\n",
    "        b = Ite(GT(Select(seq2,Int(i)),Select(seq2,Int(i)+Int(1))),\n",
    "            Select(seq2,Int(i)),\n",
    "            Select(seq2,Int(i)+1))\n",
    "        seq2 = Store(seq2,Int(i),a)\n",
    "        seq2 = Store(seq2,Int(i+1),b)\n",
    "        \n",
    "    seq2 = Store(seq2,Int(n+1),Ite(Equals(seq,seq2),Int(0),Int(1)))\n",
    "    \n",
    "    return seq2"
   ]
  },
  {
   "cell_type": "markdown",
   "id": "4bdaae00",
   "metadata": {},
   "source": [
    "E finalmente para a correção do programa foi usada a abordagem \"Single Assignment Unfold\" para evitar a utilização do invariante.\n",
    "Para isso tivemos que criar a classe SAU para a verificação por passos do pragrama e tambem as suas condiçoes logicas do ciclo, pre e pos condição que sao as mesmas anteriores exceto a condição de clico que é a seguinte:\n",
    "\n",
    "$$ seq[n+1] == 1 $$\n",
    "\n",
    "E então é feita a correção do programa que calcula as diversas transições ate um número de passos N e verifica se a pos condição para aqueles dados inputs é verdadeira nesses N passos ou até menos.\n"
   ]
  },
  {
   "cell_type": "code",
   "execution_count": 4,
   "id": "42c52fd8",
   "metadata": {},
   "outputs": [],
   "source": [
    "\n",
    "\n",
    "# Auxiliares\n",
    "def prime(v):\n",
    "    return Symbol(\"next(%s)\" % v.symbol_name(), v.symbol_type())\n",
    "def fresh(v):\n",
    "    return FreshSymbol(typename=v.symbol_type(),template=v.symbol_name()+\"_%d\")\n",
    "\n",
    "\n",
    "class SAU(object):\n",
    "    \"\"\"Trivial representation of a while cycle and its unfolding.\"\"\"\n",
    "    def __init__(self, variables, pre , pos, control, trans, sname=\"z3\"):\n",
    "              \n",
    "        self.variables = variables       # variables   \n",
    "        self.pre = pre                   # pre-condition as a predicate in \"variables\"\n",
    "        self.pos = pos                   # pos-condition as a predicate in \"variables\"\n",
    "        self.control = control           # cycle control as a predicate in \"variables\"\n",
    "        self.trans = trans               # cycle body as a binary transition relation \n",
    "                                         # in \"variables\" and \"prime variables\"\n",
    "        \n",
    "        self.prime_variables = [prime(v) for v in self.variables]\n",
    "        self.frames = [And([Not(control),pos])]  \n",
    "                 # inializa com uma só frame: a da terminação do ciclo\n",
    "        \n",
    "        self.solver = Solver(name=sname)\n",
    "\n",
    "    def new_frame(self):        \n",
    "        freshs = [fresh(v) for v in self.variables]    \n",
    "        b = self.control\n",
    "        S = self.trans.substitute(dict(zip(self.prime_variables,freshs)))\n",
    "        W = self.frames[-1].substitute(dict(zip(self.variables,freshs)))\n",
    "        \n",
    "        self.frames.append(And([b , ForAll(freshs, Implies(S, W))]))\n",
    "        \n",
    "    def unfold(self,bound=0):\n",
    "        n = 0\n",
    "        while True:\n",
    "            if n > bound:\n",
    "                print(\"falha: número de tentativas ultrapassa o limite %d \"%bound)\n",
    "                break\n",
    "            \n",
    "            f = Or(self.frames)\n",
    "            if self.solver.solve([self.pre,Not(f)]):  \n",
    "                self.new_frame()\n",
    "                n += 1\n",
    "            else:\n",
    "                print(\"sucesso na tentativa %d \"%n)\n",
    "                break\n"
   ]
  },
  {
   "cell_type": "code",
   "execution_count": 5,
   "id": "a7724826",
   "metadata": {},
   "outputs": [
    {
     "ename": "UnboundLocalError",
     "evalue": "local variable 'aux2' referenced before assignment",
     "output_type": "error",
     "traceback": [
      "\u001b[0;31m---------------------------------------------------------------------------\u001b[0m",
      "\u001b[0;31mUnboundLocalError\u001b[0m                         Traceback (most recent call last)",
      "Input \u001b[0;32mIn [5]\u001b[0m, in \u001b[0;36m<cell line: 10>\u001b[0;34m()\u001b[0m\n\u001b[1;32m      8\u001b[0m pos  \u001b[38;5;241m=\u001b[39m  ForAll([k],Implies(And(k\u001b[38;5;241m>\u001b[39m\u001b[38;5;241m=\u001b[39mInt(\u001b[38;5;241m0\u001b[39m),k\u001b[38;5;241m<\u001b[39mInt(\u001b[38;5;241m8\u001b[39m)),GE(Select(seq,k\u001b[38;5;241m+\u001b[39mInt(\u001b[38;5;241m1\u001b[39m)) , Select(seq,k))))  \u001b[38;5;66;03m# pós-condição\u001b[39;00m\n\u001b[1;32m      9\u001b[0m cond \u001b[38;5;241m=\u001b[39m  Equals(Select(seq,Int(\u001b[38;5;241m9\u001b[39m)),Int(\u001b[38;5;241m1\u001b[39m))                \u001b[38;5;66;03m# condição de controlo do ciclo\u001b[39;00m\n\u001b[0;32m---> 10\u001b[0m trans \u001b[38;5;241m=\u001b[39m Equals(prime(seq),\u001b[43mtrans\u001b[49m\u001b[43m(\u001b[49m\u001b[43mseq\u001b[49m\u001b[43m,\u001b[49m\u001b[38;5;241;43m8\u001b[39;49m\u001b[43m)\u001b[49m)     \u001b[38;5;66;03m# corpo do ciclo como uma relaçao de transição\u001b[39;00m\n\u001b[1;32m     12\u001b[0m W \u001b[38;5;241m=\u001b[39m SAU(variables, pre, pos, cond, trans)\n",
      "Input \u001b[0;32mIn [3]\u001b[0m, in \u001b[0;36mtrans\u001b[0;34m(seq, n)\u001b[0m\n\u001b[1;32m      1\u001b[0m \u001b[38;5;28;01mdef\u001b[39;00m \u001b[38;5;21mtrans\u001b[39m(seq,n):\n\u001b[0;32m----> 2\u001b[0m     seq2 \u001b[38;5;241m=\u001b[39m (Symbol(\u001b[38;5;124m'\u001b[39m\u001b[38;5;124mseq\u001b[39m\u001b[38;5;124m'\u001b[39m\u001b[38;5;241m+\u001b[39m\u001b[38;5;28mstr\u001b[39m(\u001b[43maux2\u001b[49m),ArrayType(INT, INT)))\n\u001b[1;32m      3\u001b[0m     aux2 \u001b[38;5;241m+\u001b[39m\u001b[38;5;241m=\u001b[39m \u001b[38;5;241m1\u001b[39m\n\u001b[1;32m      4\u001b[0m     \u001b[38;5;28;01mfor\u001b[39;00m i \u001b[38;5;129;01min\u001b[39;00m \u001b[38;5;28mrange\u001b[39m(n\u001b[38;5;241m+\u001b[39m\u001b[38;5;241m1\u001b[39m):\n",
      "\u001b[0;31mUnboundLocalError\u001b[0m: local variable 'aux2' referenced before assignment"
     ]
    }
   ],
   "source": [
    "seq = (Symbol('seq'+'0',ArrayType(INT, INT)))\n",
    "\n",
    "k  = Symbol(\"k\",INT)\n",
    "\n",
    "variables = [seq]\n",
    "\n",
    "pre  =  Equals(seq,init(seq,9,[-2,1,2,-1,4,-4,-3,3,-5]))     # pré-condição    \n",
    "pos  =  ForAll([k],Implies(And(k>=Int(0),k<Int(8)),GE(Select(seq,k+Int(1)) , Select(seq,k))))  # pós-condição\n",
    "cond =  Equals(Select(seq,Int(9)),Int(1))                # condição de controlo do ciclo\n",
    "trans = Equals(prime(seq),trans(seq,8))     # corpo do ciclo como uma relaçao de transição\n",
    "\n",
    "W = SAU(variables, pre, pos, cond, trans)"
   ]
  },
  {
   "cell_type": "code",
   "execution_count": null,
   "id": "9cab952b",
   "metadata": {},
   "outputs": [],
   "source": [
    "W.unfold(10)"
   ]
  },
  {
   "cell_type": "code",
   "execution_count": null,
   "id": "bc2cfea9",
   "metadata": {},
   "outputs": [],
   "source": [
    "array = (Symbol('array'+'0',ArrayType(INT, INT)))\n",
    "\n",
    "k1  = Symbol(\"k1\",INT)\n",
    "\n",
    "variables1 = [array]\n",
    "\n",
    "pre1  =  Equals(array,init(array,13,[4,2,7,9,12,3,7,-1,66,0,23,7,9]))     # pré-condição    \n",
    "pos1  =  ForAll([k1],Implies(And(k1>=Int(0),k1<Int(12)),GE(Select(array,k1+Int(1)) , Select(array,k1))))  # pós-condição\n",
    "cond1 =  Equals(Select(array,Int(13)),Int(1))                # condição de controlo do ciclo\n",
    "trans1 = Equals(prime(array),trans(array,12))     # corpo do ciclo como uma relaçao de transição\n",
    "\n",
    "Z = SAU(variables1,pre1,pos1,cond1,trans1)\n",
    "\n",
    "Z.unfold(18)"
   ]
  },
  {
   "cell_type": "code",
   "execution_count": null,
   "id": "9801811b",
   "metadata": {},
   "outputs": [],
   "source": [
    "seq = [4,2,7,9,12,3,7,-1,66,0,23,7,9]\n",
    "changed = True\n",
    "aux = 0\n",
    "while changed:\n",
    "    changed = False\n",
    "    for i in range(len(seq) - 1):\n",
    "        if seq[i] > seq[i+1]:\n",
    "            seq[i], seq[i+1] = seq[i+1], seq[i]\n",
    "            changed = True\n",
    "    aux += 1\n",
    "    \n",
    "print(aux)"
   ]
  },
  {
   "cell_type": "code",
   "execution_count": null,
   "id": "e1c893d2",
   "metadata": {},
   "outputs": [],
   "source": []
  }
 ],
 "metadata": {
  "kernelspec": {
   "display_name": "Python 3 (ipykernel)",
   "language": "python",
   "name": "python3"
  },
  "language_info": {
   "codemirror_mode": {
    "name": "ipython",
    "version": 3
   },
   "file_extension": ".py",
   "mimetype": "text/x-python",
   "name": "python",
   "nbconvert_exporter": "python",
   "pygments_lexer": "ipython3",
   "version": "3.10.6"
  }
 },
 "nbformat": 4,
 "nbformat_minor": 5
}
