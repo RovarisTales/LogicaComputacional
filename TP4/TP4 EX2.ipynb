{
 "cells": [
  {
   "cell_type": "code",
   "execution_count": 1,
   "id": "4aeade5c",
   "metadata": {},
   "outputs": [],
   "source": [
    "from pysmt.shortcuts import *\n",
    "from pysmt.typing import *\n",
    "\n",
    "\n",
    "def prove(f):\n",
    "    with Solver(name=\"z3\") as s:\n",
    "        s.add_assertion(Not(f))\n",
    "        if s.solve():\n",
    "            print(\"Provado\")\n",
    "            #print(s.get_value(seq3))\n",
    "        else:\n",
    "            print(\"nao Proved.\")\n",
    "            \n",
    "            \n"
   ]
  },
  {
   "cell_type": "markdown",
   "id": "3ca97296",
   "metadata": {},
   "source": [
    "```python\n",
    "seq = [-2,1,2,-1,4,-4,-3,3]\n",
    "changed = True\n",
    "while changed:\n",
    "    changed = False\n",
    "    for i in range(len(seq) - 1):\n",
    "        if seq[i] > seq[i+1]:\n",
    "            seq[i], seq[i+1] = seq[i+1], seq[i]\n",
    "            changed = True\n",
    "pass\n",
    "\n",
    "\n",
    "inv = changed == True\n",
    "\n",
    "inv =  True\n",
    "\n",
    "pos = forall j . 0 <= j < len(seq)-1 seq[j]<=seq[j+1]\n",
    "```"
   ]
  },
  {
   "cell_type": "markdown",
   "id": "248640f8",
   "metadata": {},
   "source": [
    "seq = [-2,1,2,-1,4,-4,-3,3]\n",
    "changed = True\n",
    "cont = 0\n",
    "while changed:\n",
    "    changed = False\n",
    "    for i in range(len(seq) - 1):\n",
    "        if seq[i] > seq[i+1]:\n",
    "            seq[i], seq[i+1] = seq[i+1], seq[i]\n",
    "            changed = True\n",
    "    cont += 1\n",
    "print(seq,\"\\n\",cont)"
   ]
  },
  {
   "cell_type": "markdown",
   "id": "406df12b",
   "metadata": {},
   "source": [
    "```python\n",
    "init = [assume changed==True ; assert True ] \n",
    "     = changed == True -> True\n",
    "\n",
    "ciclo = [assume changed == True and True; seq = trocar(); True]\n",
    "      = changed == True -> [changed = False ,seq = trocar(); True ]\n",
    "      = changed = True -> [seq = trocar()] [changed <- False ]\n",
    "\n",
    "final = [True and changed == False; skip ; assert pos ]\n",
    "\n",
    "\n",
    "pos = ForAll([i],Implies(And(i>=Int(0),i<Int(7)),Select(seq,i+Int(1)) >= Select(seq,i)))\n",
    "\n",
    "```"
   ]
  },
  {
   "cell_type": "code",
   "execution_count": 4,
   "id": "31234788",
   "metadata": {},
   "outputs": [
    {
     "name": "stdout",
     "output_type": "stream",
     "text": [
      "opa ta igual\n",
      "Provado\n",
      "Array{Int, Int}(0)[0 := -2][1 := 1][2 := 2][3 := -1][4 := 4][5 := -4][6 := -3][7 := 3]\n",
      "Array{Int, Int}(0)[0 := -2][1 := 1][2 := -1][3 := 2][4 := -4][5 := -3][6 := 3][7 := 4]\n",
      "Array{Int, Int}(0)[0 := -2][1 := -1][2 := 1][3 := -4][4 := -3][5 := 2][6 := 3][7 := 4]\n",
      "Array{Int, Int}(0)[0 := -2][1 := -1][2 := -4][3 := -3][4 := 1][5 := 2][6 := 3][7 := 4]\n",
      "Array{Int, Int}(0)[0 := -2][1 := -4][2 := -3][3 := -1][4 := 1][5 := 2][6 := 3][7 := 4]\n",
      "Array{Int, Int}(0)[0 := -4][1 := -3][2 := -2][3 := -1][4 := 1][5 := 2][6 := 3][7 := 4]\n",
      "Array{Int, Int}(0)[0 := -4][1 := -3][2 := -2][3 := -1][4 := 1][5 := 2][6 := 3][7 := 4]\n",
      "Array{Int, Int}(0)\n"
     ]
    }
   ],
   "source": [
    "\n",
    "def declare(n,seq):\n",
    "    seq = []\n",
    "    for i in range(n):\n",
    "        seq.append(Symbol('seq'+str(i),ArrayType(INT, INT)))\n",
    "    return seq\n",
    "\n",
    "\n",
    "def init(seq,n):\n",
    "    for i in range(8):\n",
    "        x = [Int(-2),Int(1),Int(2),Int(-1),Int(4),Int(-4),Int(-3),Int(3)]\n",
    "        seq = Store(seq,Int(i),x[i])\n",
    "    return seq\n",
    "    \n",
    "\n",
    "def trans(seq,seq2,n):\n",
    "    for i in range(n+1):\n",
    "        seq2 = Store(seq2,Int(i),Select(seq,Int(i)))\n",
    "    #print(seq2.serialize())\n",
    "    for i in range(n):\n",
    "        a = Ite(GT(Select(seq2,Int(i)),Select(seq2,Int(i)+Int(1))),\n",
    "            Select(seq2,Int(i)+Int(1)),\n",
    "            Select(seq2,Int(i)))\n",
    "        b = Ite(GT(Select(seq2,Int(i)),Select(seq2,Int(i)+Int(1))),\n",
    "            Select(seq2,Int(i)),\n",
    "            Select(seq2,Int(i)+1))\n",
    "        seq2 = Store(seq2,Int(i),a)\n",
    "        seq2 = Store(seq2,Int(i+1),b)\n",
    "        \n",
    "    return seq2\n",
    "\n",
    "#for i in range(10):\n",
    "#    print(Select(seq[4],Int(i)))\n",
    "        \n",
    "\n",
    "    \n",
    "    #print(seq[i+1].serialize())\n",
    "\n",
    "\n",
    "with Solver(name=\"z3\") as s:\n",
    "        \n",
    "        seq = []\n",
    "        seq = declare(8,seq)\n",
    "        \n",
    "        seq[0] = init(seq[0],8)\n",
    "        \n",
    "        for i in range(7):\n",
    "            seq[i+1] = trans(seq[i],seq[i+1],7)\n",
    "            if s.is_sat(Equals(seq[i+1],seq[i])):\n",
    "                print(\"opa ta igual\")\n",
    "                break\n",
    "                \n",
    "            \n",
    "        if s.solve():\n",
    "            print(\"Provado\")\n",
    "            for i in range(8):\n",
    "                print(s.get_value(seq[i]))\n",
    "        else:\n",
    "            print(\"nao Proved.\")\n",
    "\n",
    "#[-2,1,2,-1,4,-4,-3,3]  \n",
    "#[-2,1,-1,-1,4,-4,-3,3]"
   ]
  },
  {
   "cell_type": "code",
   "execution_count": 3,
   "id": "fda29468",
   "metadata": {},
   "outputs": [
    {
     "name": "stdout",
     "output_type": "stream",
     "text": [
      "(changed = 1)\n"
     ]
    }
   ],
   "source": [
    "changed = Symbol('changed',INT)\n",
    "\n",
    "changed = Equals(changed,Int(1))\n",
    "\n",
    "print(changed)"
   ]
  },
  {
   "cell_type": "code",
   "execution_count": null,
   "id": "42c52fd8",
   "metadata": {},
   "outputs": [],
   "source": []
  }
 ],
 "metadata": {
  "kernelspec": {
   "display_name": "Python 3 (ipykernel)",
   "language": "python",
   "name": "python3"
  },
  "language_info": {
   "codemirror_mode": {
    "name": "ipython",
    "version": 3
   },
   "file_extension": ".py",
   "mimetype": "text/x-python",
   "name": "python",
   "nbconvert_exporter": "python",
   "pygments_lexer": "ipython3",
   "version": "3.10.6"
  }
 },
 "nbformat": 4,
 "nbformat_minor": 5
}
