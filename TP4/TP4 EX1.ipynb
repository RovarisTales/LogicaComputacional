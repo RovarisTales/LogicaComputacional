{
 "cells": [
  {
   "cell_type": "code",
   "execution_count": 1,
   "id": "33c11ffa",
   "metadata": {},
   "outputs": [],
   "source": [
    "from pysmt.shortcuts import *\n",
    "from pysmt.typing import *\n",
    "\n",
    "START = Int(0)\n",
    "FREE = Int(1) # No modo Free  não existe qualquer força de travagem\n",
    "STOPPING = Int(2)\n",
    "BLOCKED = Int(3) # no modo Blocked as rodas estão bloqueadas em relação ao corpo mas o veículo  move-se (i.e. derrapa)\n",
    "STOPPED = Int(4) # no modo Stopped o veículo está imobilizado.\n",
    "\n",
    "a = 5\n",
    "p = 100\n",
    "c = 1\n",
    "V0 = 60\n",
    "#A componente contínua  do autómato usa variáveis contínuas $$\\,V,v\\,$$ para descrever a \n",
    "#velocidade do corpo   e a velocidade linear das rodas  ambas em relação so solo\n",
    "\n",
    "#F força de travagem (Variavel)\n",
    "#t Força de atrito a o solo (constante)\n",
    "\n",
    "'''\n",
    "1.\n",
    "Durante  a travagem não existe qualquer  força no sistema excepto as forças de atrito. Quando uma superfície se \n",
    "desloca em relação à outra, a força de atrito  é proporcional à força de compressão entre elas. \n",
    "\n",
    "2.\n",
    "No contacto rodas/solo o atrito é constante porque a força de compressão é o peso; tem-se f = aP a, a constante de\n",
    "atrito e P o peso. Ambos são fixos e independentes do modo.\n",
    "\n",
    "3.\n",
    "No contacto corpo/rodas,  a força de compressão é a força de travagem que aqui se assume como proporcional à \n",
    "diferença de velocidades F =  c(V-v) A  constante de proporcionalidade c depende do modo: é elevada no modo \n",
    "`Stopping` e baixa nos outros.\n",
    "\n",
    "\n",
    "4. As  equações que traduzem a dinâmica  do sistema são, em todos os modo excepto `Blocked`, (V = -F) ^ (v = -aP +F)\n",
    "e no modo `Blocked` (V = v) ^ (v = -aP)\n",
    "\n",
    "5.Tanto no modo Blocked  como no modo Free  existe um “timer” que impede que o controlo aí permaneça mais do que \n",
    "t segundos.\n",
    "\n",
    "6. Todos os “switchs” devem ser construídos de  modo a impedir a existência de trajetórias de Zenão.\n",
    "                                                        \n",
    "7. No instante inicial assume-se V = v = V0  ,  em que a velocidade V0 é o “input” do problema.( Isto é, sequências \n",
    "infinitas de transições  entre dois modos em intervalos de tempo  que tendem para zero mas nunca alcançam zero.)"
   ]
  },
  {
   "cell_type": "code",
   "execution_count": null,
   "id": "aff8c3f3",
   "metadata": {},
   "outputs": [],
   "source": [
    "def declare(i):\n",
    "    s = {}\n",
    "    s['t'] = Symbol('t'+str(i),REAL)\n",
    "    s['m'] = Symbol('m'+str(i),INT)\n",
    "    s['V'] = Symbol('x'+str(i),REAL)\n",
    "    s['v'] = Symbol('x'+str(i),REAL)\n",
    "\n",
    "    return s"
   ]
  },
  {
   "cell_type": "code",
   "execution_count": null,
   "id": "4e13ac79",
   "metadata": {},
   "outputs": [],
   "source": [
    "def init(s):\n",
    "    return And(Equals(s['m'],START),Equals(s['V'],V0),Equals(s['v'],V0),GE(V0,Real(0)),(Equals(s['t'],Real(0)))"
   ]
  },
  {
   "cell_type": "code",
   "execution_count": null,
   "id": "fcca0b09",
   "metadata": {},
   "outputs": [],
   "source": [
    "def trans(s,p):\n",
    "    #Untimed\n",
    "    #Falta colocar as alterações de velocidade\n",
    "    #Definir condições para trocar entre as variaveis\n",
    "    #Stopping momento até bloquear definir\n",
    "    startFree = And(Equals(s['m'],START),Equals(p['m'],FREE), Equals(s['v'],p['v']) ,Equals(s['V'],p['V'])) \n",
    "    freeStopping = And(Equals(s['m'],FREE),Equals(p['m'],STOPPING),g Equals(s['v'],p['v']) ,Equals(s['V'],p['V']))\n",
    "    stopppingBlocked = And(Equals(s['m'],STOPPING),Equals(p['m'],STOPPING), Equals(s['v'],p['v']),Equals(Int(0),p['v']) ,Equals(s['V'],p['V']))\n",
    "    blockedFree =  And(Equals(s['m'],BLOCKED),Equals(p['m'],FREE), Equals(s['v'],p['v']) ,Equals(s['V'],p['V'],NOT(Equals(s['V'],Real(0))), NOT(Equals(s['v'],Real(0))))\n",
    "    blockedStopped = And(Equals(s['m'],FREE),Equals(p['m'],STOPPING), Equals(s['v'],p['v']) ,Equals(s['V'],p['V'],Equals(s['V'],Real(0)), Equals(s['v'],Real(0)))\n",
    "\n",
    "    \n",
    "    #DAR PRO FreeFree uma condição pra ele parar de fazer freeFree sem ser a do timer \n",
    "    #Timed\n",
    "    freeFree = \n",
    "    blockedBlocked = \n",
    "    stoppingStopping = \n"
   ]
  },
  {
   "cell_type": "code",
   "execution_count": null,
   "id": "68cfdc62",
   "metadata": {},
   "outputs": [],
   "source": [
    "def gera_traco(declare,init,trans,k):\n",
    "    with Solver(name=\"z3\") as s:\n",
    "        \n",
    "        # completar\n",
    "        trace = [declare(i) for i in range(k)]\n",
    "        \n",
    "        #semantics\n",
    "        s.add_assertion(init(trace[0]))\n",
    "        for i in range(k-1):\n",
    "            s.add_assertion(trans(trace[i], trace[i+1]))\n",
    "            \n",
    "        if s.solve():\n",
    "            '''\n",
    "            m = s.get_model()\n",
    "            for n, v in m:\n",
    "                print(f'{n} = {v}')\n",
    "            '''\n",
    "            for i in range(k):\n",
    "                print(\"Passo \",i)\n",
    "                for v in trace[i]:\n",
    "                    print(v, \"=\", s.get_value(trace[i][v]))\n",
    "                print(\"------------------------\")\n",
    "    \n",
    "                        \n",
    "####\n",
    "gera_traco(declare,init,trans,5)"
   ]
  }
 ],
 "metadata": {
  "kernelspec": {
   "display_name": "Python 3 (ipykernel)",
   "language": "python",
   "name": "python3"
  },
  "language_info": {
   "codemirror_mode": {
    "name": "ipython",
    "version": 3
   },
   "file_extension": ".py",
   "mimetype": "text/x-python",
   "name": "python",
   "nbconvert_exporter": "python",
   "pygments_lexer": "ipython3",
   "version": "3.9.13"
  }
 },
 "nbformat": 4,
 "nbformat_minor": 5
}
