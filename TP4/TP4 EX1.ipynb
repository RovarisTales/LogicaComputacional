{
 "cells": [
  {
   "cell_type": "markdown",
   "id": "7022e707",
   "metadata": {},
   "source": [
    "### TP 4 EX 1\n",
    "Grupo 5:\n",
    "     \n",
    "     Breno Fernando Guerra Marrão A97768\n",
    "     \n",
    "     Tales André Rovaris Machado A96314"
   ]
  },
  {
   "cell_type": "markdown",
   "id": "df483fef",
   "metadata": {},
   "source": [
    "## Inicialização\n",
    "Usamos a biblioteca pysmt para resolver o problema proposto "
   ]
  },
  {
   "cell_type": "code",
   "execution_count": 8,
   "id": "bd2bbc76",
   "metadata": {},
   "outputs": [],
   "source": [
    "from pysmt.shortcuts import *\n",
    "from pysmt.typing import *\n"
   ]
  },
  {
   "cell_type": "markdown",
   "id": "abc209da",
   "metadata": {},
   "source": [
    "## Inicialização de variáveis"
   ]
  },
  {
   "cell_type": "code",
   "execution_count": 9,
   "id": "33c11ffa",
   "metadata": {},
   "outputs": [],
   "source": [
    "START = Int(0)\n",
    "FREE = Int(1) # No modo Free  não existe qualquer força de travagem\n",
    "STOPPING = Int(2)\n",
    "BLOCKED = Int(3) # no modo Blocked as rodas estão bloqueadas em relação ao corpo mas o veículo  move-se (i.e. derrapa)\n",
    "STOPPED = Int(4) # no modo Stopped o veículo está imobilizado.\n",
    "\n",
    "a = 5 # Forca de atrito\n",
    "P = 100 #peso\n",
    "c = 1\n",
    "Vi = 60.0 # Velocidade inicial\n",
    "T = 1 # Segundos maximo q pode ficar tanto no free como no blockd\n",
    "\n"
   ]
  },
  {
   "cell_type": "markdown",
   "id": "c2439517",
   "metadata": {},
   "source": [
    "Declararação das variáveis do FOTS correspondente ao veículo em que t é o tempo , m o estado que o veículo se encontra , V a velocidade do corpo em relação ao solo, V velocidade linear das rodas em relação ao solo."
   ]
  },
  {
   "cell_type": "code",
   "execution_count": 10,
   "id": "b41a85b9",
   "metadata": {},
   "outputs": [],
   "source": [
    "def declare(i):\n",
    "    s = {}\n",
    "    s['t'] = Symbol('t'+str(i),REAL)\n",
    "    s['m'] = Symbol('m'+str(i),INT)\n",
    "    s['V'] = Symbol('V'+str(i),REAL)\n",
    "    s['v'] = Symbol('v'+str(i),REAL)\n",
    "    s['c'] = Symbol('cronometro'+str(i),REAL)\n",
    "\n",
    "    return s"
   ]
  },
  {
   "cell_type": "markdown",
   "id": "45501591",
   "metadata": {},
   "source": [
    "O estado inicial do FOTS é o seguinte :\n",
    "$$\n",
    "m = \\mathsf{START}\\wedge v = V_{0}  \\wedge V_{0} = V \\wedge t = 0 \\wedge V_{0}  >= 0 \\wedge c = 0 \\\\\n",
    "$$\n",
    "Temos que começar no Start e definimos V e v com o valor de V0 que é o \"input\" do problema , e que diz a velocidade inicial do veículo, e c que vai marcar a diferença de tempo ."
   ]
  },
  {
   "cell_type": "code",
   "execution_count": 4,
   "id": "8ff5dcc9",
   "metadata": {},
   "outputs": [],
   "source": [
    "def init(s):\n",
    "    return And(Equals(s['m'],START),Equals(s['V'],Real(60)),s['V'] >= 0.0,Equals(s['V'],s['v']),Equals(s['t'], Real(0)),Equals(s['c'], Real(0)))\n"
   ]
  },
  {
   "cell_type": "markdown",
   "id": "cba0b26b",
   "metadata": {},
   "source": [
    "As transiçõe \"untimed\" do fots são as seguintes : \n",
    "$$\n",
    "\\begin{array}{c}\n",
    "m = \\mathsf{START} \\wedge m' = \\mathsf{FREE} \\wedge v' = v \\wedge V' = V \\wedge t' = t \\wedge c' = c \\\\\n",
    "\\vee\\\\\n",
    "m = \\mathsf{FREE} \\wedge m' = \\mathsf{STOPPING} \\wedge v' = v \\wedge V' = V \\wedge t' = t \\wedge c = T \\wedge c' = 0  \\\\\n",
    "\\vee\\\\\n",
    "m = \\mathsf{FREE} \\wedge m' = \\mathsf{STOPPING} \\wedge v' = v \\wedge V' = V \\wedge t' = t \\wedge V = 0 \\wedge c' = 0  \\\\\n",
    "\\vee\\\\\n",
    "m = \\mathsf{STOPPING} \\wedge m' = \\mathsf{STOPPED} \\wedge v' = v \\wedge V' = V \\wedge t' = t \\wedge v = 0 \\wedge V = 0 \\wedge c' = 0 \\\\\n",
    "\\vee\\\\\n",
    "m = \\mathsf{STOPPING} \\wedge m' = \\mathsf{BLOCKED} \\wedge v' = v \\wedge V' = V \\wedge t' = t \\wedge v = 0 \\wedge V >= 0 \\wedge c' = 0 \\\\\n",
    "\\vee\\\\\n",
    "m = \\mathsf{BLOCKED} \\wedge m' = \\mathsf{FREE} \\wedge v' = v \\wedge V' = V \\wedge t' = t \\wedge c' = 0 \\wedge c = T \\\\\n",
    "\\vee\\\\\n",
    "\\end{array}\n",
    "\\\\\n",
    "$$\n",
    "Iremos aproximar $\\dot{V}$ por $\\frac{V'-V}{t'-t}$ e $\\dot{v}$ por $\\frac{v'-v}{t'-t}$\n",
    "\n",
    "As transições \"timed \" -  switches do fots são as seguintes :\n",
    "Para as transições freeFree e stoppingStopping :   $\\dot{V}$ =  - F obtemos $\\frac{V'-V}{t'-t} = - F $ e agora multiplicando nos dois lados (t'-t) obtemos $V'-V = (-F) * (t' - t)$ que é a mesma coisa que dizer $V' - V = (-c *(V-v)) * (t'-t)$ aplicando este mesmo processo para $\\dot{v} = - a * P + F$ obtemos $v' - v = (-a * P + c * (V-v)) * (t'-t)$\n",
    "Para a transição \n",
    "$$\n",
    "\\begin{array}{c}\n",
    "m = \\mathsf{FREE} \\wedge m' = \\mathsf{FREE} \\wedge v' < v \\wedge t' < t \\wedge c < T \\wedge V' < V \\wedge v' \\geq 0 \\wedge V' \\geq 0 \\wedge t' - t > T \\wedge timer' = t' - t \\wedge v' - v = (-a * P + c * (V-v)) * (t'-t) \\\\\n",
    "\\vee\\\\\n",
    "\\end{array}"
   ]
  },
  {
   "cell_type": "code",
   "execution_count": 6,
   "id": "62faf91f",
   "metadata": {},
   "outputs": [
    {
     "ename": "IndentationError",
     "evalue": "unindent does not match any outer indentation level (<tokenize>, line 16)",
     "output_type": "error",
     "traceback": [
      "\u001b[0;36m  File \u001b[0;32m<tokenize>:16\u001b[0;36m\u001b[0m\n\u001b[0;31m    Equals(s['V'],p['V']),Equals(s['c'],Real(0)))\u001b[0m\n\u001b[0m    ^\u001b[0m\n\u001b[0;31mIndentationError\u001b[0m\u001b[0;31m:\u001b[0m unindent does not match any outer indentation level\n"
     ]
    }
   ],
   "source": [
    "def trans(s,p):\n",
    "    #Untimed\n",
    "    #Falta colocar as alterações de velocidade\n",
    "    #Definir condições para trocar entre as variaveis que vai no timed ................\n",
    "    #Stopping momento até bloquear definir\n",
    "    startFree = And(Equals(s['m'],START),Equals(p['m'],FREE), Equals(s['v'],p['v']) ,Equals(s['V'],p['V']),Equals(s['c'],p['c'])) \n",
    "    freeStopping = And(Equals(s['m'],FREE),Equals(p['m'],STOPPING),Equals(s['v'],p['v']),Equals(p['c'],real(0)),Equals(s['V'],p['V'])\n",
    "                       ,Equals(p['t'],s['t']),Equals(s['c'], Real(T)))\n",
    "    freeStopping1 = And(Equals(s['m'],FREE),Equals(p['m'],STOPPING),Equals(s['v'],p['v']),Equals(p['c'],real(0)),\n",
    "                        Equals(s['V'],real(0)),Equals(s['V'],p['V']),Equals(p['t'],s['t']))\n",
    "    #rever esta condição stoppingBlocked = And(Equals(s['m'],STOPPING),Equals(p['m'],BLOCKED), Equals(s['v'],p['v']),\n",
    "                          Equals(p['v'],Real(0),) ,Equals(s['V'],p['V']))\n",
    "    stoppingStopped = And(Equals(s['m'],STOPPING),Equals(p['m'],STOPPED), Equals(s['v'],p['v']) ,Equals(s['V'],p['V'])\n",
    "                          ,Equals(s['V'],Real(0)), Equals(s['v'],Real(0)),GT(s['V'],Real(0)),Equals(p['c'],Real(0)))\n",
    "    blockedFree =  And(Equals(s['m'],BLOCKED),Equals(p['m'],FREE), Equals(s['v'],p['v']) ,Equals(p['c'],Real(0)),\n",
    "                       Equals(s['V'],p['V']),Equals(s['c'],Real(0)))\n",
    "    blockedStopping =  And(Equals(s['m'],BLOCKED),Equals(p['m'],Stopping), Equals(s['v'],p['v']) Equals(p['c'],Real(0)),\n",
    "                       Equals(s['V'],p['V']),(Equals(s['V'],Real(0))), (Equals(s['v'],Real(0))))\n",
    "\n",
    "    \n",
    "    #DAR PRO FreeFree uma condição pra ele parar de fazer freeFree sem ser a do timer \n",
    "    #provavel colocar alguma porcentagem de diferenca de vel q nem no termostato \n",
    "    #Timed - Switchs\n",
    "    freeFree = And(Equals(s['m'],FREE), Equals(p['m'],FREE),)\n",
    "    blockedBlocked = And(Equals(s['m'],BLOCKED),cond(s['V'],s['v'],s['t'],p['V'],p['v'],p['t']),\n",
    "                         Equals(p['m'],BLOCKED),Not(Equals(p['v'],Real(0))),GT(p['t'] , s['t']),\n",
    "                         Equals(p['V'] ,p['v'])) \n",
    "    stoppingStopping = And(Equals(s['m'],STOPPING),Equals(p['m'],STOPPING),Not(Equals(p['v'],Real(0))),\n",
    "                    GT(p['t'] , s['t']),cond(s['V'],s['v'],s['t'],p['V'],p['v'],p['t']))\n",
    "    \n",
    "    return Or(startFree ,freeStopping,stoppingBlocked ,blockedFree ,stoppingStopped,freeFree,blockedBlocked,stoppingStopping)\n",
    "def cond (V0,v0,t0,V,v,t):\n",
    "    return And(Equals(V-V0,-(V-v) * (t - t0)),Equals(v-v0,(-a*P + (c * (V-v))) * (t - t0)))\n",
    "\n"
   ]
  },
  {
   "cell_type": "code",
   "execution_count": null,
   "id": "06ed83f3",
   "metadata": {},
   "outputs": [],
   "source": [
    "def gera_traco(declare,init,trans,k):\n",
    "    with Solver(name=\"z3\") as s:\n",
    "        \n",
    "        # completar\n",
    "        trace = [declare(i) for i in range(k)]\n",
    "        \n",
    "        #semantics\n",
    "        s.add_assertion(init(trace[0]))\n",
    "        for i in range(k-1):\n",
    "            s.add_assertion(trans(trace[i], trace[i+1]))\n",
    "            \n",
    "        if s.solve():\n",
    "            '''\n",
    "            m = s.get_model()\n",
    "            for n, v in m:\n",
    "                print(f'{n} = {v}')\n",
    "            '''\n",
    "            for i in range(k):\n",
    "                print(\"Passo \",i)\n",
    "                for v in trace[i]:\n",
    "                    print(v, \"=\", s.get_value(trace[i][v]))\n",
    "                print(\"------------------------\")\n",
    "    \n",
    "                        \n",
    "####\n",
    "gera_traco(declare,init,trans,5)"
   ]
  },
  {
   "cell_type": "markdown",
   "id": "277098e9",
   "metadata": {},
   "source": [
    "## 1. ”o veículo imobiliza-se completamente em menos de t segundos” \n",
    "Que pode ser traduzido por \n",
    "sendo T o número de segundos que queremos limitar sendo S o conjunto dos estados .\n",
    "\n",
    "$$\n",
    "\\begin{array}{c}\n",
    "\n",
    "(s_{t} <= T \\wedge s_{v} = 0 \\wedge s_{V} = 0) \\vee (s_{t} > T)\n",
    "\\end{array}\n",
    "\n",
    "$$\n"
   ]
  },
  {
   "cell_type": "code",
   "execution_count": 23,
   "id": "8dbc52a8",
   "metadata": {},
   "outputs": [
    {
     "name": "stdout",
     "output_type": "stream",
     "text": [
      "(((5 <= t0) & (v0 = 0) & (V0 = 0)) | (! (5 <= t0)))\n"
     ]
    }
   ],
   "source": [
    "def termina_t(s,tempo):\n",
    "    return Or(And(GE(s['t'],Int(tempo)),Equals(s['v'],Int(0)),Equals(s['V'],Int(0))),Not(GE(s['t'],Int(tempo))))\n",
    "\n",
    "def bmc_always1(declare,init,trans,inv,t,K):\n",
    "    \n",
    "    \n",
    "    for k in range(1,K+1):\n",
    "        with Solver(name=\"z3\") as s:\n",
    "            trace = [declare(i) for i in range(k)]\n",
    "        \n",
    "            s.add_assertion(init(trace[0]))\n",
    "        \n",
    "            for i in range(k-1):\n",
    "                s.add_assertion(trans(trace[i],trace[i+1]))\n",
    "            \n",
    "            s.add_assertion(Not(And(inv(trace[i],t) for i in range(k-1))))        \n",
    "            if s.solve():\n",
    "                for i in range(k):\n",
    "                    print(\"Passo\", i)\n",
    "                    for v in trace[i]:\n",
    "                        print(v,\"=\",s.get_value(trace[i][v]))\n",
    "                    print(\"----------------\")\n",
    "                print(\"Tem erro\")\n",
    "                return\n",
    "    print(\"Erro não encontrado\")\n",
    "\n",
    "    \n",
    "print(bmc_always1(declare,init,trans,termina_t,5,10))"
   ]
  },
  {
   "cell_type": "markdown",
   "id": "38533646",
   "metadata": {},
   "source": [
    "## 2.“a velocidade V diminui sempre com o tempo”\n",
    "Que pode ser traduzido por\n",
    "Sendo S o conjunto dos estados .\n",
    "Para qualquer i < length(s) : se s_{i}{t} < s_{i+1}{t} então s_{i}{V} > s_{i+1}{V}\n",
    "\n",
    "$$\n",
    "\\forall_{i\\in length(s)}  \\quad  se  \\quad  s_{i,t} < s_{i+1,t}\\quad então \\quad s_{i,V} > s_{i+1,V}\n",
    "$$"
   ]
  },
  {
   "cell_type": "code",
   "execution_count": 16,
   "id": "a2b961c7",
   "metadata": {},
   "outputs": [
    {
     "name": "stdout",
     "output_type": "stream",
     "text": [
      "(((t1 < t0) & (V0 < V1)) | (! (t1 < t0)))\n"
     ]
    }
   ],
   "source": [
    "p = declare(1)\n",
    "def veldiminui(c,p):\n",
    "    return Or(And(GT(c['t'],p['t']),GT(p['V'],c['V'])), Not(GT(c['t'],p['t'])))\n",
    "def bmc_always2(declare,init,trans,inv,K):\n",
    "    \n",
    "    for k in range(1,K+1):\n",
    "        with Solver(name=\"z3\") as s:\n",
    "            trace = [declare(i) for i in range(k)]\n",
    "        \n",
    "            s.add_assertion(init(trace[0]))\n",
    "        \n",
    "            for i in range(k-1):\n",
    "                s.add_assertion(trans(trace[i],trace[i+1]))\n",
    "                s.add_assertion(Not(And(inv(trace[i],trace[i+1]))))        \n",
    "\n",
    "            if s.solve():\n",
    "                for i in range(k):\n",
    "                    print(\"Passo\", i)\n",
    "                    for v in trace[i]:\n",
    "                        print(v,\"=\",s.get_value(trace[i][v]))\n",
    "                    print(\"----------------\")\n",
    "                print(\"Tem erro\")\n",
    "                return\n",
    "    print(\"Erro não encontrado\")\n",
    "bmc_always2(declare,init,trans,veldiminui,10)     "
   ]
  },
  {
   "cell_type": "code",
   "execution_count": null,
   "id": "e29d36f9",
   "metadata": {},
   "outputs": [],
   "source": []
  }
 ],
 "metadata": {
  "kernelspec": {
   "display_name": "Python 3 (ipykernel)",
   "language": "python",
   "name": "python3"
  },
  "language_info": {
   "codemirror_mode": {
    "name": "ipython",
    "version": 3
   },
   "file_extension": ".py",
   "mimetype": "text/x-python",
   "name": "python",
   "nbconvert_exporter": "python",
   "pygments_lexer": "ipython3",
   "version": "3.10.6"
  }
 },
 "nbformat": 4,
 "nbformat_minor": 5
}
