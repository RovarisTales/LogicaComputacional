{
 "cells": [
  {
   "cell_type": "markdown",
   "id": "7022e707",
   "metadata": {},
   "source": [
    "### TP 4 EX 1\n",
    "Grupo 5:\n",
    "     \n",
    "     Breno Fernando Guerra Marrão A97768\n",
    "     \n",
    "     Tales André Rovaris Machado A96314"
   ]
  },
  {
   "cell_type": "markdown",
   "id": "df483fef",
   "metadata": {},
   "source": [
    "## Inicialização\n",
    "Usamos a biblioteca pysmt para resolver o problema proposto "
   ]
  },
  {
   "cell_type": "code",
   "execution_count": 1,
   "id": "bd2bbc76",
   "metadata": {},
   "outputs": [],
   "source": [
    "from pysmt.shortcuts import *\n",
    "from pysmt.typing import *\n"
   ]
  },
  {
   "cell_type": "markdown",
   "id": "abc209da",
   "metadata": {},
   "source": [
    "## Inicialização de variáveis"
   ]
  },
  {
   "cell_type": "code",
   "execution_count": 2,
   "id": "33c11ffa",
   "metadata": {},
   "outputs": [],
   "source": [
    "START = Int(0)\n",
    "FREE = Int(1) # No modo Free  não existe qualquer força de travagem\n",
    "STOPPING = Int(2)\n",
    "BLOCKED = Int(3) # no modo Blocked as rodas estão bloqueadas em relação ao corpo mas o veículo  move-se (i.e. derrapa)\n",
    "STOPPED = Int(4) # no modo Stopped o veículo está imobilizado.\n",
    "\n",
    "a = 5 # Forca de atrito\n",
    "P = 100 #peso\n",
    "c = 1\n",
    "Vi = 60.0 # Velocidade inicial\n",
    "T = 1 # Segundos maximo q pode ficar tanto no free como no blockd\n",
    "\n"
   ]
  },
  {
   "cell_type": "markdown",
   "id": "c2439517",
   "metadata": {},
   "source": [
    "Declararação das variáveis do FOTS correspondente ao veículo em que t é o tempo , m o estado que o veículo se encontra , V a velocidade do corpo em relação ao solo, V velocidade linear das rodas em relação ao solo."
   ]
  },
  {
   "cell_type": "code",
   "execution_count": 3,
   "id": "b41a85b9",
   "metadata": {},
   "outputs": [],
   "source": [
    "def declare(i):\n",
    "    s = {}\n",
    "    s['t'] = Symbol('t'+str(i),REAL)\n",
    "    s['m'] = Symbol('m'+str(i),INT)\n",
    "    s['V'] = Symbol('V'+str(i),REAL)\n",
    "    s['v'] = Symbol('v'+str(i),REAL)\n",
    "    s['c'] = Symbol('cronometro'+str(i),REAL)\n",
    "\n",
    "    return s"
   ]
  },
  {
   "cell_type": "markdown",
   "id": "45501591",
   "metadata": {},
   "source": [
    "O estado inicial do FOTS é o seguinte :\n",
    "$$\n",
    "m = \\mathsf{START}\\wedge v = V_{0}  \\wedge V_{0} = V \\wedge t = 0 \\wedge V_{0}  >= 0 \\wedge c = 0 \\\\\n",
    "$$\n",
    "Temos que começar no Start e definimos V e v com o valor de V0 que é o \"input\" do problema , e que diz a velocidade inicial do veículo, e c que vai marcar a diferença de tempo ."
   ]
  },
  {
   "cell_type": "code",
   "execution_count": 2,
   "id": "8ff5dcc9",
   "metadata": {},
   "outputs": [],
   "source": [
    "def init(s):\n",
    "    return And(Equals(s['m'],START),Equals(s['V'],Real(60)),s['V'] >= 0.0,Equals(s['V'],s['v']),Equals(s['t'], Real(0)),Equals(s['c'], Real(0)))\n"
   ]
  },
  {
   "cell_type": "markdown",
   "id": "cba0b26b",
   "metadata": {},
   "source": [
    "As transiçõe \"untimed\" do fots são as seguintes : \n",
    "$$\n",
    "\\begin{array}{c}\n",
    "m = \\mathsf{START} \\wedge m' = \\mathsf{FREE} \\wedge v' = v \\wedge V' = V \\wedge t' = t \\wedge c' = c \\\\\n",
    "\\vee\\\\\n",
    "m = \\mathsf{FREE} \\wedge m' = \\mathsf{STOPPING} \\wedge v' = v \\wedge V' = V \\wedge t' = t \\wedge c = T \\wedge c' = 0  \\\\\n",
    "\\vee\\\\\n",
    "m = \\mathsf{FREE} \\wedge m' = \\mathsf{STOPPING} \\wedge v' = v \\wedge V' = V \\wedge t' = t \\wedge V = 0 \\wedge c' = 0  \\\\\n",
    "\\vee\\\\\n",
    "m = \\mathsf{STOPPING} \\wedge m' = \\mathsf{STOPPED} \\wedge v' = v \\wedge V' = V \\wedge t' = t \\wedge v = 0 \\wedge V = 0 \\wedge c' = 0 \\\\\n",
    "\\vee\\\\\n",
    "m = \\mathsf{STOPPING} \\wedge m' = \\mathsf{BLOCKED} \\wedge v' = v \\wedge V' = V \\wedge t' = t \\wedge v = 0 \\wedge V >= 0 \\wedge c' = 0 \\\\\n",
    "\\vee\\\\\n",
    "m = \\mathsf{BLOCKED} \\wedge m' = \\mathsf{FREE} \\wedge v' = v \\wedge V' = V \\wedge t' = t \\wedge c' = 0 \\wedge c = T \\\\\n",
    "\\vee\\\\\n",
    "\\end{array}\n",
    "\\\\\n",
    "$$\n",
    "As transições \"timed \" -  switches do fots são as seguintes :\n",
    "$$\n",
    "\\begin{array}{c}\n",
    "m = \\mathsf{FREE} \\wedge m' = \\mathsf{FREE} \\wedge v' < v \\wedge t' < t \\wedge c < T \\wedge V' < V \\wedge v' \\geq 0 \\wedge V' \\geq 0 \\wedge  \\\\\n",
    "\\vee\\\\\n",
    "\\end{array}"
   ]
  },
  {
   "cell_type": "code",
   "execution_count": 28,
   "id": "62faf91f",
   "metadata": {},
   "outputs": [],
   "source": [
    "def trans(s,p):\n",
    "    #Untimed\n",
    "    #Falta colocar as alterações de velocidade\n",
    "    #Definir condições para trocar entre as variaveis que vai no timed ................\n",
    "    #Stopping momento até bloquear definir\n",
    "    startFree = And(Equals(s['m'],START),Equals(p['m'],FREE), Equals(s['v'],p['v']) ,Equals(s['V'],p['V']),Equals(s['c'],p['c'])) \n",
    "    freeStopping = And(Equals(s['m'],FREE),Equals(p['m'],STOPPING),Equals(s['v'],p['v']),Equals(p['c'],real(0)),Equals(s['V'],p['V'])\n",
    "                       ,Equals(p['t'],s['t']),Equals(s['c'], Real(T)))\n",
    "    freeStopping1 = And(Equals(s['m'],FREE),Equals(p['m'],STOPPING),Equals(s['v'],p['v']),Equals(p['c'],real(0)),\n",
    "                        Equals(s['V'],real(0)),Equals(s['V'],p['V']),Equals(p['t'],s['t']))\n",
    "    #rever esta condição stoppingBlocked = And(Equals(s['m'],STOPPING),Equals(p['m'],BLOCKED), Equals(s['v'],p['v']),\n",
    "                          Equals(p['v'],Real(0),) ,Equals(s['V'],p['V']))\n",
    "    stoppingStopped = And(Equals(s['m'],STOPPING),Equals(p['m'],STOPPED), Equals(s['v'],p['v']) ,Equals(s['V'],p['V'])\n",
    "                          ,Equals(s['V'],Real(0)), Equals(s['v'],Real(0)),GT(s['V'],Real(0)),Equals(p['c'],Real(0)))\n",
    "    blockedFree =  And(Equals(s['m'],BLOCKED),Equals(p['m'],FREE), Equals(s['v'],p['v']) ,Equals(p['c'],Real(0)),\n",
    "                       Equals(s['V'],p['V']),Equals(s['c'],Real(0)))\n",
    "    blockedStopping =  And(Equals(s['m'],BLOCKED),Equals(p['m'],Stopping), Equals(s['v'],p['v']) Equals(p['c'],Real(0)),\n",
    "                       Equals(s['V'],p['V']),(Equals(s['V'],Real(0))), (Equals(s['v'],Real(0))))\n",
    "\n",
    "    \n",
    "    #DAR PRO FreeFree uma condição pra ele parar de fazer freeFree sem ser a do timer \n",
    "    #provavel colocar alguma porcentagem de diferenca de vel q nem no termostato \n",
    "    #Timed - Switchs\n",
    "    freeFree = And(Equals(s['m'],FREE), Equals(p['m'],FREE),)\n",
    "    blockedBlocked = And(Equals(s['m'],BLOCKED),cond(s['V'],s['v'],s['t'],p['V'],p['v'],p['t']),\n",
    "                         Equals(p['m'],BLOCKED),Not(Equals(p['v'],Real(0))),GT(p['t'] , s['t']),\n",
    "                         Equals(p['V'] ,p['v'])) \n",
    "    stoppingStopping = And(Equals(s['m'],STOPPING),Equals(p['m'],STOPPING),Not(Equals(p['v'],Real(0))),\n",
    "                    GT(p['t'] , s['t']),cond(s['V'],s['v'],s['t'],p['V'],p['v'],p['t']))\n",
    "    \n",
    "    return Or(startFree ,freeStopping,stoppingBlocked ,blockedFree ,stoppingStopped,freeFree,blockedBlocked,stoppingStopping)\n",
    "def cond (V0,v0,t0,V,v,t):\n",
    "    return And(Equals(V-V0,-(V-v) * (t - t0)),Equals(v-v0,(-a*P + (c * (V-v))) * (t - t0)))\n",
    "\n"
   ]
  },
  {
   "cell_type": "code",
   "execution_count": 29,
   "id": "06ed83f3",
   "metadata": {},
   "outputs": [
    {
     "ename": "SolverReturnedUnknownResultError",
     "evalue": "",
     "output_type": "error",
     "traceback": [
      "\u001b[0;31m---------------------------------------------------------------------------\u001b[0m",
      "\u001b[0;31mSolverReturnedUnknownResultError\u001b[0m          Traceback (most recent call last)",
      "Input \u001b[0;32mIn [29]\u001b[0m, in \u001b[0;36m<cell line: 26>\u001b[0;34m()\u001b[0m\n\u001b[1;32m     22\u001b[0m                 \u001b[38;5;28mprint\u001b[39m(\u001b[38;5;124m\"\u001b[39m\u001b[38;5;124m------------------------\u001b[39m\u001b[38;5;124m\"\u001b[39m)\n\u001b[1;32m     25\u001b[0m \u001b[38;5;66;03m####\u001b[39;00m\n\u001b[0;32m---> 26\u001b[0m \u001b[43mgera_traco\u001b[49m\u001b[43m(\u001b[49m\u001b[43mdeclare\u001b[49m\u001b[43m,\u001b[49m\u001b[43minit\u001b[49m\u001b[43m,\u001b[49m\u001b[43mtrans\u001b[49m\u001b[43m,\u001b[49m\u001b[38;5;241;43m5\u001b[39;49m\u001b[43m)\u001b[49m\n",
      "Input \u001b[0;32mIn [29]\u001b[0m, in \u001b[0;36mgera_traco\u001b[0;34m(declare, init, trans, k)\u001b[0m\n\u001b[1;32m      9\u001b[0m \u001b[38;5;28;01mfor\u001b[39;00m i \u001b[38;5;129;01min\u001b[39;00m \u001b[38;5;28mrange\u001b[39m(k\u001b[38;5;241m-\u001b[39m\u001b[38;5;241m1\u001b[39m):\n\u001b[1;32m     10\u001b[0m     s\u001b[38;5;241m.\u001b[39madd_assertion(trans(trace[i], trace[i\u001b[38;5;241m+\u001b[39m\u001b[38;5;241m1\u001b[39m]))\n\u001b[0;32m---> 12\u001b[0m \u001b[38;5;28;01mif\u001b[39;00m \u001b[43ms\u001b[49m\u001b[38;5;241;43m.\u001b[39;49m\u001b[43msolve\u001b[49m\u001b[43m(\u001b[49m\u001b[43m)\u001b[49m:\n\u001b[1;32m     13\u001b[0m     \u001b[38;5;124;03m'''\u001b[39;00m\n\u001b[1;32m     14\u001b[0m \u001b[38;5;124;03m    m = s.get_model()\u001b[39;00m\n\u001b[1;32m     15\u001b[0m \u001b[38;5;124;03m    for n, v in m:\u001b[39;00m\n\u001b[1;32m     16\u001b[0m \u001b[38;5;124;03m        print(f'{n} = {v}')\u001b[39;00m\n\u001b[1;32m     17\u001b[0m \u001b[38;5;124;03m    '''\u001b[39;00m\n\u001b[1;32m     18\u001b[0m     \u001b[38;5;28;01mfor\u001b[39;00m i \u001b[38;5;129;01min\u001b[39;00m \u001b[38;5;28mrange\u001b[39m(k):\n",
      "File \u001b[0;32m~/anaconda3/envs/logica/lib/python3.10/site-packages/pysmt/solvers/solver.py:359\u001b[0m, in \u001b[0;36mIncrementalTrackingSolver.solve\u001b[0;34m(self, assumptions)\u001b[0m\n\u001b[1;32m    357\u001b[0m \u001b[38;5;28;01mdef\u001b[39;00m \u001b[38;5;21msolve\u001b[39m(\u001b[38;5;28mself\u001b[39m, assumptions\u001b[38;5;241m=\u001b[39m\u001b[38;5;28;01mNone\u001b[39;00m):\n\u001b[1;32m    358\u001b[0m     \u001b[38;5;28;01mtry\u001b[39;00m:\n\u001b[0;32m--> 359\u001b[0m         res \u001b[38;5;241m=\u001b[39m \u001b[38;5;28;43mself\u001b[39;49m\u001b[38;5;241;43m.\u001b[39;49m\u001b[43m_solve\u001b[49m\u001b[43m(\u001b[49m\u001b[43massumptions\u001b[49m\u001b[38;5;241;43m=\u001b[39;49m\u001b[43massumptions\u001b[49m\u001b[43m)\u001b[49m\n\u001b[1;32m    360\u001b[0m         \u001b[38;5;28mself\u001b[39m\u001b[38;5;241m.\u001b[39m_last_result \u001b[38;5;241m=\u001b[39m res\n\u001b[1;32m    361\u001b[0m         \u001b[38;5;28;01mreturn\u001b[39;00m res\n",
      "File \u001b[0;32m~/anaconda3/envs/logica/lib/python3.10/site-packages/pysmt/decorators.py:64\u001b[0m, in \u001b[0;36mclear_pending_pop.<locals>.clear_pending_pop_wrap\u001b[0;34m(self, *args, **kwargs)\u001b[0m\n\u001b[1;32m     62\u001b[0m     \u001b[38;5;28mself\u001b[39m\u001b[38;5;241m.\u001b[39mpending_pop \u001b[38;5;241m=\u001b[39m \u001b[38;5;28;01mFalse\u001b[39;00m\n\u001b[1;32m     63\u001b[0m     \u001b[38;5;28mself\u001b[39m\u001b[38;5;241m.\u001b[39mpop()\n\u001b[0;32m---> 64\u001b[0m \u001b[38;5;28;01mreturn\u001b[39;00m \u001b[43mf\u001b[49m\u001b[43m(\u001b[49m\u001b[38;5;28;43mself\u001b[39;49m\u001b[43m,\u001b[49m\u001b[43m \u001b[49m\u001b[38;5;241;43m*\u001b[39;49m\u001b[43margs\u001b[49m\u001b[43m,\u001b[49m\u001b[43m \u001b[49m\u001b[38;5;241;43m*\u001b[39;49m\u001b[38;5;241;43m*\u001b[39;49m\u001b[43mkwargs\u001b[49m\u001b[43m)\u001b[49m\n",
      "File \u001b[0;32m~/anaconda3/envs/logica/lib/python3.10/site-packages/pysmt/solvers/z3.py:218\u001b[0m, in \u001b[0;36mZ3Solver._solve\u001b[0;34m(self, assumptions)\u001b[0m\n\u001b[1;32m    216\u001b[0m \u001b[38;5;28;01massert\u001b[39;00m sres \u001b[38;5;129;01min\u001b[39;00m [\u001b[38;5;124m'\u001b[39m\u001b[38;5;124munknown\u001b[39m\u001b[38;5;124m'\u001b[39m, \u001b[38;5;124m'\u001b[39m\u001b[38;5;124msat\u001b[39m\u001b[38;5;124m'\u001b[39m, \u001b[38;5;124m'\u001b[39m\u001b[38;5;124munsat\u001b[39m\u001b[38;5;124m'\u001b[39m]\n\u001b[1;32m    217\u001b[0m \u001b[38;5;28;01mif\u001b[39;00m sres \u001b[38;5;241m==\u001b[39m \u001b[38;5;124m'\u001b[39m\u001b[38;5;124munknown\u001b[39m\u001b[38;5;124m'\u001b[39m:\n\u001b[0;32m--> 218\u001b[0m     \u001b[38;5;28;01mraise\u001b[39;00m SolverReturnedUnknownResultError\n\u001b[1;32m    219\u001b[0m \u001b[38;5;28;01mreturn\u001b[39;00m (sres \u001b[38;5;241m==\u001b[39m \u001b[38;5;124m'\u001b[39m\u001b[38;5;124msat\u001b[39m\u001b[38;5;124m'\u001b[39m)\n",
      "\u001b[0;31mSolverReturnedUnknownResultError\u001b[0m: "
     ]
    }
   ],
   "source": [
    "def gera_traco(declare,init,trans,k):\n",
    "    with Solver(name=\"z3\") as s:\n",
    "        \n",
    "        # completar\n",
    "        trace = [declare(i) for i in range(k)]\n",
    "        \n",
    "        #semantics\n",
    "        s.add_assertion(init(trace[0]))\n",
    "        for i in range(k-1):\n",
    "            s.add_assertion(trans(trace[i], trace[i+1]))\n",
    "            \n",
    "        if s.solve():\n",
    "            '''\n",
    "            m = s.get_model()\n",
    "            for n, v in m:\n",
    "                print(f'{n} = {v}')\n",
    "            '''\n",
    "            for i in range(k):\n",
    "                print(\"Passo \",i)\n",
    "                for v in trace[i]:\n",
    "                    print(v, \"=\", s.get_value(trace[i][v]))\n",
    "                print(\"------------------------\")\n",
    "    \n",
    "                        \n",
    "####\n",
    "gera_traco(declare,init,trans,5)"
   ]
  },
  {
   "cell_type": "markdown",
   "id": "277098e9",
   "metadata": {},
   "source": [
    "## 1. ”o veículo imobiliza-se completamente em menos de t segundos” \n",
    "Que pode ser traduzido por \n",
    "sendo T o número de segundos que queremos limitar sendo S o conjunto dos estados .\n",
    "para qualquer estado se s_{t} >= T então V = 0 ^v= 0\n"
   ]
  },
  {
   "cell_type": "markdown",
   "id": "38533646",
   "metadata": {},
   "source": [
    "## 2.“a velocidade V diminui sempre com o tempo”\n",
    "Que pode ser traduzido por\n",
    "Sendo S o conjunto dos estados .\n",
    "Para qualquer i < length(s) : se s_{i}{t} < s_{i+1}{t} então s_{i}{V} > s_{i+1}{V}"
   ]
  },
  {
   "cell_type": "code",
   "execution_count": null,
   "id": "a2b961c7",
   "metadata": {},
   "outputs": [],
   "source": []
  }
 ],
 "metadata": {
  "kernelspec": {
   "display_name": "Python 3 (ipykernel)",
   "language": "python",
   "name": "python3"
  },
  "language_info": {
   "codemirror_mode": {
    "name": "ipython",
    "version": 3
   },
   "file_extension": ".py",
   "mimetype": "text/x-python",
   "name": "python",
   "nbconvert_exporter": "python",
   "pygments_lexer": "ipython3",
   "version": "3.10.6"
  }
 },
 "nbformat": 4,
 "nbformat_minor": 5
}
