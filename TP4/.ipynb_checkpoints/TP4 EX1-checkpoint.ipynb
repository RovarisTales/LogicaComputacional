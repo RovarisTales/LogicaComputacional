{
 "cells": [
  {
   "cell_type": "markdown",
   "id": "7022e707",
   "metadata": {},
   "source": [
    "### TP 4 EX 1\n",
    "Grupo 5:\n",
    "     \n",
    "     Breno Fernando Guerra Marrão A97768\n",
    "     \n",
    "     Tales André Rovaris Machado A96314"
   ]
  },
  {
   "cell_type": "markdown",
   "id": "df483fef",
   "metadata": {},
   "source": [
    "## Inicialização\n",
    "Usamos a biblioteca pysmt para resolver o problema proposto "
   ]
  },
  {
   "cell_type": "code",
   "execution_count": 3,
   "id": "bd2bbc76",
   "metadata": {},
   "outputs": [],
   "source": [
    "from pysmt.shortcuts import *\n",
    "from pysmt.typing import *\n"
   ]
  },
  {
   "cell_type": "markdown",
   "id": "abc209da",
   "metadata": {},
   "source": [
    "## Inicialização de variáveis"
   ]
  },
  {
   "cell_type": "code",
   "execution_count": 89,
   "id": "33c11ffa",
   "metadata": {},
   "outputs": [],
   "source": [
    "START = Int(0)\n",
    "FREE = Int(1) # No modo Free  não existe qualquer força de travagem\n",
    "STOPPING = Int(2)\n",
    "BLOCKED = Int(3) # no modo Blocked as rodas estão bloqueadas em relação ao corpo mas o veículo  move-se (i.e. derrapa)\n",
    "STOPPED = Int(4) # no modo Stopped o veículo está imobilizado.\n",
    "\n",
    "a = 0.02 # Forca de atrito\n",
    "P = 1000 #peso\n",
    "Vi = 20 # Velocidade inicial\n",
    "T = 0.2 # Segundos maximo q pode ficar tanto no free como no blockd\n",
    "\n"
   ]
  },
  {
   "cell_type": "markdown",
   "id": "c2439517",
   "metadata": {},
   "source": [
    "Declararação das variáveis do FOTS correspondente ao veículo em que t é o tempo , m o estado que o veículo se encontra , V a velocidade do corpo em relação ao solo, V velocidade linear das rodas em relação ao solo."
   ]
  },
  {
   "cell_type": "code",
   "execution_count": 2,
   "id": "b41a85b9",
   "metadata": {},
   "outputs": [],
   "source": [
    "def declare(i):\n",
    "    s = {}\n",
    "    s['t'] = Symbol('t'+str(i),REAL)\n",
    "    s['m'] = Symbol('m'+str(i),INT)\n",
    "    s['V'] = Symbol('V'+str(i),REAL)\n",
    "    s['v'] = Symbol('v'+str(i),REAL)\n",
    "    s['cr'] = Symbol('cronometro'+str(i),REAL)\n",
    "\n",
    "    return s"
   ]
  },
  {
   "cell_type": "markdown",
   "id": "45501591",
   "metadata": {},
   "source": [
    "O estado inicial do FOTS é o seguinte :\n",
    "$$\n",
    "m = \\mathsf{START}\\wedge v = V_{0}  \\wedge V_{0} = V \\wedge t = 0 \\wedge V_{0}  >= 0 \\wedge cr = 0 \\\\\n",
    "$$\n",
    "Temos que começar no Start e definimos V e v com o valor de V0 que é o \"input\" do problema , e que diz a velocidade inicial do veículo, e cr que vai marcar a diferença de tempo ."
   ]
  },
  {
   "cell_type": "code",
   "execution_count": 69,
   "id": "8ff5dcc9",
   "metadata": {},
   "outputs": [],
   "source": [
    "def init(s):\n",
    "    return And(Equals(s['m'],START),Equals(s['V'],Real(Vi)+0.1),s['V'] >= 0.0,Equals(Real(Vi),s['v']),Equals(s['t'], Real(0)),Equals(s['cr'], Real(0)))\n"
   ]
  },
  {
   "cell_type": "markdown",
   "id": "cba0b26b",
   "metadata": {},
   "source": [
    "As transiçõe \"untimed\" do fots são as seguintes : \n",
    "$$\n",
    "\\begin{array}{c}\n",
    "m = \\mathsf{START} \\wedge m' = \\mathsf{FREE} \\wedge v' = v \\wedge V' = V \\wedge t' = t \\wedge c' = c \\\\\n",
    "\\vee\\\\\n",
    "m = \\mathsf{FREE} \\wedge m' = \\mathsf{STOPPING} \\wedge v' = v \\wedge V' = V \\wedge t' = t \\wedge c = T \\wedge c' = 0  \\\\\n",
    "\\vee\\\\\n",
    "m = \\mathsf{FREE} \\wedge m' = \\mathsf{STOPPING} \\wedge v' = v \\wedge V' = V \\wedge t' = t \\wedge V = 0 \\wedge c' = 0  \\\\\n",
    "\\vee\\\\\n",
    "m = \\mathsf{STOPPING} \\wedge m' = \\mathsf{STOPPED} \\wedge v' = v \\wedge V' = V \\wedge t' = t \\wedge v = 0 \\wedge V = 0 \\wedge c' = 0 \\\\\n",
    "\\vee\\\\\n",
    "m = \\mathsf{STOPPING} \\wedge m' = \\mathsf{BLOCKED} \\wedge v' = v \\wedge V' = V \\wedge t' = t \\wedge v = 0 \\wedge V >= 0 \\wedge c' = 0 \\\\\n",
    "\\vee\\\\\n",
    "m = \\mathsf{BLOCKED} \\wedge m' = \\mathsf{FREE} \\wedge v' = v \\wedge V' = V \\wedge t' = t \\wedge c' = 0 \\wedge c = T \\\\\n",
    "\\vee\\\\\n",
    "\\end{array}\n",
    "\\\\\n",
    "$$\n",
    "\n",
    "Iremos aproximar $\\dot{V}$ por $\\frac{V'-V}{t'-t}$ e $\\dot{v}$ por $\\frac{v'-v}{t'-t}$\n",
    "\n",
    "As transições \"timed \" -  switches do fots são as seguintes :\n",
    "Para as transições freeFree e stoppingStopping :   $\\dot{V}$ =  - F obtemos $\\frac{V'-V}{t'-t} = - F $ e agora multiplicando nos dois lados (t'-t) obtemos $V'-V = (-F) * (t' - t)$ que é a mesma coisa que dizer $V' - V = (-c *(V-v)) * (t'-t)$ aplicando este mesmo processo para $\\dot{v} = - a * P + F$ obtemos $v' - v = (-a * P + c * (V-v)) * (t'-t)\\newline$\n",
    "Para a transição blockedBlocked $\\dot{v} = -a * P$ é o mesmo que dizer $v' - v = (- a * P ) * (t'-t)$\n",
    "$$\n",
    "\\begin{array}{c}\n",
    "(m = \\mathsf{FREE} \\wedge m' = \\mathsf{FREE} \\wedge v' < v \\wedge t' > t \\wedge V' < V \\wedge v' \\geq 0 \\wedge V' \\geq 0 \\wedge cr = 0 \\wedge t' - t = T \\wedge cr' = t' - t \\wedge  V' - V = (-c *(V-v)) * (t'-t) \\wedge  v' - v = (-a * P + c * (V-v)) * (t'-t)) \\\\\n",
    "\\vee\\\\\n",
    "(m = \\mathsf{STOPPING} \\wedge m' = \\mathsf{STOPPING} \\wedge v' < v \\wedge t' > t  \\wedge V' < V \\wedge v' \\geq 0 \\wedge V' \\geq 0 \\wedge cr = 0  \\wedge cr' = 0 \\wedge  V'-V = (-F) * (t' - t) \\wedge  v' - v = (-a * P + c * (V-v)) * (t'-t) \\wedge v >= 0 )\\\\\n",
    "\\vee\\\\\n",
    "(m = \\mathsf{BLOCKED} \\wedge m' = \\mathsf{BLOCKED} \\wedge v' < v \\wedge t' > t  \\wedge V' < V \\wedge v' \\geq 0 \\wedge V' \\geq 0 \\wedge cr = 0 \\wedge t' - t >= T \\wedge cr' = t' - t \\wedge  V'-V = (-F) * (t' - t) \\wedge  v' - v = (-a * P + c * (V-v)) * (t'-t)) \\\\\n",
    "\\end{array}\n",
    "\\\\\n",
    "$$"
   ]
  },
  {
   "cell_type": "code",
   "execution_count": 97,
   "id": "62faf91f",
   "metadata": {},
   "outputs": [],
   "source": [
    "def trans(s,p):\n",
    "    #Untimed\n",
    "    #Falta colocar as alterações de velocidade\n",
    "    #Definir condições para trocar entre as variaveis que vai no timed ................\n",
    "    #Stopping momento até bloquear definir\n",
    "    #CR talvez não colocar condição ver\n",
    "    startFree = And(Equals(s['m'],START),Equals(p['m'],FREE),s['t'] >= 0,p['t'] >= 0,Equals(s['v'],p['v']) ,Equals(s['V'],p['V']),Equals(s['cr'],p['cr'])) \n",
    "    freeStopping = And(Equals(s['m'],FREE),Equals(p['m'],STOPPING),Equals(s['v'],p['v']),Equals(p['cr'],Real(0)),Equals(s['V'],p['V'])\n",
    "                       ,Equals(p['t'],s['t']),Equals(s['cr'], Real(T)),s['t'] >= 0,p['t'] >= 0)\n",
    "    freeStopping1 = And(Equals(s['m'],FREE),Equals(p['m'],STOPPING),Equals(s['v'],p['v']),Equals(p['cr'],Real(0)),\n",
    "                        Equals(s['V'],Real(0)),Equals(s['V'],p['V']),Equals(p['t'],s['t']))\n",
    "    '''\n",
    "    stoppingBlocked = And(Equals(s['m'],STOPPING),Equals(p['m'],BLOCKED), Equals(s['v'],p['v']),\n",
    "                          Equals(p['v'],Real(0),) ,Equals(s['V'],p['V']))\n",
    "    #stoppingStopped = And(Equals(s['m'],STOPPING),Equals(p['m'],STOPPED), Equals(s['v'],p['v']) ,Equals(s['V'],p['V'])\n",
    "                          ,Equals(s['V'],Real(0)), Equals(s['v'],Real(0)),GT(s['V'],Real(0)),Equals(p['cr'],Real(0)))\n",
    "    #blockedFree =  And(Equals(s['m'],BLOCKED),Equals(p['m'],FREE), Equals(s['v'],p['v']) ,Equals(p['cr'],Real(0)),Equals(s['V'],p['V']),Equals(s['cr'],Real(0)))\n",
    "    #blockedStopping =  And(Equals(s['m'],BLOCKED),Equals(p['m'],Stopping), Equals(s['v'],p['v']) Equals(p['cr'],Real(0)),\n",
    "                       Equals(s['V'],p['V']),(Equals(s['V'],Real(0))), (Equals(s['v'],Real(0))))\n",
    "    '''\n",
    "    \n",
    "    #DAR PRO FreeFree uma condição pra ele parar de fazer freeFree sem ser a do timer \n",
    "    #provavel colocar alguma porcentagem de diferenca de vel q nem no termostato \n",
    "    #Timed - Switchs\n",
    "    freeFree = And(Equals(s['m'],FREE), Equals(p['m'],FREE),s['t'] < p['t'],s['V'] > p['V'],s['v'] > p['v'],\n",
    "                  p['v'] >= 0 , p['V']>= 0 , Equals(Real(T), p['t'] -s['t'] ), Equals(s['cr'], Real(0)),\n",
    "                  Equals(p['cr'],Real(T)),cond(s['V'],s['v'],s['t'],p['V'],p['v'],p['t'],Real(0.1)))\n",
    "    #blockedBlocked = And(Equals(s['m'],BLOCKED),cond(s['V'],s['v'],s['t'],p['V'],p['v'],p['t']),\n",
    "     #                    Equals(p['m'],BLOCKED),Not(Equals(p['v'],Real(0))),GT(p['t'] , s['t']),\n",
    "      #                   Equals(p['V'] ,p['v'])) \n",
    "    stoppingStopping = And(Equals(s['m'],STOPPING),Equals(p['m'],STOPPING),s['V'] > p['V'],p['v'] >= 0 , p['V']>= 0 , s['v'] > p['v'],\n",
    "                 s['t'] < p['t'],cond(s['V'],s['v'],s['t'],p['V'],p['v'],p['t'],Real(2)))\n",
    "    #   return Or(startFree ,freeStopping,stoppingBlocked ,blockedFree ,stoppingStopped,freeFree,blockedBlocked,stoppingStopping)\n",
    "    return Or(startFree ,freeStopping,freeStopping1,freeFree,stoppingStopping)\n",
    "def cond (V0,v0,t0,V,v,t,c):\n",
    "    return And(Equals(V-V0,(-c * (V0-v0)) * (t -t0)),Equals(v-v0,(-a*P + (c * (V0-v0))) * (t - t0)))\n",
    "\n"
   ]
  },
  {
   "cell_type": "code",
   "execution_count": 98,
   "id": "06ed83f3",
   "metadata": {},
   "outputs": [
    {
     "name": "stdout",
     "output_type": "stream",
     "text": [
      "Passo  0\n",
      "t = 0.0\n",
      "m = 0\n",
      "V = 724178820081175757/36028797018963968\n",
      "v = 20.0\n",
      "cr = 0.0\n",
      "------------------------\n",
      "Passo  1\n",
      "t = 0.0\n",
      "m = 1\n",
      "V = 724178820081175757/36028797018963968\n",
      "v = 20.0\n",
      "cr = 0.0\n",
      "------------------------\n",
      "Passo  2\n",
      "t = 3602879701896397/18014398509481984\n",
      "m = 1\n",
      "V = 469972158513223789722941500462478146902840015488811/23384026197294446691258957323460528314494920687616\n",
      "v = 233887030025339042833018390099985374750478682388693/23384026197294446691258957323460528314494920687616\n",
      "cr = 3602879701896397/18014398509481984\n",
      "------------------------\n",
      "Passo  3\n",
      "t = 3602879701896397/18014398509481984\n",
      "m = 2\n",
      "V = 469972158513223789722941500462478146902840015488811/23384026197294446691258957323460528314494920687616\n",
      "v = 233887030025339042833018390099985374750478682388693/23384026197294446691258957323460528314494920687616\n",
      "cr = 0.0\n",
      "------------------------\n",
      "Passo  4\n",
      "t = 1681163299280179458407641789407870475773255376276147120102371458705/3139148790056352503142512430041659143639889551966904676867054239744\n",
      "m = 2\n",
      "V = 83643403034501524946116870593001657781748686712533086645501772565997/6278297580112705006285024860083318287279779103933809353734108479488\n",
      "v = 0.0\n",
      "cr = 0.0\n",
      "------------------------\n"
     ]
    }
   ],
   "source": [
    "def gera_traco(declare,init,trans,k):\n",
    "    with Solver(name=\"z3\") as s:\n",
    "        \n",
    "        # completar\n",
    "        trace = [declare(i) for i in range(k)]\n",
    "        \n",
    "        #semantics\n",
    "        s.add_assertion(init(trace[0]))\n",
    "        for i in range(k-1):\n",
    "            s.add_assertion(trans(trace[i], trace[i+1]))\n",
    "            \n",
    "        if s.solve():\n",
    "            '''\n",
    "            m = s.get_model()\n",
    "            for n, v in m:\n",
    "                print(f'{n} = {v}')\n",
    "            '''\n",
    "            for i in range(k):\n",
    "                print(\"Passo \",i)\n",
    "                for v in trace[i]:\n",
    "                    print(v, \"=\", (s.get_value(trace[i][v])))\n",
    "                print(\"------------------------\")\n",
    "    \n",
    "                        \n",
    "####\n",
    "gera_traco(declare,init,trans,5)"
   ]
  },
  {
   "cell_type": "markdown",
   "id": "277098e9",
   "metadata": {},
   "source": [
    "## 1. ”o veículo imobiliza-se completamente em menos de t segundos” \n",
    "Que pode ser traduzido por \n",
    "sendo T o número de segundos que queremos limitar sendo S o conjunto dos estados .\n",
    "\n",
    "$$\n",
    "\\begin{array}{c}\n",
    "\n",
    "(s_{t} <= T \\wedge s_{v} = 0 \\wedge s_{V} = 0) \\vee (s_{t} > T)\n",
    "\\end{array}\n",
    "\n",
    "$$\n"
   ]
  },
  {
   "cell_type": "code",
   "execution_count": 23,
   "id": "8dbc52a8",
   "metadata": {},
   "outputs": [
    {
     "name": "stdout",
     "output_type": "stream",
     "text": [
      "(((5 <= t0) & (v0 = 0) & (V0 = 0)) | (! (5 <= t0)))\n"
     ]
    }
   ],
   "source": [
    "def termina_t(s,tempo):\n",
    "    return Or(And(GE(s['t'],Int(tempo)),Equals(s['v'],Int(0)),Equals(s['V'],Int(0))),Not(GE(s['t'],Int(tempo))))\n",
    "\n",
    "def bmc_always1(declare,init,trans,inv,t,K):\n",
    "    \n",
    "    \n",
    "    for k in range(1,K+1):\n",
    "        with Solver(name=\"z3\") as s:\n",
    "            trace = [declare(i) for i in range(k)]\n",
    "        \n",
    "            s.add_assertion(init(trace[0]))\n",
    "        \n",
    "            for i in range(k-1):\n",
    "                s.add_assertion(trans(trace[i],trace[i+1]))\n",
    "            \n",
    "            s.add_assertion(Not(And(inv(trace[i],t) for i in range(k-1))))        \n",
    "            if s.solve():\n",
    "                for i in range(k):\n",
    "                    print(\"Passo\", i)\n",
    "                    for v in trace[i]:\n",
    "                        print(v,\"=\",s.get_value(trace[i][v]))\n",
    "                    print(\"----------------\")\n",
    "                print(\"Tem erro\")\n",
    "                return\n",
    "    print(\"Erro não encontrado\")\n",
    "\n",
    "    \n",
    "print(bmc_always1(declare,init,trans,termina_t,5,10))"
   ]
  },
  {
   "cell_type": "markdown",
   "id": "38533646",
   "metadata": {},
   "source": [
    "## 2.“a velocidade V diminui sempre com o tempo”\n",
    "Que pode ser traduzido por\n",
    "Sendo S o conjunto dos estados .\n",
    "Para qualquer i < length(s) : se s_{i}{t} < s_{i+1}{t} então s_{i}{V} > s_{i+1}{V}\n",
    "\n",
    "$$\n",
    "\\forall_{i\\in length(s)}  \\quad  se  \\quad  s_{i,t} < s_{i+1,t}\\quad então \\quad s_{i,V} > s_{i+1,V}\n",
    "$$"
   ]
  },
  {
   "cell_type": "code",
   "execution_count": 16,
   "id": "a2b961c7",
   "metadata": {},
   "outputs": [
    {
     "name": "stdout",
     "output_type": "stream",
     "text": [
      "(((t1 < t0) & (V0 < V1)) | (! (t1 < t0)))\n"
     ]
    }
   ],
   "source": [
    "p = declare(1)\n",
    "def veldiminui(c,p):\n",
    "    return Or(And(GT(c['t'],p['t']),GT(p['V'],c['V'])), Not(GT(c['t'],p['t'])))\n",
    "def bmc_always2(declare,init,trans,inv,K):\n",
    "    \n",
    "    for k in range(1,K+1):\n",
    "        with Solver(name=\"z3\") as s:\n",
    "            trace = [declare(i) for i in range(k)]\n",
    "        \n",
    "            s.add_assertion(init(trace[0]))\n",
    "        \n",
    "            for i in range(k-1):\n",
    "                s.add_assertion(trans(trace[i],trace[i+1]))\n",
    "                s.add_assertion(Not(And(inv(trace[i],trace[i+1]))))        \n",
    "\n",
    "            if s.solve():\n",
    "                for i in range(k):\n",
    "                    print(\"Passo\", i)\n",
    "                    for v in trace[i]:\n",
    "                        print(v,\"=\",s.get_value(trace[i][v]))\n",
    "                    print(\"----------------\")\n",
    "                print(\"Tem erro\")\n",
    "                return\n",
    "    print(\"Erro não encontrado\")\n",
    "bmc_always2(declare,init,trans,veldiminui,10)     "
   ]
  },
  {
   "cell_type": "code",
   "execution_count": null,
   "id": "e29d36f9",
   "metadata": {},
   "outputs": [],
   "source": []
  }
 ],
 "metadata": {
  "kernelspec": {
   "display_name": "Python 3 (ipykernel)",
   "language": "python",
   "name": "python3"
  },
  "language_info": {
   "codemirror_mode": {
    "name": "ipython",
    "version": 3
   },
   "file_extension": ".py",
   "mimetype": "text/x-python",
   "name": "python",
   "nbconvert_exporter": "python",
   "pygments_lexer": "ipython3",
   "version": "3.10.6"
  }
 },
 "nbformat": 4,
 "nbformat_minor": 5
}
