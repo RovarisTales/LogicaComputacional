{
 "cells": [
  {
   "cell_type": "code",
   "execution_count": 1,
   "id": "33c11ffa",
   "metadata": {},
   "outputs": [],
   "source": [
    "from pysmt.shortcuts import *\n",
    "from pysmt.typing import *\n",
    "\n",
    "START = Int(0)\n",
    "FREE = Int(1) # No modo Free  não existe qualquer força de travagem\n",
    "STOPPING = Int(2)\n",
    "BLOCKED = Int(3) # no modo Blocked as rodas estão bloqueadas em relação ao corpo mas o veículo  move-se (i.e. derrapa)\n",
    "STOPPED = Int(4) # no modo Stopped o veículo está imobilizado.\n",
    "\n",
    "a = 5 # Forca de atrito\n",
    "p = 100 #peso\n",
    "c = 1\n",
    "V0 = 60 # Velocidade inicial\n",
    "T = 1 # Segundos maximo q pode ficar tanto no free como no blockd\n",
    "#A componente contínua  do autómato usa variáveis contínuas $$\\,V,v\\,$$ para descrever a \n",
    "#velocidade do corpo   e a velocidade linear das rodas  ambas em relação so solo\n",
    "\n",
    "#F força de travagem (Variavel)\n",
    "#t Força de atrito a o solo (constante)\n",
    "\n",
    "'''\n",
    "1.\n",
    "Durante  a travagem não existe qualquer  força no sistema excepto as forças de atrito. Quando uma superfície se \n",
    "desloca em relação à outra, a força de atrito  é proporcional à força de compressão entre elas. \n",
    "\n",
    "2.\n",
    "No contacto rodas/solo o atrito é constante porque a força de compressão é o peso; tem-se f = aP a, a constante de\n",
    "atrito e P o peso. Ambos são fixos e independentes do modo.\n",
    "\n",
    "3.\n",
    "No contacto corpo/rodas,  a força de compressão é a força de travagem que aqui se assume como proporcional à \n",
    "diferença de velocidades F =  c(V-v) A  constante de proporcionalidade c depende do modo: é elevada no modo \n",
    "`Stopping` e baixa nos outros.\n",
    "\n",
    "\n",
    "4. As  equações que traduzem a dinâmica  do sistema são, em todos os modo excepto `Blocked`, (V = -F) ^ (v = -aP +F)\n",
    "e no modo `Blocked` (V = v) ^ (v = -aP)\n",
    "\n",
    "5.Tanto no modo Blocked  como no modo Free  existe um “timer” que impede que o controlo aí permaneça mais do que \n",
    "t segundos.\n",
    "\n",
    "6. Todos os “switchs” devem ser construídos de  modo a impedir a existência de trajetórias de Zenão.\n",
    "                                                        \n",
    "7. No instante inicial assume-se V = v = V0  ,  em que a velocidade V0 é o “input” do problema.( Isto é, sequências \n",
    "infinitas de transições  entre dois modos em intervalos de tempo  que tendem para zero mas nunca alcançam zero.)"
   ]
  },
  {
   "cell_type": "markdown",
   "id": "c2439517",
   "metadata": {},
   "source": [
    "Declararação das variáveis do FOTS correspondente ao veículo em que t é o tempo , m o estado que o veículo se encontra , V a velocidade do corpo em relação ao solo, V velocidade linear das rodas em relação ao solo."
   ]
  },
  {
   "cell_type": "code",
   "execution_count": null,
   "id": "b41a85b9",
   "metadata": {},
   "outputs": [],
   "source": [
    "def declare(i):\n",
    "    s = {}\n",
    "    s['t'] = Symbol('t'+str(i),REAL)\n",
    "    s['m'] = Symbol('m'+str(i),INT)\n",
    "    s['V'] = Symbol('x'+str(i),REAL)\n",
    "    s['v'] = Symbol('x'+str(i),REAL)\n",
    "\n",
    "    return s"
   ]
  },
  {
   "cell_type": "markdown",
   "id": "45501591",
   "metadata": {},
   "source": [
    "O estado inicial do FOTS é o seguinte :\n",
    "$$\n",
    "m = \\mathsf{START}\\wedge v = V0 \\wedge V0 = V \\wedge t = 0 \\wedge V0 >= 0 \\\\\n",
    "$$\n",
    "Temos que começar no Start e definimos V e v com o valor de V0 que é o \"input\" do problema , e que diz a velocidade inicial do veículo."
   ]
  },
  {
   "cell_type": "code",
   "execution_count": null,
   "id": "8ff5dcc9",
   "metadata": {},
   "outputs": [],
   "source": [
    "def init(s):\n",
    "    return And(Equals(s['m'],START),Equals(s['V'],V0),Equals(s['v'],V0),GE(V0,Real(0)),(Equals(s['t'],Real(0)))"
   ]
  },
  {
   "cell_type": "markdown",
   "id": "cba0b26b",
   "metadata": {},
   "source": [
    "As transiçõe \"untimed\" do fots são as seguintes : \n",
    "$$\n",
    "\\begin{array}{c}\n",
    "m = \\mathsf{START} \\wedge m' = \\mathsf{FREE} \\wedge v' = v \\wedge V' = V \\wedge t' = t \\\\\n",
    "\\vee\\\\\n",
    "m = \\mathsf{FREE} \\wedge m' = \\mathsf{STOPPING} \\wedge v' = v \\wedge V' = V \\wedge t' = t  \\\\\n",
    "\\vee\\\\\n",
    "m = \\mathsf{STOPPING} \\wedge m' = \\mathsf{BLOCKED} \\wedge v' = v \\wedge V' = V \\wedge t' = t \\wedge v = 0 \\\\\n",
    "\\vee\\\\\n",
    "m = \\mathsf{STOPPING} \\wedge m' = \\mathsf{BLOCKED} \\wedge v' = v \\wedge V' = V \\wedge t' = t \\wedge v != 0 \\wedge V != 0 \\\\\n",
    "\\vee\\\\\n",
    "m = \\mathsf{BLOCKED} \\wedge m' = \\mathsf{STOPPED} \\wedge v' = v \\wedge V' = V \\wedge t' = t \\wedge v = 0 \\wedge V = 0 \\\\\n",
    "\\end{array}\n",
    "As transições \"timed \" -  switches do fots são as seguintes :\n",
    "$$"
   ]
  },
  {
   "cell_type": "code",
   "execution_count": null,
   "id": "62faf91f",
   "metadata": {},
   "outputs": [],
   "source": [
    "def trans(s,p):\n",
    "    #Untimed\n",
    "    #Falta colocar as alterações de velocidade\n",
    "    #Definir condições para trocar entre as variaveis que vai no timed ................\n",
    "    #Stopping momento até bloquear definir\n",
    "    startFree = And(Equals(s['m'],START),Equals(p['m'],FREE), Equals(s['v'],p['v']) ,Equals(s['V'],p['V'])) \n",
    "    freeStopping = And(Equals(s['m'],FREE),Equals(p['m'],STOPPING),Equals(s['v'],p['v']) ,Equals(s['V'],p['V']))\n",
    "    stopppingBlocked = And(Equals(s['m'],STOPPING),Equals(p['m'],STOPPING), Equals(s['v'],p['v']),Equals(Int(0),p['v']) ,Equals(s['V'],p['V']))\n",
    "    blockedFree =  And(Equals(s['m'],BLOCKED),Equals(p['m'],FREE), Equals(s['v'],p['v']) ,Equals(s['V'],p['V'],NOT(Equals(s['V'],Real(0))), NOT(Equals(s['v'],Real(0))))\n",
    "    blockedStopped = And(Equals(s['m'],BLOCKED),Equals(p['m'],STOPPED), Equals(s['v'],p['v']) ,Equals(s['V'],p['V'],Equals(s['V'],Real(0)), Equals(s['v'],Real(0)))\n",
    "\n",
    "    \n",
    "    #DAR PRO FreeFree uma condição pra ele parar de fazer freeFree sem ser a do timer \n",
    "    #provavel colocar alguma porcentagem de diferenca de vel q nem no termostato \n",
    "    #Timed - Switchs\n",
    "    freeFree = And(Equals(s['m'],FREE),Equals(p['m'],FREE),Equals(p['m']),s['t'] - p['t'] <= T , GT(p['V'] , Real(0)),GT(p['v'] , Real(0)),GT(p['t'] > s['t'])#Alteracao V e v de acordo com o tempo ) )\n",
    "    blockedBlocked = And(Equals(s['m'],BLOCKED),Equals(p['m'],BLOCKED),NOT(Equals(p['v'],Real(0))),GT(p['t'] > s['t'])#Alteracao V e v de acordo com o tempo )\n",
    "    stoppingStopping = And(Equals(s['m'],STOPPING),Equals(p['m'],STOPPING),NOT(Equals(p['v'],Real(0)0),Equals(p['m']),s['t'] - p['t'] <= T,GT(p['t'] > s['t']))\n",
    "\n",
    "    return Or([startFree ,freeStopping,stopppingBlocked ,blockedFree ,blockedStopped,freeFree,blockedBlocked,stoppingStopping])"
   ]
  },
  {
   "cell_type": "code",
   "execution_count": null,
   "id": "68cfdc62",
   "metadata": {},
   "outputs": [],
   "source": [
    "def gera_traco(declare,init,trans,k):\n",
    "    with Solver(name=\"z3\") as s:\n",
    "        \n",
    "        # completar\n",
    "        trace = [declare(i) for i in range(k)]\n",
    "        \n",
    "        #semantics\n",
    "        s.add_assertion(init(trace[0]))\n",
    "        for i in range(k-1):\n",
    "            s.add_assertion(trans(trace[i], trace[i+1]))\n",
    "            \n",
    "        if s.solve():\n",
    "            '''\n",
    "            m = s.get_model()\n",
    "            for n, v in m:\n",
    "                print(f'{n} = {v}')\n",
    "            '''\n",
    "            for i in range(k):\n",
    "                print(\"Passo \",i)\n",
    "                for v in trace[i]:\n",
    "                    print(v, \"=\", s.get_value(trace[i][v]))\n",
    "                print(\"------------------------\")\n",
    "    \n",
    "                        \n",
    "####\n",
    "gera_traco(declare,init,trans,5)"
   ]
  }
 ],
 "metadata": {
  "kernelspec": {
   "display_name": "Python 3 (ipykernel)",
   "language": "python",
   "name": "python3"
  },
  "language_info": {
   "codemirror_mode": {
    "name": "ipython",
    "version": 3
   },
   "file_extension": ".py",
   "mimetype": "text/x-python",
   "name": "python",
   "nbconvert_exporter": "python",
   "pygments_lexer": "ipython3",
   "version": "3.9.13"
  }
 },
 "nbformat": 4,
 "nbformat_minor": 5
}
