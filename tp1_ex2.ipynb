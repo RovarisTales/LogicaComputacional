{
 "cells": [
  {
   "cell_type": "code",
   "execution_count": 13,
   "id": "6ad9d198",
   "metadata": {},
   "outputs": [
    {
     "ename": "IndentationError",
     "evalue": "expected an indented block after 'for' statement on line 28 (377747930.py, line 42)",
     "output_type": "error",
     "traceback": [
      "\u001b[0;36m  Input \u001b[0;32mIn [13]\u001b[0;36m\u001b[0m\n\u001b[0;31m    solver = cp_model.CpSolver()\u001b[0m\n\u001b[0m                                ^\u001b[0m\n\u001b[0;31mIndentationError\u001b[0m\u001b[0;31m:\u001b[0m expected an indented block after 'for' statement on line 28\n"
     ]
    }
   ],
   "source": [
    "from ortools.sat.python import cp_model\n",
    "from random import randrange\n",
    "crip = cp_model.CpModel()\n",
    "def X(m,n):\n",
    "    return x[m][n]\n",
    "def E(m,n):\n",
    "    return x[m]\n",
    "#M,N,Q nos são dados como inputs, nos q ditamos os valores n mais ou menos 4 pra comecar a testar (recomendacao do professor#d = CALCULAR\n",
    "#N = horario.IntVar(30,,\"N\")\n",
    "#M = horario.IntVar(1+len(bin(N).replace(\"0b\", \"\")),,\"M\") \n",
    "x = {}\n",
    "d = 8\n",
    "M = 8\n",
    "N = 4\n",
    "q = 17\n",
    "for m in range(M):\n",
    "    x [m] = {}\n",
    "    for n in range(N):\n",
    "        x[m][n] = randrange(-d,d)\n",
    "\n",
    "e = {}\n",
    "\n",
    "for m in range(M):\n",
    "    e[m] = crip.NewIntVar(-1,1,f'e[{m}]')\n",
    "\n",
    "\n",
    "for n in range(N):\n",
    "    for m in range(M):\n",
    "        #crip.Add()\n",
    "    \n",
    "    \n",
    "#checar se todos os elementos de e são nulos\n",
    "\n",
    "#crip.Add(E[m] != [0 for m in range(M)])\n",
    "#pass\n",
    "\n",
    "\n",
    "\n",
    "\n",
    "\n",
    "\n",
    "solver = cp_model.CpSolver()\n",
    "status = solver.Solve(crip)\n",
    "\n",
    "\n",
    "if status == cp_model.OPTIMAL or status == cp_model.FEASIBLE:\n",
    "    print(\"RESOLVI CARALHO\")\n",
    "\n",
    "\n",
    "\n",
    "\n",
    "\n"
   ]
  },
  {
   "cell_type": "code",
   "execution_count": 11,
   "id": "c9d269c6",
   "metadata": {},
   "outputs": [
    {
     "name": "stdout",
     "output_type": "stream",
     "text": [
      "(x + z)\n"
     ]
    }
   ],
   "source": [
    "from ortools.sat.python import cp_model\n",
    "from random import randrange\n",
    "\n",
    "teste = cp_model.CpModel()\n",
    "\n",
    "x = teste.NewIntVar(100,200,'x')\n",
    "z = teste.NewIntVar(0,7,'z')\n",
    "y = 13\n",
    "h = x+z\n",
    "print(h)\n",
    "\n",
    "teste.AddModuloEquality(0,h,3)\n",
    "\n",
    "solver = cp_model.CpSolver()\n",
    "status = solver.Solve(teste)\n",
    "\n",
    "if status == cp_model.OPTIMAL or status == cp_model.FEASIBLE:\n",
    "    print(solver.Value(x))\n",
    "    print(solver.Value(z))\n"
   ]
  },
  {
   "cell_type": "code",
   "execution_count": null,
   "id": "0129efa8",
   "metadata": {},
   "outputs": [],
   "source": []
  },
  {
   "cell_type": "code",
   "execution_count": null,
   "id": "edda14ce",
   "metadata": {},
   "outputs": [],
   "source": []
  },
  {
   "cell_type": "code",
   "execution_count": null,
   "id": "843a223d",
   "metadata": {},
   "outputs": [],
   "source": []
  },
  {
   "cell_type": "code",
   "execution_count": null,
   "id": "c73dc00b",
   "metadata": {},
   "outputs": [],
   "source": []
  }
 ],
 "metadata": {
  "kernelspec": {
   "display_name": "Python 3 (ipykernel)",
   "language": "python",
   "name": "python3"
  },
  "language_info": {
   "codemirror_mode": {
    "name": "ipython",
    "version": 3
   },
   "file_extension": ".py",
   "mimetype": "text/x-python",
   "name": "python",
   "nbconvert_exporter": "python",
   "pygments_lexer": "ipython3",
   "version": "3.10.6"
  }
 },
 "nbformat": 4,
 "nbformat_minor": 5
}
