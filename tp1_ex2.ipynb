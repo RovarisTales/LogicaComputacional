{
 "cells": [
  {
   "cell_type": "code",
   "execution_count": 4,
   "id": "6ad9d198",
   "metadata": {},
   "outputs": [
    {
     "name": "stdout",
     "output_type": "stream",
     "text": [
      "5\n"
     ]
    }
   ],
   "source": [
    "from ortools.linear_solver import cp_model\n",
    "\n",
    "crip = cp_model.CpModel()\n",
    "#d = CALCULAR\n",
    "#N = horario.IntVar(30,,\"N\")\n",
    "#M = horario.IntVar(1+len(bin(N).replace(\"0b\", \"\")),,\"M\") \n",
    "x = {}\n",
    "for m in range(M):\n",
    "    x [m] = {}\n",
    "    for n in range(N):\n",
    "        x[m][n] = crip.IntVar(-d,d,f'x[{m},{n}]')\n",
    "e = {}\n",
    "for m in range(M):\n",
    "    e[m] = crip.IntVar(-1,1,f'x[{m}]')\n",
    "#checar se todos os elementos de e são nulos    \n",
    "crip.Add(sum(abs(e[d]) for d in range(M)) >= 1)"
   ]
  },
  {
   "cell_type": "code",
   "execution_count": null,
   "id": "c9d269c6",
   "metadata": {},
   "outputs": [],
   "source": []
  }
 ],
 "metadata": {
  "kernelspec": {
   "display_name": "Python 3 (ipykernel)",
   "language": "python",
   "name": "python3"
  },
  "language_info": {
   "codemirror_mode": {
    "name": "ipython",
    "version": 3
   },
   "file_extension": ".py",
   "mimetype": "text/x-python",
   "name": "python",
   "nbconvert_exporter": "python",
   "pygments_lexer": "ipython3",
   "version": "3.10.4"
  }
 },
 "nbformat": 4,
 "nbformat_minor": 5
}
