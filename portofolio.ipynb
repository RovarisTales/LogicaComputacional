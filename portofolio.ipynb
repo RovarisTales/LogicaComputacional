{
 "cells": [
  {
   "cell_type": "markdown",
   "id": "c0e88ead",
   "metadata": {},
   "source": [
    "# Programação Quadrática\n",
    "## Problema do Portofolio"
   ]
  },
  {
   "cell_type": "code",
   "execution_count": 8,
   "id": "7c0b5b09",
   "metadata": {},
   "outputs": [],
   "source": [
    "from pyscipopt import Model, quicksum\n",
    "from random import random\n",
    "\n",
    "model = Model()"
   ]
  },
  {
   "cell_type": "code",
   "execution_count": 9,
   "id": "b22da41a",
   "metadata": {},
   "outputs": [],
   "source": [
    "N = 50\n",
    "w = 0.5\n",
    "rbias = 0.5\n",
    "sbias = 1.0"
   ]
  },
  {
   "cell_type": "markdown",
   "id": "6ea0a36c",
   "metadata": {},
   "source": [
    "Ajuste dos parâmetros e dados.\n",
    "\n",
    "$r$ é o vetor dos valores expectáveis dos retornos\n",
    "\n",
    "$s$ é o vetor das auto-covariâncias dos retornos.\n",
    "\n",
    "Supõe-se que os investimentos são independentes dois a dois e por isso a matiz de covariância é diagonal.\n",
    "\n",
    "$w$ é o peso relativo das duas componentes do critério de optimização: maximizar o valor expectável do retorno e minimizar a sua variância."
   ]
  },
  {
   "cell_type": "code",
   "execution_count": 10,
   "id": "e49ac481",
   "metadata": {},
   "outputs": [],
   "source": [
    "r = [random() - rbias for i in range(N)]\n",
    "s = [random() + sbias for i in range(N)]"
   ]
  },
  {
   "cell_type": "markdown",
   "id": "4fb7b974",
   "metadata": {},
   "source": [
    "### Declaração das variáveis"
   ]
  },
  {
   "cell_type": "code",
   "execution_count": 11,
   "id": "b83983b1",
   "metadata": {},
   "outputs": [],
   "source": [
    "X = [model.addVar('x'+str(i),lb=0.0,ub=1.0)  for i in range(N)]\n",
    "E = model.addVar('e',lb=0.0,ub=2.0)\n",
    "V = model.addVar('v',lb=0.0,ub=2.0)"
   ]
  },
  {
   "cell_type": "markdown",
   "id": "b5edc9c5",
   "metadata": {},
   "source": [
    "### Restrições lineares e quadráticas"
   ]
  },
  {
   "cell_type": "code",
   "execution_count": 12,
   "id": "8b9585b4",
   "metadata": {},
   "outputs": [
    {
     "data": {
      "text/plain": [
       "c3"
      ]
     },
     "execution_count": 12,
     "metadata": {},
     "output_type": "execute_result"
    }
   ],
   "source": [
    "model.addCons(quicksum(X) <= 1)\n",
    "model.addCons(quicksum([X[i]*r[i] for i in range(N)]) >= E)\n",
    "model.addCons(quicksum([X[i]*X[i]*s[i] for i in range(N)]) <= V)"
   ]
  },
  {
   "cell_type": "markdown",
   "id": "6862ef3e",
   "metadata": {},
   "source": [
    "### Objetivo e optimização\n",
    "\n",
    "Como o SCIP só aceita objetivos lineares mas aceita restrições quadráticas teve de se usar um artifício introduzindo as variáveis $E$ e $V$ de modo que o objetivo fosse linear e se usasse restrições para limitar os valores dessas variáveis."
   ]
  },
  {
   "cell_type": "code",
   "execution_count": 13,
   "id": "d4ede90f",
   "metadata": {},
   "outputs": [
    {
     "name": "stdout",
     "output_type": "stream",
     "text": [
      "feasible solution found by trivial heuristic after 0.0 seconds, objective value 0.000000e+00\n",
      "presolving:\n",
      "(round 1, fast)       25 del vars, 0 del conss, 0 add conss, 0 chg bounds, 0 chg sides, 0 chg coeffs, 0 upgd conss, 0 impls, 0 clqs\n",
      "   (0.0s) symmetry computation started: requiring (bin +, int +, cont +), (fixed: bin -, int -, cont -)\n",
      "   (0.0s) no symmetry present\n",
      "presolving (2 rounds: 2 fast, 1 medium, 1 exhaustive):\n",
      " 25 deleted vars, 0 deleted constraints, 0 added constraints, 0 tightened bounds, 0 added holes, 0 changed sides, 0 changed coefficients\n",
      " 0 implications, 0 cliques\n",
      "presolved problem has 27 variables (0 bin, 0 int, 0 impl, 27 cont) and 3 constraints\n",
      "      2 constraints of type <linear>\n",
      "      1 constraints of type <nonlinear>\n",
      "Presolving Time: 0.00\n",
      "transformed 2/2 original solutions to the transformed problem space\n",
      "\n",
      " time | node  | left  |LP iter|LP it/n|mem/heur|mdpt |vars |cons |rows |cuts |sepa|confs|strbr|  dualbound   | primalbound  |  gap   | compl. \n",
      "  0.0s|     1 |     0 |    24 |     - |  1167k |   0 |  53 |   3 |  78 |   0 |  0 |   0 |   0 | 1.724003e-01 | 0.000000e+00 |    Inf | unknown\n",
      "L 0.0s|     1 |     0 |    24 |     - |  subnlp|   0 |  53 |   3 |  78 |   0 |  0 |   0 |   0 | 1.724003e-01 | 1.337374e-01 |  28.91%| unknown\n",
      "  0.0s|     1 |     0 |    41 |     - |  1213k |   0 |  53 |   3 |  94 |  16 |  1 |   0 |   0 | 1.427227e-01 | 1.337374e-01 |   6.72%| unknown\n",
      "  0.0s|     1 |     0 |    41 |     - |  1213k |   0 |  53 |   3 |  94 |  16 |  1 |   0 |   0 | 1.427227e-01 | 1.337374e-01 |   6.72%| unknown\n",
      "  0.0s|     1 |     0 |    56 |     - |  1213k |   0 |  53 |   3 | 110 |  32 |  2 |   0 |   0 | 1.356386e-01 | 1.337374e-01 |   1.42%| unknown\n",
      "  0.0s|     1 |     0 |    72 |     - |  1229k |   0 |  53 |   3 | 126 |  48 |  3 |   0 |   0 | 1.343282e-01 | 1.337374e-01 |   0.44%| unknown\n",
      "  0.0s|     1 |     0 |    89 |     - |  1235k |   0 |  53 |   3 | 141 |  63 |  4 |   0 |   0 | 1.338932e-01 | 1.337374e-01 |   0.12%| unknown\n",
      "  0.0s|     1 |     0 |   105 |     - |  1243k |   0 |  53 |   3 | 157 |  79 |  5 |   0 |   0 | 1.337845e-01 | 1.337374e-01 |   0.04%| unknown\n",
      "  0.0s|     1 |     0 |   120 |     - |  1243k |   0 |  53 |   3 | 173 |  95 |  6 |   0 |   0 | 1.337500e-01 | 1.337374e-01 |   0.01%| unknown\n",
      "  0.0s|     1 |     0 |   124 |     - |  1243k |   0 |  53 |   3 | 177 |  99 |  7 |   0 |   0 | 1.337459e-01 | 1.337374e-01 |   0.01%| unknown\n",
      "  0.0s|     1 |     0 |   125 |     - |  1243k |   0 |  53 |   3 | 178 | 100 |  8 |   0 |   0 | 1.337457e-01 | 1.337374e-01 |   0.01%| unknown\n",
      "  0.0s|     1 |     0 |   125 |     - |  1244k |   0 |  53 |   3 | 178 | 100 | 10 |   0 |   0 | 1.337457e-01 | 1.337374e-01 |   0.01%| unknown\n",
      "  0.3s|     1 |     0 |   125 |     - |  1443k |   0 |  53 |   3 | 178 | 100 | 12 |   0 |   0 | 1.337457e-01 | 1.337374e-01 |   0.01%| unknown\n",
      "  0.3s|     1 |     0 |   143 |     - |  1511k |   0 |  53 |   3 | 194 | 116 | 14 |   0 |   0 | 1.337397e-01 | 1.337374e-01 |   0.00%| unknown\n",
      "  0.3s|     1 |     0 |   143 |     - |  1511k |   0 |  53 |   3 | 194 | 116 | 16 |   0 |   0 | 1.337397e-01 | 1.337374e-01 |   0.00%| unknown\n",
      " time | node  | left  |LP iter|LP it/n|mem/heur|mdpt |vars |cons |rows |cuts |sepa|confs|strbr|  dualbound   | primalbound  |  gap   | compl. \n",
      "  0.3s|     1 |     0 |   162 |     - |  1515k |   0 |  53 |   3 | 210 | 132 | 18 |   0 |   0 | 1.337379e-01 | 1.337374e-01 |   0.00%| unknown\n",
      "  0.3s|     1 |     0 |   162 |     - |  1515k |   0 |  53 |   3 | 210 | 132 | 20 |   0 |   0 | 1.337379e-01 | 1.337374e-01 |   0.00%| unknown\n",
      "  0.3s|     1 |     0 |   178 |     - |  1519k |   0 |  53 |   3 | 158 | 148 | 22 |   0 |   0 | 1.337375e-01 | 1.337374e-01 |   0.00%| unknown\n",
      "* 0.3s|     1 |     0 |   178 |     - |    LP  |   0 |  53 |   3 | 158 | 148 | 24 |   0 |   0 | 1.337375e-01 | 1.337375e-01 |   0.00%| unknown\n",
      "\n",
      "SCIP Status        : problem is solved [optimal solution found]\n",
      "Solving Time (sec) : 0.28\n",
      "Solving Nodes      : 1\n",
      "Primal Bound       : +1.33737520124990e-01 (6 solutions)\n",
      "Dual Bound         : +1.33737520124990e-01\n",
      "Gap                : 0.00 %\n"
     ]
    }
   ],
   "source": [
    "model.setObjective((1-w)*E - w*V , \"maximize\")\n",
    "\n",
    "model.optimize()"
   ]
  },
  {
   "cell_type": "code",
   "execution_count": 14,
   "id": "f6d1c361",
   "metadata": {},
   "outputs": [
    {
     "name": "stdout",
     "output_type": "stream",
     "text": [
      "E = 0.37447835280324165 \t V = 0.10700331255326222\n",
      "X_0 \t= 0.0\n",
      "X_1 \t= 0.0\n",
      "X_2 \t= 0.0\n",
      "X_3 \t= 0.0335693359375\n",
      "X_4 \t= 0.0\n",
      "X_5 \t= 0.0\n",
      "X_6 \t= 0.0\n",
      "X_7 \t= 0.0906982421875\n",
      "X_8 \t= 0.04943847666407143\n",
      "X_9 \t= 0.0552978515625\n",
      "X_10 \t= 0.08520507813075184\n",
      "X_11 \t= 0.0\n",
      "X_12 \t= 0.0\n",
      "X_13 \t= 0.0\n",
      "X_14 \t= 0.07019042958014943\n",
      "X_15 \t= 0.0880126953125\n",
      "X_16 \t= 0.0\n",
      "X_17 \t= 0.0\n",
      "X_18 \t= 0.0\n",
      "X_19 \t= 0.0\n",
      "X_20 \t= 0.0692138671876828\n",
      "X_21 \t= 0.010986328125\n",
      "X_22 \t= 0.0\n",
      "X_23 \t= 0.0\n",
      "X_24 \t= 0.0\n",
      "X_25 \t= 0.0\n",
      "X_26 \t= 0.0257568359375\n",
      "X_27 \t= 0.0960693359375\n",
      "X_28 \t= 0.0\n",
      "X_29 \t= 0.0\n",
      "X_30 \t= 0.0\n",
      "X_31 \t= 0.0\n",
      "X_32 \t= 0.0\n",
      "X_33 \t= 0.1068115234375\n",
      "X_34 \t= 0.0\n",
      "X_35 \t= 0.0\n",
      "X_36 \t= 0.0\n",
      "X_37 \t= 0.0482177734375\n",
      "X_38 \t= 0.0\n",
      "X_39 \t= 0.0\n",
      "X_40 \t= 0.0\n",
      "X_41 \t= 0.0599365234375\n",
      "X_42 \t= 0.0228271484375\n",
      "X_43 \t= 0.0\n",
      "X_44 \t= 0.0\n",
      "X_45 \t= 0.0\n",
      "X_46 \t= 0.08776855468734457\n",
      "X_47 \t= 0.0\n",
      "X_48 \t= 0.0\n",
      "X_49 \t= 0.0\n"
     ]
    }
   ],
   "source": [
    "sol = model.getBestSol()\n",
    "\n",
    "print(\"E = {} \\t V = {}\".format(sol[E],sol[V]))\n",
    "for i in range(N):\n",
    "    print(\"X_{} \\t= {}\".format(i,sol[X[i]]))"
   ]
  },
  {
   "cell_type": "code",
   "execution_count": null,
   "id": "aabe57bf",
   "metadata": {},
   "outputs": [],
   "source": []
  }
 ],
 "metadata": {
  "kernelspec": {
   "display_name": "Python 3 (ipykernel)",
   "language": "python",
   "name": "python3"
  },
  "language_info": {
   "codemirror_mode": {
    "name": "ipython",
    "version": 3
   },
   "file_extension": ".py",
   "mimetype": "text/x-python",
   "name": "python",
   "nbconvert_exporter": "python",
   "pygments_lexer": "ipython3",
   "version": "3.10.6"
  }
 },
 "nbformat": 4,
 "nbformat_minor": 5
}
