{
 "cells": [
  {
   "cell_type": "markdown",
   "id": "eb1ebd1e",
   "metadata": {},
   "source": [
    "### TP 3 EX 2\n",
    "Grupo 5:\n",
    "     \n",
    "     Breno Fernando Guerra Marrão A97768\n",
    "     \n",
    "     Tales André Rovaris Machado A96314"
   ]
  },
  {
   "cell_type": "markdown",
   "id": "8c926cf1",
   "metadata": {},
   "source": [
    "```Python\n",
    "{ x != (0,0,0,0) }\n",
    "1:     x[0] = x[-1] || x[0]⊕x[-1]    \n",
    "2:     x[1] = x[0] || x[1]⊕x[0]  \n",
    "3:     x[2] = x[1] || x[2]⊕x[1]   \n",
    "4:     x[3] = x[2] || x[3]⊕x[2]          \n",
    "5: ERROR\n",
    "```\n",
    "Para modelar este programa como um SFOTS teremos o conjunto $\\mathsf{X}$ de variáveis do estado dado pela lista `['x','pc']`, e definimos a função\n",
    "`genState` que recebe a lista com o nome das variáveis do estado, uma etiqueta e um inteiro, e cria a i-ésima cópia das variáveis do estado para essa etiqueta. As variáveis lógicas começam sempre com o nome de base das variáveis dos estado, seguido do separador `!`."
   ]
  },
  {
   "cell_type": "markdown",
   "id": "de24871f",
   "metadata": {},
   "source": [
    "## Inicialização\n",
    "Usamos as bibliotecas pysmt para resovler o problema de alocação proposto "
   ]
  },
  {
   "cell_type": "code",
   "execution_count": 2,
   "id": "bc077a42",
   "metadata": {},
   "outputs": [],
   "source": [
    "from pysmt.shortcuts import *\n",
    "from pysmt.typing import INT\n",
    "import numpy\n",
    "import itertools \n"
   ]
  },
  {
   "cell_type": "markdown",
   "id": "d980c7fb",
   "metadata": {},
   "source": [
    "Para modelar este programa como um SFOTS teremos o conjunto $\\mathsf{X}$ de variáveis do estado dado pela lista `['x','pc']`, e definimos a função\n",
    "`genState` que recebe a lista com o nome das variáveis do estado, uma etiqueta e um inteiro, e cria a i-ésima cópia das variáveis do estado para essa etiqueta. As variáveis lógicas começam sempre com o nome de base das variáveis dos estado, seguido do separador `!`."
   ]
  },
  {
   "cell_type": "code",
   "execution_count": null,
   "id": "bd6cfd2f",
   "metadata": {},
   "outputs": [],
   "source": [
    "def genState(vars,s,i):\n",
    "    state = {}\n",
    "    for v in vars:\n",
    "        state[v] = Symbol(v+'!'+s+str(i),INT)\n",
    "    return state"
   ]
  },
  {
   "cell_type": "markdown",
   "id": "0f73d570",
   "metadata": {},
   "source": [
    "Defina as seguintes funções para completar a modelação deste programa:\n",
    "- `init1` dado um estado do programa (um dicionário de variáveis), devolve um predicado do pySMT que testa se esse estado é um possível estado inicial do programa.\n",
    "- `error1` dado um  estado do programa, devolve um predicado do pySMT que testa se esse estado é um possível estado de erro do programa.\n",
    "- `trans1` que, dados dois estados do programa, devolve um predicado do pySMT que testa se é possível transitar de algum estado para outro"
   ]
  },
  {
   "cell_type": "code",
   "execution_count": 2,
   "id": "f943f6e1",
   "metadata": {},
   "outputs": [],
   "source": [
    "def init1(state,p):\n",
    "    t1 = Equals(state['pc'],Int(0))\n",
    "    t2 = And(Equals(state['s'][i],numpy.random.choice([Int(0),Int(1)], p=[p,1-p]))for i in state if i != 'pc')\n",
    "    t3 = Not(And(Equals(state['a'], Int(0)),Equals(state['b'], Int(0)),Equals(state['c'],\n",
    "                                                                             Int(0)),Equals(state['d'], Int(0))))\n",
    "    op = [numpy.random.choice([Int(0),Int(1)], p=[p,1-p]) for i in range(3)]\n",
    "    return (And(t1,t2,t3),op)\n",
    "\n",
    "def error1(state):\n",
    "    return Not(And(Equals(state['a'], Int(0)),Equals(state['b'], Int(0)),Equals(state['c'],\n",
    "                                                                             Int(0)),Equals(state['d'], Int(0))))\n",
    "def trans1(curr, prox,op):\n",
    "    t0 = And(Equals(prox['a'],Ite(op[0],Not(curr['c']),Xor(curr['a'], curr['c']))),\n",
    "                                       Equals(curr['pc'],Int(0)),Equals(prox['pc'],Int(1))\n",
    "                         ,Equals(curr['b'],prox['b']),Equals(curr['c'],prox['c'],Equals(curr['d'],prox['d'])))\n",
    "    t1 = And(Equals(prox['b'],Ite(op[1],Not(curr['a']),Xor(curr['a'], curr['b']))),\n",
    "                                       Equals(curr['pc'],Int(1)),Equals(prox['pc'],Int(2))\n",
    "                         ,Equals(curr['a'],prox['a']),Equals(curr['c'],prox['c'],Equals(curr['d'],prox['d'])))\n",
    "    t2 = And(Equals(prox['d'],Ite(op[2],Not(curr['b']),Xor(curr['d'], curr['b']))),\n",
    "                                       Equals(curr['pc'],Int(2)),Equals(prox['pc'],Int(3))\n",
    "                         ,Equals(curr['a'],prox['a']),Equals(curr['c'],prox['c'],Equals(curr['b'],prox['b'])))\n",
    "    t3 = And(Equals(prox['c'],Ite(op[2],Not(curr['d']),Xor(curr['d'], curr['c']))),\n",
    "                                       Equals(curr['pc'],Int(3)),Equals(prox['pc'],Int(0))\n",
    "                         ,Equals(curr['a'],prox['a']),Equals(curr['d'],prox['d'],Equals(curr['b'],prox['b'])))\n",
    "    return Or(t0,t1,t2,t3)        "
   ]
  },
  {
   "cell_type": "code",
   "execution_count": null,
   "id": "0f1bba6d",
   "metadata": {},
   "outputs": [],
   "source": []
  }
 ],
 "metadata": {
  "kernelspec": {
   "display_name": "Python 3 (ipykernel)",
   "language": "python",
   "name": "python3"
  },
  "language_info": {
   "codemirror_mode": {
    "name": "ipython",
    "version": 3
   },
   "file_extension": ".py",
   "mimetype": "text/x-python",
   "name": "python",
   "nbconvert_exporter": "python",
   "pygments_lexer": "ipython3",
   "version": "3.10.6"
  }
 },
 "nbformat": 4,
 "nbformat_minor": 5
}
