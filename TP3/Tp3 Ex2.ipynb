{
 "cells": [
  {
   "cell_type": "markdown",
   "id": "eb1ebd1e",
   "metadata": {},
   "source": [
    "### TP 3 EX 2\n",
    "Grupo 5:\n",
    "     \n",
    "     Breno Fernando Guerra Marrão A97768\n",
    "     \n",
    "     Tales André Rovaris Machado A96314"
   ]
  },
  {
   "cell_type": "markdown",
   "id": "8c926cf1",
   "metadata": {},
   "source": [
    "```Python\n",
    "{ x != (0,0,0,0) }\n",
    "1:     x[0] = x[-1] || x[0]⊕x[-1]    \n",
    "2:     x[1] = x[0] || x[1]⊕x[0]  \n",
    "3:     x[2] = x[1] || x[2]⊕x[1]   \n",
    "4:     x[3] = x[2] || x[3]⊕x[2]          \n",
    "5: ERROR\n",
    "```\n",
    "Para modelar este programa como um SFOTS teremos o conjunto $\\mathsf{X}$ de variáveis do estado dado pela lista `['x','pc']`, e definimos a função\n",
    "`genState` que recebe a lista com o nome das variáveis do estado, uma etiqueta e um inteiro, e cria a i-ésima cópia das variáveis do estado para essa etiqueta. As variáveis lógicas começam sempre com o nome de base das variáveis dos estado, seguido do separador `!`."
   ]
  },
  {
   "cell_type": "markdown",
   "id": "de24871f",
   "metadata": {},
   "source": [
    "## Inicialização\n",
    "Usamos as bibliotecas pysmt para resovler o problema de alocação proposto "
   ]
  },
  {
   "cell_type": "code",
   "execution_count": 9,
   "id": "bc077a42",
   "metadata": {},
   "outputs": [],
   "source": [
    "from pysmt.shortcuts import *\n",
    "from pysmt.typing import INT\n",
    "import numpy\n",
    "import itertools \n"
   ]
  },
  {
   "cell_type": "markdown",
   "id": "d980c7fb",
   "metadata": {},
   "source": [
    "Para modelar este programa como um SFOTS teremos o conjunto $\\mathsf{X}$ de variáveis do estado dado pela lista `['x','pc']`, e definimos a função\n",
    "`genState` que recebe a lista com o nome das variáveis do estado, uma etiqueta e um inteiro, e cria a i-ésima cópia das variáveis do estado para essa etiqueta. As variáveis lógicas começam sempre com o nome de base das variáveis dos estado, seguido do separador `!`."
   ]
  },
  {
   "cell_type": "code",
   "execution_count": 10,
   "id": "bd6cfd2f",
   "metadata": {},
   "outputs": [],
   "source": [
    "def genState(vars,s,i):\n",
    "    state = {}\n",
    "    for v in vars:\n",
    "        state[v] = Symbol(v+'!'+s+str(i),INT)\n",
    "    return state"
   ]
  },
  {
   "cell_type": "markdown",
   "id": "0f73d570",
   "metadata": {},
   "source": [
    "Defina as seguintes funções para completar a modelação deste programa:\n",
    "- `init1` dado um estado do programa (um dicionário de variáveis), devolve um predicado do pySMT que testa se esse estado é um possível estado inicial do programa.\n",
    "- `error1` dado um  estado do programa, devolve um predicado do pySMT que testa se esse estado é um possível estado de erro do programa.\n",
    "- `trans1` que, dados dois estados do programa, devolve um predicado do pySMT que testa se é possível transitar de algum estado para outro"
   ]
  },
  {
   "cell_type": "code",
   "execution_count": 23,
   "id": "f943f6e1",
   "metadata": {},
   "outputs": [],
   "source": [
    "def init1(state):\n",
    "    t1 = Equals(state['pc'],Int(0))\n",
    "    t2 = And(Equals(state[i],numpy.random.choice([Int(0),Int(1)], p=[0.5,0.5]))for i in state if i != 'pc')                                                                           \n",
    "\n",
    "    t3 = Not(And(Equals(state['a'], Int(0)),Equals(state['b'], Int(0)),Equals(state['c'],Int(0)),Equals(state['d'], Int(0))))\n",
    "    return And(t1,t2,t3)\n",
    "\n",
    "def error1(state):\n",
    "    return Not(And(Equals(state['a'], Int(0)),Equals(state['b'], Int(0)),Equals(state['c'],\n",
    "                                                                             Int(0)),Equals(state['d'], Int(0))))\n",
    "def trans1(curr, prox,op):\n",
    "    t0 = And(Equals(prox['a'],Ite(op[0],Not(curr['c']),curr['a'] ^curr['c'])),\n",
    "                                       Equals(curr['pc'],Int(0)),Equals(prox['pc'],Int(1)),\n",
    "                         Equals(curr['b'],prox['b']),Equals(curr['c'],prox['c'],Equals(curr['d'],prox['d'])))\n",
    "    t1 = And(Equals(prox['b'],Ite(op[1],Not(curr['a']),curr['a']^curr['b'])),\n",
    "                                       Equals(curr['pc'],Int(1)),Equals(prox['pc'],Int(2))\n",
    "                         ,Equals(curr['a'],prox['a']),Equals(curr['c'],prox['c'],Equals(curr['d'],prox['d'])))\n",
    "    t2 = And(Equals(prox['d'],Ite(op[2],Not(curr['b']),curr['d']^curr['b'])),\n",
    "                                       Equals(curr['pc'],Int(2)),Equals(prox['pc'],Int(3))\n",
    "                         ,Equals(curr['a'],prox['a']),Equals(curr['c'],prox['c'],Equals(curr['b'],prox['b'])))\n",
    "    t3 = And(Equals(prox['c'],Ite(op[2],Not(curr['d']),curr['d'] ^curr['c'])),\n",
    "                                       Equals(curr['pc'],Int(3)),Equals(prox['pc'],Int(0))\n",
    "                         ,Equals(curr['a'],prox['a']),Equals(curr['d'],prox['d'],Equals(curr['b'],prox['b'])))\n",
    "    return Or(t0,t1,t2,t3)        "
   ]
  },
  {
   "cell_type": "code",
   "execution_count": 25,
   "id": "0f1bba6d",
   "metadata": {},
   "outputs": [
    {
     "ename": "PysmtTypeError",
     "evalue": "The formula '(! c!X0)' is not well-formed",
     "output_type": "error",
     "traceback": [
      "\u001b[0;31m---------------------------------------------------------------------------\u001b[0m",
      "\u001b[0;31mPysmtTypeError\u001b[0m                            Traceback (most recent call last)",
      "Input \u001b[0;32mIn [25]\u001b[0m, in \u001b[0;36m<cell line: 15>\u001b[0;34m()\u001b[0m\n\u001b[1;32m     13\u001b[0m                 \u001b[38;5;28;01mfor\u001b[39;00m v \u001b[38;5;129;01min\u001b[39;00m X[i]:\n\u001b[1;32m     14\u001b[0m                     \u001b[38;5;28mprint\u001b[39m(\u001b[38;5;124m\"\u001b[39m\u001b[38;5;124m          \u001b[39m\u001b[38;5;124m\"\u001b[39m,v,\u001b[38;5;124m'\u001b[39m\u001b[38;5;124m=\u001b[39m\u001b[38;5;124m'\u001b[39m,s\u001b[38;5;241m.\u001b[39mget_value(X[i][v]))\n\u001b[0;32m---> 15\u001b[0m \u001b[43mgenTrace\u001b[49m\u001b[43m(\u001b[49m\u001b[43m[\u001b[49m\u001b[38;5;124;43m'\u001b[39;49m\u001b[38;5;124;43mpc\u001b[39;49m\u001b[38;5;124;43m'\u001b[39;49m\u001b[43m,\u001b[49m\u001b[38;5;124;43m'\u001b[39;49m\u001b[38;5;124;43ma\u001b[39;49m\u001b[38;5;124;43m'\u001b[39;49m\u001b[43m,\u001b[49m\u001b[38;5;124;43m'\u001b[39;49m\u001b[38;5;124;43mb\u001b[39;49m\u001b[38;5;124;43m'\u001b[39;49m\u001b[43m,\u001b[49m\u001b[38;5;124;43m'\u001b[39;49m\u001b[38;5;124;43mc\u001b[39;49m\u001b[38;5;124;43m'\u001b[39;49m\u001b[43m,\u001b[49m\u001b[38;5;124;43m'\u001b[39;49m\u001b[38;5;124;43md\u001b[39;49m\u001b[38;5;124;43m'\u001b[39;49m\u001b[43m]\u001b[49m\u001b[43m,\u001b[49m\u001b[43minit1\u001b[49m\u001b[43m,\u001b[49m\u001b[43mtrans1\u001b[49m\u001b[43m,\u001b[49m\u001b[43merror1\u001b[49m\u001b[43m,\u001b[49m\u001b[38;5;241;43m30\u001b[39;49m\u001b[43m)\u001b[49m\n",
      "Input \u001b[0;32mIn [25]\u001b[0m, in \u001b[0;36mgenTrace\u001b[0;34m(vars, init, trans, error, n)\u001b[0m\n\u001b[1;32m      6\u001b[0m X \u001b[38;5;241m=\u001b[39m [genState(\u001b[38;5;28mvars\u001b[39m,\u001b[38;5;124m'\u001b[39m\u001b[38;5;124mX\u001b[39m\u001b[38;5;124m'\u001b[39m,i) \u001b[38;5;28;01mfor\u001b[39;00m i \u001b[38;5;129;01min\u001b[39;00m \u001b[38;5;28mrange\u001b[39m(n\u001b[38;5;241m+\u001b[39m\u001b[38;5;241m1\u001b[39m)]   \u001b[38;5;66;03m# cria n+1 estados (com etiqueta X)\u001b[39;00m\n\u001b[1;32m      7\u001b[0m I \u001b[38;5;241m=\u001b[39m init(X[\u001b[38;5;241m0\u001b[39m])\n\u001b[0;32m----> 8\u001b[0m Tks \u001b[38;5;241m=\u001b[39m [ trans(X[i],X[i\u001b[38;5;241m+\u001b[39m\u001b[38;5;241m1\u001b[39m],op) \u001b[38;5;28;01mfor\u001b[39;00m i \u001b[38;5;129;01min\u001b[39;00m \u001b[38;5;28mrange\u001b[39m(n) ]\n\u001b[1;32m     10\u001b[0m \u001b[38;5;28;01mif\u001b[39;00m s\u001b[38;5;241m.\u001b[39msolve([I,And(Tks)]):      \u001b[38;5;66;03m# testa se I /\\ T^n  é satisfazível\u001b[39;00m\n\u001b[1;32m     11\u001b[0m     \u001b[38;5;28;01mfor\u001b[39;00m i \u001b[38;5;129;01min\u001b[39;00m \u001b[38;5;28mrange\u001b[39m(n):\n",
      "Input \u001b[0;32mIn [25]\u001b[0m, in \u001b[0;36m<listcomp>\u001b[0;34m(.0)\u001b[0m\n\u001b[1;32m      6\u001b[0m X \u001b[38;5;241m=\u001b[39m [genState(\u001b[38;5;28mvars\u001b[39m,\u001b[38;5;124m'\u001b[39m\u001b[38;5;124mX\u001b[39m\u001b[38;5;124m'\u001b[39m,i) \u001b[38;5;28;01mfor\u001b[39;00m i \u001b[38;5;129;01min\u001b[39;00m \u001b[38;5;28mrange\u001b[39m(n\u001b[38;5;241m+\u001b[39m\u001b[38;5;241m1\u001b[39m)]   \u001b[38;5;66;03m# cria n+1 estados (com etiqueta X)\u001b[39;00m\n\u001b[1;32m      7\u001b[0m I \u001b[38;5;241m=\u001b[39m init(X[\u001b[38;5;241m0\u001b[39m])\n\u001b[0;32m----> 8\u001b[0m Tks \u001b[38;5;241m=\u001b[39m [ \u001b[43mtrans\u001b[49m\u001b[43m(\u001b[49m\u001b[43mX\u001b[49m\u001b[43m[\u001b[49m\u001b[43mi\u001b[49m\u001b[43m]\u001b[49m\u001b[43m,\u001b[49m\u001b[43mX\u001b[49m\u001b[43m[\u001b[49m\u001b[43mi\u001b[49m\u001b[38;5;241;43m+\u001b[39;49m\u001b[38;5;241;43m1\u001b[39;49m\u001b[43m]\u001b[49m\u001b[43m,\u001b[49m\u001b[43mop\u001b[49m\u001b[43m)\u001b[49m \u001b[38;5;28;01mfor\u001b[39;00m i \u001b[38;5;129;01min\u001b[39;00m \u001b[38;5;28mrange\u001b[39m(n) ]\n\u001b[1;32m     10\u001b[0m \u001b[38;5;28;01mif\u001b[39;00m s\u001b[38;5;241m.\u001b[39msolve([I,And(Tks)]):      \u001b[38;5;66;03m# testa se I /\\ T^n  é satisfazível\u001b[39;00m\n\u001b[1;32m     11\u001b[0m     \u001b[38;5;28;01mfor\u001b[39;00m i \u001b[38;5;129;01min\u001b[39;00m \u001b[38;5;28mrange\u001b[39m(n):\n",
      "Input \u001b[0;32mIn [23]\u001b[0m, in \u001b[0;36mtrans1\u001b[0;34m(curr, prox, op)\u001b[0m\n\u001b[1;32m     11\u001b[0m \u001b[38;5;28;01mdef\u001b[39;00m \u001b[38;5;21mtrans1\u001b[39m(curr, prox,op):\n\u001b[0;32m---> 12\u001b[0m     t0 \u001b[38;5;241m=\u001b[39m And(Equals(prox[\u001b[38;5;124m'\u001b[39m\u001b[38;5;124ma\u001b[39m\u001b[38;5;124m'\u001b[39m],Ite(op[\u001b[38;5;241m0\u001b[39m],\u001b[43mNot\u001b[49m\u001b[43m(\u001b[49m\u001b[43mcurr\u001b[49m\u001b[43m[\u001b[49m\u001b[38;5;124;43m'\u001b[39;49m\u001b[38;5;124;43mc\u001b[39;49m\u001b[38;5;124;43m'\u001b[39;49m\u001b[43m]\u001b[49m\u001b[43m)\u001b[49m,curr[\u001b[38;5;124m'\u001b[39m\u001b[38;5;124ma\u001b[39m\u001b[38;5;124m'\u001b[39m] \u001b[38;5;241m^\u001b[39mcurr[\u001b[38;5;124m'\u001b[39m\u001b[38;5;124mc\u001b[39m\u001b[38;5;124m'\u001b[39m])),\n\u001b[1;32m     13\u001b[0m                                        Equals(curr[\u001b[38;5;124m'\u001b[39m\u001b[38;5;124mpc\u001b[39m\u001b[38;5;124m'\u001b[39m],Int(\u001b[38;5;241m0\u001b[39m)),Equals(prox[\u001b[38;5;124m'\u001b[39m\u001b[38;5;124mpc\u001b[39m\u001b[38;5;124m'\u001b[39m],Int(\u001b[38;5;241m1\u001b[39m)),\n\u001b[1;32m     14\u001b[0m                          Equals(curr[\u001b[38;5;124m'\u001b[39m\u001b[38;5;124mb\u001b[39m\u001b[38;5;124m'\u001b[39m],prox[\u001b[38;5;124m'\u001b[39m\u001b[38;5;124mb\u001b[39m\u001b[38;5;124m'\u001b[39m]),Equals(curr[\u001b[38;5;124m'\u001b[39m\u001b[38;5;124mc\u001b[39m\u001b[38;5;124m'\u001b[39m],prox[\u001b[38;5;124m'\u001b[39m\u001b[38;5;124mc\u001b[39m\u001b[38;5;124m'\u001b[39m],Equals(curr[\u001b[38;5;124m'\u001b[39m\u001b[38;5;124md\u001b[39m\u001b[38;5;124m'\u001b[39m],prox[\u001b[38;5;124m'\u001b[39m\u001b[38;5;124md\u001b[39m\u001b[38;5;124m'\u001b[39m])))\n\u001b[1;32m     15\u001b[0m     t1 \u001b[38;5;241m=\u001b[39m And(Equals(prox[\u001b[38;5;124m'\u001b[39m\u001b[38;5;124mb\u001b[39m\u001b[38;5;124m'\u001b[39m],Ite(op[\u001b[38;5;241m1\u001b[39m],Not(curr[\u001b[38;5;124m'\u001b[39m\u001b[38;5;124ma\u001b[39m\u001b[38;5;124m'\u001b[39m]),curr[\u001b[38;5;124m'\u001b[39m\u001b[38;5;124ma\u001b[39m\u001b[38;5;124m'\u001b[39m]\u001b[38;5;241m^\u001b[39mcurr[\u001b[38;5;124m'\u001b[39m\u001b[38;5;124mb\u001b[39m\u001b[38;5;124m'\u001b[39m])),\n\u001b[1;32m     16\u001b[0m                                        Equals(curr[\u001b[38;5;124m'\u001b[39m\u001b[38;5;124mpc\u001b[39m\u001b[38;5;124m'\u001b[39m],Int(\u001b[38;5;241m1\u001b[39m)),Equals(prox[\u001b[38;5;124m'\u001b[39m\u001b[38;5;124mpc\u001b[39m\u001b[38;5;124m'\u001b[39m],Int(\u001b[38;5;241m2\u001b[39m))\n\u001b[1;32m     17\u001b[0m                          ,Equals(curr[\u001b[38;5;124m'\u001b[39m\u001b[38;5;124ma\u001b[39m\u001b[38;5;124m'\u001b[39m],prox[\u001b[38;5;124m'\u001b[39m\u001b[38;5;124ma\u001b[39m\u001b[38;5;124m'\u001b[39m]),Equals(curr[\u001b[38;5;124m'\u001b[39m\u001b[38;5;124mc\u001b[39m\u001b[38;5;124m'\u001b[39m],prox[\u001b[38;5;124m'\u001b[39m\u001b[38;5;124mc\u001b[39m\u001b[38;5;124m'\u001b[39m],Equals(curr[\u001b[38;5;124m'\u001b[39m\u001b[38;5;124md\u001b[39m\u001b[38;5;124m'\u001b[39m],prox[\u001b[38;5;124m'\u001b[39m\u001b[38;5;124md\u001b[39m\u001b[38;5;124m'\u001b[39m])))\n\u001b[1;32m     18\u001b[0m     t2 \u001b[38;5;241m=\u001b[39m And(Equals(prox[\u001b[38;5;124m'\u001b[39m\u001b[38;5;124md\u001b[39m\u001b[38;5;124m'\u001b[39m],Ite(op[\u001b[38;5;241m2\u001b[39m],Not(curr[\u001b[38;5;124m'\u001b[39m\u001b[38;5;124mb\u001b[39m\u001b[38;5;124m'\u001b[39m]),curr[\u001b[38;5;124m'\u001b[39m\u001b[38;5;124md\u001b[39m\u001b[38;5;124m'\u001b[39m]\u001b[38;5;241m^\u001b[39mcurr[\u001b[38;5;124m'\u001b[39m\u001b[38;5;124mb\u001b[39m\u001b[38;5;124m'\u001b[39m])),\n\u001b[1;32m     19\u001b[0m                                        Equals(curr[\u001b[38;5;124m'\u001b[39m\u001b[38;5;124mpc\u001b[39m\u001b[38;5;124m'\u001b[39m],Int(\u001b[38;5;241m2\u001b[39m)),Equals(prox[\u001b[38;5;124m'\u001b[39m\u001b[38;5;124mpc\u001b[39m\u001b[38;5;124m'\u001b[39m],Int(\u001b[38;5;241m3\u001b[39m))\n\u001b[1;32m     20\u001b[0m                          ,Equals(curr[\u001b[38;5;124m'\u001b[39m\u001b[38;5;124ma\u001b[39m\u001b[38;5;124m'\u001b[39m],prox[\u001b[38;5;124m'\u001b[39m\u001b[38;5;124ma\u001b[39m\u001b[38;5;124m'\u001b[39m]),Equals(curr[\u001b[38;5;124m'\u001b[39m\u001b[38;5;124mc\u001b[39m\u001b[38;5;124m'\u001b[39m],prox[\u001b[38;5;124m'\u001b[39m\u001b[38;5;124mc\u001b[39m\u001b[38;5;124m'\u001b[39m],Equals(curr[\u001b[38;5;124m'\u001b[39m\u001b[38;5;124mb\u001b[39m\u001b[38;5;124m'\u001b[39m],prox[\u001b[38;5;124m'\u001b[39m\u001b[38;5;124mb\u001b[39m\u001b[38;5;124m'\u001b[39m])))\n",
      "File \u001b[0;32m~/anaconda3/envs/logica/lib/python3.10/site-packages/pysmt/shortcuts.py:169\u001b[0m, in \u001b[0;36mNot\u001b[0;34m(formula)\u001b[0m\n\u001b[1;32m    167\u001b[0m \u001b[38;5;28;01mdef\u001b[39;00m \u001b[38;5;21mNot\u001b[39m(formula):\n\u001b[1;32m    168\u001b[0m     \u001b[38;5;124mr\u001b[39m\u001b[38;5;124;03m\"\"\".. math:: \\lnot \\varphi\"\"\"\u001b[39;00m\n\u001b[0;32m--> 169\u001b[0m     \u001b[38;5;28;01mreturn\u001b[39;00m \u001b[43mget_env\u001b[49m\u001b[43m(\u001b[49m\u001b[43m)\u001b[49m\u001b[38;5;241;43m.\u001b[39;49m\u001b[43mformula_manager\u001b[49m\u001b[38;5;241;43m.\u001b[39;49m\u001b[43mNot\u001b[49m\u001b[43m(\u001b[49m\u001b[43mformula\u001b[49m\u001b[43m)\u001b[49m\n",
      "File \u001b[0;32m~/anaconda3/envs/logica/lib/python3.10/site-packages/pysmt/formula.py:198\u001b[0m, in \u001b[0;36mFormulaManager.Not\u001b[0;34m(self, formula)\u001b[0m\n\u001b[1;32m    196\u001b[0m \u001b[38;5;28;01mif\u001b[39;00m formula\u001b[38;5;241m.\u001b[39mis_not():\n\u001b[1;32m    197\u001b[0m     \u001b[38;5;28;01mreturn\u001b[39;00m formula\u001b[38;5;241m.\u001b[39marg(\u001b[38;5;241m0\u001b[39m)\n\u001b[0;32m--> 198\u001b[0m \u001b[38;5;28;01mreturn\u001b[39;00m \u001b[38;5;28;43mself\u001b[39;49m\u001b[38;5;241;43m.\u001b[39;49m\u001b[43mcreate_node\u001b[49m\u001b[43m(\u001b[49m\u001b[43mnode_type\u001b[49m\u001b[38;5;241;43m=\u001b[39;49m\u001b[43mop\u001b[49m\u001b[38;5;241;43m.\u001b[39;49m\u001b[43mNOT\u001b[49m\u001b[43m,\u001b[49m\u001b[43m \u001b[49m\u001b[43margs\u001b[49m\u001b[38;5;241;43m=\u001b[39;49m\u001b[43m(\u001b[49m\u001b[43mformula\u001b[49m\u001b[43m,\u001b[49m\u001b[43m)\u001b[49m\u001b[43m)\u001b[49m\n",
      "File \u001b[0;32m~/anaconda3/envs/logica/lib/python3.10/site-packages/pysmt/formula.py:96\u001b[0m, in \u001b[0;36mFormulaManager.create_node\u001b[0;34m(self, node_type, args, payload)\u001b[0m\n\u001b[1;32m     94\u001b[0m \u001b[38;5;28mself\u001b[39m\u001b[38;5;241m.\u001b[39m_next_free_id \u001b[38;5;241m+\u001b[39m\u001b[38;5;241m=\u001b[39m \u001b[38;5;241m1\u001b[39m\n\u001b[1;32m     95\u001b[0m \u001b[38;5;28mself\u001b[39m\u001b[38;5;241m.\u001b[39mformulae[content] \u001b[38;5;241m=\u001b[39m n\n\u001b[0;32m---> 96\u001b[0m \u001b[38;5;28;43mself\u001b[39;49m\u001b[38;5;241;43m.\u001b[39;49m\u001b[43m_do_type_check\u001b[49m\u001b[43m(\u001b[49m\u001b[43mn\u001b[49m\u001b[43m)\u001b[49m\n\u001b[1;32m     97\u001b[0m \u001b[38;5;28;01mreturn\u001b[39;00m n\n",
      "File \u001b[0;32m~/anaconda3/envs/logica/lib/python3.10/site-packages/pysmt/formula.py:81\u001b[0m, in \u001b[0;36mFormulaManager._do_type_check_real\u001b[0;34m(self, formula)\u001b[0m\n\u001b[1;32m     80\u001b[0m \u001b[38;5;28;01mdef\u001b[39;00m \u001b[38;5;21m_do_type_check_real\u001b[39m(\u001b[38;5;28mself\u001b[39m, formula):\n\u001b[0;32m---> 81\u001b[0m     \u001b[38;5;28;43mself\u001b[39;49m\u001b[38;5;241;43m.\u001b[39;49m\u001b[43mget_type\u001b[49m\u001b[43m(\u001b[49m\u001b[43mformula\u001b[49m\u001b[43m)\u001b[49m\n",
      "File \u001b[0;32m~/anaconda3/envs/logica/lib/python3.10/site-packages/pysmt/type_checker.py:45\u001b[0m, in \u001b[0;36mSimpleTypeChecker.get_type\u001b[0;34m(self, formula)\u001b[0m\n\u001b[1;32m     43\u001b[0m res \u001b[38;5;241m=\u001b[39m \u001b[38;5;28mself\u001b[39m\u001b[38;5;241m.\u001b[39mwalk(formula)\n\u001b[1;32m     44\u001b[0m \u001b[38;5;28;01mif\u001b[39;00m \u001b[38;5;129;01mnot\u001b[39;00m \u001b[38;5;28mself\u001b[39m\u001b[38;5;241m.\u001b[39mbe_nice \u001b[38;5;129;01mand\u001b[39;00m res \u001b[38;5;129;01mis\u001b[39;00m \u001b[38;5;28;01mNone\u001b[39;00m:\n\u001b[0;32m---> 45\u001b[0m     \u001b[38;5;28;01mraise\u001b[39;00m PysmtTypeError(\u001b[38;5;124m\"\u001b[39m\u001b[38;5;124mThe formula \u001b[39m\u001b[38;5;124m'\u001b[39m\u001b[38;5;132;01m%s\u001b[39;00m\u001b[38;5;124m'\u001b[39m\u001b[38;5;124m is not well-formed\u001b[39m\u001b[38;5;124m\"\u001b[39m \\\n\u001b[1;32m     46\u001b[0m                          \u001b[38;5;241m%\u001b[39m \u001b[38;5;28mstr\u001b[39m(formula))\n\u001b[1;32m     47\u001b[0m \u001b[38;5;28;01mreturn\u001b[39;00m res\n",
      "\u001b[0;31mPysmtTypeError\u001b[0m: The formula '(! c!X0)' is not well-formed"
     ]
    }
   ],
   "source": [
    "def genTrace(vars,init,trans,error,n):\n",
    "    op = [numpy.random.choice([Int(0),Int(1)], p=[0.5,1-0.5]) for i in range(3)]\n",
    "\n",
    "    with Solver(name=\"z3\") as s:\n",
    "        \n",
    "        X = [genState(vars,'X',i) for i in range(n+1)]   # cria n+1 estados (com etiqueta X)\n",
    "        I = init(X[0])\n",
    "        Tks = [ trans(X[i],X[i+1],op) for i in range(n) ]\n",
    "        \n",
    "        if s.solve([I,And(Tks)]):      # testa se I /\\ T^n  é satisfazível\n",
    "            for i in range(n):\n",
    "                print(\"Estado:\",i)\n",
    "                for v in X[i]:\n",
    "                    print(\"          \",v,'=',s.get_value(X[i][v]))\n",
    "genTrace(['pc','a','b','c','d'],init1,trans1,error1,30)     "
   ]
  },
  {
   "cell_type": "code",
   "execution_count": null,
   "id": "1a570728",
   "metadata": {},
   "outputs": [],
   "source": []
  }
 ],
 "metadata": {
  "kernelspec": {
   "display_name": "Python 3 (ipykernel)",
   "language": "python",
   "name": "python3"
  },
  "language_info": {
   "codemirror_mode": {
    "name": "ipython",
    "version": 3
   },
   "file_extension": ".py",
   "mimetype": "text/x-python",
   "name": "python",
   "nbconvert_exporter": "python",
   "pygments_lexer": "ipython3",
   "version": "3.10.6"
  }
 },
 "nbformat": 4,
 "nbformat_minor": 5
}
