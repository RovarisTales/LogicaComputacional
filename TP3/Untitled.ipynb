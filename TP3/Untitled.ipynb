{
 "cells": [
  {
   "cell_type": "code",
   "execution_count": 1,
   "id": "cb2c53d9",
   "metadata": {},
   "outputs": [
    {
     "ename": "PysmtTypeError",
     "evalue": "The formula '(19 & 1)' is not well-formed",
     "output_type": "error",
     "traceback": [
      "\u001b[0;31m---------------------------------------------------------------------------\u001b[0m",
      "\u001b[0;31mPysmtTypeError\u001b[0m                            Traceback (most recent call last)",
      "Input \u001b[0;32mIn [1]\u001b[0m, in \u001b[0;36m<cell line: 12>\u001b[0;34m()\u001b[0m\n\u001b[1;32m      9\u001b[0m a \u001b[38;5;241m=\u001b[39m Int(\u001b[38;5;241m19\u001b[39m)\n\u001b[1;32m     10\u001b[0m b \u001b[38;5;241m=\u001b[39m Int(\u001b[38;5;241m1\u001b[39m)\n\u001b[0;32m---> 12\u001b[0m f \u001b[38;5;241m=\u001b[39m \u001b[43mAnd\u001b[49m\u001b[43m(\u001b[49m\u001b[43ma\u001b[49m\u001b[43m,\u001b[49m\u001b[43mb\u001b[49m\u001b[43m)\u001b[49m\n\u001b[1;32m     14\u001b[0m is_sat(f)\n",
      "File \u001b[0;32m~/anaconda3/envs/logica/lib/python3.10/site-packages/pysmt/shortcuts.py:306\u001b[0m, in \u001b[0;36mAnd\u001b[0;34m(*args)\u001b[0m\n\u001b[1;32m    304\u001b[0m \u001b[38;5;28;01mdef\u001b[39;00m \u001b[38;5;21mAnd\u001b[39m(\u001b[38;5;241m*\u001b[39margs):\n\u001b[1;32m    305\u001b[0m     \u001b[38;5;124mr\u001b[39m\u001b[38;5;124;03m\"\"\".. math:: \\varphi_0 \\land \\cdots \\land \\varphi_n \"\"\"\u001b[39;00m\n\u001b[0;32m--> 306\u001b[0m     \u001b[38;5;28;01mreturn\u001b[39;00m \u001b[43mget_env\u001b[49m\u001b[43m(\u001b[49m\u001b[43m)\u001b[49m\u001b[38;5;241;43m.\u001b[39;49m\u001b[43mformula_manager\u001b[49m\u001b[38;5;241;43m.\u001b[39;49m\u001b[43mAnd\u001b[49m\u001b[43m(\u001b[49m\u001b[38;5;241;43m*\u001b[39;49m\u001b[43margs\u001b[49m\u001b[43m)\u001b[49m\n",
      "File \u001b[0;32m~/anaconda3/envs/logica/lib/python3.10/site-packages/pysmt/formula.py:428\u001b[0m, in \u001b[0;36mFormulaManager.And\u001b[0;34m(self, *args)\u001b[0m\n\u001b[1;32m    426\u001b[0m     \u001b[38;5;28;01mreturn\u001b[39;00m tuple_args[\u001b[38;5;241m0\u001b[39m]\n\u001b[1;32m    427\u001b[0m \u001b[38;5;28;01melse\u001b[39;00m:\n\u001b[0;32m--> 428\u001b[0m     \u001b[38;5;28;01mreturn\u001b[39;00m \u001b[38;5;28;43mself\u001b[39;49m\u001b[38;5;241;43m.\u001b[39;49m\u001b[43mcreate_node\u001b[49m\u001b[43m(\u001b[49m\u001b[43mnode_type\u001b[49m\u001b[38;5;241;43m=\u001b[39;49m\u001b[43mop\u001b[49m\u001b[38;5;241;43m.\u001b[39;49m\u001b[43mAND\u001b[49m\u001b[43m,\u001b[49m\n\u001b[1;32m    429\u001b[0m \u001b[43m                            \u001b[49m\u001b[43margs\u001b[49m\u001b[38;5;241;43m=\u001b[39;49m\u001b[43mtuple_args\u001b[49m\u001b[43m)\u001b[49m\n",
      "File \u001b[0;32m~/anaconda3/envs/logica/lib/python3.10/site-packages/pysmt/formula.py:96\u001b[0m, in \u001b[0;36mFormulaManager.create_node\u001b[0;34m(self, node_type, args, payload)\u001b[0m\n\u001b[1;32m     94\u001b[0m \u001b[38;5;28mself\u001b[39m\u001b[38;5;241m.\u001b[39m_next_free_id \u001b[38;5;241m+\u001b[39m\u001b[38;5;241m=\u001b[39m \u001b[38;5;241m1\u001b[39m\n\u001b[1;32m     95\u001b[0m \u001b[38;5;28mself\u001b[39m\u001b[38;5;241m.\u001b[39mformulae[content] \u001b[38;5;241m=\u001b[39m n\n\u001b[0;32m---> 96\u001b[0m \u001b[38;5;28;43mself\u001b[39;49m\u001b[38;5;241;43m.\u001b[39;49m\u001b[43m_do_type_check\u001b[49m\u001b[43m(\u001b[49m\u001b[43mn\u001b[49m\u001b[43m)\u001b[49m\n\u001b[1;32m     97\u001b[0m \u001b[38;5;28;01mreturn\u001b[39;00m n\n",
      "File \u001b[0;32m~/anaconda3/envs/logica/lib/python3.10/site-packages/pysmt/formula.py:81\u001b[0m, in \u001b[0;36mFormulaManager._do_type_check_real\u001b[0;34m(self, formula)\u001b[0m\n\u001b[1;32m     80\u001b[0m \u001b[38;5;28;01mdef\u001b[39;00m \u001b[38;5;21m_do_type_check_real\u001b[39m(\u001b[38;5;28mself\u001b[39m, formula):\n\u001b[0;32m---> 81\u001b[0m     \u001b[38;5;28;43mself\u001b[39;49m\u001b[38;5;241;43m.\u001b[39;49m\u001b[43mget_type\u001b[49m\u001b[43m(\u001b[49m\u001b[43mformula\u001b[49m\u001b[43m)\u001b[49m\n",
      "File \u001b[0;32m~/anaconda3/envs/logica/lib/python3.10/site-packages/pysmt/type_checker.py:45\u001b[0m, in \u001b[0;36mSimpleTypeChecker.get_type\u001b[0;34m(self, formula)\u001b[0m\n\u001b[1;32m     43\u001b[0m res \u001b[38;5;241m=\u001b[39m \u001b[38;5;28mself\u001b[39m\u001b[38;5;241m.\u001b[39mwalk(formula)\n\u001b[1;32m     44\u001b[0m \u001b[38;5;28;01mif\u001b[39;00m \u001b[38;5;129;01mnot\u001b[39;00m \u001b[38;5;28mself\u001b[39m\u001b[38;5;241m.\u001b[39mbe_nice \u001b[38;5;129;01mand\u001b[39;00m res \u001b[38;5;129;01mis\u001b[39;00m \u001b[38;5;28;01mNone\u001b[39;00m:\n\u001b[0;32m---> 45\u001b[0m     \u001b[38;5;28;01mraise\u001b[39;00m PysmtTypeError(\u001b[38;5;124m\"\u001b[39m\u001b[38;5;124mThe formula \u001b[39m\u001b[38;5;124m'\u001b[39m\u001b[38;5;132;01m%s\u001b[39;00m\u001b[38;5;124m'\u001b[39m\u001b[38;5;124m is not well-formed\u001b[39m\u001b[38;5;124m\"\u001b[39m \\\n\u001b[1;32m     46\u001b[0m                          \u001b[38;5;241m%\u001b[39m \u001b[38;5;28mstr\u001b[39m(formula))\n\u001b[1;32m     47\u001b[0m \u001b[38;5;28;01mreturn\u001b[39;00m res\n",
      "\u001b[0;31mPysmtTypeError\u001b[0m: The formula '(19 & 1)' is not well-formed"
     ]
    }
   ],
   "source": [
    "from pysmt.shortcuts import *\n",
    "from pysmt.typing import INT\n",
    "\n",
    "import itertools\n",
    "\n",
    "a = Symbol(\"a\",INT)\n",
    "b = Symbol(\"b\",INT)\n",
    "\n",
    "a = Int(19)\n",
    "b = Int(1)\n",
    "\n",
    "f = And(a,b)\n",
    "\n",
    "is_sat(f)"
   ]
  },
  {
   "cell_type": "code",
   "execution_count": null,
   "id": "93ae9653",
   "metadata": {},
   "outputs": [],
   "source": []
  }
 ],
 "metadata": {
  "kernelspec": {
   "display_name": "Python 3 (ipykernel)",
   "language": "python",
   "name": "python3"
  },
  "language_info": {
   "codemirror_mode": {
    "name": "ipython",
    "version": 3
   },
   "file_extension": ".py",
   "mimetype": "text/x-python",
   "name": "python",
   "nbconvert_exporter": "python",
   "pygments_lexer": "ipython3",
   "version": "3.10.6"
  }
 },
 "nbformat": 4,
 "nbformat_minor": 5
}
