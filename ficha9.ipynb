{
 "cells": [
  {
   "cell_type": "markdown",
   "id": "ea9990c0",
   "metadata": {},
   "source": [
    "# Safe First-Order Transion Systems\n",
    "\n",
    "A verificação de propriedades lógicas de sistemas dinâmicos feita  em comportamentos ilimitados cinge-se, quase sempre, a propriedades de segurança da forma $\\,\\mathsf{G}\\,\\mathsf{P}\\,$  em que $\\,\\mathsf{P}\\,$ é uma propriedade de segurança expressa como um predicado nas variáveis de estado do sistema.\n",
    "Como não é possível verificar fórmulas temporais genéricas, muitos modelos de sistemas dinâmicos incluem a propriedade $\\,\\mathsf{P}\\,$ diretamente na formulação do próprio sistema e dispensam a lógica temporal. \n",
    "Mais exatamente é mais natural exprimir a propriedade de segurança $\\,\\mathsf{P}\\,$ como a negação de uma condição de erro $\\,\\mathsf{E}\\,$;  isto é, o sistema está num estado seguro se  não estiver num estado onde se verifique a condição de erro $\\,\\mathsf{E}\\,$.\n",
    "\n",
    "\n",
    "**Safe First Order Transition Systems (SFOTS)** são modelos de sistemas dinâmicos definidos por\n",
    "$\\:\\:\\:\\Sigma\\;\\equiv\\;\\langle\\,\\mathsf{X}\\,,\\,\\mathsf{next}\\,,\\,\\mathsf{I}\\,,\\,\\mathsf{T}\\,,\\,\\mathsf{E}\\,\\rangle\\:\\:\\:$\n",
    "onde \n",
    "$\\,\\mathsf{X}\\,$ é o conjunto das variáveis base que define o espaço de estados,\n",
    "$\\,\\mathsf{next}\\,$ é o operador que gera os vários “clones” dessas variáveis,\n",
    "$\\;\\mathsf{I}\\;$ é o predicado que determina os estados iniciais,\n",
    "$\\;\\mathsf{T}\\;$ é o predicado que define a relação de transição entre estados, e\n",
    "$\\;\\mathsf{E}\\;$ é o predicado que define uma condição de erro."
   ]
  },
  {
   "cell_type": "code",
   "execution_count": 1,
   "id": "29ec6ef6",
   "metadata": {},
   "outputs": [],
   "source": [
    "from pysmt.shortcuts import *\n",
    "from pysmt.typing import INT\n",
    "\n",
    "import itertools "
   ]
  },
  {
   "cell_type": "markdown",
   "id": "5c7bb153",
   "metadata": {},
   "source": [
    "Considere o seguinte programa anotado com uma pré-condição e com valor do *program counter*.\n",
    "```Python\n",
    "{ x >= 3 }\n",
    "0: while (x>0):\n",
    "1:     if x == 2:\n",
    "2:        raise Error\n",
    "3:     x = x-5\n",
    "4: stop\n",
    "```\n",
    "Para modelar este programa como um SFOTS teremos o conjunto $\\mathsf{X}$ de variáveis do estado dado pela lista `['x','pc']`, e definimos a função\n",
    "`genState` que recebe a lista com o nome das variáveis do estado, uma etiqueta e um inteiro, e cria a i-ésima cópia das variáveis do estado para essa etiqueta. As variáveis lógicas começam sempre com o nome de base das variáveis dos estado, seguido do separador `!`."
   ]
  },
  {
   "cell_type": "code",
   "execution_count": 2,
   "id": "0456cf03",
   "metadata": {},
   "outputs": [],
   "source": [
    "def genState(vars,s,i):\n",
    "    state = {}\n",
    "    for v in vars:\n",
    "        state[v] = Symbol(v+'!'+s+str(i),INT)\n",
    "    return state"
   ]
  },
  {
   "cell_type": "markdown",
   "id": "efa3f2a0",
   "metadata": {},
   "source": [
    "### Exercício 1\n",
    "\n",
    "Defina as seguintes funções para completar a modelação deste programa:\n",
    "- `init1` dado um estado do programa (um dicionário de variáveis), devolve um predicado do pySMT que testa se esse estado é um possível estado inicial do programa.\n",
    "- `error1` dado um  estado do programa, devolve um predicado do pySMT que testa se esse estado é um possível estado de erro do programa.\n",
    "- `trans1` que, dados dois estados do programa, devolve um predicado do pySMT que testa se é possível transitar do primeiro para o segundo estado"
   ]
  },
  {
   "cell_type": "code",
   "execution_count": 3,
   "id": "85da258d",
   "metadata": {},
   "outputs": [],
   "source": [
    "def init1(state):\n",
    "    return And(Equals(state['pc'],Int(0)),GE(state['x'],Int(3)))\n",
    "\n",
    "def trans1(curr,prox):\n",
    "    t0 = And(Equals(curr['pc'],Int(0)),GT(curr['x'],Int(0)),Equals(prox['pc'],Int(1)),Equals(curr['x'],prox['x']))\n",
    "    t1 = And(Equals(curr['pc'],Int(0)),Not(GT(curr['x'],Int(0))),Equals(prox['pc'],Int(4)),Equals(curr['x'],prox['x']))\n",
    "    t2 = And(Equals(curr['pc'],Int(1)),Equals(curr['x'],Int(2)),Equals(prox['pc'],Int(2)),Equals(curr['x'],prox['x'])) \n",
    "    t3 = And(Equals(curr['pc'],Int(1)),Not(Equals(curr['x'],Int(2))),Equals(prox['pc'],Int(3)),Equals(curr['x'],prox['x']))\n",
    "    t4 = And(Equals(curr['pc'],Int(3)),Equals(prox['pc'],Int(0)),Equals(curr['x'] - 5,prox['x']))\n",
    "    t5 = And(Equals(curr['pc'],Int(2)),Equals(prox['pc'],Int(2)),Equals(curr['x'],prox['x']))\n",
    "    t6 = And(Equals(curr['pc'],Int(4)),Equals(prox['pc'],Int(4)),Equals(curr['x'],prox['x']))\n",
    "    \n",
    "    return Or(t0,t1,t2,t3,t4,t5,t6)\n",
    "\n",
    "def error1(state):\n",
    "    return And(Equals(state['x'],Int(2)),Equals(state['pc'],Int(2)))"
   ]
  },
  {
   "cell_type": "markdown",
   "id": "4723f3ef",
   "metadata": {},
   "source": [
    "## Notação\n",
    "\n",
    "O operador $\\,\\mathsf{next}\\,$ está implícito na definição inicial de um FOTS quando se considera o conjunto de variáveis $\\,\\mathsf{X'}\\,$ como “clones” das variáveis iniciais do sistema $\\,\\mathsf{X}\\,$; de facto tem-se \n",
    "$\\:\\:\\mathsf{X}'\\,\\equiv\\,\\mathsf{next}(\\mathsf{X})$.\n",
    "\n",
    "A mesma notação aplica-se a um qualquer predicado $\\,\\mathsf{P}\\,$ que tenha $\\,\\mathsf{X}\\,$ como o seu conjunto de variáveis livres:  representa-se por $\\,\\mathsf{P}'\\,$ a fórmula nas variáveis livres $\\,\\mathsf{X}'\\,$ que se obtém de $\\,\\mathsf{P}\\,$ substituindo que cada variável $\\,\\mathsf{X}\\,$ pela variável correspondente $\\,\\mathsf{X}'\\,$. Temos portanto,\n",
    "$\\:\\:\\mathsf{P}'\\;\\equiv\\;\\mathsf{P}\\,\\{\\mathsf{X}/\\mathsf{next}(\\mathsf{X})\\}$.\n",
    "\n",
    "A notação (usada nas aulas teóricas) segue as seguintes convenções:\n",
    "\n",
    "- Todos os predicados unários são expressões que têm livres as variáveis $\\;\\mathsf{X}\\;$.\n",
    "- Todos os predicados binários são expressões que têm livres as variáveis $\\;\\mathsf{X}\\;$ e $\\;\\mathsf{X}'\\;$.\n",
    "- Todo o predicado $n$-ário é uma expressão que tem livres variáveis $\\,\\mathsf{X}_0\\,,\\,\\mathsf{X}_1\\,\\cdots\\,\\mathsf{X}_{n-1}\\;$ com\n",
    " $\\:\\mathsf{X}_0\\;\\equiv\\;\\mathsf{X}\\:$  e $\\:\\mathsf{X}_{i+1}\\;\\equiv\\;\\mathsf{next}(\\mathsf{X}_i)\\;$   para $\\;i>0$\n",
    "- Se $\\;\\mathsf{P}\\;$ é um predicado $\\,n$-ário então \n",
    " $\\mathsf{P}'\\;\\equiv\\,\\mathsf{P}\\,\\{\\mathsf{X}_i/\\mathsf{X}_{i+1}\\;\\text{para}\\;i < n\\!-\\!1\\;,\\;\\mathsf{X}_{n-1}/\\mathsf{next}(\\mathsf{X}_{n-1})\\}$\n",
    "   \n",
    "Por conveniência, em todas estas sequências de variáveis $\\,\\mathsf{X}_0\\,$ coincide com a variável $\\,\\mathsf{X}\\,$ que ocorre na definição de $\\,\\Sigma\\,$ e as restantes variáveis resultam de sucessivas invocações de $\\,\\mathsf{next}(\\mathsf{X})$.\n",
    "Nomeadamente a variável $\\,\\mathsf{X}_i\\,$ resulta da $i$-ésima invocação de $\\mathsf{next(X)}$.\n",
    "\n",
    "Adicionalmente a função $\\,\\mathsf{top}\\,$ que aplicada a um predicado $n$-ário $\\,\\mathsf{P}\\,$ dá como resultado a última variável na sequência de variavéis que ocorrem em $\\,\\mathsf{P}$. "
   ]
  },
  {
   "cell_type": "markdown",
   "id": "5a199b1c",
   "metadata": {},
   "source": [
    "Uma sequência de transições\n",
    "$\\,s_0 \\stackrel{T}\\longrightarrow s_1 \\stackrel{T}\\longrightarrow s_2 \\cdots s_{n-1} \\stackrel{T}\\longrightarrow s_n\\;$\n",
    "pode ser definida indutivamente da  como potências da relação binária $\\,\\mathsf{T}\\,$,\n",
    "$\\:\\mathsf{T}^{n+1}\\;\\equiv\\; \\mathsf{T}\\,\\land\\, (\\mathsf{T}^{n})'\\;$ para $\\; n > 0$.\n",
    "Para um predicado unário  $\\;\\mathsf{P}\\;$, temos\n",
    "$\\:\\mathsf{P}^0 \\equiv \\mathsf{True}\\:\\text{e}\\; \\mathsf{P}^{n+1}\\equiv\\mathsf{P}\\,\\land\\,(\\mathsf{P}^n)'\\:$ para $\\;n\\geq 0$. Verifica-se que $\\:(\\mathsf{P}\\land\\mathsf{T})^n\\equiv \\mathsf{P}^n\\,\\land\\,\\mathsf{T}^n$."
   ]
  },
  {
   "cell_type": "markdown",
   "id": "49baf508",
   "metadata": {},
   "source": [
    "### Exercício 2 \n",
    "Escreva as fórmulas lógicas representadas nesta notação por $\\mathsf{P}^{3}$ e $\\mathsf{T}^{3}$. Assuma que $\\mathsf{P}$ é um predicado unário e $\\mathsf{T}$ um predicado binário.\n",
    "\n",
    "$$\n",
    "\\begin{array}\n",
    "\\mathsf{P}^{3}\\;\\equiv\\; P(X_{0}) \\land P(X_{1}) \\land P(X_{2}) \\\\\n",
    "\\mathsf{T}^{3}\\;\\equiv\\; T(X_{0},X_{1}) \\land T(X_{1},X_{2}) \\land T(X_{2},X_{3})\n",
    "\\end{array}\n",
    "$$"
   ]
  },
  {
   "cell_type": "markdown",
   "id": "b1f1553e",
   "metadata": {},
   "source": [
    "Seguindo esta notação, a fórmula \n",
    "$\\;\\mathsf{I}\\,\\land\\,\\mathsf{T}^n\\,$ denota um traço finito com $\\,n\\,$ transições em $\\Sigma\\,$, $\\,\\mathsf{X}_0,\\cdots,\\mathsf{X}_n\\,$, que descrevem estados acessíveis com $n$ ou menos transições. Inspirada nesta notação, a seguinte função `genTrace` gera um possível traço de execução com $n$ transições."
   ]
  },
  {
   "cell_type": "code",
   "execution_count": 4,
   "id": "7e62ae86",
   "metadata": {},
   "outputs": [],
   "source": [
    "def genTrace(vars,init,trans,error,n):\n",
    "    with Solver(name=\"z3\") as s:\n",
    "        \n",
    "        X = [genState(vars,'X',i) for i in range(n+1)]   # cria n+1 estados (com etiqueta X)\n",
    "        I = init(X[0])\n",
    "        Tks = [ trans(X[i],X[i+1]) for i in range(n) ]\n",
    "        \n",
    "        if s.solve([I,And(Tks)]):      # testa se I /\\ T^n  é satisfazível\n",
    "            for i in range(n):\n",
    "                print(\"Estado:\",i)\n",
    "                for v in X[i]:\n",
    "                    print(\"          \",v,'=',s.get_value(X[i][v]))"
   ]
  },
  {
   "cell_type": "markdown",
   "id": "c0017d53",
   "metadata": {},
   "source": [
    "### Exercício 3\n",
    "\n",
    "Use esta função para testar a sua resposta ao exercício 1."
   ]
  },
  {
   "cell_type": "code",
   "execution_count": 5,
   "id": "8254f37f",
   "metadata": {},
   "outputs": [
    {
     "name": "stdout",
     "output_type": "stream",
     "text": [
      "Estado: 0\n",
      "           x = 27\n",
      "           pc = 0\n",
      "Estado: 1\n",
      "           x = 27\n",
      "           pc = 1\n",
      "Estado: 2\n",
      "           x = 27\n",
      "           pc = 3\n",
      "Estado: 3\n",
      "           x = 22\n",
      "           pc = 0\n",
      "Estado: 4\n",
      "           x = 22\n",
      "           pc = 1\n",
      "Estado: 5\n",
      "           x = 22\n",
      "           pc = 3\n",
      "Estado: 6\n",
      "           x = 17\n",
      "           pc = 0\n",
      "Estado: 7\n",
      "           x = 17\n",
      "           pc = 1\n",
      "Estado: 8\n",
      "           x = 17\n",
      "           pc = 3\n",
      "Estado: 9\n",
      "           x = 12\n",
      "           pc = 0\n",
      "Estado: 10\n",
      "           x = 12\n",
      "           pc = 1\n",
      "Estado: 11\n",
      "           x = 12\n",
      "           pc = 3\n",
      "Estado: 12\n",
      "           x = 7\n",
      "           pc = 0\n",
      "Estado: 13\n",
      "           x = 7\n",
      "           pc = 1\n",
      "Estado: 14\n",
      "           x = 7\n",
      "           pc = 3\n",
      "Estado: 15\n",
      "           x = 2\n",
      "           pc = 0\n",
      "Estado: 16\n",
      "           x = 2\n",
      "           pc = 1\n",
      "Estado: 17\n",
      "           x = 2\n",
      "           pc = 2\n",
      "Estado: 18\n",
      "           x = 2\n",
      "           pc = 2\n",
      "Estado: 19\n",
      "           x = 2\n",
      "           pc = 2\n",
      "Estado: 20\n",
      "           x = 2\n",
      "           pc = 2\n",
      "Estado: 21\n",
      "           x = 2\n",
      "           pc = 2\n",
      "Estado: 22\n",
      "           x = 2\n",
      "           pc = 2\n",
      "Estado: 23\n",
      "           x = 2\n",
      "           pc = 2\n",
      "Estado: 24\n",
      "           x = 2\n",
      "           pc = 2\n",
      "Estado: 25\n",
      "           x = 2\n",
      "           pc = 2\n",
      "Estado: 26\n",
      "           x = 2\n",
      "           pc = 2\n",
      "Estado: 27\n",
      "           x = 2\n",
      "           pc = 2\n",
      "Estado: 28\n",
      "           x = 2\n",
      "           pc = 2\n",
      "Estado: 29\n",
      "           x = 2\n",
      "           pc = 2\n"
     ]
    }
   ],
   "source": [
    "genTrace(['x','pc'],init1,trans1,error1,30)"
   ]
  },
  {
   "cell_type": "markdown",
   "id": "2406c910",
   "metadata": {},
   "source": [
    "## Segurança e acessibilidade\n",
    "\n",
    "\n",
    "O algoritmo de verificação num SFOTS tem objetivos distintos da verificação usada nos FOTS.\n",
    "Num SFOTS a propriedade de segurança (ou condição de erro) está contida na própria definição do sistema. A especificação do sistema determina o comportamento $\\;\\Sigma\\;$ formado pelos traços mas também o subconjunto $\\,\\Sigma_U\\subseteq \\Sigma\\;$ formado pelos traços que violam a condição de segurança.  Agora o algoritmo de verificação limita-se a  decidir se o conjunto $\\;\\Sigma_U\\;$ é ou não vazio.\n",
    "\n",
    "\n",
    "Num SFOTS $\\:\\Sigma\\;\\equiv\\;\\langle\\,\\,\\mathsf{X}\\,,\\,\\mathsf{next}\\,,\\,\\mathsf{I}\\,,\\,\\mathsf{T}\\,,\\,\\mathsf{E}\\,\\rangle$  a  verificação deriva das noções de acessibilidade e insegurança. \n",
    "- Um estado $\\,r\\,$ é **acessível (“reachable”)** em $\\,\\Sigma\\,$ quando $\\,r\\in\\mathsf{I}\\,$ ou quando existe uma transição $\\;(s,r)\\in \\mathsf{T}\\;$ em que $\\,s\\,$ é acessível em $\\,\\Sigma\\,$.\n",
    "- Um estado $\\,u\\,$ é **inseguro (“unsafe”)** em $\\,\\Sigma\\,$ quando $\\,u\\in \\mathsf{E}\\,$ ou quando existe uma transição $\\,(u,\\upsilon)\\in \\mathsf{T}\\,$ em que $\\,\\upsilon\\,$ é inseguro em $\\,\\Sigma\\,$.\n",
    "- O SFOTS $\\,\\Sigma\\,$ é **inseguro** se existe algum estado $\\,s\\,$ que seja simultaneamente acessível e inseguro. Em caso contrário o sistema $\\,\\Sigma\\,$ é **seguro**.\n",
    "\n",
    "A fórmula $\\;\\mathsf{R}_n\\;\\equiv\\; \\mathsf{I}\\,\\land\\,\\mathsf{T}^n\\,$ denota um traço finito com $\\,n\\,$ transições em $\\Sigma\\,$, $\\,\\mathsf{X}_0,\\cdots,\\mathsf{X}_n\\,$ que descrevem estados acessíveis com $n$ ou menos transições.  \n",
    "\n",
    "Para descrever os estados inseguros, dá jeito  definir um novo SFOTS \n",
    "$\\:\\:\\Sigma^\\top\\;\\equiv\\;\\langle\\,\\mathsf{Y}\\,,\\,\\mathsf{next}\\,,\\,\\mathsf{E}\\,,\\,\\mathsf{B}\\,,\\,\\mathsf{I}\\,\\rangle\\:\\:$ onde $\\,\\mathsf{Y}\\,$ é um “clone” da variável $\\,\\mathsf{X}\\,$;  invocações sucessivas de $\\,\\mathsf{next}(\\mathsf{Y})\\,$  produzem variáveis; $\\;\\mathsf{E}$ é a nova condição inicial; $\\;\\mathsf{I}$  é a nova condição de erro; a relação de transição $\\,\\mathsf{B}\\,$ é a relação inversa de $\\,\\mathsf{T}\\,$. É fácil de ver que\n",
    "> - Um estado $\\,s\\,$ é inseguro em $\\,\\Sigma\\,$ se e só se $\\,s\\,$ é acessível em $\\,\\Sigma^\\top\\,$. \n",
    "> - Um estado $\\,s\\,$ é acessível em $\\,\\Sigma\\,$ se e só se $\\,s\\,$ é inseguro em $\\,\\Sigma^\\top\\,$.\n",
    "\n",
    "\n",
    "Este resultado permite-nos analisar as condições de segurança exclusivamente através das relações de acessibilidade em $\\,\\Sigma\\,$ e $\\,\\Sigma^\\top\\,$."
   ]
  },
  {
   "cell_type": "markdown",
   "id": "96cd2704",
   "metadata": {},
   "source": [
    "### Exercício 4\n",
    "\n",
    "Usando o sistema $\\,\\Sigma^\\top$, escreva a fórmula (que convecionamos chamar $\\:\\mathsf{U}_m)\\;$ que denota um traço finito com $\\,m\\,$ transições, cujos estados $\\,\\mathsf{Y}_0,\\,\\cdots\\,,\\mathsf{Y}_m\\;$ são sempre inseguros. \n",
    "                                       \n",
    "$$\\mathsf{U}_m\\;\\equiv\\; ... $$"
   ]
  },
  {
   "cell_type": "markdown",
   "id": "0a2ef762",
   "metadata": {},
   "source": [
    "### Exercício 5\n",
    "\n",
    "Defina uma função de ordem superior `invert` que recebe a função python que codifica a relação de transição e devolve a relação e transição inversa."
   ]
  },
  {
   "cell_type": "code",
   "execution_count": 6,
   "id": "1fdce991",
   "metadata": {},
   "outputs": [],
   "source": [
    "def invert(trans):\n",
    "    return (lambda c,p: trans(p,c))"
   ]
  },
  {
   "cell_type": "markdown",
   "id": "0e905ce7",
   "metadata": {},
   "source": [
    "Para avaliar a segurança eventual do sistema $\\;\\Sigma\\;$ é necessário determinar se nenhum estado é simultâneamente acessível e inseguro. Para isso tem que se avaliar se, para todo o $\\,n,\\,m\\,$, a fórmula  $\\:\\:V_{n,m}\\,\\equiv\\,\\mathsf{R}_n\\,\\land\\,(X_n=Y_m) \\,\\land\\,\\mathsf{U}_m\\:\\:$ é insatisfazível, onde $\\;X_n = \\mathsf{top}(\\mathsf{R}_n)\\:\\text{e}\\: Y_m = \\mathsf{top}(\\mathsf{U}_m)$.\n",
    "\n",
    "\n",
    "## Um algoritmo de \"model-checking\" usando interpolantes e invariantes\n",
    "\n",
    "Para provar que $\\,\\mathsf{V}_{n,m}\\,$ é insatisfazíevel para todo $\\,n,m\\,$ vai-se usar uma estratégia similar ás provas por indução. Para tal precisamos de recorrer a interpolantes e a invariantes.\n",
    "\n",
    "Um **interpolante** para o par $\\;(A,B)\\;$ de duas fórmula de 1ª ordem é definível quando $\\,A\\,$ e $\\,B\\,$ são mutuamente inconsistentes (isto é, $\\;A\\,\\land\\,B\\;$ é insatisfazível) e, nesse caso, é uma fórmula de 1ª ordem $\\;C\\;$ tal que:\n",
    "- $C\\;$ só contém as variáveis comuns a $A$ e a $B$.\n",
    "- Os pares $\\;(A,\\neg\\,C)\\;$ e $\\;(C,B)\\;$ são ambos mutuamente inconsistentes.\n",
    "\n",
    "Na sua formulação mais simples, os invariantes são predicados cujo valor lógico se mantém após a execução da  transição $\\;\\mathsf{T}$.\n",
    "Esta ideia pode ser generalizada para qualquer predicado  $\\,n$-ário $\\,\\mathsf{F}\\,$ nas variáveis $\\;X_0,\\cdots,X_n\\;$ , com $\\,n\\geq 1\\,$. \n",
    "Neste contexto o predicado $\\,\\mathsf{P}\\,$ é **invariante** quando, sendo $\\,X_n \\equiv \\mathsf{top}(\\mathsf{F})\\,$, se verifica que \n",
    "$\\mathsf{P}\\,\\land\\,\\mathsf{F}\\,\\to\\,\\mathsf{P}\\{\\mathsf{X}/X_n\\}\\:$ é uma tautologia.\n",
    "\n",
    "Se $\\;\\mathsf{P}\\,,\\,\\mathsf{Q}\\;$ são ambos predicado em $\\,\\mathsf{X}\\,$,  diz-se que $\\,\\mathsf{P}\\;$ é **invariante relativo a $\\,\\mathsf{Q}\\;$ para a transição $\\;\\mathsf{T}\\;$** quando \n",
    "$\\:\\mathsf{Q}\\,\\land\\,\\mathsf{P}\\,\\land\\,\\mathsf{T}\\,\\to\\,\\mathsf{P}'\\:$\n",
    "é uma tautologia.\n",
    "\n",
    "\n",
    "O algoritmo de “model-checking” pretende verificar se para todo $\\,n,m\\,$ a fórmula $\\,\\mathsf{V}_{n,m}\\,$ é insatisfazível.\n",
    "O algoritmo derivado das noções de interpolante e invariante baseia-se no seguinte resultado\n",
    "\n",
    "> Se existe um predicado unário $\\,S\\,$ que é invariante de $\\;\\mathsf{T}\\,$ e, para algum par de índices $(n,m)\\,$ verifica-se que  $\\;\\mathsf{R}_n(\\overline{X}_n) \\,\\to\\,S(X_n)\\;$ e $\\;\\mathsf{U}_m(\\overline{Y}_m)\\,\\to\\,\\neg\\,S(Y_m)\\;$  são tautologias , então $\\;\\mathsf{V}_{n',m'}\\;$ é insatisfazível para todo $\\;n'\\ge n\\;$ e $\\;m'\\ge m\\;$.\n",
    "\n"
   ]
  },
  {
   "cell_type": "markdown",
   "id": "9940ac7a",
   "metadata": {},
   "source": [
    "### O algoritmo de \"model-checking\"\n",
    "\n",
    "O algoritmo de “model-checking” manipula as fórmulas $\\;\\mathsf{R}_n\\;\\equiv\\; \\mathsf{I}\\,\\land\\,\\mathsf{T}^n\\;$ e $\\;\\mathsf{U}_m\\equiv\\; \\mathsf{E}\\,\\land\\,\\mathsf{B}^m\\;$ fazendo crescer os índices $\\;n,m\\;$ de acordo  com as seguintes regras\n",
    "\n",
    "----------\n",
    "1. Inicia-se $n=0$, $\\;\\mathsf{R}_0 = \\mathsf{I}\\;$ e $\\;\\mathsf{U}_0 = \\mathsf{E}$.\n",
    "\n",
    "\n",
    "2.  No estado $\\,(n,m)\\,$  tem-se a certeza que em todos os estados anteriores não foi detectada nenhuma justificação para a insegurança do SFOTS. \n",
    "    Se $\\;\\mathsf{V}_{n,m}\\equiv\\;\\mathsf{R}_n\\land(X_n=Y_m)\\land\\mathsf{U}_m\\;$ é satisfazível o sistema é inseguro e o algoritmo termina com a mensagem **unsafe**.\n",
    "\n",
    "\n",
    "3. Se $\\;\\mathsf{V}_{n,m}\\equiv\\;\\mathsf{R}_n\\land(X_n=Y_m)\\land \\mathsf{U}_m\\;$ for insatisfazível calcula-se  $\\;{C}\\;$ como  o interpolante do par $\\,(\\mathsf{R}_n\\land(X_n=Y_m)\\,,\\,\\mathsf{U}_m)\\,$.\n",
    "     Neste caso verificam-se as tautologias    $\\mathsf{R}_n \\to C(X_n)\\;$  e $\\;\\mathsf{U}_m\\,\\to\\,\\neg\\, C(Y_m)\\;$.\n",
    "\n",
    "\n",
    "4. Testa-se a condição $\\;\\mathsf{SAT}(C\\land\\mathsf{T}\\land\\neg\\,C')=\\emptyset\\;$  para verificar se  $\\,C\\,$ é um invariante de $\\;\\mathsf{T}\\,$; se for invariante  então, pelo resultado anterior, sabe-se que $\\,\\mathsf{V}_{n',m'}\\;$ é insatisfazível para todo $\\,n'\\ge n\\,$ e $\\,m'\\ge n\\,$. O algoritmo termina com a mensagem **safe**.\n",
    "\n",
    "\n",
    "5. Se $\\,C\\,$ não for invariante de $\\,\\mathsf{T}\\,$ procura-se encontrar um majorante $\\,S \\supseteq C$ que verifique as condições do resultado referido: seja um invariante de $\\,\\mathsf{T}$   disjunto de $\\,\\mathsf{U}_m\\,$.\n",
    "\n",
    "\n",
    "6. Se for possível encontrar tal majorante $\\,S\\,$ então o algoritmo termina com a mensagem **safe**. Se não for possível encontrar o majorante pelo menos um dos índices $\\,n,m\\,$ é incrementado, os valores das fórmulas $\\,\\mathsf{R}_n\\,,\\,\\mathsf{U}_m\\,$ são actualizados e repete-se o processo a partir do passo 2.\n",
    "\n",
    "\n",
    "#### Para encontrar um majorante $S$\n",
    "A parte crítica é o passo 5. Várias estratégias são possíveis (veremos algumas mais tarde). \n",
    "Uma solução possível é um algoritmo iterativo que tenta encontrar um invariante $\\,S\\,$ pelos passos seguintes\n",
    "\n",
    "1. $S\\;$ é inicializado com $\\,C(X_n)$\n",
    "2. Faz-se $\\,A \\equiv S(X_n)\\,\\land\\,\\mathsf{T}(X_n,Y_m)\\,$ e verifica-se se  $\\,A\\land U_m\\;$ é insatisfazível. Se for satisfazível então não é possível encontrar o majorante e esta rotina termina sem sucesso.\n",
    "3. Se $\\,A \\land U_m\\;$ for insatisfazível calcula-se um novo interpolante $\\,C(Y_m)\\,$ deste par $(A,U_m)$.\n",
    "4. Se $\\,C(X_n)\\,\\to\\,S\\;$ for tautologia, o invariante pretendido está encontrado.\n",
    "5. Se $\\,C(X_n)\\,\\to\\,S\\;$ não é tautologia, actualiza-se $\\,S\\,$ com $\\,S \\,\\lor\\, C(X_n)\\,$ e repete-se o processo a partir do passo (1)."
   ]
  },
  {
   "cell_type": "markdown",
   "id": "4fe472c3",
   "metadata": {},
   "source": [
    "Para auxiliar na implementação deste algoritmo, começamos por definir duas funções.\n",
    "A função `rename` renomeia uma fórmula (sobre um estado) de acordo com um dado estado. \n",
    "A função `same` testa se dois estados são iguais."
   ]
  },
  {
   "cell_type": "code",
   "execution_count": 7,
   "id": "6d68a79f",
   "metadata": {},
   "outputs": [],
   "source": [
    "def baseName(s):\n",
    "    return ''.join(list(itertools.takewhile(lambda x: x!='!', s)))\n",
    "\n",
    "def rename(form,state):\n",
    "    vs = get_free_variables(form)\n",
    "    pairs = [ (x,state[baseName(x.symbol_name())]) for x in vs ]\n",
    "    return form.substitute(dict(pairs))\n",
    "\n",
    "def same(state1,state2):\n",
    "    return And([Equals(state1[x],state2[x]) for x in state1])"
   ]
  },
  {
   "cell_type": "markdown",
   "id": "ba497e7f",
   "metadata": {},
   "source": [
    "### Exercício 6\n",
    "\n",
    "Complete a função de ordem superior `model-checking` que dada a lista de nomes das variáveis do sistema, um predicado que testa se um estado é inicial, um predicado que testa se um par de estados é uma transição válida, \n",
    " um  predicado que testa se um estado é de erro, e dois números positivos N e M que são os limites máximos para os indices $n$ e $m$, implemente o algoritmo acima descrito com o auxílio de m SMT solver."
   ]
  },
  {
   "cell_type": "code",
   "execution_count": 14,
   "id": "67ff5eb8",
   "metadata": {},
   "outputs": [
    {
     "name": "stdout",
     "output_type": "stream",
     "text": [
      "[(1, 1), (1, 2), (2, 1), (1, 3), (2, 2), (3, 1), (1, 4), (2, 3), (3, 2), (4, 1), (1, 5), (2, 4), (3, 3), (4, 2), (5, 1), (1, 6), (2, 5), (3, 4), (4, 3), (5, 2), (6, 1), (1, 7), (2, 6), (3, 5), (4, 4), (5, 3), (6, 2), (7, 1), (1, 8), (2, 7), (3, 6), (4, 5), (5, 4), (6, 3), (7, 2), (8, 1), (1, 9), (2, 8), (3, 7), (4, 6), (5, 5), (6, 4), (7, 3), (8, 2), (9, 1), (1, 10), (2, 9), (3, 8), (4, 7), (5, 6), (6, 5), (7, 4), (8, 3), (9, 2), (10, 1), (1, 11), (2, 10), (3, 9), (4, 8), (5, 7), (6, 6), (7, 5), (8, 4), (9, 3), (10, 2), (11, 1), (1, 12), (2, 11), (3, 10), (4, 9), (5, 8), (6, 7), (7, 6), (8, 5), (9, 4), (10, 3), (11, 2), (12, 1), (1, 13), (2, 12), (3, 11), (4, 10), (5, 9), (6, 8), (7, 7), (8, 6), (9, 5), (10, 4), (11, 3), (12, 2), (13, 1), (1, 14), (2, 13), (3, 12), (4, 11), (5, 10), (6, 9), (7, 8), (8, 7), (9, 6), (10, 5), (11, 4), (12, 3), (13, 2), (14, 1), (1, 15), (2, 14), (3, 13), (4, 12), (5, 11), (6, 10), (7, 9), (8, 8), (9, 7), (10, 6), (11, 5), (12, 4), (13, 3), (14, 2), (15, 1), (1, 16), (2, 15), (3, 14), (4, 13), (5, 12), (6, 11), (7, 10), (8, 9), (9, 8), (10, 7), (11, 6), (12, 5), (13, 4), (14, 3), (15, 2), (16, 1), (1, 17), (2, 16), (3, 15), (4, 14), (5, 13), (6, 12), (7, 11), (8, 10), (9, 9), (10, 8), (11, 7), (12, 6), (13, 5), (14, 4), (15, 3), (16, 2), (17, 1), (1, 18), (2, 17), (3, 16), (4, 15), (5, 14), (6, 13), (7, 12), (8, 11), (9, 10), (10, 9), (11, 8), (12, 7), (13, 6), (14, 5), (15, 4), (16, 3), (17, 2), (18, 1), (1, 19), (2, 18), (3, 17), (4, 16), (5, 15), (6, 14), (7, 13), (8, 12), (9, 11), (10, 10), (11, 9), (12, 8), (13, 7), (14, 6), (15, 5), (16, 4), (17, 3), (18, 2), (19, 1), (1, 20), (2, 19), (3, 18), (4, 17), (5, 16), (6, 15), (7, 14), (8, 13), (9, 12), (10, 11), (11, 10), (12, 9), (13, 8), (14, 7), (15, 6), (16, 5), (17, 4), (18, 3), (19, 2), (20, 1), (1, 21), (2, 20), (3, 19), (4, 18), (5, 17), (6, 16), (7, 15), (8, 14), (9, 13), (10, 12), (11, 11), (12, 10), (13, 9), (14, 8), (15, 7), (16, 6), (17, 5), (18, 4), (19, 3), (20, 2), (21, 1), (1, 22), (2, 21), (3, 20), (4, 19), (5, 18), (6, 17), (7, 16), (8, 15), (9, 14), (10, 13), (11, 12), (12, 11), (13, 10), (14, 9), (15, 8), (16, 7), (17, 6), (18, 5), (19, 4), (20, 3), (21, 2), (22, 1), (1, 23), (2, 22), (3, 21), (4, 20), (5, 19), (6, 18), (7, 17), (8, 16), (9, 15), (10, 14), (11, 13), (12, 12), (13, 11), (14, 10), (15, 9), (16, 8), (17, 7), (18, 6), (19, 5), (20, 4), (21, 3), (22, 2), (23, 1), (1, 24), (2, 23), (3, 22), (4, 21), (5, 20), (6, 19), (7, 18), (8, 17), (9, 16), (10, 15), (11, 14), (12, 13), (13, 12), (14, 11), (15, 10), (16, 9), (17, 8), (18, 7), (19, 6), (20, 5), (21, 4), (22, 3), (23, 2), (24, 1), (1, 25), (2, 24), (3, 23), (4, 22), (5, 21), (6, 20), (7, 19), (8, 18), (9, 17), (10, 16), (11, 15), (12, 14), (13, 13), (14, 12), (15, 11), (16, 10), (17, 9), (18, 8), (19, 7), (20, 6), (21, 5), (22, 4), (23, 3), (24, 2), (25, 1), (1, 26), (2, 25), (3, 24), (4, 23), (5, 22), (6, 21), (7, 20), (8, 19), (9, 18), (10, 17), (11, 16), (12, 15), (13, 14), (14, 13), (15, 12), (16, 11), (17, 10), (18, 9), (19, 8), (20, 7), (21, 6), (22, 5), (23, 4), (24, 3), (25, 2), (26, 1), (1, 27), (2, 26), (3, 25), (4, 24), (5, 23), (6, 22), (7, 21), (8, 20), (9, 19), (10, 18), (11, 17), (12, 16), (13, 15), (14, 14), (15, 13), (16, 12), (17, 11), (18, 10), (19, 9), (20, 8), (21, 7), (22, 6), (23, 5), (24, 4), (25, 3), (26, 2), (27, 1), (1, 28), (2, 27), (3, 26), (4, 25), (5, 24), (6, 23), (7, 22), (8, 21), (9, 20), (10, 19), (11, 18), (12, 17), (13, 16), (14, 15), (15, 14), (16, 13), (17, 12), (18, 11), (19, 10), (20, 9), (21, 8), (22, 7), (23, 6), (24, 5), (25, 4), (26, 3), (27, 2), (28, 1), (1, 29), (2, 28), (3, 27), (4, 26), (5, 25), (6, 24), (7, 23), (8, 22), (9, 21), (10, 20), (11, 19), (12, 18), (13, 17), (14, 16), (15, 15), (16, 14), (17, 13), (18, 12), (19, 11), (20, 10), (21, 9), (22, 8), (23, 7), (24, 6), (25, 5), (26, 4), (27, 3), (28, 2), (29, 1), (1, 30), (2, 29), (3, 28), (4, 27), (5, 26), (6, 25), (7, 24), (8, 23), (9, 22), (10, 21), (11, 20), (12, 19), (13, 18), (14, 17), (15, 16), (16, 15), (17, 14), (18, 13), (19, 12), (20, 11), (21, 10), (22, 9), (23, 8), (24, 7), (25, 6), (26, 5), (27, 4), (28, 3), (29, 2), (30, 1), (1, 31), (2, 30), (3, 29), (4, 28), (5, 27), (6, 26), (7, 25), (8, 24), (9, 23), (10, 22), (11, 21), (12, 20), (13, 19), (14, 18), (15, 17), (16, 16), (17, 15), (18, 14), (19, 13), (20, 12), (21, 11), (22, 10), (23, 9), (24, 8), (25, 7), (26, 6), (27, 5), (28, 4), (29, 3), (30, 2), (31, 1), (1, 32), (2, 31), (3, 30), (4, 29), (5, 28), (6, 27), (7, 26), (8, 25), (9, 24), (10, 23), (11, 22), (12, 21), (13, 20), (14, 19), (15, 18), (16, 17), (17, 16), (18, 15), (19, 14), (20, 13), (21, 12), (22, 11), (23, 10), (24, 9), (25, 8), (26, 7), (27, 6), (28, 5), (29, 4), (30, 3), (31, 2), (32, 1), (1, 33), (2, 32), (3, 31), (4, 30), (5, 29), (6, 28), (7, 27), (8, 26), (9, 25), (10, 24), (11, 23), (12, 22), (13, 21), (14, 20), (15, 19), (16, 18), (17, 17), (18, 16), (19, 15), (20, 14), (21, 13), (22, 12), (23, 11), (24, 10), (25, 9), (26, 8), (27, 7), (28, 6), (29, 5), (30, 4), (31, 3), (32, 2), (33, 1), (1, 34), (2, 33), (3, 32), (4, 31), (5, 30), (6, 29), (7, 28), (8, 27), (9, 26), (10, 25), (11, 24), (12, 23), (13, 22), (14, 21), (15, 20), (16, 19), (17, 18), (18, 17), (19, 16), (20, 15), (21, 14), (22, 13), (23, 12), (24, 11), (25, 10), (26, 9), (27, 8), (28, 7), (29, 6), (30, 5), (31, 4), (32, 3), (33, 2), (34, 1), (1, 35), (2, 34), (3, 33), (4, 32), (5, 31), (6, 30), (7, 29), (8, 28), (9, 27), (10, 26), (11, 25), (12, 24), (13, 23), (14, 22), (15, 21), (16, 20), (17, 19), (18, 18), (19, 17), (20, 16), (21, 15), (22, 14), (23, 13), (24, 12), (25, 11), (26, 10), (27, 9), (28, 8), (29, 7), (30, 6), (31, 5), (32, 4), (33, 3), (34, 2), (35, 1), (1, 36), (2, 35), (3, 34), (4, 33), (5, 32), (6, 31), (7, 30), (8, 29), (9, 28), (10, 27), (11, 26), (12, 25), (13, 24), (14, 23), (15, 22), (16, 21), (17, 20), (18, 19), (19, 18), (20, 17), (21, 16), (22, 15), (23, 14), (24, 13), (25, 12), (26, 11), (27, 10), (28, 9), (29, 8), (30, 7), (31, 6), (32, 5), (33, 4), (34, 3), (35, 2), (36, 1), (1, 37), (2, 36), (3, 35), (4, 34), (5, 33), (6, 32), (7, 31), (8, 30), (9, 29), (10, 28), (11, 27), (12, 26), (13, 25), (14, 24), (15, 23), (16, 22), (17, 21), (18, 20), (19, 19), (20, 18), (21, 17), (22, 16), (23, 15), (24, 14), (25, 13), (26, 12), (27, 11), (28, 10), (29, 9), (30, 8), (31, 7), (32, 6), (33, 5), (34, 4), (35, 3), (36, 2), (37, 1), (1, 38), (2, 37), (3, 36), (4, 35), (5, 34), (6, 33), (7, 32), (8, 31), (9, 30), (10, 29), (11, 28), (12, 27), (13, 26), (14, 25), (15, 24), (16, 23), (17, 22), (18, 21), (19, 20), (20, 19), (21, 18), (22, 17), (23, 16), (24, 15), (25, 14), (26, 13), (27, 12), (28, 11), (29, 10), (30, 9), (31, 8), (32, 7), (33, 6), (34, 5), (35, 4), (36, 3), (37, 2), (38, 1), (1, 39), (2, 38), (3, 37), (4, 36), (5, 35), (6, 34), (7, 33), (8, 32), (9, 31), (10, 30), (11, 29), (12, 28), (13, 27), (14, 26), (15, 25), (16, 24), (17, 23), (18, 22), (19, 21), (20, 20), (21, 19), (22, 18), (23, 17), (24, 16), (25, 15), (26, 14), (27, 13), (28, 12), (29, 11), (30, 10), (31, 9), (32, 8), (33, 7), (34, 6), (35, 5), (36, 4), (37, 3), (38, 2), (39, 1), (1, 40), (2, 39), (3, 38), (4, 37), (5, 36), (6, 35), (7, 34), (8, 33), (9, 32), (10, 31), (11, 30), (12, 29), (13, 28), (14, 27), (15, 26), (16, 25), (17, 24), (18, 23), (19, 22), (20, 21), (21, 20), (22, 19), (23, 18), (24, 17), (25, 16), (26, 15), (27, 14), (28, 13), (29, 12), (30, 11), (31, 10), (32, 9), (33, 8), (34, 7), (35, 6), (36, 5), (37, 4), (38, 3), (39, 2), (40, 1), (1, 41), (2, 40), (3, 39), (4, 38), (5, 37), (6, 36), (7, 35), (8, 34), (9, 33), (10, 32), (11, 31), (12, 30), (13, 29), (14, 28), (15, 27), (16, 26), (17, 25), (18, 24), (19, 23), (20, 22), (21, 21), (22, 20), (23, 19), (24, 18), (25, 17), (26, 16), (27, 15), (28, 14), (29, 13), (30, 12), (31, 11), (32, 10), (33, 9), (34, 8), (35, 7), (36, 6), (37, 5), (38, 4), (39, 3), (40, 2), (41, 1), (1, 42), (2, 41), (3, 40), (4, 39), (5, 38), (6, 37), (7, 36), (8, 35), (9, 34), (10, 33), (11, 32), (12, 31), (13, 30), (14, 29), (15, 28), (16, 27), (17, 26), (18, 25), (19, 24), (20, 23), (21, 22), (22, 21), (23, 20), (24, 19), (25, 18), (26, 17), (27, 16), (28, 15), (29, 14), (30, 13), (31, 12), (32, 11), (33, 10), (34, 9), (35, 8), (36, 7), (37, 6), (38, 5), (39, 4), (40, 3), (41, 2), (42, 1), (1, 43), (2, 42), (3, 41), (4, 40), (5, 39), (6, 38), (7, 37), (8, 36), (9, 35), (10, 34), (11, 33), (12, 32), (13, 31), (14, 30), (15, 29), (16, 28), (17, 27), (18, 26), (19, 25), (20, 24), (21, 23), (22, 22), (23, 21), (24, 20), (25, 19), (26, 18), (27, 17), (28, 16), (29, 15), (30, 14), (31, 13), (32, 12), (33, 11), (34, 10), (35, 9), (36, 8), (37, 7), (38, 6), (39, 5), (40, 4), (41, 3), (42, 2), (43, 1), (1, 44), (2, 43), (3, 42), (4, 41), (5, 40), (6, 39), (7, 38), (8, 37), (9, 36), (10, 35), (11, 34), (12, 33), (13, 32), (14, 31), (15, 30), (16, 29), (17, 28), (18, 27), (19, 26), (20, 25), (21, 24), (22, 23), (23, 22), (24, 21), (25, 20), (26, 19), (27, 18), (28, 17), (29, 16), (30, 15), (31, 14), (32, 13), (33, 12), (34, 11), (35, 10), (36, 9), (37, 8), (38, 7), (39, 6), (40, 5), (41, 4), (42, 3), (43, 2), (44, 1), (1, 45), (2, 44), (3, 43), (4, 42), (5, 41), (6, 40), (7, 39), (8, 38), (9, 37), (10, 36), (11, 35), (12, 34), (13, 33), (14, 32), (15, 31), (16, 30), (17, 29), (18, 28), (19, 27), (20, 26), (21, 25), (22, 24), (23, 23), (24, 22), (25, 21), (26, 20), (27, 19), (28, 18), (29, 17), (30, 16), (31, 15), (32, 14), (33, 13), (34, 12), (35, 11), (36, 10), (37, 9), (38, 8), (39, 7), (40, 6), (41, 5), (42, 4), (43, 3), (44, 2), (45, 1), (1, 46), (2, 45), (3, 44), (4, 43), (5, 42), (6, 41), (7, 40), (8, 39), (9, 38), (10, 37), (11, 36), (12, 35), (13, 34), (14, 33), (15, 32), (16, 31), (17, 30), (18, 29), (19, 28), (20, 27), (21, 26), (22, 25), (23, 24), (24, 23), (25, 22), (26, 21), (27, 20), (28, 19), (29, 18), (30, 17), (31, 16), (32, 15), (33, 14), (34, 13), (35, 12), (36, 11), (37, 10), (38, 9), (39, 8), (40, 7), (41, 6), (42, 5), (43, 4), (44, 3), (45, 2), (46, 1), (1, 47), (2, 46), (3, 45), (4, 44), (5, 43), (6, 42), (7, 41), (8, 40), (9, 39), (10, 38), (11, 37), (12, 36), (13, 35), (14, 34), (15, 33), (16, 32), (17, 31), (18, 30), (19, 29), (20, 28), (21, 27), (22, 26), (23, 25), (24, 24), (25, 23), (26, 22), (27, 21), (28, 20), (29, 19), (30, 18), (31, 17), (32, 16), (33, 15), (34, 14), (35, 13), (36, 12), (37, 11), (38, 10), (39, 9), (40, 8), (41, 7), (42, 6), (43, 5), (44, 4), (45, 3), (46, 2), (47, 1), (1, 48), (2, 47), (3, 46), (4, 45), (5, 44), (6, 43), (7, 42), (8, 41), (9, 40), (10, 39), (11, 38), (12, 37), (13, 36), (14, 35), (15, 34), (16, 33), (17, 32), (18, 31), (19, 30), (20, 29), (21, 28), (22, 27), (23, 26), (24, 25), (25, 24), (26, 23), (27, 22), (28, 21), (29, 20), (30, 19), (31, 18), (32, 17), (33, 16), (34, 15), (35, 14), (36, 13), (37, 12), (38, 11), (39, 10), (40, 9), (41, 8), (42, 7), (43, 6), (44, 5), (45, 4), (46, 3), (47, 2), (48, 1), (1, 49), (2, 48), (3, 47), (4, 46), (5, 45), (6, 44), (7, 43), (8, 42), (9, 41), (10, 40), (11, 39), (12, 38), (13, 37), (14, 36), (15, 35), (16, 34), (17, 33), (18, 32), (19, 31), (20, 30), (21, 29), (22, 28), (23, 27), (24, 26), (25, 25), (26, 24), (27, 23), (28, 22), (29, 21), (30, 20), (31, 19), (32, 18), (33, 17), (34, 16), (35, 15), (36, 14), (37, 13), (38, 12), (39, 11), (40, 10), (41, 9), (42, 8), (43, 7), (44, 6), (45, 5), (46, 4), (47, 3), (48, 2), (49, 1), (1, 50), (2, 49), (3, 48), (4, 47), (5, 46), (6, 45), (7, 44), (8, 43), (9, 42), (10, 41), (11, 40), (12, 39), (13, 38), (14, 37), (15, 36), (16, 35), (17, 34), (18, 33), (19, 32), (20, 31), (21, 30), (22, 29), (23, 28), (24, 27), (25, 26), (26, 25), (27, 24), (28, 23), (29, 22), (30, 21), (31, 20), (32, 19), (33, 18), (34, 17), (35, 16), (36, 15), (37, 14), (38, 13), (39, 12), (40, 11), (41, 10), (42, 9), (43, 8), (44, 7), (45, 6), (46, 5), (47, 4), (48, 3), (49, 2), (50, 1), (2, 50), (3, 49), (4, 48), (5, 47), (6, 46), (7, 45), (8, 44), (9, 43), (10, 42), (11, 41), (12, 40), (13, 39), (14, 38), (15, 37), (16, 36), (17, 35), (18, 34), (19, 33), (20, 32), (21, 31), (22, 30), (23, 29), (24, 28), (25, 27), (26, 26), (27, 25), (28, 24), (29, 23), (30, 22), (31, 21), (32, 20), (33, 19), (34, 18), (35, 17), (36, 16), (37, 15), (38, 14), (39, 13), (40, 12), (41, 11), (42, 10), (43, 9), (44, 8), (45, 7), (46, 6), (47, 5), (48, 4), (49, 3), (50, 2), (3, 50), (4, 49), (5, 48), (6, 47), (7, 46), (8, 45), (9, 44), (10, 43), (11, 42), (12, 41), (13, 40), (14, 39), (15, 38), (16, 37), (17, 36), (18, 35), (19, 34), (20, 33), (21, 32), (22, 31), (23, 30), (24, 29), (25, 28), (26, 27), (27, 26), (28, 25), (29, 24), (30, 23), (31, 22), (32, 21), (33, 20), (34, 19), (35, 18), (36, 17), (37, 16), (38, 15), (39, 14), (40, 13), (41, 12), (42, 11), (43, 10), (44, 9), (45, 8), (46, 7), (47, 6), (48, 5), (49, 4), (50, 3), (4, 50), (5, 49), (6, 48), (7, 47), (8, 46), (9, 45), (10, 44), (11, 43), (12, 42), (13, 41), (14, 40), (15, 39), (16, 38), (17, 37), (18, 36), (19, 35), (20, 34), (21, 33), (22, 32), (23, 31), (24, 30), (25, 29), (26, 28), (27, 27), (28, 26), (29, 25), (30, 24), (31, 23), (32, 22), (33, 21), (34, 20), (35, 19), (36, 18), (37, 17), (38, 16), (39, 15), (40, 14), (41, 13), (42, 12), (43, 11), (44, 10), (45, 9), (46, 8), (47, 7), (48, 6), (49, 5), (50, 4), (5, 50), (6, 49), (7, 48), (8, 47), (9, 46), (10, 45), (11, 44), (12, 43), (13, 42), (14, 41), (15, 40), (16, 39), (17, 38), (18, 37), (19, 36), (20, 35), (21, 34), (22, 33), (23, 32), (24, 31), (25, 30), (26, 29), (27, 28), (28, 27), (29, 26), (30, 25), (31, 24), (32, 23), (33, 22), (34, 21), (35, 20), (36, 19), (37, 18), (38, 17), (39, 16), (40, 15), (41, 14), (42, 13), (43, 12), (44, 11), (45, 10), (46, 9), (47, 8), (48, 7), (49, 6), (50, 5), (6, 50), (7, 49), (8, 48), (9, 47), (10, 46), (11, 45), (12, 44), (13, 43), (14, 42), (15, 41), (16, 40), (17, 39), (18, 38), (19, 37), (20, 36), (21, 35), (22, 34), (23, 33), (24, 32), (25, 31), (26, 30), (27, 29), (28, 28), (29, 27), (30, 26), (31, 25), (32, 24), (33, 23), (34, 22), (35, 21), (36, 20), (37, 19), (38, 18), (39, 17), (40, 16), (41, 15), (42, 14), (43, 13), (44, 12), (45, 11), (46, 10), (47, 9), (48, 8), (49, 7), (50, 6), (7, 50), (8, 49), (9, 48), (10, 47), (11, 46), (12, 45), (13, 44), (14, 43), (15, 42), (16, 41), (17, 40), (18, 39), (19, 38), (20, 37), (21, 36), (22, 35), (23, 34), (24, 33), (25, 32), (26, 31), (27, 30), (28, 29), (29, 28), (30, 27), (31, 26), (32, 25), (33, 24), (34, 23), (35, 22), (36, 21), (37, 20), (38, 19), (39, 18), (40, 17), (41, 16), (42, 15), (43, 14), (44, 13), (45, 12), (46, 11), (47, 10), (48, 9), (49, 8), (50, 7), (8, 50), (9, 49), (10, 48), (11, 47), (12, 46), (13, 45), (14, 44), (15, 43), (16, 42), (17, 41), (18, 40), (19, 39), (20, 38), (21, 37), (22, 36), (23, 35), (24, 34), (25, 33), (26, 32), (27, 31), (28, 30), (29, 29), (30, 28), (31, 27), (32, 26), (33, 25), (34, 24), (35, 23), (36, 22), (37, 21), (38, 20), (39, 19), (40, 18), (41, 17), (42, 16), (43, 15), (44, 14), (45, 13), (46, 12), (47, 11), (48, 10), (49, 9), (50, 8), (9, 50), (10, 49), (11, 48), (12, 47), (13, 46), (14, 45), (15, 44), (16, 43), (17, 42), (18, 41), (19, 40), (20, 39), (21, 38), (22, 37), (23, 36), (24, 35), (25, 34), (26, 33), (27, 32), (28, 31), (29, 30), (30, 29), (31, 28), (32, 27), (33, 26), (34, 25), (35, 24), (36, 23), (37, 22), (38, 21), (39, 20), (40, 19), (41, 18), (42, 17), (43, 16), (44, 15), (45, 14), (46, 13), (47, 12), (48, 11), (49, 10), (50, 9), (10, 50), (11, 49), (12, 48), (13, 47), (14, 46), (15, 45), (16, 44), (17, 43), (18, 42), (19, 41), (20, 40), (21, 39), (22, 38), (23, 37), (24, 36), (25, 35), (26, 34), (27, 33), (28, 32), (29, 31), (30, 30), (31, 29), (32, 28), (33, 27), (34, 26), (35, 25), (36, 24), (37, 23), (38, 22), (39, 21), (40, 20), (41, 19), (42, 18), (43, 17), (44, 16), (45, 15), (46, 14), (47, 13), (48, 12), (49, 11), (50, 10), (11, 50), (12, 49), (13, 48), (14, 47), (15, 46), (16, 45), (17, 44), (18, 43), (19, 42), (20, 41), (21, 40), (22, 39), (23, 38), (24, 37), (25, 36), (26, 35), (27, 34), (28, 33), (29, 32), (30, 31), (31, 30), (32, 29), (33, 28), (34, 27), (35, 26), (36, 25), (37, 24), (38, 23), (39, 22), (40, 21), (41, 20), (42, 19), (43, 18), (44, 17), (45, 16), (46, 15), (47, 14), (48, 13), (49, 12), (50, 11), (12, 50), (13, 49), (14, 48), (15, 47), (16, 46), (17, 45), (18, 44), (19, 43), (20, 42), (21, 41), (22, 40), (23, 39), (24, 38), (25, 37), (26, 36), (27, 35), (28, 34), (29, 33), (30, 32), (31, 31), (32, 30), (33, 29), (34, 28), (35, 27), (36, 26), (37, 25), (38, 24), (39, 23), (40, 22), (41, 21), (42, 20), (43, 19), (44, 18), (45, 17), (46, 16), (47, 15), (48, 14), (49, 13), (50, 12), (13, 50), (14, 49), (15, 48), (16, 47), (17, 46), (18, 45), (19, 44), (20, 43), (21, 42), (22, 41), (23, 40), (24, 39), (25, 38), (26, 37), (27, 36), (28, 35), (29, 34), (30, 33), (31, 32), (32, 31), (33, 30), (34, 29), (35, 28), (36, 27), (37, 26), (38, 25), (39, 24), (40, 23), (41, 22), (42, 21), (43, 20), (44, 19), (45, 18), (46, 17), (47, 16), (48, 15), (49, 14), (50, 13), (14, 50), (15, 49), (16, 48), (17, 47), (18, 46), (19, 45), (20, 44), (21, 43), (22, 42), (23, 41), (24, 40), (25, 39), (26, 38), (27, 37), (28, 36), (29, 35), (30, 34), (31, 33), (32, 32), (33, 31), (34, 30), (35, 29), (36, 28), (37, 27), (38, 26), (39, 25), (40, 24), (41, 23), (42, 22), (43, 21), (44, 20), (45, 19), (46, 18), (47, 17), (48, 16), (49, 15), (50, 14), (15, 50), (16, 49), (17, 48), (18, 47), (19, 46), (20, 45), (21, 44), (22, 43), (23, 42), (24, 41), (25, 40), (26, 39), (27, 38), (28, 37), (29, 36), (30, 35), (31, 34), (32, 33), (33, 32), (34, 31), (35, 30), (36, 29), (37, 28), (38, 27), (39, 26), (40, 25), (41, 24), (42, 23), (43, 22), (44, 21), (45, 20), (46, 19), (47, 18), (48, 17), (49, 16), (50, 15), (16, 50), (17, 49), (18, 48), (19, 47), (20, 46), (21, 45), (22, 44), (23, 43), (24, 42), (25, 41), (26, 40), (27, 39), (28, 38), (29, 37), (30, 36), (31, 35), (32, 34), (33, 33), (34, 32), (35, 31), (36, 30), (37, 29), (38, 28), (39, 27), (40, 26), (41, 25), (42, 24), (43, 23), (44, 22), (45, 21), (46, 20), (47, 19), (48, 18), (49, 17), (50, 16), (17, 50), (18, 49), (19, 48), (20, 47), (21, 46), (22, 45), (23, 44), (24, 43), (25, 42), (26, 41), (27, 40), (28, 39), (29, 38), (30, 37), (31, 36), (32, 35), (33, 34), (34, 33), (35, 32), (36, 31), (37, 30), (38, 29), (39, 28), (40, 27), (41, 26), (42, 25), (43, 24), (44, 23), (45, 22), (46, 21), (47, 20), (48, 19), (49, 18), (50, 17), (18, 50), (19, 49), (20, 48), (21, 47), (22, 46), (23, 45), (24, 44), (25, 43), (26, 42), (27, 41), (28, 40), (29, 39), (30, 38), (31, 37), (32, 36), (33, 35), (34, 34), (35, 33), (36, 32), (37, 31), (38, 30), (39, 29), (40, 28), (41, 27), (42, 26), (43, 25), (44, 24), (45, 23), (46, 22), (47, 21), (48, 20), (49, 19), (50, 18), (19, 50), (20, 49), (21, 48), (22, 47), (23, 46), (24, 45), (25, 44), (26, 43), (27, 42), (28, 41), (29, 40), (30, 39), (31, 38), (32, 37), (33, 36), (34, 35), (35, 34), (36, 33), (37, 32), (38, 31), (39, 30), (40, 29), (41, 28), (42, 27), (43, 26), (44, 25), (45, 24), (46, 23), (47, 22), (48, 21), (49, 20), (50, 19), (20, 50), (21, 49), (22, 48), (23, 47), (24, 46), (25, 45), (26, 44), (27, 43), (28, 42), (29, 41), (30, 40), (31, 39), (32, 38), (33, 37), (34, 36), (35, 35), (36, 34), (37, 33), (38, 32), (39, 31), (40, 30), (41, 29), (42, 28), (43, 27), (44, 26), (45, 25), (46, 24), (47, 23), (48, 22), (49, 21), (50, 20), (21, 50), (22, 49), (23, 48), (24, 47), (25, 46), (26, 45), (27, 44), (28, 43), (29, 42), (30, 41), (31, 40), (32, 39), (33, 38), (34, 37), (35, 36), (36, 35), (37, 34), (38, 33), (39, 32), (40, 31), (41, 30), (42, 29), (43, 28), (44, 27), (45, 26), (46, 25), (47, 24), (48, 23), (49, 22), (50, 21), (22, 50), (23, 49), (24, 48), (25, 47), (26, 46), (27, 45), (28, 44), (29, 43), (30, 42), (31, 41), (32, 40), (33, 39), (34, 38), (35, 37), (36, 36), (37, 35), (38, 34), (39, 33), (40, 32), (41, 31), (42, 30), (43, 29), (44, 28), (45, 27), (46, 26), (47, 25), (48, 24), (49, 23), (50, 22), (23, 50), (24, 49), (25, 48), (26, 47), (27, 46), (28, 45), (29, 44), (30, 43), (31, 42), (32, 41), (33, 40), (34, 39), (35, 38), (36, 37), (37, 36), (38, 35), (39, 34), (40, 33), (41, 32), (42, 31), (43, 30), (44, 29), (45, 28), (46, 27), (47, 26), (48, 25), (49, 24), (50, 23), (24, 50), (25, 49), (26, 48), (27, 47), (28, 46), (29, 45), (30, 44), (31, 43), (32, 42), (33, 41), (34, 40), (35, 39), (36, 38), (37, 37), (38, 36), (39, 35), (40, 34), (41, 33), (42, 32), (43, 31), (44, 30), (45, 29), (46, 28), (47, 27), (48, 26), (49, 25), (50, 24), (25, 50), (26, 49), (27, 48), (28, 47), (29, 46), (30, 45), (31, 44), (32, 43), (33, 42), (34, 41), (35, 40), (36, 39), (37, 38), (38, 37), (39, 36), (40, 35), (41, 34), (42, 33), (43, 32), (44, 31), (45, 30), (46, 29), (47, 28), (48, 27), (49, 26), (50, 25), (26, 50), (27, 49), (28, 48), (29, 47), (30, 46), (31, 45), (32, 44), (33, 43), (34, 42), (35, 41), (36, 40), (37, 39), (38, 38), (39, 37), (40, 36), (41, 35), (42, 34), (43, 33), (44, 32), (45, 31), (46, 30), (47, 29), (48, 28), (49, 27), (50, 26), (27, 50), (28, 49), (29, 48), (30, 47), (31, 46), (32, 45), (33, 44), (34, 43), (35, 42), (36, 41), (37, 40), (38, 39), (39, 38), (40, 37), (41, 36), (42, 35), (43, 34), (44, 33), (45, 32), (46, 31), (47, 30), (48, 29), (49, 28), (50, 27), (28, 50), (29, 49), (30, 48), (31, 47), (32, 46), (33, 45), (34, 44), (35, 43), (36, 42), (37, 41), (38, 40), (39, 39), (40, 38), (41, 37), (42, 36), (43, 35), (44, 34), (45, 33), (46, 32), (47, 31), (48, 30), (49, 29), (50, 28), (29, 50), (30, 49), (31, 48), (32, 47), (33, 46), (34, 45), (35, 44), (36, 43), (37, 42), (38, 41), (39, 40), (40, 39), (41, 38), (42, 37), (43, 36), (44, 35), (45, 34), (46, 33), (47, 32), (48, 31), (49, 30), (50, 29), (30, 50), (31, 49), (32, 48), (33, 47), (34, 46), (35, 45), (36, 44), (37, 43), (38, 42), (39, 41), (40, 40), (41, 39), (42, 38), (43, 37), (44, 36), (45, 35), (46, 34), (47, 33), (48, 32), (49, 31), (50, 30), (31, 50), (32, 49), (33, 48), (34, 47), (35, 46), (36, 45), (37, 44), (38, 43), (39, 42), (40, 41), (41, 40), (42, 39), (43, 38), (44, 37), (45, 36), (46, 35), (47, 34), (48, 33), (49, 32), (50, 31), (32, 50), (33, 49), (34, 48), (35, 47), (36, 46), (37, 45), (38, 44), (39, 43), (40, 42), (41, 41), (42, 40), (43, 39), (44, 38), (45, 37), (46, 36), (47, 35), (48, 34), (49, 33), (50, 32), (33, 50), (34, 49), (35, 48), (36, 47), (37, 46), (38, 45), (39, 44), (40, 43), (41, 42), (42, 41), (43, 40), (44, 39), (45, 38), (46, 37), (47, 36), (48, 35), (49, 34), (50, 33), (34, 50), (35, 49), (36, 48), (37, 47), (38, 46), (39, 45), (40, 44), (41, 43), (42, 42), (43, 41), (44, 40), (45, 39), (46, 38), (47, 37), (48, 36), (49, 35), (50, 34), (35, 50), (36, 49), (37, 48), (38, 47), (39, 46), (40, 45), (41, 44), (42, 43), (43, 42), (44, 41), (45, 40), (46, 39), (47, 38), (48, 37), (49, 36), (50, 35), (36, 50), (37, 49), (38, 48), (39, 47), (40, 46), (41, 45), (42, 44), (43, 43), (44, 42), (45, 41), (46, 40), (47, 39), (48, 38), (49, 37), (50, 36), (37, 50), (38, 49), (39, 48), (40, 47), (41, 46), (42, 45), (43, 44), (44, 43), (45, 42), (46, 41), (47, 40), (48, 39), (49, 38), (50, 37), (38, 50), (39, 49), (40, 48), (41, 47), (42, 46), (43, 45), (44, 44), (45, 43), (46, 42), (47, 41), (48, 40), (49, 39), (50, 38), (39, 50), (40, 49), (41, 48), (42, 47), (43, 46), (44, 45), (45, 44), (46, 43), (47, 42), (48, 41), (49, 40), (50, 39), (40, 50), (41, 49), (42, 48), (43, 47), (44, 46), (45, 45), (46, 44), (47, 43), (48, 42), (49, 41), (50, 40), (41, 50), (42, 49), (43, 48), (44, 47), (45, 46), (46, 45), (47, 44), (48, 43), (49, 42), (50, 41), (42, 50), (43, 49), (44, 48), (45, 47), (46, 46), (47, 45), (48, 44), (49, 43), (50, 42), (43, 50), (44, 49), (45, 48), (46, 47), (47, 46), (48, 45), (49, 44), (50, 43), (44, 50), (45, 49), (46, 48), (47, 47), (48, 46), (49, 45), (50, 44), (45, 50), (46, 49), (47, 48), (48, 47), (49, 46), (50, 45), (46, 50), (47, 49), (48, 48), (49, 47), (50, 46), (47, 50), (48, 49), (49, 48), (50, 47), (48, 50), (49, 49), (50, 48), (49, 50), (50, 49), (50, 50)]\n"
     ]
    },
    {
     "ename": "NoSolverAvailableError",
     "evalue": "No Interpolator is available",
     "output_type": "error",
     "traceback": [
      "\u001b[0;31m---------------------------------------------------------------------------\u001b[0m",
      "\u001b[0;31mNoSolverAvailableError\u001b[0m                    Traceback (most recent call last)",
      "Input \u001b[0;32mIn [14]\u001b[0m, in \u001b[0;36m<cell line: 57>\u001b[0;34m()\u001b[0m\n\u001b[1;32m     53\u001b[0m                                 \u001b[38;5;28;01mreturn\u001b[39;00m\n\u001b[1;32m     55\u001b[0m \u001b[38;5;66;03m#####\u001b[39;00m\n\u001b[0;32m---> 57\u001b[0m \u001b[43mmodel_checking\u001b[49m\u001b[43m(\u001b[49m\u001b[43m[\u001b[49m\u001b[38;5;124;43m'\u001b[39;49m\u001b[38;5;124;43mx\u001b[39;49m\u001b[38;5;124;43m'\u001b[39;49m\u001b[43m,\u001b[49m\u001b[38;5;124;43m'\u001b[39;49m\u001b[38;5;124;43mpc\u001b[39;49m\u001b[38;5;124;43m'\u001b[39;49m\u001b[43m]\u001b[49m\u001b[43m,\u001b[49m\u001b[43m \u001b[49m\u001b[43minit1\u001b[49m\u001b[43m,\u001b[49m\u001b[43m \u001b[49m\u001b[43mtrans1\u001b[49m\u001b[43m,\u001b[49m\u001b[43m \u001b[49m\u001b[43merror1\u001b[49m\u001b[43m,\u001b[49m\u001b[43m \u001b[49m\u001b[38;5;241;43m50\u001b[39;49m\u001b[43m,\u001b[49m\u001b[43m \u001b[49m\u001b[38;5;241;43m50\u001b[39;49m\u001b[43m)\u001b[49m\n",
      "Input \u001b[0;32mIn [14]\u001b[0m, in \u001b[0;36mmodel_checking\u001b[0;34m(vars, init, trans, error, N, M)\u001b[0m\n\u001b[1;32m     26\u001b[0m     \u001b[38;5;28;01mreturn\u001b[39;00m\n\u001b[1;32m     27\u001b[0m \u001b[38;5;28;01melse\u001b[39;00m:\n\u001b[0;32m---> 28\u001b[0m     C \u001b[38;5;241m=\u001b[39m \u001b[43mbinary_interpolant\u001b[49m\u001b[43m(\u001b[49m\u001b[43mAnd\u001b[49m\u001b[43m(\u001b[49m\u001b[43mRn\u001b[49m\u001b[43m,\u001b[49m\u001b[43msame\u001b[49m\u001b[43m(\u001b[49m\u001b[43mX\u001b[49m\u001b[43m[\u001b[49m\u001b[43mn\u001b[49m\u001b[43m]\u001b[49m\u001b[43m,\u001b[49m\u001b[43mY\u001b[49m\u001b[43m[\u001b[49m\u001b[43mm\u001b[49m\u001b[43m]\u001b[49m\u001b[43m)\u001b[49m\u001b[43m)\u001b[49m\u001b[43m,\u001b[49m\u001b[43mUm\u001b[49m\u001b[43m)\u001b[49m\n\u001b[1;32m     29\u001b[0m     \u001b[38;5;28;01mif\u001b[39;00m C \u001b[38;5;129;01mis\u001b[39;00m \u001b[38;5;28;01mNone\u001b[39;00m:\n\u001b[1;32m     30\u001b[0m         \u001b[38;5;28mprint\u001b[39m(\u001b[38;5;124m\"\u001b[39m\u001b[38;5;124minterpolante none\u001b[39m\u001b[38;5;124m\"\u001b[39m)\n",
      "File \u001b[0;32m~/anaconda3/envs/logica/lib/python3.10/site-packages/pysmt/shortcuts.py:1153\u001b[0m, in \u001b[0;36mbinary_interpolant\u001b[0;34m(formula_a, formula_b, solver_name, logic)\u001b[0m\n\u001b[1;32m   1149\u001b[0m         warnings\u001b[38;5;241m.\u001b[39mwarn(\u001b[38;5;124m\"\u001b[39m\u001b[38;5;124mWarning: Contextualizing formula during \u001b[39m\u001b[38;5;124m\"\u001b[39m\n\u001b[1;32m   1150\u001b[0m                       \u001b[38;5;124m\"\u001b[39m\u001b[38;5;124mbinary_interpolant\u001b[39m\u001b[38;5;124m\"\u001b[39m)\n\u001b[1;32m   1151\u001b[0m         formulas[i] \u001b[38;5;241m=\u001b[39m env\u001b[38;5;241m.\u001b[39mformula_manager\u001b[38;5;241m.\u001b[39mnormalize(f)\n\u001b[0;32m-> 1153\u001b[0m \u001b[38;5;28;01mreturn\u001b[39;00m \u001b[43menv\u001b[49m\u001b[38;5;241;43m.\u001b[39;49m\u001b[43mfactory\u001b[49m\u001b[38;5;241;43m.\u001b[39;49m\u001b[43mbinary_interpolant\u001b[49m\u001b[43m(\u001b[49m\u001b[43mformulas\u001b[49m\u001b[43m[\u001b[49m\u001b[38;5;241;43m0\u001b[39;49m\u001b[43m]\u001b[49m\u001b[43m,\u001b[49m\u001b[43m \u001b[49m\u001b[43mformulas\u001b[49m\u001b[43m[\u001b[49m\u001b[38;5;241;43m1\u001b[39;49m\u001b[43m]\u001b[49m\u001b[43m,\u001b[49m\n\u001b[1;32m   1154\u001b[0m \u001b[43m                                      \u001b[49m\u001b[43msolver_name\u001b[49m\u001b[38;5;241;43m=\u001b[39;49m\u001b[43msolver_name\u001b[49m\u001b[43m,\u001b[49m\n\u001b[1;32m   1155\u001b[0m \u001b[43m                                      \u001b[49m\u001b[43mlogic\u001b[49m\u001b[38;5;241;43m=\u001b[39;49m\u001b[43mlogic\u001b[49m\u001b[43m)\u001b[49m\n",
      "File \u001b[0;32m~/anaconda3/envs/logica/lib/python3.10/site-packages/pysmt/factory.py:562\u001b[0m, in \u001b[0;36mFactory.binary_interpolant\u001b[0;34m(self, formula_a, formula_b, solver_name, logic)\u001b[0m\n\u001b[1;32m    559\u001b[0m     _And \u001b[38;5;241m=\u001b[39m \u001b[38;5;28mself\u001b[39m\u001b[38;5;241m.\u001b[39menvironment\u001b[38;5;241m.\u001b[39mformula_manager\u001b[38;5;241m.\u001b[39mAnd\n\u001b[1;32m    560\u001b[0m     logic \u001b[38;5;241m=\u001b[39m get_logic(_And(formula_a, formula_b))\n\u001b[0;32m--> 562\u001b[0m \u001b[38;5;28;01mwith\u001b[39;00m \u001b[38;5;28;43mself\u001b[39;49m\u001b[38;5;241;43m.\u001b[39;49m\u001b[43mInterpolator\u001b[49m\u001b[43m(\u001b[49m\u001b[43mname\u001b[49m\u001b[38;5;241;43m=\u001b[39;49m\u001b[43msolver_name\u001b[49m\u001b[43m,\u001b[49m\u001b[43m \u001b[49m\u001b[43mlogic\u001b[49m\u001b[38;5;241;43m=\u001b[39;49m\u001b[43mlogic\u001b[49m\u001b[43m)\u001b[49m \u001b[38;5;28;01mas\u001b[39;00m itp:\n\u001b[1;32m    563\u001b[0m     \u001b[38;5;28;01mreturn\u001b[39;00m itp\u001b[38;5;241m.\u001b[39mbinary_interpolant(formula_a, formula_b)\n",
      "File \u001b[0;32m~/anaconda3/envs/logica/lib/python3.10/site-packages/pysmt/factory.py:452\u001b[0m, in \u001b[0;36mFactory.Interpolator\u001b[0;34m(self, name, logic)\u001b[0m\n\u001b[1;32m    451\u001b[0m \u001b[38;5;28;01mdef\u001b[39;00m \u001b[38;5;21mInterpolator\u001b[39m(\u001b[38;5;28mself\u001b[39m, name\u001b[38;5;241m=\u001b[39m\u001b[38;5;28;01mNone\u001b[39;00m, logic\u001b[38;5;241m=\u001b[39m\u001b[38;5;28;01mNone\u001b[39;00m):\n\u001b[0;32m--> 452\u001b[0m     \u001b[38;5;28;01mreturn\u001b[39;00m \u001b[38;5;28;43mself\u001b[39;49m\u001b[38;5;241;43m.\u001b[39;49m\u001b[43mget_interpolator\u001b[49m\u001b[43m(\u001b[49m\u001b[43mname\u001b[49m\u001b[38;5;241;43m=\u001b[39;49m\u001b[43mname\u001b[49m\u001b[43m,\u001b[49m\u001b[43m \u001b[49m\u001b[43mlogic\u001b[49m\u001b[38;5;241;43m=\u001b[39;49m\u001b[43mlogic\u001b[49m\u001b[43m)\u001b[49m\n",
      "File \u001b[0;32m~/anaconda3/envs/logica/lib/python3.10/site-packages/pysmt/factory.py:132\u001b[0m, in \u001b[0;36mFactory.get_interpolator\u001b[0;34m(self, name, logic)\u001b[0m\n\u001b[1;32m    130\u001b[0m \u001b[38;5;28;01mdef\u001b[39;00m \u001b[38;5;21mget_interpolator\u001b[39m(\u001b[38;5;28mself\u001b[39m, name\u001b[38;5;241m=\u001b[39m\u001b[38;5;28;01mNone\u001b[39;00m, logic\u001b[38;5;241m=\u001b[39m\u001b[38;5;28;01mNone\u001b[39;00m):\n\u001b[1;32m    131\u001b[0m     SolverClass, closer_logic \u001b[38;5;241m=\u001b[39m \\\n\u001b[0;32m--> 132\u001b[0m        \u001b[38;5;28;43mself\u001b[39;49m\u001b[38;5;241;43m.\u001b[39;49m\u001b[43m_get_solver_class\u001b[49m\u001b[43m(\u001b[49m\u001b[43msolver_list\u001b[49m\u001b[38;5;241;43m=\u001b[39;49m\u001b[38;5;28;43mself\u001b[39;49m\u001b[38;5;241;43m.\u001b[39;49m\u001b[43m_all_interpolators\u001b[49m\u001b[43m,\u001b[49m\n\u001b[1;32m    133\u001b[0m \u001b[43m                              \u001b[49m\u001b[43msolver_type\u001b[49m\u001b[38;5;241;43m=\u001b[39;49m\u001b[38;5;124;43m\"\u001b[39;49m\u001b[38;5;124;43mInterpolator\u001b[39;49m\u001b[38;5;124;43m\"\u001b[39;49m\u001b[43m,\u001b[49m\n\u001b[1;32m    134\u001b[0m \u001b[43m                              \u001b[49m\u001b[43mpreference_list\u001b[49m\u001b[38;5;241;43m=\u001b[39;49m\u001b[38;5;28;43mself\u001b[39;49m\u001b[38;5;241;43m.\u001b[39;49m\u001b[43minterpolation_preference_list\u001b[49m\u001b[43m,\u001b[49m\n\u001b[1;32m    135\u001b[0m \u001b[43m                              \u001b[49m\u001b[43mdefault_logic\u001b[49m\u001b[38;5;241;43m=\u001b[39;49m\u001b[38;5;28;43mself\u001b[39;49m\u001b[38;5;241;43m.\u001b[39;49m\u001b[43m_default_interpolation_logic\u001b[49m\u001b[43m,\u001b[49m\n\u001b[1;32m    136\u001b[0m \u001b[43m                              \u001b[49m\u001b[43mname\u001b[49m\u001b[38;5;241;43m=\u001b[39;49m\u001b[43mname\u001b[49m\u001b[43m,\u001b[49m\n\u001b[1;32m    137\u001b[0m \u001b[43m                              \u001b[49m\u001b[43mlogic\u001b[49m\u001b[38;5;241;43m=\u001b[39;49m\u001b[43mlogic\u001b[49m\u001b[43m)\u001b[49m\n\u001b[1;32m    139\u001b[0m     \u001b[38;5;28;01mreturn\u001b[39;00m SolverClass(environment\u001b[38;5;241m=\u001b[39m\u001b[38;5;28mself\u001b[39m\u001b[38;5;241m.\u001b[39menvironment,\n\u001b[1;32m    140\u001b[0m                        logic\u001b[38;5;241m=\u001b[39mcloser_logic)\n",
      "File \u001b[0;32m~/anaconda3/envs/logica/lib/python3.10/site-packages/pysmt/factory.py:146\u001b[0m, in \u001b[0;36mFactory._get_solver_class\u001b[0;34m(self, solver_list, solver_type, preference_list, default_logic, name, logic)\u001b[0m\n\u001b[1;32m    143\u001b[0m \u001b[38;5;28;01mdef\u001b[39;00m \u001b[38;5;21m_get_solver_class\u001b[39m(\u001b[38;5;28mself\u001b[39m, solver_list, solver_type, preference_list,\n\u001b[1;32m    144\u001b[0m                       default_logic, name\u001b[38;5;241m=\u001b[39m\u001b[38;5;28;01mNone\u001b[39;00m, logic\u001b[38;5;241m=\u001b[39m\u001b[38;5;28;01mNone\u001b[39;00m):\n\u001b[1;32m    145\u001b[0m     \u001b[38;5;28;01mif\u001b[39;00m \u001b[38;5;28mlen\u001b[39m(solver_list) \u001b[38;5;241m==\u001b[39m \u001b[38;5;241m0\u001b[39m:\n\u001b[0;32m--> 146\u001b[0m         \u001b[38;5;28;01mraise\u001b[39;00m NoSolverAvailableError(\u001b[38;5;124m\"\u001b[39m\u001b[38;5;124mNo \u001b[39m\u001b[38;5;132;01m%s\u001b[39;00m\u001b[38;5;124m is available\u001b[39m\u001b[38;5;124m\"\u001b[39m \u001b[38;5;241m%\u001b[39m solver_type)\n\u001b[1;32m    148\u001b[0m     logic \u001b[38;5;241m=\u001b[39m convert_logic_from_string(logic)\n\u001b[1;32m    149\u001b[0m     \u001b[38;5;28;01mif\u001b[39;00m name \u001b[38;5;129;01mis\u001b[39;00m \u001b[38;5;129;01mnot\u001b[39;00m \u001b[38;5;28;01mNone\u001b[39;00m:\n",
      "\u001b[0;31mNoSolverAvailableError\u001b[0m: No Interpolator is available"
     ]
    }
   ],
   "source": [
    "def model_checking(vars,init,trans,error,N,M):\n",
    "    with Solver(name=\"z3\") as s:\n",
    "        \n",
    "        # Criar todos os estados que poderão vir a ser necessários.\n",
    "        X = [genState(vars,'X',i) for i in range(N+1)]\n",
    "        Y = [genState(vars,'Y',i) for i in range(M+1)]\n",
    "        \n",
    "        # Estabelecer a ordem pela qual os pares (n,m) vão surgir. Por exemplo:\n",
    "        order = sorted([(a,b) for a in range(1,N+1) for b in range(1,M+1)],key=lambda tup:tup[0]+tup[1]) \n",
    "        for (n,m) in order:\n",
    "            \n",
    "            Tn = And([trans(X[i],X[i+1]) for i in range(n)])\n",
    "            I = init(X[0])\n",
    "            Rn = And(I,Tn)\n",
    "            \n",
    "            Bm = And([invert(trans)(Y[i],Y[i+1]) for i in range(m)])\n",
    "            E = error(Y[0])\n",
    "            Um = And(E,Bm)\n",
    "            \n",
    "            Vnm = And(Rn,same(X[n],Y[n]),Um)\n",
    "            \n",
    "            if s.solve([Vnm]):\n",
    "                print(\"unsafe\")\n",
    "                return\n",
    "            else:\n",
    "                C = binary_interpolant(And(Rn,same(X[n],Y[m])),Um)\n",
    "                if C is None:\n",
    "                    print(\"interpolante none\")\n",
    "                    break\n",
    "                C0 = rename(C,X[0])\n",
    "                C1 = rename(C,X[1])\n",
    "                T = trans(X[0],X[1])\n",
    "                \n",
    "                if not s.solve([C0,T,Not(C1)]):\n",
    "                    print(\"safe\")\n",
    "                    return\n",
    "                else:\n",
    "                    S = rename(C,X[n])\n",
    "                    while True:\n",
    "                        A = And(S,trans(X[n],Y[m]))\n",
    "                        if s.solve([A,Um]):\n",
    "                            print(\"nao é possivel majorar\")\n",
    "                            break\n",
    "                        else:\n",
    "                            Cnew = binary_interpolant(A,Um)\n",
    "                            Cn = rename(Cnew,X[n])\n",
    "                            if s.solve([Cn,Not(S)]):\n",
    "                                S = Or(S,Cn)\n",
    "                            else:\n",
    "                                print(\"safe\")\n",
    "                                return\n",
    "\n",
    "#####\n",
    "\n",
    "model_checking(['x','pc'], init1, trans1, error1, 50, 50)            "
   ]
  },
  {
   "cell_type": "markdown",
   "id": "3f352dca",
   "metadata": {},
   "source": [
    "### Exercício 7\n",
    "\n",
    " Como deve ter visto pela resposta do algoritmo anterior, o nosso programa é inseguro. Defina uma precondição mais forte de modo a que o programa seja seguro."
   ]
  },
  {
   "cell_type": "code",
   "execution_count": 10,
   "id": "d6fcc7b3",
   "metadata": {},
   "outputs": [],
   "source": [
    "# completar"
   ]
  },
  {
   "cell_type": "code",
   "execution_count": null,
   "id": "46b42272",
   "metadata": {},
   "outputs": [],
   "source": []
  },
  {
   "cell_type": "code",
   "execution_count": null,
   "id": "b36b6fc3",
   "metadata": {},
   "outputs": [],
   "source": []
  },
  {
   "cell_type": "code",
   "execution_count": null,
   "id": "2e7e7646",
   "metadata": {},
   "outputs": [],
   "source": []
  }
 ],
 "metadata": {
  "kernelspec": {
   "display_name": "Python 3 (ipykernel)",
   "language": "python",
   "name": "python3"
  },
  "language_info": {
   "codemirror_mode": {
    "name": "ipython",
    "version": 3
   },
   "file_extension": ".py",
   "mimetype": "text/x-python",
   "name": "python",
   "nbconvert_exporter": "python",
   "pygments_lexer": "ipython3",
   "version": "3.10.6"
  }
 },
 "nbformat": 4,
 "nbformat_minor": 5
}
