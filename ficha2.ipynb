{
 "cells": [
  {
   "cell_type": "markdown",
   "id": "f5c0e2dd",
   "metadata": {},
   "source": [
    "# Introdução à biblioteca NetworkX e à Programação Inteira com SCIP"
   ]
  },
  {
   "cell_type": "markdown",
   "id": "e3e34f78",
   "metadata": {},
   "source": [
    "## A biblioteca NetworkX para manipulação de grafos.\n",
    "\n",
    "A biblioteca `NetworkX` diponibiliza implementações de vários tipos de grafos e de muitos algoritmos para os analisar e visualizar. Para importar esta biblioteca de forma qualificada faz-se o seguinte. OI nenem"
   ]
  },
  {
   "cell_type": "code",
   "execution_count": null,
   "id": "b3bb2c28",
   "metadata": {},
   "outputs": [],
   "source": [
    "import networkx as nx"
   ]
  },
  {
   "cell_type": "markdown",
   "id": "fafa467c",
   "metadata": {},
   "source": [
    "O tutorial desta biblioteca pode ser encontrado em https://networkx.github.io/documentation/stable/tutorial.html."
   ]
  },
  {
   "cell_type": "markdown",
   "id": "f39f7fcc",
   "metadata": {},
   "source": [
    "### Exercício 1\n",
    "\n",
    "Um grafo *orientado* e *não pesado* é um par $(V,E)$ onde $V$ é um conjunto finito de vértices e $E$ uma relação binária em $V$, o conjunto de *arcos* ou *arestas* do grafo.\n",
    "\n",
    "Um grafo *não pesado* pode ser representado usando *listas de adjacências*. Em Python é\n",
    "possível implementar as ditas usando um dicionário de listas, onde a cada vértice temos associada a sua lista\n",
    "de adjacentes (vértices directamente ligados através de uma aresta).\n",
    "\n",
    "Se o grafo for também *não orientado* bastará desdobrar cada aresta em duas adjacências.\n",
    "\n",
    "Por exemplo, o grafo\n",
    "\n",
    "<img src=\"https://upload.wikimedia.org/wikipedia/commons/thumb/5/5b/6n-graf.svg/320px-6n-graf.svg.png\" width=200/>\n",
    "\n",
    "\n",
    "pode ser armazenado no dicionário `adj` da seguinte forma."
   ]
  },
  {
   "cell_type": "code",
   "execution_count": null,
   "id": "8021a8e3",
   "metadata": {},
   "outputs": [],
   "source": [
    "adj = {1:[2,5],2:[1,3,5],3:[2,4],4:[3,5,6],5:[1,2,4],6:[4]}"
   ]
  },
  {
   "cell_type": "markdown",
   "id": "13b4d183",
   "metadata": {},
   "source": [
    "Implemente uma função `converte` que converte um grafo implementando com dicionários do python para um grafo do NetworkX."
   ]
  },
  {
   "cell_type": "code",
   "execution_count": null,
   "id": "065233b1",
   "metadata": {},
   "outputs": [],
   "source": [
    "def converte(adj)\n",
    "# completar\n",
    "\n",
    "graph = converte(adj)\n",
    "nx.to_dict_of_lists(graph) # converte o grafo para um dicionário de listas"
   ]
  },
  {
   "cell_type": "markdown",
   "id": "70b9accc",
   "metadata": {},
   "source": [
    "A biblioteca `NetworkX` disponibiliza muitos algoritmos para analisar grafos. Por exemplo, a função `shortest_path` dá o caminho mais curto entre dois vértices."
   ]
  },
  {
   "cell_type": "code",
   "execution_count": null,
   "id": "19e71a28",
   "metadata": {},
   "outputs": [],
   "source": [
    "nx.shortest_path(graph,1,3)"
   ]
  },
  {
   "cell_type": "markdown",
   "id": "d66bc02b",
   "metadata": {},
   "source": [
    " A função `diameter` permite saber o diâmetro de um grafo (i.e., a distância entre os seus vértices mais afastados)."
   ]
  },
  {
   "cell_type": "code",
   "execution_count": null,
   "id": "dc202479",
   "metadata": {},
   "outputs": [],
   "source": [
    "nx.diameter(graph)"
   ]
  },
  {
   "cell_type": "markdown",
   "id": "c6684241",
   "metadata": {},
   "source": [
    "Também podemos utilizar as bibliotecas `NetworkX` e `Matplotlib` (`pip install matplotlib`) para desenhar o grafo exemplo (conforme explicado em https://networkx.github.io/documentation/stable/tutorial.html#drawing-graphs)."
   ]
  },
  {
   "cell_type": "code",
   "execution_count": null,
   "id": "3ee4e02f",
   "metadata": {},
   "outputs": [],
   "source": [
    "nx.draw(graph,pos=nx.planar_layout(graph),with_labels=True,node_size=1000)"
   ]
  },
  {
   "cell_type": "markdown",
   "id": "8acf7407",
   "metadata": {},
   "source": [
    "### Exercício 2\n",
    "\n",
    "A biblioteca `NetworkX` disponibiliza também vários geradores de grafos pré-definidos, conforme documentação em https://networkx.github.io/documentation/stable/reference/generators.html.\n",
    "    Use esses geradores para criar um grafo degenerado que é um ciclo com 100 vértices. \n",
    "    Desenhe esse grafo e calcule o seu diâmetro \n",
    "    (que deverá ser 50)."
   ]
  },
  {
   "cell_type": "code",
   "execution_count": null,
   "id": "53c12696",
   "metadata": {},
   "outputs": [],
   "source": [
    "# completar"
   ]
  },
  {
   "cell_type": "markdown",
   "id": "b990ad3d",
   "metadata": {},
   "source": [
    "Os vértices e as arestas de um grafo em `NetworkX` podem ter atributos. Por exemplo, podemos usar o atributo `color` para definir a cor de cada vértice. Os atributos podem ser definidos de muitas formas, por exemplo, usando a função `set_node_attributes`. O código seguinte começa por gerar o grafo de Petersen, um conhecido grafo com 10 vértices (https://en.wikipedia.org/wiki/Petersen_graph), usando a função `petersen_graph`. Depois define o atributo `color` de todos os vértices com a cor `red`."
   ]
  },
  {
   "cell_type": "code",
   "execution_count": null,
   "id": "936c8d0b",
   "metadata": {},
   "outputs": [],
   "source": [
    "petersen = nx.petersen_graph()\n",
    "nx.set_node_attributes(petersen,'red','color')\n",
    "print(petersen.nodes.data())"
   ]
  },
  {
   "cell_type": "markdown",
   "id": "6b52280d",
   "metadata": {},
   "source": [
    "É possível alterar ou acrescentar um atributo a um vértice acedendo ao respectivo dicionário de atributos."
   ]
  },
  {
   "cell_type": "code",
   "execution_count": null,
   "id": "25988e7d",
   "metadata": {},
   "outputs": [],
   "source": [
    "petersen.nodes[0]['color'] = 'yellow'\n",
    "print(petersen.nodes.data())"
   ]
  },
  {
   "cell_type": "markdown",
   "id": "4eb8d513",
   "metadata": {},
   "source": [
    "Infelizmente, a função `draw` não tem este atributo em consideração."
   ]
  },
  {
   "cell_type": "code",
   "execution_count": null,
   "id": "1279c367",
   "metadata": {},
   "outputs": [],
   "source": [
    "nx.draw(petersen,with_labels=True)"
   ]
  },
  {
   "cell_type": "markdown",
   "id": "2882ecd6",
   "metadata": {},
   "source": [
    "Um dos parâmetros da função `draw` é o `node_color`, que permite definir uma cor para todos os vértices ou passar uma lista com uma cor diferente para cada vértice."
   ]
  },
  {
   "cell_type": "markdown",
   "id": "f0f1fac2",
   "metadata": {},
   "source": [
    "### Exercício 3\n",
    "\n",
    "Defina uma função `draw_with_colors` que, dado um grafo onde os vértices têm o atributo `color` definido, desenhe esse grafo tendo as cores nesse atributo em consideração."
   ]
  },
  {
   "cell_type": "code",
   "execution_count": null,
   "id": "19796fd2",
   "metadata": {},
   "outputs": [],
   "source": [
    "def draw_with_colors(graph):\n",
    "    # completar\n",
    "    \n",
    "draw_with_colors(petersen)"
   ]
  },
  {
   "cell_type": "markdown",
   "id": "44be5dfc",
   "metadata": {},
   "source": [
    "## Breve introdução à utilização do SCIP em Python\n",
    "\n",
    "A documentação do OR-Tools pode ser encontrada em https://developers.google.com/optimization/introduction/overview.\n",
    "\n",
    "Para resolver um problema de programação inteira com esta biblioteca é necessário seguir uma série de passos:\n",
    "1. Importar a biblioteca de programação linear do OR-Tools usando o comando `from ortools.linear_solver import pywraplp`\n",
    "1. Criar uma instância do *solver* com o método `pywraplp.Solver.CreateSolver('SCIP')`.\n",
    "1. Adicionar as variáveis do problema. Para criar uma variável inteira deve ser usado o método `IntVar` que recebe 3 parâmetros: o limite inferior, o limite superior, e o nome da variável. Na definição dos limites pode ser usada a constante `solver.infinity()`. O método `NumVar` pode ser usado para criar uma variável contínua, e o método `BoolVar` para criar uma variável inteira binária. Neste último caso, o método só tem um parâmetro que é o nome da variável, sendo os limites pré-definidos como 0 e 1.\n",
    "1. Adicionar as restrições do problema usando o método `Add`. A restrição é definida com a sintaxe normal Python, podendo também ser usada a função `sum` para fazer o somatório de uma lista de expressões aritméticas.\n",
    "1. Definir o objectivo do problema com os métodos `Maximize` ou `Minimize`, que recebem como parâmetro a função objectivo. Mais uma vez a função objectivo é definida com a sintaxe usual do Python. Este passo é opcional: se não for definido um objectivo será calculada uma qualquer solução.\n",
    "1. Invocar o solver com o método `Solve`. Este método pode devolver um dos seguintes códigos:\n",
    "  - `pywraplp.Solver.OPTIMAL`, quando é possível resolver o problema.\n",
    "  - `pywraplp.Solver.INFEASIBLE`, quando não é possível resolver o problema.\n",
    "  - `pywraplp.Solver.UNBOUNDED`, quando a solução não está limitada superiormente (no caso do `Maximize`) ou inferiormente (no caso do `Minimize`).\n",
    "1. Interpretar os resultados no caso do resultado ser `pywraplp.Solver.OPTIMAL`. Para saber o valor de uma variável pode ser usado o método `solution_value`, que devolve sempre um `double`. Também é possível aceder à função objectivo com o método `Objective` e ao respectivo valor com o método `Value`. Para converter o valor do tipo `double` para um `int` deve ser usada a função `round`, pois o valor pode sofrer de pequenos erros de precisão."
   ]
  },
  {
   "cell_type": "markdown",
   "id": "2145d415",
   "metadata": {},
   "source": [
    "Por exemplo, o programa seguinte tenta encontrar $x$ e $y$ que minimizem $3x+4y$ satisfazendo as seguintes restrições:\n",
    "\n",
    "$$\n",
    "\\left\\{\n",
    "\\begin{array}{l}\n",
    "5x + 6y \\ge 11\\\\\n",
    "7x + 5y \\ge 5\\\\\n",
    "x \\ge 0\\\\\n",
    "y \\ge 0\n",
    "\\end{array}\n",
    "\\right.\n",
    "$$"
   ]
  },
  {
   "cell_type": "code",
   "execution_count": null,
   "id": "76e30a37",
   "metadata": {},
   "outputs": [],
   "source": [
    "# Importar biblioteca\n",
    "from ortools.linear_solver import pywraplp\n",
    "# Criar instância do solver\n",
    "solver = pywraplp.Solver.CreateSolver('SCIP')\n",
    "# Adicionar variáveis\n",
    "x = solver.IntVar(0.0,solver.infinity(),\"x\")\n",
    "y = solver.IntVar(0.0,solver.infinity(),\"y\")\n",
    "# Adicionar restrições\n",
    "solver.Add(5*x + 6*y >= 11)\n",
    "solver.Add(7*x + 5*y >= 5)\n",
    "# Definir objectivo\n",
    "solver.Minimize(3*x + 4*y)\n",
    "# Invocar o solver\n",
    "status = solver.Solve()\n",
    "# Interpretar os resultados\n",
    "if status == pywraplp.Solver.OPTIMAL:\n",
    "    print (\"x = \",round(x.solution_value()))\n",
    "    print (\"y = \",round(y.solution_value()))\n",
    "    print (\"objectivo = \",round(solver.Objective().Value()))"
   ]
  },
  {
   "cell_type": "markdown",
   "id": "633056e0",
   "metadata": {},
   "source": [
    "## O problema da coloração de grafos\n",
    "\n",
    "O problema da *coloração de grafos* (https://en.wikipedia.org/wiki/Graph_coloring) consiste em descobrir uma atribuição de cores aos vértices, de tal forma que vértices adjacentes não tenham a mesma cor. Temos duas variantes deste problema:\n",
    "- Problema de decisão: dado um grafo e um número não negativo $k$ determinar se é possível colorir o grafo com no máximo $k$ cores, devolvendo uma coloração válida se tal for possível.\n",
    "- Problema de optimização: dado um grafo determinar o menor $k$ para o qual isso é possível (o *número cromático* do grafo).\n",
    "\n",
    "Por exemplo, o grafo de Petersen tem número cromático 3."
   ]
  },
  {
   "cell_type": "markdown",
   "id": "42e1c03a",
   "metadata": {},
   "source": [
    "### Exercício 4\n",
    "\n",
    "Defina a função `valid_color` que testa se um grafo tem uma coloração válida."
   ]
  },
  {
   "cell_type": "code",
   "execution_count": null,
   "id": "f5488aca",
   "metadata": {},
   "outputs": [],
   "source": [
    "def valid_color(graph):\n",
    "    # completar\n",
    "\n",
    "assert not valid_color(petersen)"
   ]
  },
  {
   "cell_type": "markdown",
   "id": "1e304918",
   "metadata": {},
   "source": [
    "## Modelação da coloração de grafos com Programação Inteira\n",
    "\n",
    "É possível usar programação inteira para resolver o problema de colorir um grafo $(V,E)$ com $k$ cores. Para tal, vamos necessitar de $|V| \\times k$ variáveis inteiras binárias, onde a variável $x_{v,c}$ determina se o vértice $v$ tem cor $c$. Temos também as seguintes restrições:\n",
    "\n",
    "1. Para cada aresta $(o,d) \\in E$ e cor $0 <= c < k$, $o$ e $d$ não podem ter ambos a cor $c$.\n",
    "1. Cada vértice $v$ tem exactamente uma cor."
   ]
  },
  {
   "cell_type": "markdown",
   "id": "3cabb17f",
   "metadata": {},
   "source": [
    "### Exercício 5\n",
    "\n",
    "Indique as fórmulas que modelam estas duas restrições."
   ]
  },
  {
   "cell_type": "markdown",
   "id": "0b7d75e8",
   "metadata": {},
   "source": [
    "$ (completar) $"
   ]
  },
  {
   "cell_type": "markdown",
   "id": "c16209a5",
   "metadata": {},
   "source": [
    "### Exercício 6\n",
    "\n",
    "Defina a seguinte função que testa se é possível colorir um grafo com $k$ cores usando o OR-Tools com o *solver* SCIP. Se for possível, deve guardar a coloração no grafo (no atributo `color`). Sugere-se que use um dicionário `x` para guardar as varáveis, sendo que em `x[v][c]` será armazenada a variável $x_{v,c}$. Para criar um nome único para as variáveis sugere-se que use a [primitiva de formatação posicional do Python similar ao `printf`](https://docs.python.org/3/library/stdtypes.html#old-string-formatting). Por exemplo, pode usar a expressão `'x[%i][%i]' % (v,c)` para criar o nome para a variável em ``x[v][c]``."
   ]
  },
  {
   "cell_type": "code",
   "execution_count": null,
   "id": "c624033b",
   "metadata": {},
   "outputs": [],
   "source": [
    "def ip_color(graph,k):\n",
    "    # completar\n",
    "\n",
    "    \n",
    "assert ip_color(petersen,3)\n",
    "draw_with_colors(petersen)"
   ]
  },
  {
   "cell_type": "markdown",
   "id": "65620012",
   "metadata": {},
   "source": [
    "### Exercício 7\n",
    "\n",
    "Como o SCIP suporta problemas de optimização em programação inteira, podemos implementar directamente o problema de optimização da coloração de grafos sem usar um método de pesquisa linear que tenta todos os possíveis números cromáticos. O objectivo deste exercício é implementar este problema em SCIP, ou seja, determinar uma coloração válida que minimize o número de cores.\n",
    "\n",
    "Sugere-se que, para além das variáveis binárias que usou no exercício 6, utilize uma variável binárias $u_c$ por cada cor $c$ possível (note que num grafo o número máximo de cores necessário será idêntico ao número de vértices). Esta variável deve ter o valor 1 sse a cor $c$ for usada nalgum vértice. Dado este conjunto de variáveis o objectivo da optimização será minimizar:\n",
    "\n",
    "$$\n",
    "\\sum_c u_c\n",
    "$$\n",
    "\n",
    "O valor de cada variável $u_c$ pode ser definido como o valor máximo das variáveis $x_{v,c}$ para todo o vértice $v$."
   ]
  },
  {
   "cell_type": "code",
   "execution_count": null,
   "id": "242a2f84",
   "metadata": {},
   "outputs": [],
   "source": [
    "def ip_find_optimal_coloring(graph):\n",
    "    # completar\n",
    "\n",
    "\n",
    "\n",
    "assert ip_find_optimal_coloring(petersen) == 3\n",
    "draw_with_colors(petersen)"
   ]
  },
  {
   "cell_type": "markdown",
   "id": "e70177fa",
   "metadata": {},
   "source": [
    "## Um problema de alocação\n",
    "\n",
    "Os problemas de alocação modelam uma relação entre dois tipos de entidades: compromissos e recursos. Adicionalmente, as restrições sobre a alocação de recursos a compromissos classificam-se em dois tipos: obrigações e limitações.\n",
    "\n",
    "Vamos agora considerar um pequeno problema de alocação. Pretende-se que faça a modelação do problema em Programação Inteira e que use o SCIP para o resolver."
   ]
  },
  {
   "cell_type": "markdown",
   "id": "8abfa013",
   "metadata": {},
   "source": [
    "### Regime de trabalho híbrido\n",
    "\n",
    "Uma empresa quer colocar todos os seus colaboradores em regime de trabalho híbrido. Isto é, uns dias em teletrabalho e outros dias trabalho presencial. A empresa tem $P$ colaboradores e o número de dias de trabalho é $D$.\n",
    "\n",
    "Este novo regime segue algumas restrições:\n",
    "1. Cada colaborador tem de estar em trabalho presencial 2x por semana.\n",
    "2. Cada dia deve ter pelo menos um colaborador em trabalho presencial.\n",
    "3. Existe pelo menos um dia em que todos os colaboradores estão em trabalho presencial.\n",
    "\n",
    "Este é um problema de alocação. Pretende-se definir os dias em que cada colaborador deve estar em trabalho presencial, de modo a obedecer às restrições estabelecidas.\n",
    "Vamos usar uma família $x_{p,d}$ de variáveis binárias (i.e., que assumem valores inteiros $\\{0,1\\}$), com a seguinte semântica\n",
    "\n",
    "$$x_{p,d} = 1 \\quad \\mathbf{sse} \\quad \\mbox{o colaborador $p$ está em trabalho presencial no dia $d$} $$\n",
    "\n",
    "Estas $P\\times D$ variáveis são convenientemente representadas numa matriz $X$ instanciável com valores \n",
    "$\\{0,1\\}^{P\\times D }$, a que se costuma chamar *matriz de alocação*.\n",
    "\n",
    "\n",
    "Começamos por importar a biblioteca de programação linear do OR-Tools, criar uma instância do *solver*\n",
    "e definir os valores para as constantes $P$ e $D$. De seguida temos que declarar a matriz de alocação $X$."
   ]
  },
  {
   "cell_type": "code",
   "execution_count": null,
   "id": "bf3e7b4f",
   "metadata": {},
   "outputs": [],
   "source": [
    "from ortools.linear_solver import pywraplp\n",
    "\n",
    "solver = pywraplp.Solver.CreateSolver('SCIP')\n",
    "\n",
    "P = 5 # número de colaboradores\n",
    "D = 5 # número de dias"
   ]
  },
  {
   "cell_type": "markdown",
   "id": "83f533f1",
   "metadata": {},
   "source": [
    "### Exercício 8\n",
    "\n",
    "Complete a declaração da matriz de alocação $X$ como um dicionário."
   ]
  },
  {
   "cell_type": "code",
   "execution_count": null,
   "id": "4fd9bc3c",
   "metadata": {},
   "outputs": [],
   "source": [
    "X = {}\n",
    "# completar\n",
    "for p in range(P):\n",
    "    for d in range(D):\n",
    "        X[p,d] = solver.BoolVar(f'X[{p}][{d}]')"
   ]
  },
  {
   "cell_type": "markdown",
   "id": "e1b6228b",
   "metadata": {},
   "source": [
    "Passamos agora à modelação das restrições e à sua introdução no *solver*.\n",
    "\n",
    "A restrição\n",
    "\n",
    "1. Cada colaborador tem de estar em trabalho presencial 2x por semana.\n",
    "\n",
    "pode expressar-se da seguinte forma:\n",
    "\n",
    "$$\n",
    "\\forall p < P.\\;\\sum_{d < D} x_{p,d} = 2\n",
    "$$\n"
   ]
  },
  {
   "cell_type": "code",
   "execution_count": null,
   "id": "8c4cd724",
   "metadata": {},
   "outputs": [],
   "source": [
    "for p in range(P):\n",
    "    solver.Add(sum([ X[p,d] for d in range(D) ]) == 2)"
   ]
  },
  {
   "cell_type": "markdown",
   "id": "2ddaf51b",
   "metadata": {},
   "source": [
    "### Exercício 9\n",
    "Apresente a fórmula que modela a segunda restrição e acrescente-a ao problema.\n",
    "\n",
    "2. Cada dia deve ter pelo menos um colaborador em trabalho presencial."
   ]
  },
  {
   "cell_type": "markdown",
   "id": "90ed7785",
   "metadata": {},
   "source": [
    "$(completar)$"
   ]
  },
  {
   "cell_type": "code",
   "execution_count": null,
   "id": "d65768d4",
   "metadata": {},
   "outputs": [],
   "source": [
    "# completar"
   ]
  },
  {
   "cell_type": "markdown",
   "id": "903bc07b",
   "metadata": {},
   "source": [
    "### Exercício 10\n",
    "Queremos agora acrescenatr a terceira restrição\n",
    "\n",
    "3. Existe pelo menos um dia em que todos os colaboradores estão em trabalho presencial.\n",
    "\n",
    "Esta restrição pode ser definida pela seguinte fórmula:\n",
    "$$\n",
    "\\exists_{d<D}. \\sum_{p < P} x_{p,d} = P\n",
    "$$\n",
    "Que, por sua vez, é equivalente a:\n",
    "$$\n",
    "\\bigvee_{d < D} \\sum_{p < P} x_{p,d} = P\n",
    "$$\n",
    "\n",
    "Como podemos ver, esta restrição representa uma disjunção, que por norma não é suportada pelos *solvers* de programação inteira.\n",
    "De forma a conseguir modelar esta restrição, \n",
    "podemos acrescentar uma família de variáveis binárias $u_d$ com a seguinte semântica: \n",
    "\n",
    "$$\n",
    "u_d = 1 \\quad \\mathbf{sse} \\quad \\mbox{no dia $d$ todos os colaboradores estão em trabalho presencial}\n",
    "$$\n",
    "\n",
    "A nossa restrição pode agora ser modelada da seguinte forma:\n",
    "$$\n",
    "\\sum_{d < D} u_d \\geq 1\n",
    "$$\n",
    "\n",
    "Acrescente esta restrição ao solver."
   ]
  },
  {
   "cell_type": "code",
   "execution_count": null,
   "id": "68d2c568",
   "metadata": {},
   "outputs": [],
   "source": [
    "U = {}\n",
    "# completar"
   ]
  },
  {
   "cell_type": "markdown",
   "id": "60e49395",
   "metadata": {},
   "source": [
    "O valor de $u_{d}$ também deve alguma forma limitar inferiormente o número de colaboradores em trabalho presencial no dia $d$. Para isso, precisamos  de relacionar as variáveis $u_{d}$ e a matriz de alocação $X$ através da seguinte restrição:\n",
    "\n",
    "$$\n",
    "\\forall_{d<D}. \\; \\sum_{p < P} x_{p,d} \\geq u_d \\times P\n",
    "$$\n",
    "\n",
    "Acrescente esta restrição ao solver."
   ]
  },
  {
   "cell_type": "code",
   "execution_count": null,
   "id": "37f46dbe",
   "metadata": {},
   "outputs": [],
   "source": [
    "# completar"
   ]
  },
  {
   "cell_type": "markdown",
   "id": "faf36a17",
   "metadata": {},
   "source": [
    "Podemos agora ver a solução do solver para este problema."
   ]
  },
  {
   "cell_type": "code",
   "execution_count": null,
   "id": "d16771d3",
   "metadata": {},
   "outputs": [],
   "source": [
    "status = solver.Solve()\n",
    "if status == pywraplp.Solver.OPTIMAL:\n",
    "    print(\"X:\")\n",
    "    for p in range(P):\n",
    "        for d in range(D):\n",
    "            print(int(X[p,d].solution_value()), end=' ')\n",
    "    \n",
    "        print()\n",
    "\n",
    "    print(\"U:\")\n",
    "    for d in range(D):\n",
    "        print(int(U[d].solution_value()), end=' ')"
   ]
  }
 ],
 "metadata": {
  "kernelspec": {
   "display_name": "Python 3 (ipykernel)",
   "language": "python",
   "name": "python3"
  },
  "language_info": {
   "codemirror_mode": {
    "name": "ipython",
    "version": 3
   },
   "file_extension": ".py",
   "mimetype": "text/x-python",
   "name": "python",
   "nbconvert_exporter": "python",
   "pygments_lexer": "ipython3",
   "version": "3.10.6"
  }
 },
 "nbformat": 4,
 "nbformat_minor": 5
}
